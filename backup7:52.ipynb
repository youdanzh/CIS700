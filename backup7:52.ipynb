{
  "nbformat": 4,
  "nbformat_minor": 0,
  "metadata": {
    "colab": {
      "name": "transformers.ipynb",
      "provenance": [],
      "collapsed_sections": [],
      "machine_shape": "hm",
      "include_colab_link": true
    },
    "kernelspec": {
      "name": "python3",
      "display_name": "Python 3"
    },
    "language_info": {
      "name": "python"
    },
    "widgets": {
      "application/vnd.jupyter.widget-state+json": {
        "20a698af93974412bc7c0205c1a4245c": {
          "model_module": "@jupyter-widgets/controls",
          "model_name": "HBoxModel",
          "model_module_version": "1.5.0",
          "state": {
            "_dom_classes": [],
            "_model_module": "@jupyter-widgets/controls",
            "_model_module_version": "1.5.0",
            "_model_name": "HBoxModel",
            "_view_count": null,
            "_view_module": "@jupyter-widgets/controls",
            "_view_module_version": "1.5.0",
            "_view_name": "HBoxView",
            "box_style": "",
            "children": [
              "IPY_MODEL_63376bc20dd948e083432667541e4704",
              "IPY_MODEL_ac8c04053b0846029e6d279c04547245",
              "IPY_MODEL_b7a76d536776491088e44a2710e9a394"
            ],
            "layout": "IPY_MODEL_230888a4f36f42669e455bc44613d29a"
          }
        },
        "63376bc20dd948e083432667541e4704": {
          "model_module": "@jupyter-widgets/controls",
          "model_name": "HTMLModel",
          "model_module_version": "1.5.0",
          "state": {
            "_dom_classes": [],
            "_model_module": "@jupyter-widgets/controls",
            "_model_module_version": "1.5.0",
            "_model_name": "HTMLModel",
            "_view_count": null,
            "_view_module": "@jupyter-widgets/controls",
            "_view_module_version": "1.5.0",
            "_view_name": "HTMLView",
            "description": "",
            "description_tooltip": null,
            "layout": "IPY_MODEL_c01197bd6faf47f8865245c42823abd1",
            "placeholder": "​",
            "style": "IPY_MODEL_5027ff5160404936a198094762c3bfc8",
            "value": "100%"
          }
        },
        "ac8c04053b0846029e6d279c04547245": {
          "model_module": "@jupyter-widgets/controls",
          "model_name": "FloatProgressModel",
          "model_module_version": "1.5.0",
          "state": {
            "_dom_classes": [],
            "_model_module": "@jupyter-widgets/controls",
            "_model_module_version": "1.5.0",
            "_model_name": "FloatProgressModel",
            "_view_count": null,
            "_view_module": "@jupyter-widgets/controls",
            "_view_module_version": "1.5.0",
            "_view_name": "ProgressView",
            "bar_style": "success",
            "description": "",
            "description_tooltip": null,
            "layout": "IPY_MODEL_b4df03728a034766994295d50e73b614",
            "max": 200,
            "min": 0,
            "orientation": "horizontal",
            "style": "IPY_MODEL_b6d67a1f3272402bb84c49d28849173f",
            "value": 200
          }
        },
        "b7a76d536776491088e44a2710e9a394": {
          "model_module": "@jupyter-widgets/controls",
          "model_name": "HTMLModel",
          "model_module_version": "1.5.0",
          "state": {
            "_dom_classes": [],
            "_model_module": "@jupyter-widgets/controls",
            "_model_module_version": "1.5.0",
            "_model_name": "HTMLModel",
            "_view_count": null,
            "_view_module": "@jupyter-widgets/controls",
            "_view_module_version": "1.5.0",
            "_view_name": "HTMLView",
            "description": "",
            "description_tooltip": null,
            "layout": "IPY_MODEL_d14940b8228c462594592c7e2ae9d89c",
            "placeholder": "​",
            "style": "IPY_MODEL_c6999c1de6b44bbc902b88caf7ac6d82",
            "value": " 200/200 [02:38&lt;00:00,  3.02s/it]"
          }
        },
        "230888a4f36f42669e455bc44613d29a": {
          "model_module": "@jupyter-widgets/base",
          "model_name": "LayoutModel",
          "model_module_version": "1.2.0",
          "state": {
            "_model_module": "@jupyter-widgets/base",
            "_model_module_version": "1.2.0",
            "_model_name": "LayoutModel",
            "_view_count": null,
            "_view_module": "@jupyter-widgets/base",
            "_view_module_version": "1.2.0",
            "_view_name": "LayoutView",
            "align_content": null,
            "align_items": null,
            "align_self": null,
            "border": null,
            "bottom": null,
            "display": null,
            "flex": null,
            "flex_flow": null,
            "grid_area": null,
            "grid_auto_columns": null,
            "grid_auto_flow": null,
            "grid_auto_rows": null,
            "grid_column": null,
            "grid_gap": null,
            "grid_row": null,
            "grid_template_areas": null,
            "grid_template_columns": null,
            "grid_template_rows": null,
            "height": null,
            "justify_content": null,
            "justify_items": null,
            "left": null,
            "margin": null,
            "max_height": null,
            "max_width": null,
            "min_height": null,
            "min_width": null,
            "object_fit": null,
            "object_position": null,
            "order": null,
            "overflow": null,
            "overflow_x": null,
            "overflow_y": null,
            "padding": null,
            "right": null,
            "top": null,
            "visibility": null,
            "width": null
          }
        },
        "c01197bd6faf47f8865245c42823abd1": {
          "model_module": "@jupyter-widgets/base",
          "model_name": "LayoutModel",
          "model_module_version": "1.2.0",
          "state": {
            "_model_module": "@jupyter-widgets/base",
            "_model_module_version": "1.2.0",
            "_model_name": "LayoutModel",
            "_view_count": null,
            "_view_module": "@jupyter-widgets/base",
            "_view_module_version": "1.2.0",
            "_view_name": "LayoutView",
            "align_content": null,
            "align_items": null,
            "align_self": null,
            "border": null,
            "bottom": null,
            "display": null,
            "flex": null,
            "flex_flow": null,
            "grid_area": null,
            "grid_auto_columns": null,
            "grid_auto_flow": null,
            "grid_auto_rows": null,
            "grid_column": null,
            "grid_gap": null,
            "grid_row": null,
            "grid_template_areas": null,
            "grid_template_columns": null,
            "grid_template_rows": null,
            "height": null,
            "justify_content": null,
            "justify_items": null,
            "left": null,
            "margin": null,
            "max_height": null,
            "max_width": null,
            "min_height": null,
            "min_width": null,
            "object_fit": null,
            "object_position": null,
            "order": null,
            "overflow": null,
            "overflow_x": null,
            "overflow_y": null,
            "padding": null,
            "right": null,
            "top": null,
            "visibility": null,
            "width": null
          }
        },
        "5027ff5160404936a198094762c3bfc8": {
          "model_module": "@jupyter-widgets/controls",
          "model_name": "DescriptionStyleModel",
          "model_module_version": "1.5.0",
          "state": {
            "_model_module": "@jupyter-widgets/controls",
            "_model_module_version": "1.5.0",
            "_model_name": "DescriptionStyleModel",
            "_view_count": null,
            "_view_module": "@jupyter-widgets/base",
            "_view_module_version": "1.2.0",
            "_view_name": "StyleView",
            "description_width": ""
          }
        },
        "b4df03728a034766994295d50e73b614": {
          "model_module": "@jupyter-widgets/base",
          "model_name": "LayoutModel",
          "model_module_version": "1.2.0",
          "state": {
            "_model_module": "@jupyter-widgets/base",
            "_model_module_version": "1.2.0",
            "_model_name": "LayoutModel",
            "_view_count": null,
            "_view_module": "@jupyter-widgets/base",
            "_view_module_version": "1.2.0",
            "_view_name": "LayoutView",
            "align_content": null,
            "align_items": null,
            "align_self": null,
            "border": null,
            "bottom": null,
            "display": null,
            "flex": null,
            "flex_flow": null,
            "grid_area": null,
            "grid_auto_columns": null,
            "grid_auto_flow": null,
            "grid_auto_rows": null,
            "grid_column": null,
            "grid_gap": null,
            "grid_row": null,
            "grid_template_areas": null,
            "grid_template_columns": null,
            "grid_template_rows": null,
            "height": null,
            "justify_content": null,
            "justify_items": null,
            "left": null,
            "margin": null,
            "max_height": null,
            "max_width": null,
            "min_height": null,
            "min_width": null,
            "object_fit": null,
            "object_position": null,
            "order": null,
            "overflow": null,
            "overflow_x": null,
            "overflow_y": null,
            "padding": null,
            "right": null,
            "top": null,
            "visibility": null,
            "width": null
          }
        },
        "b6d67a1f3272402bb84c49d28849173f": {
          "model_module": "@jupyter-widgets/controls",
          "model_name": "ProgressStyleModel",
          "model_module_version": "1.5.0",
          "state": {
            "_model_module": "@jupyter-widgets/controls",
            "_model_module_version": "1.5.0",
            "_model_name": "ProgressStyleModel",
            "_view_count": null,
            "_view_module": "@jupyter-widgets/base",
            "_view_module_version": "1.2.0",
            "_view_name": "StyleView",
            "bar_color": null,
            "description_width": ""
          }
        },
        "d14940b8228c462594592c7e2ae9d89c": {
          "model_module": "@jupyter-widgets/base",
          "model_name": "LayoutModel",
          "model_module_version": "1.2.0",
          "state": {
            "_model_module": "@jupyter-widgets/base",
            "_model_module_version": "1.2.0",
            "_model_name": "LayoutModel",
            "_view_count": null,
            "_view_module": "@jupyter-widgets/base",
            "_view_module_version": "1.2.0",
            "_view_name": "LayoutView",
            "align_content": null,
            "align_items": null,
            "align_self": null,
            "border": null,
            "bottom": null,
            "display": null,
            "flex": null,
            "flex_flow": null,
            "grid_area": null,
            "grid_auto_columns": null,
            "grid_auto_flow": null,
            "grid_auto_rows": null,
            "grid_column": null,
            "grid_gap": null,
            "grid_row": null,
            "grid_template_areas": null,
            "grid_template_columns": null,
            "grid_template_rows": null,
            "height": null,
            "justify_content": null,
            "justify_items": null,
            "left": null,
            "margin": null,
            "max_height": null,
            "max_width": null,
            "min_height": null,
            "min_width": null,
            "object_fit": null,
            "object_position": null,
            "order": null,
            "overflow": null,
            "overflow_x": null,
            "overflow_y": null,
            "padding": null,
            "right": null,
            "top": null,
            "visibility": null,
            "width": null
          }
        },
        "c6999c1de6b44bbc902b88caf7ac6d82": {
          "model_module": "@jupyter-widgets/controls",
          "model_name": "DescriptionStyleModel",
          "model_module_version": "1.5.0",
          "state": {
            "_model_module": "@jupyter-widgets/controls",
            "_model_module_version": "1.5.0",
            "_model_name": "DescriptionStyleModel",
            "_view_count": null,
            "_view_module": "@jupyter-widgets/base",
            "_view_module_version": "1.2.0",
            "_view_name": "StyleView",
            "description_width": ""
          }
        },
        "00160558b5774ce6b5bb214cc40aba3a": {
          "model_module": "@jupyter-widgets/controls",
          "model_name": "HBoxModel",
          "model_module_version": "1.5.0",
          "state": {
            "_dom_classes": [],
            "_model_module": "@jupyter-widgets/controls",
            "_model_module_version": "1.5.0",
            "_model_name": "HBoxModel",
            "_view_count": null,
            "_view_module": "@jupyter-widgets/controls",
            "_view_module_version": "1.5.0",
            "_view_name": "HBoxView",
            "box_style": "",
            "children": [
              "IPY_MODEL_a045123b8c4c43c4a67e10e337c89798",
              "IPY_MODEL_97faac31e55948fdaf31f50d946b4d49",
              "IPY_MODEL_3cbb5e5d1caa4bdf9a12342f7593b5f5"
            ],
            "layout": "IPY_MODEL_ddfba9adefa74cf8b901c61d1b550aa7"
          }
        },
        "a045123b8c4c43c4a67e10e337c89798": {
          "model_module": "@jupyter-widgets/controls",
          "model_name": "HTMLModel",
          "model_module_version": "1.5.0",
          "state": {
            "_dom_classes": [],
            "_model_module": "@jupyter-widgets/controls",
            "_model_module_version": "1.5.0",
            "_model_name": "HTMLModel",
            "_view_count": null,
            "_view_module": "@jupyter-widgets/controls",
            "_view_module_version": "1.5.0",
            "_view_name": "HTMLView",
            "description": "",
            "description_tooltip": null,
            "layout": "IPY_MODEL_c236a9f8c98c468a8b8b87242158ecb0",
            "placeholder": "​",
            "style": "IPY_MODEL_9d21d2f60e8f4de6a1a13d179d7a16fc",
            "value": "  0%"
          }
        },
        "97faac31e55948fdaf31f50d946b4d49": {
          "model_module": "@jupyter-widgets/controls",
          "model_name": "FloatProgressModel",
          "model_module_version": "1.5.0",
          "state": {
            "_dom_classes": [],
            "_model_module": "@jupyter-widgets/controls",
            "_model_module_version": "1.5.0",
            "_model_name": "FloatProgressModel",
            "_view_count": null,
            "_view_module": "@jupyter-widgets/controls",
            "_view_module_version": "1.5.0",
            "_view_name": "ProgressView",
            "bar_style": "danger",
            "description": "",
            "description_tooltip": null,
            "layout": "IPY_MODEL_0a3f37622ec9448b97577f4fe613685b",
            "max": 200,
            "min": 0,
            "orientation": "horizontal",
            "style": "IPY_MODEL_7b23442980d3487584b573c39a77c31b",
            "value": 0
          }
        },
        "3cbb5e5d1caa4bdf9a12342f7593b5f5": {
          "model_module": "@jupyter-widgets/controls",
          "model_name": "HTMLModel",
          "model_module_version": "1.5.0",
          "state": {
            "_dom_classes": [],
            "_model_module": "@jupyter-widgets/controls",
            "_model_module_version": "1.5.0",
            "_model_name": "HTMLModel",
            "_view_count": null,
            "_view_module": "@jupyter-widgets/controls",
            "_view_module_version": "1.5.0",
            "_view_name": "HTMLView",
            "description": "",
            "description_tooltip": null,
            "layout": "IPY_MODEL_9a82ba13a2c3468faec2b97c8532dc40",
            "placeholder": "​",
            "style": "IPY_MODEL_da444d7facd4427592c1a2db0340c793",
            "value": " 0/200 [00:05&lt;?, ?it/s]"
          }
        },
        "ddfba9adefa74cf8b901c61d1b550aa7": {
          "model_module": "@jupyter-widgets/base",
          "model_name": "LayoutModel",
          "model_module_version": "1.2.0",
          "state": {
            "_model_module": "@jupyter-widgets/base",
            "_model_module_version": "1.2.0",
            "_model_name": "LayoutModel",
            "_view_count": null,
            "_view_module": "@jupyter-widgets/base",
            "_view_module_version": "1.2.0",
            "_view_name": "LayoutView",
            "align_content": null,
            "align_items": null,
            "align_self": null,
            "border": null,
            "bottom": null,
            "display": null,
            "flex": null,
            "flex_flow": null,
            "grid_area": null,
            "grid_auto_columns": null,
            "grid_auto_flow": null,
            "grid_auto_rows": null,
            "grid_column": null,
            "grid_gap": null,
            "grid_row": null,
            "grid_template_areas": null,
            "grid_template_columns": null,
            "grid_template_rows": null,
            "height": null,
            "justify_content": null,
            "justify_items": null,
            "left": null,
            "margin": null,
            "max_height": null,
            "max_width": null,
            "min_height": null,
            "min_width": null,
            "object_fit": null,
            "object_position": null,
            "order": null,
            "overflow": null,
            "overflow_x": null,
            "overflow_y": null,
            "padding": null,
            "right": null,
            "top": null,
            "visibility": null,
            "width": null
          }
        },
        "c236a9f8c98c468a8b8b87242158ecb0": {
          "model_module": "@jupyter-widgets/base",
          "model_name": "LayoutModel",
          "model_module_version": "1.2.0",
          "state": {
            "_model_module": "@jupyter-widgets/base",
            "_model_module_version": "1.2.0",
            "_model_name": "LayoutModel",
            "_view_count": null,
            "_view_module": "@jupyter-widgets/base",
            "_view_module_version": "1.2.0",
            "_view_name": "LayoutView",
            "align_content": null,
            "align_items": null,
            "align_self": null,
            "border": null,
            "bottom": null,
            "display": null,
            "flex": null,
            "flex_flow": null,
            "grid_area": null,
            "grid_auto_columns": null,
            "grid_auto_flow": null,
            "grid_auto_rows": null,
            "grid_column": null,
            "grid_gap": null,
            "grid_row": null,
            "grid_template_areas": null,
            "grid_template_columns": null,
            "grid_template_rows": null,
            "height": null,
            "justify_content": null,
            "justify_items": null,
            "left": null,
            "margin": null,
            "max_height": null,
            "max_width": null,
            "min_height": null,
            "min_width": null,
            "object_fit": null,
            "object_position": null,
            "order": null,
            "overflow": null,
            "overflow_x": null,
            "overflow_y": null,
            "padding": null,
            "right": null,
            "top": null,
            "visibility": null,
            "width": null
          }
        },
        "9d21d2f60e8f4de6a1a13d179d7a16fc": {
          "model_module": "@jupyter-widgets/controls",
          "model_name": "DescriptionStyleModel",
          "model_module_version": "1.5.0",
          "state": {
            "_model_module": "@jupyter-widgets/controls",
            "_model_module_version": "1.5.0",
            "_model_name": "DescriptionStyleModel",
            "_view_count": null,
            "_view_module": "@jupyter-widgets/base",
            "_view_module_version": "1.2.0",
            "_view_name": "StyleView",
            "description_width": ""
          }
        },
        "0a3f37622ec9448b97577f4fe613685b": {
          "model_module": "@jupyter-widgets/base",
          "model_name": "LayoutModel",
          "model_module_version": "1.2.0",
          "state": {
            "_model_module": "@jupyter-widgets/base",
            "_model_module_version": "1.2.0",
            "_model_name": "LayoutModel",
            "_view_count": null,
            "_view_module": "@jupyter-widgets/base",
            "_view_module_version": "1.2.0",
            "_view_name": "LayoutView",
            "align_content": null,
            "align_items": null,
            "align_self": null,
            "border": null,
            "bottom": null,
            "display": null,
            "flex": null,
            "flex_flow": null,
            "grid_area": null,
            "grid_auto_columns": null,
            "grid_auto_flow": null,
            "grid_auto_rows": null,
            "grid_column": null,
            "grid_gap": null,
            "grid_row": null,
            "grid_template_areas": null,
            "grid_template_columns": null,
            "grid_template_rows": null,
            "height": null,
            "justify_content": null,
            "justify_items": null,
            "left": null,
            "margin": null,
            "max_height": null,
            "max_width": null,
            "min_height": null,
            "min_width": null,
            "object_fit": null,
            "object_position": null,
            "order": null,
            "overflow": null,
            "overflow_x": null,
            "overflow_y": null,
            "padding": null,
            "right": null,
            "top": null,
            "visibility": null,
            "width": null
          }
        },
        "7b23442980d3487584b573c39a77c31b": {
          "model_module": "@jupyter-widgets/controls",
          "model_name": "ProgressStyleModel",
          "model_module_version": "1.5.0",
          "state": {
            "_model_module": "@jupyter-widgets/controls",
            "_model_module_version": "1.5.0",
            "_model_name": "ProgressStyleModel",
            "_view_count": null,
            "_view_module": "@jupyter-widgets/base",
            "_view_module_version": "1.2.0",
            "_view_name": "StyleView",
            "bar_color": null,
            "description_width": ""
          }
        },
        "9a82ba13a2c3468faec2b97c8532dc40": {
          "model_module": "@jupyter-widgets/base",
          "model_name": "LayoutModel",
          "model_module_version": "1.2.0",
          "state": {
            "_model_module": "@jupyter-widgets/base",
            "_model_module_version": "1.2.0",
            "_model_name": "LayoutModel",
            "_view_count": null,
            "_view_module": "@jupyter-widgets/base",
            "_view_module_version": "1.2.0",
            "_view_name": "LayoutView",
            "align_content": null,
            "align_items": null,
            "align_self": null,
            "border": null,
            "bottom": null,
            "display": null,
            "flex": null,
            "flex_flow": null,
            "grid_area": null,
            "grid_auto_columns": null,
            "grid_auto_flow": null,
            "grid_auto_rows": null,
            "grid_column": null,
            "grid_gap": null,
            "grid_row": null,
            "grid_template_areas": null,
            "grid_template_columns": null,
            "grid_template_rows": null,
            "height": null,
            "justify_content": null,
            "justify_items": null,
            "left": null,
            "margin": null,
            "max_height": null,
            "max_width": null,
            "min_height": null,
            "min_width": null,
            "object_fit": null,
            "object_position": null,
            "order": null,
            "overflow": null,
            "overflow_x": null,
            "overflow_y": null,
            "padding": null,
            "right": null,
            "top": null,
            "visibility": null,
            "width": null
          }
        },
        "da444d7facd4427592c1a2db0340c793": {
          "model_module": "@jupyter-widgets/controls",
          "model_name": "DescriptionStyleModel",
          "model_module_version": "1.5.0",
          "state": {
            "_model_module": "@jupyter-widgets/controls",
            "_model_module_version": "1.5.0",
            "_model_name": "DescriptionStyleModel",
            "_view_count": null,
            "_view_module": "@jupyter-widgets/base",
            "_view_module_version": "1.2.0",
            "_view_name": "StyleView",
            "description_width": ""
          }
        }
      }
    },
    "accelerator": "GPU"
  },
  "cells": [
    {
      "cell_type": "markdown",
      "metadata": {
        "id": "view-in-github",
        "colab_type": "text"
      },
      "source": [
        "<a href=\"https://colab.research.google.com/github/youdanzh/Transformer-for-Therom-Proving/blob/main/backup7%3A52.ipynb\" target=\"_parent\"><img src=\"https://colab.research.google.com/assets/colab-badge.svg\" alt=\"Open In Colab\"/></a>"
      ]
    },
    {
      "cell_type": "code",
      "source": [
        ""
      ],
      "metadata": {
        "id": "B9zIwv8gT2Jz"
      },
      "execution_count": null,
      "outputs": []
    },
    {
      "cell_type": "code",
      "execution_count": null,
      "metadata": {
        "id": "pasXsTAnxxsB"
      },
      "outputs": [],
      "source": [
        "import random\n",
        "import torch as tr\n",
        "import matplotlib.pyplot as pt\n",
        "from tqdm.notebook import trange\n",
        "import numpy as np"
      ]
    },
    {
      "cell_type": "code",
      "source": [
        "examples = []\n",
        "header = True\n",
        "\n",
        "with open(\"0001_small.txt\", \"r\") as f:\n",
        "  counter = 0\n",
        "  clause = \"\"\n",
        "  for line in f:\n",
        "    counter += 1\n",
        "    if line[0] == \"T\" and counter == 3:\n",
        "      clause = line[2:]\n",
        "    if line[0] in \"+-\":\n",
        "      header = False\n",
        "      label = 0 if line[0] == \"-\" else 1\n",
        "    elif not header:\n",
        "      clause_steps = line[2:] + \" & \" + clause\n",
        "      #print(clause_steps)\n",
        "      examples.append((clause_steps.strip(),label))\n",
        "      \n",
        "#for e,(example,label) in enumerate(examples[:10]):\n",
        " # print(label, example)\n",
        "for i in range(10):\n",
        "  print(examples[i])\n",
        "len(examples)"
      ],
      "metadata": {
        "id": "dkdllvdayS73",
        "colab": {
          "base_uri": "https://localhost:8080/"
        },
        "outputId": "7985a02a-844d-48b9-ad87-2b926f76b54c"
      },
      "execution_count": null,
      "outputs": [
        {
          "output_type": "stream",
          "name": "stdout",
          "text": [
            "('c= c= f0 cF c~ f0\\n & c==> c/\\\\ cbounded f0 c~ c= * part cinterior f0 part cEMPTY c~ cretract_of * part cfrontier f0 f0', 1)\n",
            "('c==> ! c==> cinterior f0 b0 * f0 b0 * / c\\\\/ c~ cinterior f0 b0 cI f0 b0 f1\\n & c==> c/\\\\ cbounded f0 c~ c= * part cinterior f0 part cEMPTY c~ cretract_of * part cfrontier f0 f0', 1)\n",
            "('c==> c~ c= * part cinterior f0 part cEMPTY c==> cclosed f0 c==> cbounded f0 c/\\\\ cclosed f0 c/\\\\ c~ c= * part cinterior f0 part cEMPTY cbounded f0\\n & c==> c/\\\\ cbounded f0 c~ c= * part cinterior f0 part cEMPTY c~ cretract_of * part cfrontier f0 f0', 1)\n",
            "('c==> c= cIN f0 * part cfrontier f1 f2 c==> c==> f2 c= c= * f3 f0 f0 f4 c= c==> cIN f0 * part cfrontier f1 c= * f3 f0 f0 c==> f2 f4\\n & c==> c/\\\\ cbounded f0 c~ c= * part cinterior f0 part cEMPTY c~ cretract_of * part cfrontier f0 f0', 1)\n",
            "('c==> ! c==> cinterior f0 b0 * f0 b0 c==> c~ cI f0 f1 c==> c/\\\\ ! c\\\\/ c~ cfrontier f0 b0 c= * f2 b0 b0 c/\\\\ ! c\\\\/ ! c\\\\/ c~ c= b0 * f2 b1 c~ * f0 b1 cfrontier f0 b0 c/\\\\ ccontinuous_on f2 f0 c/\\\\ cclosed f0 c/\\\\ cinterior f0 f1 cbounded f0 c/\\\\ c~ cI f0 f1 cI f0 f1\\n & c==> c/\\\\ cbounded f0 c~ c= * part cinterior f0 part cEMPTY c~ cretract_of * part cfrontier f0 f0', 0)\n",
            "('* / c==> cclosed b0 c= * part cclosure b0 b0 f0\\n & c==> c/\\\\ cbounded f0 c~ c= * part cinterior f0 part cEMPTY c~ cretract_of * part cfrontier f0 f0', 1)\n",
            "('c==> c/\\\\ ! c\\\\/ c~ cfrontier f0 b0 c= * f1 b0 b0 c/\\\\ ! c\\\\/ ! c\\\\/ c~ c= b0 * f1 b1 c~ * f0 b1 cfrontier f0 b0 c/\\\\ ccontinuous_on f1 f0 c/\\\\ cclosed f0 c/\\\\ cinterior f0 f2 cbounded f0 cinterior f0 f2\\n & c==> c/\\\\ cbounded f0 c~ c= * part cinterior f0 part cEMPTY c~ cretract_of * part cfrontier f0 f0', 1)\n",
            "('c= c/\\\\ ! c\\\\/ ! c\\\\/ c~ c= b0 * f0 b1 c~ * f1 b1 cfrontier f1 b0 c? / c/\\\\ ccontinuous_on f0 f1 c/\\\\ cclosed f1 c/\\\\ cinterior f1 b0 cbounded f1 c? / c/\\\\ ! c\\\\/ ! c\\\\/ c~ c= b1 * f0 b1 c~ * f1 b1 cfrontier f1 b1 c/\\\\ ccontinuous_on f0 f1 c/\\\\ cclosed f1 c/\\\\ cinterior f1 b0 cbounded f1\\n & c==> c/\\\\ cbounded f0 c~ c= * part cinterior f0 part cEMPTY c~ cretract_of * part cfrontier f0 f0', 1)\n",
            "('* / ! ! c= c\\\\/ b0 c\\\\/ b1 b2 c\\\\/ c\\\\/ b0 b1 b2 f0\\n & c==> c/\\\\ cbounded f0 c~ c= * part cinterior f0 part cEMPTY c~ cretract_of * part cfrontier f0 f0', 0)\n",
            "('c==> ! c==> cinterior f0 b0 * f0 b0 c\\\\/ cI f0 f1 c~ cinterior f0 f1\\n & c==> c/\\\\ cbounded f0 c~ c= * part cinterior f0 part cEMPTY c~ cretract_of * part cfrontier f0 f0', 1)\n"
          ]
        },
        {
          "output_type": "execute_result",
          "data": {
            "text/plain": [
              "337"
            ]
          },
          "metadata": {},
          "execution_count": 2
        }
      ]
    },
    {
      "cell_type": "code",
      "source": [
        "validation = []\n",
        "header = True\n",
        "\n",
        "with open(\"00014\", \"r\") as f:\n",
        "  counter = 0\n",
        "  clause = \"\"\n",
        "  for line in f:\n",
        "    counter += 1\n",
        "    if line[0] == \"T\" and counter == 3:\n",
        "      clause = line[2:]\n",
        "    if line[0] in \"+-\":\n",
        "      header = False\n",
        "      label = 0 if line[0] == \"-\" else 1\n",
        "    elif not header:\n",
        "      clause_steps = line[2:] + \" & \" + clause\n",
        "      #print(clause_steps)\n",
        "      validation.append((clause_steps.strip(),label))\n",
        "      \n",
        "      \n"
      ],
      "metadata": {
        "id": "qqgNfQ8lsgn4"
      },
      "execution_count": null,
      "outputs": []
    },
    {
      "cell_type": "code",
      "source": [
        "chrs = \"\".join([chr(c) for c in range(ord(\"a\"), ord(\"z\"))] + [chr(c) for c in range(ord(\"A\"), ord(\"Z\"))] + [\"_\"])\n",
        "print(chrs)\n",
        "\n",
        "def parse(line):\n",
        "  tokens = []\n",
        "  token = \"\"\n",
        "  for c in line:\n",
        "    if c in chrs: token += c\n",
        "    else:\n",
        "      tokens.append(token.lstrip())\n",
        "      token = c\n",
        "  tokens.append(token.lstrip())\n",
        "  return tokens\n",
        "\n",
        "print(parse(examples[0][0]))"
      ],
      "metadata": {
        "id": "JY79W1PQyc1l",
        "colab": {
          "base_uri": "https://localhost:8080/"
        },
        "outputId": "bf523fb7-d495-46a3-dade-3439415c9436"
      },
      "execution_count": null,
      "outputs": [
        {
          "output_type": "stream",
          "name": "stdout",
          "text": [
            "abcdefghijklmnopqrstuvwxyABCDEFGHIJKLMNOPQRSTUVWXY_\n",
            "['c', '=', '=', '>', 'c', '/', '\\\\', 'creal_ge', 'creal_of_int', 'f', '0', 'creal_of_num', 'cNUMERAL', 'c_', '0', 'c', '/', '\\\\', 'creal_ge', 'creal_of_int', 'f', '1', 'creal_of_num', 'cNUMERAL', 'c_', '0', 'c', '/', '\\\\', 'creal_ge', 'creal_of_int', 'f', '2', 'creal_of_num', 'cNUMERAL', 'c_', '0', 'c', '/', '\\\\', 'creal_ge', 'creal_of_int', 'f', '3', 'creal_of_num', 'cNUMERAL', 'c_', '0', 'c', '/', '\\\\', 'c', '/', '\\\\', 'creal_ge', 'creal_add', 'creal_mul', 'creal_neg', 'creal_of_num', 'cNUMERAL', 'cBIT', '1', 'c_', '0', 'creal_of_int', 'f', '2', 'creal_add', 'creal_of_int', 'f', '3', 'creal_neg', 'creal_of_num', 'cNUMERAL', 'cBIT', '1', 'c_', '0', 'creal_of_num', 'cNUMERAL', 'c_', '0', 'c', '=', 'creal_of_int', 'f', '1', 'creal_of_num', 'cNUMERAL', 'c_', '0', 'c', '/', '\\\\', 'c', '/', '\\\\', 'creal_ge', 'creal_add', 'creal_mul', 'creal_neg', 'creal_of_num', 'cNUMERAL', 'cBIT', '1', 'c_', '0', 'creal_of_int', 'f', '2', 'creal_add', 'creal_of_int', 'f', '3', 'creal_neg', 'creal_of_num', 'cNUMERAL', 'cBIT', '1', 'c_', '0', 'creal_of_num', 'cNUMERAL', 'c_', '0', 'c', '=', 'creal_of_int', 'f', '0', 'creal_of_num', 'cNUMERAL', 'c_', '0', 'creal_ge', 'creal_add', 'creal_mul', 'creal_neg', 'creal_of_num', 'cNUMERAL', 'cBIT', '1', 'c_', '0', 'creal_of_int', 'f', '0', 'creal_add', 'creal_of_int', 'f', '1', 'creal_neg', 'creal_of_num', 'cNUMERAL', 'cBIT', '1', 'c_', '0', 'creal_of_num', 'cNUMERAL', 'c_', '0', 'c', '/', '\\\\', 'c', '/', '\\\\', 'creal_ge', 'creal_of_int', 'f', '0', 'creal_of_num', 'cNUMERAL', 'c_', '0', 'c', '/', '\\\\', 'creal_ge', 'creal_of_int', 'f', '1', 'creal_of_num', 'cNUMERAL', 'c_', '0', 'c', '/', '\\\\', 'creal_ge', 'creal_of_int', 'f', '2', 'creal_of_num', 'cNUMERAL', 'c_', '0', 'c', '/', '\\\\', 'creal_ge', 'creal_of_int', 'f', '3', 'creal_of_num', 'cNUMERAL', 'c_', '0', 'c', '/', '\\\\', 'c', '/', '\\\\', 'creal_ge', 'creal_add', 'creal_mul', 'creal_neg', 'creal_of_num', 'cNUMERAL', 'cBIT', '1', 'c_', '0', 'creal_of_int', 'f', '2', 'creal_add', 'creal_of_int', 'f', '3', 'creal_neg', 'creal_of_num', 'cNUMERAL', 'cBIT', '1', 'c_', '0', 'creal_of_num', 'cNUMERAL', 'c_', '0', 'c', '=', 'creal_of_int', 'f', '1', 'creal_of_num', 'cNUMERAL', 'c_', '0', 'c', '/', '\\\\', 'c', '/', '\\\\', 'creal_ge', 'creal_add', 'creal_mul', 'creal_neg', 'creal_of_num', 'cNUMERAL', 'cBIT', '1', 'c_', '0', 'creal_of_int', 'f', '2', 'creal_add', 'creal_of_int', 'f', '3', 'creal_neg', 'creal_of_num', 'cNUMERAL', 'cBIT', '1', 'c_', '0', 'creal_of_num', 'cNUMERAL', 'c_', '0', 'c', '=', 'creal_of_int', 'f', '0', 'creal_of_num', 'cNUMERAL', 'c_', '0', 'creal_ge', 'creal_add', 'creal_mul', 'creal_neg', 'creal_of_num', 'cNUMERAL', 'cBIT', '1', 'c_', '0', 'creal_of_int', 'f', '0', 'creal_add', 'creal_of_int', 'f', '1', 'creal_neg', 'creal_of_num', 'cNUMERAL', 'cBIT', '1', 'c_', '0', 'creal_of_num', 'cNUMERAL', 'c_', '0', 'cF', '', '', '&', 'c', '=', 'c', '-', 'cSUC', 'f', '0', 'cSUC', 'f', '1', 'c', '-', 'f', '0', 'f', '1']\n"
          ]
        }
      ]
    },
    {
      "cell_type": "code",
      "source": [
        "all_tokens = set()\n",
        "for example, label in examples:\n",
        "  tokens = parse(example) \n",
        "  all_tokens |= set(tokens)\n",
        "\n",
        "for example_2, label_2 in validation:\n",
        "  tokens = parse(example_2) \n",
        "  all_tokens |= set(tokens)\n",
        "\n",
        "\n",
        "all_tokens = list(all_tokens)\n",
        "lookup = {token: t for (t, token) in enumerate(all_tokens)}\n",
        "\n",
        "print(lookup)\n",
        "for token in all_tokens: print(token)\n",
        "print(len(all_tokens))\n"
      ],
      "metadata": {
        "id": "TUqbbmcwzqyG",
        "colab": {
          "base_uri": "https://localhost:8080/"
        },
        "outputId": "3c562590-dff0-4580-cf11-02d909e2d4a7"
      },
      "execution_count": null,
      "outputs": [
        {
          "output_type": "stream",
          "name": "stdout",
          "text": [
            "{'': 0, 'creal_ge': 1, '3M': 2, 'creal_inv': 3, '1_prime': 4, 'c': 5, 'cscs_lo_v': 6, '6': 7, 'cNIL': 8, 'cCOND': 9, 'cscs_stab_diag_v': 10, '1': 11, 'cint_add': 12, '/': 13, '*': 14, '~': 15, '5': 16, '+': 17, 'cGABS': 18, 'cscs_bm_v': 19, 'ctgt': 20, '9': 21, 'cscs_hi_v': 22, 'cBIT': 23, 'cSUC': 24, 'cscs_prop_equ_v': 25, 'creal_div': 26, 'creal_add': 27, 'cDECIMAL': 28, 'cfunlist_v': 29, 'creal_of_num': 30, 'cscs_a_v': 31, 'cball_annulus': 32, 'b': 33, 'ch': 34, '3': 35, 'cint_lt': 36, 'cMAP': 37, 'cSND': 38, 'cMOD': 39, 'cUNIV': 40, 'creal_le': 41, '2': 42, 'cT': 43, 'cint_of_num': 44, 'cmk_unadorned_v': 45, 'cconvex_local_fan': 46, 'cNUMERAL': 47, 'ccstab': 48, 'cscs_J_v': 49, 'cunadorned_v': 50, '!': 51, 'cLET': 52, '8': 53, 'cCONS': 54, 'cint_le': 55, 'c_': 56, 'cEMPTY': 57, 'cpsort': 58, 'creal_mul': 59, 'cscs_diag': 60, 'cFST': 61, 'cIMAGE': 62, 'cIN': 63, 'part': 64, 'cdistance': 65, 'cscs_v': 66, 'cSUBSET': 67, '=': 68, 'cscs_d_v': 69, 'cF': 70, 'cscs_': 71, 'cASSOCD_v': 72, '<': 73, ',': 74, 'cfunlistA_v': 75, 'creal_lt': 76, '7': 77, 'cscs_str_v': 78, '&': 79, 'cGEQ': 80, '4': 81, 'cscs_k_v': 82, '0': 83, 'cd_tame': 84, 'creal_of_int': 85, 'f': 86, 'cscs_am_v': 87, 'cscs_b_v': 88, 'cBBs_v': 89, '-': 90, 'cscs_half_slice_v': 91, 'creal_gt': 92, 'cscs_basic_v': 93, 'creal_neg': 94, 'cLET_END': 95, 'cINSERT': 96, '\\\\': 97, 'cperiodic': 98, '>': 99}\n",
            "\n",
            "creal_ge\n",
            "3M\n",
            "creal_inv\n",
            "1_prime\n",
            "c\n",
            "cscs_lo_v\n",
            "6\n",
            "cNIL\n",
            "cCOND\n",
            "cscs_stab_diag_v\n",
            "1\n",
            "cint_add\n",
            "/\n",
            "*\n",
            "~\n",
            "5\n",
            "+\n",
            "cGABS\n",
            "cscs_bm_v\n",
            "ctgt\n",
            "9\n",
            "cscs_hi_v\n",
            "cBIT\n",
            "cSUC\n",
            "cscs_prop_equ_v\n",
            "creal_div\n",
            "creal_add\n",
            "cDECIMAL\n",
            "cfunlist_v\n",
            "creal_of_num\n",
            "cscs_a_v\n",
            "cball_annulus\n",
            "b\n",
            "ch\n",
            "3\n",
            "cint_lt\n",
            "cMAP\n",
            "cSND\n",
            "cMOD\n",
            "cUNIV\n",
            "creal_le\n",
            "2\n",
            "cT\n",
            "cint_of_num\n",
            "cmk_unadorned_v\n",
            "cconvex_local_fan\n",
            "cNUMERAL\n",
            "ccstab\n",
            "cscs_J_v\n",
            "cunadorned_v\n",
            "!\n",
            "cLET\n",
            "8\n",
            "cCONS\n",
            "cint_le\n",
            "c_\n",
            "cEMPTY\n",
            "cpsort\n",
            "creal_mul\n",
            "cscs_diag\n",
            "cFST\n",
            "cIMAGE\n",
            "cIN\n",
            "part\n",
            "cdistance\n",
            "cscs_v\n",
            "cSUBSET\n",
            "=\n",
            "cscs_d_v\n",
            "cF\n",
            "cscs_\n",
            "cASSOCD_v\n",
            "<\n",
            ",\n",
            "cfunlistA_v\n",
            "creal_lt\n",
            "7\n",
            "cscs_str_v\n",
            "&\n",
            "cGEQ\n",
            "4\n",
            "cscs_k_v\n",
            "0\n",
            "cd_tame\n",
            "creal_of_int\n",
            "f\n",
            "cscs_am_v\n",
            "cscs_b_v\n",
            "cBBs_v\n",
            "-\n",
            "cscs_half_slice_v\n",
            "creal_gt\n",
            "cscs_basic_v\n",
            "creal_neg\n",
            "cLET_END\n",
            "cINSERT\n",
            "\\\n",
            "cperiodic\n",
            ">\n",
            "100\n"
          ]
        }
      ]
    },
    {
      "cell_type": "code",
      "source": [
        "len(validation)"
      ],
      "metadata": {
        "colab": {
          "base_uri": "https://localhost:8080/"
        },
        "id": "FYjaxDveileg",
        "outputId": "fd2a24bd-0c68-42ca-83c9-9966352e58a8"
      },
      "execution_count": null,
      "outputs": [
        {
          "output_type": "execute_result",
          "data": {
            "text/plain": [
              "734"
            ]
          },
          "metadata": {},
          "execution_count": 74
        }
      ]
    },
    {
      "cell_type": "code",
      "source": [
        "max_len = max([len(parse(example)) for example,label in examples])\n",
        "print(\"max_len:\", max_len)\n",
        "embeddings = tr.eye(len(all_tokens))"
      ],
      "metadata": {
        "id": "0AbJUTUzzvp0",
        "colab": {
          "base_uri": "https://localhost:8080/"
        },
        "outputId": "a8c3accf-7abb-4480-83a0-36b40157f653"
      },
      "execution_count": null,
      "outputs": [
        {
          "output_type": "stream",
          "name": "stdout",
          "text": [
            "max_len: 651\n"
          ]
        }
      ]
    },
    {
      "cell_type": "code",
      "source": [
        "\"\"\"\n",
        "Transformer utilities\n",
        "\"\"\"\n",
        "def embed(seq, max_len, embeddings, offset=0):\n",
        "    embedded = tr.zeros(max_len, embeddings.shape[1])\n",
        "    cap = min(len(seq), max_len-offset)\n",
        "    if cap > 0:\n",
        "        embedded[offset:offset+cap] = tr.stack(tuple(embeddings[lookup[token]] for token in seq[:cap]))\n",
        "    return embedded\n",
        "\n",
        "def Attention(Q, K, V, masked=False):\n",
        "    dk = Q.shape[1]\n",
        "    logits = Q @ K.t() / dk**.5\n",
        "    if masked:\n",
        "        idx = tr.arange(Q.shape[0])\n",
        "        logits[idx.unsqueeze(1) < idx] = -tr.inf\n",
        "    return tr.softmax(logits, dim=1) @ V\n",
        "\n",
        "class MultiHeadAttention(tr.nn.Module):\n",
        "    def __init__(self, num_heads, d_model, masked=False, projections=\"\"):\n",
        "        super(MultiHeadAttention, self).__init__()\n",
        "        dh = d_model // num_heads\n",
        "        self.masked = masked\n",
        "        self.num_heads = num_heads\n",
        "        self.WQ, self.WK, self.WV = tuple(\n",
        "            tr.nn.ModuleList([tr.nn.Linear(d_model, dh, bias=False) for i in range(num_heads)])\n",
        "            if p in projections else [lambda x: x[:,:dh]]*num_heads\n",
        "            for p in \"QKV\")\n",
        "        self.WO = tr.nn.Linear(dh * num_heads, d_model, bias=False) if \"O\" in projections else lambda x: x\n",
        "        self.ln = tr.nn.LayerNorm(d_model)\n",
        "        self.projections = projections\n",
        "\n",
        "    def forward(self, Q, K, V):\n",
        "        heads = [\n",
        "            Attention(self.WQ[i](Q), self.WK[i](K), self.WV[i](V), self.masked)\n",
        "            for i in range(self.num_heads)]\n",
        "        out = self.WO(tr.cat(heads, dim=1))\n",
        "        out += Q # skip connection\n",
        "        out = self.ln(out) # layer normalization\n",
        "        return out\n",
        "\n",
        "# requires d_model - d_embedding >= max_len\n",
        "def one_hot_positional_encoder(max_len):\n",
        "    def encode_position(inputs):\n",
        "        I = tr.eye(max_len)\n",
        "        return tr.cat((I, inputs), dim=1)\n",
        "    return encode_position\n",
        "\n"
      ],
      "metadata": {
        "id": "-8Chz1jOzx_i"
      },
      "execution_count": null,
      "outputs": []
    },
    {
      "cell_type": "code",
      "source": [
        "class Net(tr.nn.Module):\n",
        "  def __init__(self, num_blocks, num_heads):\n",
        "    super(Net, self).__init__()\n",
        "    d_model = max_len+embeddings.shape[1]\n",
        "    self.encoder = one_hot_positional_encoder(max_len)\n",
        "    self.blocks = tr.nn.ModuleList([\n",
        "      MultiHeadAttention(num_heads, d_model, projections=\"QKVO\")\n",
        "      for _ in range(num_blocks)\n",
        "    ])\n",
        "    self.readout = tr.nn.Linear(d_model, 2)\n",
        "  def forward(self, example):\n",
        "    x = embed(parse(example), max_len, embeddings)\n",
        "    x = self.encoder(x)\n",
        "    for mha in self.blocks:\n",
        "      x = mha(x, x, x)\n",
        "    y = self.readout(x).mean(dim=0).unsqueeze(0)\n",
        "    return y\n",
        "\n",
        "net = Net(3, 4)\n",
        "y = net(examples[0][0])\n",
        "print(y)"
      ],
      "metadata": {
        "id": "MUinbtDAz0e4",
        "colab": {
          "base_uri": "https://localhost:8080/"
        },
        "outputId": "ec8cf2d7-88b7-43a9-c0b0-85a8dfec2cd7"
      },
      "execution_count": 148,
      "outputs": [
        {
          "output_type": "stream",
          "name": "stdout",
          "text": [
            "tensor([[-0.0183,  0.1144]], grad_fn=<UnsqueezeBackward0>)\n"
          ]
        }
      ]
    },
    {
      "cell_type": "code",
      "source": [
        "net = Net(2, 4)\n",
        "xc = tr.nn.CrossEntropyLoss()\n",
        "val = random.sample(validation,100)\n",
        "opt = tr.optim.Adam(net.parameters(), lr=0.005)\n",
        "\n",
        "num_iters = 200\n",
        "verb_step = 20\n",
        "train_loss = []\n",
        "valid_accu =[]\n",
        "valid_loss =[]\n",
        "for i in trange(num_iters):\n",
        "\n",
        "    example, label = random.choice(examples)\n",
        "    logits = net(example)\n",
        "    loss = xc(logits, tr.tensor([label]))\n",
        "    train_loss.append(loss.item())\n",
        "\n",
        "    opt.zero_grad()\n",
        "    loss.backward()\n",
        "    opt.step()\n",
        "    correct = []\n",
        "    vloss = []\n",
        "    \n",
        "    \n",
        "    if i % verb_step == 0 or i == num_iters-1:\n",
        "       \n",
        "        with tr.no_grad():\n",
        "           \n",
        "            for  example_2, label_2 in val:\n",
        "               logits = net(example_2)\n",
        "               v_loss = xc(logits,tr.tensor([label_2]))  \n",
        "               pred = logits.argmax()\n",
        "               correct.append(np.absolute(label_2-pred))\n",
        "               vloss.append(v_loss.item())\n",
        "        valid_accu.append(1-np.mean(correct))\n",
        "        valid_loss.append(np.mean(vloss))\n",
        "        print(f'Epoch:{i} loss:{loss.item()} \\t\\tval_loss: {np.mean(vloss)}\\t\\t val_acc: {1-np.mean(correct)}  ')\n",
        "        \n",
        "              \n",
        "\n",
        "#pt.plot(prediction)\n",
        "pt.plot(train_loss)\n",
        "pt.xlabel(\"Iteration\")\n",
        "pt.ylabel(\"Loss\")\n",
        "\n"
      ],
      "metadata": {
        "id": "jshKLvyKz3U_",
        "colab": {
          "base_uri": "https://localhost:8080/",
          "height": 525,
          "referenced_widgets": [
            "20a698af93974412bc7c0205c1a4245c",
            "63376bc20dd948e083432667541e4704",
            "ac8c04053b0846029e6d279c04547245",
            "b7a76d536776491088e44a2710e9a394",
            "230888a4f36f42669e455bc44613d29a",
            "c01197bd6faf47f8865245c42823abd1",
            "5027ff5160404936a198094762c3bfc8",
            "b4df03728a034766994295d50e73b614",
            "b6d67a1f3272402bb84c49d28849173f",
            "d14940b8228c462594592c7e2ae9d89c",
            "c6999c1de6b44bbc902b88caf7ac6d82"
          ]
        },
        "outputId": "27995cc0-f15c-4ebe-8897-c2508ca87307"
      },
      "execution_count": 149,
      "outputs": [
        {
          "output_type": "display_data",
          "data": {
            "text/plain": [
              "  0%|          | 0/200 [00:00<?, ?it/s]"
            ],
            "application/vnd.jupyter.widget-view+json": {
              "version_major": 2,
              "version_minor": 0,
              "model_id": "20a698af93974412bc7c0205c1a4245c"
            }
          },
          "metadata": {}
        },
        {
          "output_type": "stream",
          "name": "stdout",
          "text": [
            "Epoch:0 loss:0.6947737336158752 \t\tval_loss: 3.5921344342379213\t\t val_acc: 0.51  \n",
            "Epoch:20 loss:0.007130295038223267 \t\tval_loss: 3.1358067074697464\t\t val_acc: 0.49  \n",
            "Epoch:40 loss:0.022948985919356346 \t\tval_loss: 1.9306889364495874\t\t val_acc: 0.49  \n",
            "Epoch:60 loss:2.7952253818511963 \t\tval_loss: 1.3555041518807411\t\t val_acc: 0.49  \n",
            "Epoch:80 loss:0.9068158268928528 \t\tval_loss: 0.8247819879651069\t\t val_acc: 0.49  \n",
            "Epoch:100 loss:0.7821242809295654 \t\tval_loss: 0.7283813744783402\t\t val_acc: 0.49  \n",
            "Epoch:120 loss:0.24135403335094452 \t\tval_loss: 0.9367168781161308\t\t val_acc: 0.49  \n",
            "Epoch:140 loss:0.21586298942565918 \t\tval_loss: 1.0025393158197402\t\t val_acc: 0.51  \n",
            "Epoch:160 loss:0.6804036498069763 \t\tval_loss: 0.7076937943696976\t\t val_acc: 0.49  \n",
            "Epoch:180 loss:0.28175315260887146 \t\tval_loss: 0.8621710258722305\t\t val_acc: 0.51  \n",
            "Epoch:199 loss:0.8589518666267395 \t\tval_loss: 0.7047405403852463\t\t val_acc: 0.51  \n"
          ]
        },
        {
          "output_type": "execute_result",
          "data": {
            "text/plain": [
              "Text(0, 0.5, 'Loss')"
            ]
          },
          "metadata": {},
          "execution_count": 149
        },
        {
          "output_type": "display_data",
          "data": {
            "text/plain": [
              "<Figure size 432x288 with 1 Axes>"
            ],
            "image/png": "[encoded data removed]"
          },
          "metadata": {
            "needs_background": "light"
          }
        }
      ]
    },
    {
      "cell_type": "code",
      "source": [
        "pt.xlabel(\"valid accurancy and valid loss\")\n",
        "pt.plot(valid_accu,label=\"accurancy\")\n",
        "pt.plot(valid_loss,label=\"valid loss\")\n",
        "pt.legend()\n",
        "pt.show()"
      ],
      "metadata": {
        "colab": {
          "base_uri": "https://localhost:8080/",
          "height": 279
        },
        "id": "kXtip33fzfpe",
        "outputId": "36d39d98-156b-4708-bf8c-fc0c76e20ae6"
      },
      "execution_count": 150,
      "outputs": [
        {
          "output_type": "display_data",
          "data": {
            "text/plain": [
              "<Figure size 432x288 with 1 Axes>"
            ],
            "image/png": "[encoded data removed]"
          },
          "metadata": {
            "needs_background": "light"
          }
        }
      ]
    },
    {
      "cell_type": "markdown",
      "source": [
        "#Youdan's Approch"
      ],
      "metadata": {
        "id": "sHGUMV2Mz00a"
      }
    },
    {
      "cell_type": "markdown",
      "source": [
        ""
      ],
      "metadata": {
        "id": "xUBTqxirz5Ur"
      }
    },
    {
      "cell_type": "code",
      "source": [
        "'''Youdan's Approch'''\n",
        "\n",
        "class Net(tr.nn.Module):\n",
        "  def __init__(self, num_blocks, num_heads):\n",
        "    super(Net, self).__init__()\n",
        "    d_model = max_len+embeddings.shape[1]\n",
        "    self.conv = tr.nn.Conv1d(max_len,max_len, kernel_size=1)  \n",
        "    self.conv2 = tr.nn.Conv1d(max_len, max_len, kernel_size=1)   \n",
        "    self.encoder = one_hot_positional_encoder(max_len)\n",
        "    self.rrelu = tr.nn.RReLU()\n",
        "    self.blocks = tr.nn.ModuleList([\n",
        "      MultiHeadAttention(num_heads, d_model, projections=\"QKVO\")\n",
        "      for _ in range(num_blocks)\n",
        "    ])\n",
        "    self.readout =tr.nn.Linear(d_model, 2)\n",
        "    self.readout2 =tr.nn.Linear(2, 2)\n",
        "  def forward(self, example):\n",
        "    x = embed(parse(example), max_len, embeddings)\n",
        "    x = self.encoder(x)\n",
        "   \n",
        "    for mha in self.blocks:\n",
        "      x = mha(x, x, x)\n",
        "    x = self.rrelu(self.conv(x))\n",
        "    x = self.conv2(x)\n",
        "    y = self.readout2(self.readout(x)).mean(dim=0).unsqueeze(0)\n",
        "    return y\n",
        "\n",
        "net = Net(2, 4)\n"
      ],
      "metadata": {
        "id": "IdN3hwg0RPc4",
        "colab": {
          "base_uri": "https://localhost:8080/"
        },
        "outputId": "70848481-509a-4d3e-c6cd-0b6b8259437a"
      },
      "execution_count": 152,
      "outputs": [
        {
          "output_type": "execute_result",
          "data": {
            "text/plain": [
              "0"
            ]
          },
          "metadata": {},
          "execution_count": 152
        }
      ]
    },
    {
      "cell_type": "code",
      "source": [
        "net = Net(2, 4)\n",
        "xc = tr.nn.CrossEntropyLoss()\n",
        "\n",
        "opt = tr.optim.Adam(net.parameters(), lr=0.005)\n",
        "\n",
        "num_iters = 200\n",
        "verb_step = 20\n",
        "train_loss = []\n",
        "valid_accu =[]\n",
        "valid_loss =[]\n",
        "true = 0\n",
        "\n",
        "for i in trange(num_iters):\n",
        "\n",
        "    example, label = random.choice(examples)\n",
        "    logits = net(example)\n",
        "    loss = xc(logits, tr.tensor([label]))\n",
        "    train_loss.append(loss.item())\n",
        "\n",
        "    opt.zero_grad()\n",
        "    loss.backward()\n",
        "    opt.step()\n",
        "    correct = []\n",
        "    vloss = []\n",
        "    \n",
        "    \n",
        "    if i % verb_step == 0 or i == num_iters-1:\n",
        "       \n",
        "        with tr.no_grad():\n",
        "\n",
        "            for  example_2, label_2 in val:\n",
        "               logits = net(example_2)\n",
        "               v_loss = xc(logits,tr.tensor([label_2]))  \n",
        "               pred = logits.argmax().item()\n",
        "               correct.append(np.absolute(label_2-pred))\n",
        "               vloss.append(v_loss.item())\n",
        "        valid_accu.append(1-np.mean(correct))\n",
        "        valid_loss.append(np.mean(vloss))\n",
        "        print(f'Epoch:{i} loss:{loss.item()} \\t\\tval_loss: {np.mean(vloss)}\\t\\t val_acc: {1-np.mean(correct)}  ')\n",
        "        \n",
        "              \n",
        "\n",
        "#pt.plot(prediction)\n",
        "pt.plot(train_loss)\n",
        "pt.xlabel(\"Iteration\")\n",
        "pt.ylabel(\"Loss\")"
      ],
      "metadata": {
        "id": "-qmTf9YesNWt",
        "colab": {
          "base_uri": "https://localhost:8080/",
          "height": 421,
          "referenced_widgets": [
            "00160558b5774ce6b5bb214cc40aba3a",
            "a045123b8c4c43c4a67e10e337c89798",
            "97faac31e55948fdaf31f50d946b4d49",
            "3cbb5e5d1caa4bdf9a12342f7593b5f5",
            "ddfba9adefa74cf8b901c61d1b550aa7",
            "c236a9f8c98c468a8b8b87242158ecb0",
            "9d21d2f60e8f4de6a1a13d179d7a16fc",
            "0a3f37622ec9448b97577f4fe613685b",
            "7b23442980d3487584b573c39a77c31b",
            "9a82ba13a2c3468faec2b97c8532dc40",
            "da444d7facd4427592c1a2db0340c793"
          ]
        },
        "outputId": "201dc865-fbe5-4a5a-886f-a687a9a016a4"
      },
      "execution_count": 154,
      "outputs": [
        {
          "output_type": "display_data",
          "data": {
            "text/plain": [
              "  0%|          | 0/200 [00:00<?, ?it/s]"
            ],
            "application/vnd.jupyter.widget-view+json": {
              "version_major": 2,
              "version_minor": 0,
              "model_id": "00160558b5774ce6b5bb214cc40aba3a"
            }
          },
          "metadata": {}
        },
        {
          "output_type": "error",
          "ename": "KeyboardInterrupt",
          "evalue": "ignored",
          "traceback": [
            "\u001b[0;31m---------------------------------------------------------------------------\u001b[0m",
            "\u001b[0;31mKeyboardInterrupt\u001b[0m                         Traceback (most recent call last)",
            "\u001b[0;32m<ipython-input-154-740978566106>\u001b[0m in \u001b[0;36m<module>\u001b[0;34m()\u001b[0m\n\u001b[1;32m     30\u001b[0m \u001b[0;34m\u001b[0m\u001b[0m\n\u001b[1;32m     31\u001b[0m             \u001b[0;32mfor\u001b[0m  \u001b[0mexample_2\u001b[0m\u001b[0;34m,\u001b[0m \u001b[0mlabel_2\u001b[0m \u001b[0;32min\u001b[0m \u001b[0mval\u001b[0m\u001b[0;34m:\u001b[0m\u001b[0;34m\u001b[0m\u001b[0;34m\u001b[0m\u001b[0m\n\u001b[0;32m---> 32\u001b[0;31m                \u001b[0mlogits\u001b[0m \u001b[0;34m=\u001b[0m \u001b[0mnet\u001b[0m\u001b[0;34m(\u001b[0m\u001b[0mexample_2\u001b[0m\u001b[0;34m)\u001b[0m\u001b[0;34m\u001b[0m\u001b[0;34m\u001b[0m\u001b[0m\n\u001b[0m\u001b[1;32m     33\u001b[0m                \u001b[0mv_loss\u001b[0m \u001b[0;34m=\u001b[0m \u001b[0mxc\u001b[0m\u001b[0;34m(\u001b[0m\u001b[0mlogits\u001b[0m\u001b[0;34m,\u001b[0m\u001b[0mtr\u001b[0m\u001b[0;34m.\u001b[0m\u001b[0mtensor\u001b[0m\u001b[0;34m(\u001b[0m\u001b[0;34m[\u001b[0m\u001b[0mlabel_2\u001b[0m\u001b[0;34m]\u001b[0m\u001b[0;34m)\u001b[0m\u001b[0;34m)\u001b[0m\u001b[0;34m\u001b[0m\u001b[0;34m\u001b[0m\u001b[0m\n\u001b[1;32m     34\u001b[0m                \u001b[0mpred\u001b[0m \u001b[0;34m=\u001b[0m \u001b[0mlogits\u001b[0m\u001b[0;34m.\u001b[0m\u001b[0margmax\u001b[0m\u001b[0;34m(\u001b[0m\u001b[0;34m)\u001b[0m\u001b[0;34m.\u001b[0m\u001b[0mitem\u001b[0m\u001b[0;34m(\u001b[0m\u001b[0;34m)\u001b[0m\u001b[0;34m\u001b[0m\u001b[0;34m\u001b[0m\u001b[0m\n",
            "\u001b[0;32m/usr/local/lib/python3.7/dist-packages/torch/nn/modules/module.py\u001b[0m in \u001b[0;36m_call_impl\u001b[0;34m(self, *input, **kwargs)\u001b[0m\n\u001b[1;32m   1108\u001b[0m         if not (self._backward_hooks or self._forward_hooks or self._forward_pre_hooks or _global_backward_hooks\n\u001b[1;32m   1109\u001b[0m                 or _global_forward_hooks or _global_forward_pre_hooks):\n\u001b[0;32m-> 1110\u001b[0;31m             \u001b[0;32mreturn\u001b[0m \u001b[0mforward_call\u001b[0m\u001b[0;34m(\u001b[0m\u001b[0;34m*\u001b[0m\u001b[0minput\u001b[0m\u001b[0;34m,\u001b[0m \u001b[0;34m**\u001b[0m\u001b[0mkwargs\u001b[0m\u001b[0;34m)\u001b[0m\u001b[0;34m\u001b[0m\u001b[0;34m\u001b[0m\u001b[0m\n\u001b[0m\u001b[1;32m   1111\u001b[0m         \u001b[0;31m# Do not call functions when jit is used\u001b[0m\u001b[0;34m\u001b[0m\u001b[0;34m\u001b[0m\u001b[0;34m\u001b[0m\u001b[0m\n\u001b[1;32m   1112\u001b[0m         \u001b[0mfull_backward_hooks\u001b[0m\u001b[0;34m,\u001b[0m \u001b[0mnon_full_backward_hooks\u001b[0m \u001b[0;34m=\u001b[0m \u001b[0;34m[\u001b[0m\u001b[0;34m]\u001b[0m\u001b[0;34m,\u001b[0m \u001b[0;34m[\u001b[0m\u001b[0;34m]\u001b[0m\u001b[0;34m\u001b[0m\u001b[0;34m\u001b[0m\u001b[0m\n",
            "\u001b[0;32m<ipython-input-152-63f1b1a1ec24>\u001b[0m in \u001b[0;36mforward\u001b[0;34m(self, example)\u001b[0m\n\u001b[1;32m     20\u001b[0m \u001b[0;34m\u001b[0m\u001b[0m\n\u001b[1;32m     21\u001b[0m     \u001b[0;32mfor\u001b[0m \u001b[0mmha\u001b[0m \u001b[0;32min\u001b[0m \u001b[0mself\u001b[0m\u001b[0;34m.\u001b[0m\u001b[0mblocks\u001b[0m\u001b[0;34m:\u001b[0m\u001b[0;34m\u001b[0m\u001b[0;34m\u001b[0m\u001b[0m\n\u001b[0;32m---> 22\u001b[0;31m       \u001b[0mx\u001b[0m \u001b[0;34m=\u001b[0m \u001b[0mmha\u001b[0m\u001b[0;34m(\u001b[0m\u001b[0mx\u001b[0m\u001b[0;34m,\u001b[0m \u001b[0mx\u001b[0m\u001b[0;34m,\u001b[0m \u001b[0mx\u001b[0m\u001b[0;34m)\u001b[0m\u001b[0;34m\u001b[0m\u001b[0;34m\u001b[0m\u001b[0m\n\u001b[0m\u001b[1;32m     23\u001b[0m     \u001b[0mx\u001b[0m \u001b[0;34m=\u001b[0m \u001b[0mself\u001b[0m\u001b[0;34m.\u001b[0m\u001b[0mrrelu\u001b[0m\u001b[0;34m(\u001b[0m\u001b[0mself\u001b[0m\u001b[0;34m.\u001b[0m\u001b[0mconv\u001b[0m\u001b[0;34m(\u001b[0m\u001b[0mx\u001b[0m\u001b[0;34m)\u001b[0m\u001b[0;34m)\u001b[0m\u001b[0;34m\u001b[0m\u001b[0;34m\u001b[0m\u001b[0m\n\u001b[1;32m     24\u001b[0m     \u001b[0mx\u001b[0m \u001b[0;34m=\u001b[0m \u001b[0mself\u001b[0m\u001b[0;34m.\u001b[0m\u001b[0mconv2\u001b[0m\u001b[0;34m(\u001b[0m\u001b[0mx\u001b[0m\u001b[0;34m)\u001b[0m\u001b[0;34m\u001b[0m\u001b[0;34m\u001b[0m\u001b[0m\n",
            "\u001b[0;32m/usr/local/lib/python3.7/dist-packages/torch/nn/modules/module.py\u001b[0m in \u001b[0;36m_call_impl\u001b[0;34m(self, *input, **kwargs)\u001b[0m\n\u001b[1;32m   1108\u001b[0m         if not (self._backward_hooks or self._forward_hooks or self._forward_pre_hooks or _global_backward_hooks\n\u001b[1;32m   1109\u001b[0m                 or _global_forward_hooks or _global_forward_pre_hooks):\n\u001b[0;32m-> 1110\u001b[0;31m             \u001b[0;32mreturn\u001b[0m \u001b[0mforward_call\u001b[0m\u001b[0;34m(\u001b[0m\u001b[0;34m*\u001b[0m\u001b[0minput\u001b[0m\u001b[0;34m,\u001b[0m \u001b[0;34m**\u001b[0m\u001b[0mkwargs\u001b[0m\u001b[0;34m)\u001b[0m\u001b[0;34m\u001b[0m\u001b[0;34m\u001b[0m\u001b[0m\n\u001b[0m\u001b[1;32m   1111\u001b[0m         \u001b[0;31m# Do not call functions when jit is used\u001b[0m\u001b[0;34m\u001b[0m\u001b[0;34m\u001b[0m\u001b[0;34m\u001b[0m\u001b[0m\n\u001b[1;32m   1112\u001b[0m         \u001b[0mfull_backward_hooks\u001b[0m\u001b[0;34m,\u001b[0m \u001b[0mnon_full_backward_hooks\u001b[0m \u001b[0;34m=\u001b[0m \u001b[0;34m[\u001b[0m\u001b[0;34m]\u001b[0m\u001b[0;34m,\u001b[0m \u001b[0;34m[\u001b[0m\u001b[0;34m]\u001b[0m\u001b[0;34m\u001b[0m\u001b[0;34m\u001b[0m\u001b[0m\n",
            "\u001b[0;32m<ipython-input-55-c7b3f6855524>\u001b[0m in \u001b[0;36mforward\u001b[0;34m(self, Q, K, V)\u001b[0m\n\u001b[1;32m     34\u001b[0m         heads = [\n\u001b[1;32m     35\u001b[0m             \u001b[0mAttention\u001b[0m\u001b[0;34m(\u001b[0m\u001b[0mself\u001b[0m\u001b[0;34m.\u001b[0m\u001b[0mWQ\u001b[0m\u001b[0;34m[\u001b[0m\u001b[0mi\u001b[0m\u001b[0;34m]\u001b[0m\u001b[0;34m(\u001b[0m\u001b[0mQ\u001b[0m\u001b[0;34m)\u001b[0m\u001b[0;34m,\u001b[0m \u001b[0mself\u001b[0m\u001b[0;34m.\u001b[0m\u001b[0mWK\u001b[0m\u001b[0;34m[\u001b[0m\u001b[0mi\u001b[0m\u001b[0;34m]\u001b[0m\u001b[0;34m(\u001b[0m\u001b[0mK\u001b[0m\u001b[0;34m)\u001b[0m\u001b[0;34m,\u001b[0m \u001b[0mself\u001b[0m\u001b[0;34m.\u001b[0m\u001b[0mWV\u001b[0m\u001b[0;34m[\u001b[0m\u001b[0mi\u001b[0m\u001b[0;34m]\u001b[0m\u001b[0;34m(\u001b[0m\u001b[0mV\u001b[0m\u001b[0;34m)\u001b[0m\u001b[0;34m,\u001b[0m \u001b[0mself\u001b[0m\u001b[0;34m.\u001b[0m\u001b[0mmasked\u001b[0m\u001b[0;34m)\u001b[0m\u001b[0;34m\u001b[0m\u001b[0;34m\u001b[0m\u001b[0m\n\u001b[0;32m---> 36\u001b[0;31m             for i in range(self.num_heads)]\n\u001b[0m\u001b[1;32m     37\u001b[0m         \u001b[0mout\u001b[0m \u001b[0;34m=\u001b[0m \u001b[0mself\u001b[0m\u001b[0;34m.\u001b[0m\u001b[0mWO\u001b[0m\u001b[0;34m(\u001b[0m\u001b[0mtr\u001b[0m\u001b[0;34m.\u001b[0m\u001b[0mcat\u001b[0m\u001b[0;34m(\u001b[0m\u001b[0mheads\u001b[0m\u001b[0;34m,\u001b[0m \u001b[0mdim\u001b[0m\u001b[0;34m=\u001b[0m\u001b[0;36m1\u001b[0m\u001b[0;34m)\u001b[0m\u001b[0;34m)\u001b[0m\u001b[0;34m\u001b[0m\u001b[0;34m\u001b[0m\u001b[0m\n\u001b[1;32m     38\u001b[0m         \u001b[0mout\u001b[0m \u001b[0;34m+=\u001b[0m \u001b[0mQ\u001b[0m \u001b[0;31m# skip connection\u001b[0m\u001b[0;34m\u001b[0m\u001b[0;34m\u001b[0m\u001b[0m\n",
            "\u001b[0;32m<ipython-input-55-c7b3f6855524>\u001b[0m in \u001b[0;36m<listcomp>\u001b[0;34m(.0)\u001b[0m\n\u001b[1;32m     34\u001b[0m         heads = [\n\u001b[1;32m     35\u001b[0m             \u001b[0mAttention\u001b[0m\u001b[0;34m(\u001b[0m\u001b[0mself\u001b[0m\u001b[0;34m.\u001b[0m\u001b[0mWQ\u001b[0m\u001b[0;34m[\u001b[0m\u001b[0mi\u001b[0m\u001b[0;34m]\u001b[0m\u001b[0;34m(\u001b[0m\u001b[0mQ\u001b[0m\u001b[0;34m)\u001b[0m\u001b[0;34m,\u001b[0m \u001b[0mself\u001b[0m\u001b[0;34m.\u001b[0m\u001b[0mWK\u001b[0m\u001b[0;34m[\u001b[0m\u001b[0mi\u001b[0m\u001b[0;34m]\u001b[0m\u001b[0;34m(\u001b[0m\u001b[0mK\u001b[0m\u001b[0;34m)\u001b[0m\u001b[0;34m,\u001b[0m \u001b[0mself\u001b[0m\u001b[0;34m.\u001b[0m\u001b[0mWV\u001b[0m\u001b[0;34m[\u001b[0m\u001b[0mi\u001b[0m\u001b[0;34m]\u001b[0m\u001b[0;34m(\u001b[0m\u001b[0mV\u001b[0m\u001b[0;34m)\u001b[0m\u001b[0;34m,\u001b[0m \u001b[0mself\u001b[0m\u001b[0;34m.\u001b[0m\u001b[0mmasked\u001b[0m\u001b[0;34m)\u001b[0m\u001b[0;34m\u001b[0m\u001b[0;34m\u001b[0m\u001b[0m\n\u001b[0;32m---> 36\u001b[0;31m             for i in range(self.num_heads)]\n\u001b[0m\u001b[1;32m     37\u001b[0m         \u001b[0mout\u001b[0m \u001b[0;34m=\u001b[0m \u001b[0mself\u001b[0m\u001b[0;34m.\u001b[0m\u001b[0mWO\u001b[0m\u001b[0;34m(\u001b[0m\u001b[0mtr\u001b[0m\u001b[0;34m.\u001b[0m\u001b[0mcat\u001b[0m\u001b[0;34m(\u001b[0m\u001b[0mheads\u001b[0m\u001b[0;34m,\u001b[0m \u001b[0mdim\u001b[0m\u001b[0;34m=\u001b[0m\u001b[0;36m1\u001b[0m\u001b[0;34m)\u001b[0m\u001b[0;34m)\u001b[0m\u001b[0;34m\u001b[0m\u001b[0;34m\u001b[0m\u001b[0m\n\u001b[1;32m     38\u001b[0m         \u001b[0mout\u001b[0m \u001b[0;34m+=\u001b[0m \u001b[0mQ\u001b[0m \u001b[0;31m# skip connection\u001b[0m\u001b[0;34m\u001b[0m\u001b[0;34m\u001b[0m\u001b[0m\n",
            "\u001b[0;32m<ipython-input-55-c7b3f6855524>\u001b[0m in \u001b[0;36mAttention\u001b[0;34m(Q, K, V, masked)\u001b[0m\n\u001b[1;32m     15\u001b[0m         \u001b[0midx\u001b[0m \u001b[0;34m=\u001b[0m \u001b[0mtr\u001b[0m\u001b[0;34m.\u001b[0m\u001b[0marange\u001b[0m\u001b[0;34m(\u001b[0m\u001b[0mQ\u001b[0m\u001b[0;34m.\u001b[0m\u001b[0mshape\u001b[0m\u001b[0;34m[\u001b[0m\u001b[0;36m0\u001b[0m\u001b[0;34m]\u001b[0m\u001b[0;34m)\u001b[0m\u001b[0;34m\u001b[0m\u001b[0;34m\u001b[0m\u001b[0m\n\u001b[1;32m     16\u001b[0m         \u001b[0mlogits\u001b[0m\u001b[0;34m[\u001b[0m\u001b[0midx\u001b[0m\u001b[0;34m.\u001b[0m\u001b[0munsqueeze\u001b[0m\u001b[0;34m(\u001b[0m\u001b[0;36m1\u001b[0m\u001b[0;34m)\u001b[0m \u001b[0;34m<\u001b[0m \u001b[0midx\u001b[0m\u001b[0;34m]\u001b[0m \u001b[0;34m=\u001b[0m \u001b[0;34m-\u001b[0m\u001b[0mtr\u001b[0m\u001b[0;34m.\u001b[0m\u001b[0minf\u001b[0m\u001b[0;34m\u001b[0m\u001b[0;34m\u001b[0m\u001b[0m\n\u001b[0;32m---> 17\u001b[0;31m     \u001b[0;32mreturn\u001b[0m \u001b[0mtr\u001b[0m\u001b[0;34m.\u001b[0m\u001b[0msoftmax\u001b[0m\u001b[0;34m(\u001b[0m\u001b[0mlogits\u001b[0m\u001b[0;34m,\u001b[0m \u001b[0mdim\u001b[0m\u001b[0;34m=\u001b[0m\u001b[0;36m1\u001b[0m\u001b[0;34m)\u001b[0m \u001b[0;34m@\u001b[0m \u001b[0mV\u001b[0m\u001b[0;34m\u001b[0m\u001b[0;34m\u001b[0m\u001b[0m\n\u001b[0m\u001b[1;32m     18\u001b[0m \u001b[0;34m\u001b[0m\u001b[0m\n\u001b[1;32m     19\u001b[0m \u001b[0;32mclass\u001b[0m \u001b[0mMultiHeadAttention\u001b[0m\u001b[0;34m(\u001b[0m\u001b[0mtr\u001b[0m\u001b[0;34m.\u001b[0m\u001b[0mnn\u001b[0m\u001b[0;34m.\u001b[0m\u001b[0mModule\u001b[0m\u001b[0;34m)\u001b[0m\u001b[0;34m:\u001b[0m\u001b[0;34m\u001b[0m\u001b[0;34m\u001b[0m\u001b[0m\n",
            "\u001b[0;31mKeyboardInterrupt\u001b[0m: "
          ]
        }
      ]
    },
    {
      "cell_type": "code",
      "source": [
        "pt.xlabel(\"valid accurancy and valid loss\")\n",
        "pt.plot(valid_accu,label=\"accurancy\")\n",
        "pt.plot(valid_loss,label=\"valid loss\")\n",
        "pt.legend()\n",
        "pt.show()"
      ],
      "metadata": {
        "id": "Z4y8MhTyvJ88",
        "colab": {
          "base_uri": "https://localhost:8080/",
          "height": 279
        },
        "outputId": "6ea59ea4-5c07-40db-a414-0222bed8b7e6"
      },
      "execution_count": null,
      "outputs": [
        {
          "output_type": "display_data",
          "data": {
            "text/plain": [
              "<Figure size 432x288 with 1 Axes>"
            ],
            "image/png": "[encoded data removed]"
          },
          "metadata": {
            "needs_background": "light"
          }
        }
      ]
    },
    {
      "cell_type": "code",
      "source": [
        "net = Net(4, 8)\n",
        "xc = tr.nn.CrossEntropyLoss()\n",
        "\n",
        "opt = tr.optim.Adam(net.parameters(), lr=0.001)\n",
        "\n",
        "num_iters = 1000\n",
        "verb_step = 20\n",
        "train_loss = []\n",
        "valid_accu =[]\n",
        "valid_loss =[]\n",
        "for i in trange(num_iters):\n",
        "\n",
        "    example, label = random.choice(examples)\n",
        "    logits = net(example)\n",
        "    loss = xc(logits, tr.tensor([label]))\n",
        "    train_loss.append(loss.item())\n",
        "\n",
        "    opt.zero_grad()\n",
        "    loss.backward()\n",
        "    opt.step()\n",
        "    correct = []\n",
        "    vloss = []\n",
        "    \n",
        "    \n",
        "    if i % verb_step == 0 or i == num_iters-1:\n",
        "       \n",
        "        with tr.no_grad():\n",
        "            for example_2, label_2 in val:\n",
        "               logits = net(example_2)\n",
        "               v_loss = xc(logits,tr.tensor([label_2]))  \n",
        "               pred = logits.argmax()\n",
        "               correct.append(np.absolute(label_2-pred))\n",
        "               vloss.append(v_loss.item())\n",
        "        valid_accu.append(1-np.mean(correct))\n",
        "        valid_loss.append(np.mean(vloss))\n",
        "        print(f'loss:{loss.item()} \\t\\tval_loss: {np.mean(vloss)}\\t\\t val_acc: {1-np.mean(correct)}  ')\n",
        "        \n",
        "              \n",
        "\n",
        "#pt.plot(prediction)\n",
        "pt.plot(train_loss)\n",
        "pt.xlabel(\"Iteration\")\n",
        "pt.ylabel(\"Loss\")\n"
      ],
      "metadata": {
        "id": "FuTlkI4nS7xp"
      },
      "execution_count": null,
      "outputs": []
    },
    {
      "cell_type": "code",
      "source": [
        "pt.xlabel(\"valid accurancy and valid loss\")\n",
        "pt.plot(valid_accu,label=\"accurancy\")\n",
        "pt.plot(valid_loss,label=\"valid loss\")\n",
        "pt.legend()\n",
        "pt.show()"
      ],
      "metadata": {
        "id": "PxV3uCebq-n3"
      },
      "execution_count": null,
      "outputs": []
    }
  ]
}