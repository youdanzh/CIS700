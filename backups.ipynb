{
  "cells": [
    {
      "cell_type": "markdown",
      "metadata": {
        "id": "view-in-github",
        "colab_type": "text"
      },
      "source": [
        "<a href=\"https://colab.research.google.com/github/youdanzh/CIS700-projects/blob/main/Copy_of_transformers.ipynb\" target=\"_parent\"><img src=\"https://colab.research.google.com/assets/colab-badge.svg\" alt=\"Open In Colab\"/></a>"
      ]
    },
    {
      "cell_type": "code",
      "execution_count": null,
      "metadata": {
        "id": "pasXsTAnxxsB"
      },
      "outputs": [],
      "source": [
        "import random\n",
        "import torch as tr\n",
        "import matplotlib.pyplot as pt\n",
        "from tqdm.notebook import trange\n",
        "import numpy as np"
      ]
    },
    {
      "cell_type": "code",
      "execution_count": null,
      "metadata": {
        "colab": {
          "base_uri": "https://localhost:8080/"
        },
        "id": "dkdllvdayS73",
        "outputId": "6f07dbbc-bb89-4900-a6ab-49a22fe59ce0"
      },
      "outputs": [
        {
          "output_type": "stream",
          "name": "stdout",
          "text": [
            "1 c==> c/\\ creal_ge creal_of_int f0 creal_of_num cNUMERAL c_0 c/\\ creal_ge creal_of_int f1 creal_of_num cNUMERAL c_0 c/\\ creal_ge creal_of_int f2 creal_of_num cNUMERAL c_0 c/\\ creal_ge creal_of_int f3 creal_of_num cNUMERAL c_0 c/\\ c/\\ creal_ge creal_add creal_mul creal_neg creal_of_num cNUMERAL cBIT1 c_0 creal_of_int f2 creal_add creal_of_int f3 creal_neg creal_of_num cNUMERAL cBIT1 c_0 creal_of_num cNUMERAL c_0 c= creal_of_int f1 creal_of_num cNUMERAL c_0 c/\\ c/\\ creal_ge creal_add creal_mul creal_neg creal_of_num cNUMERAL cBIT1 c_0 creal_of_int f2 creal_add creal_of_int f3 creal_neg creal_of_num cNUMERAL cBIT1 c_0 creal_of_num cNUMERAL c_0 c= creal_of_int f0 creal_of_num cNUMERAL c_0 creal_ge creal_add creal_mul creal_neg creal_of_num cNUMERAL cBIT1 c_0 creal_of_int f0 creal_add creal_of_int f1 creal_neg creal_of_num cNUMERAL cBIT1 c_0 creal_of_num cNUMERAL c_0 c/\\ c/\\ creal_ge creal_of_int f0 creal_of_num cNUMERAL c_0 c/\\ creal_ge creal_of_int f1 creal_of_num cNUMERAL c_0 c/\\ creal_ge creal_of_int f2 creal_of_num cNUMERAL c_0 c/\\ creal_ge creal_of_int f3 creal_of_num cNUMERAL c_0 c/\\ c/\\ creal_ge creal_add creal_mul creal_neg creal_of_num cNUMERAL cBIT1 c_0 creal_of_int f2 creal_add creal_of_int f3 creal_neg creal_of_num cNUMERAL cBIT1 c_0 creal_of_num cNUMERAL c_0 c= creal_of_int f1 creal_of_num cNUMERAL c_0 c/\\ c/\\ creal_ge creal_add creal_mul creal_neg creal_of_num cNUMERAL cBIT1 c_0 creal_of_int f2 creal_add creal_of_int f3 creal_neg creal_of_num cNUMERAL cBIT1 c_0 creal_of_num cNUMERAL c_0 c= creal_of_int f0 creal_of_num cNUMERAL c_0 creal_ge creal_add creal_mul creal_neg creal_of_num cNUMERAL cBIT1 c_0 creal_of_int f0 creal_add creal_of_int f1 creal_neg creal_of_num cNUMERAL cBIT1 c_0 creal_of_num cNUMERAL c_0 cF\n",
            " & c= c- cSUC f0 cSUC f1 c- f0 f1\n",
            "1 c==> c/\\ creal_ge creal_of_int f0 creal_of_num cNUMERAL c_0 c/\\ creal_ge creal_of_int f1 creal_of_num cNUMERAL c_0 c/\\ creal_ge creal_of_int f2 creal_of_num cNUMERAL c_0 c/\\ creal_ge creal_of_int f3 creal_of_num cNUMERAL c_0 c/\\ c/\\ creal_ge creal_add creal_mul creal_neg creal_of_num cNUMERAL cBIT1 c_0 creal_of_int f2 creal_add creal_of_int f3 creal_neg creal_of_num cNUMERAL cBIT1 c_0 creal_of_num cNUMERAL c_0 c= creal_of_int f1 creal_of_num cNUMERAL c_0 c/\\ c= creal_add creal_mul creal_neg creal_of_num cNUMERAL cBIT1 c_0 creal_of_int f0 creal_add creal_of_int f2 creal_mul creal_neg creal_of_num cNUMERAL cBIT1 c_0 creal_of_int f3 creal_of_num cNUMERAL c_0 creal_ge creal_add creal_of_int f0 creal_add creal_mul creal_neg creal_of_num cNUMERAL cBIT1 c_0 creal_of_int f1 creal_neg creal_of_num cNUMERAL cBIT1 c_0 creal_of_num cNUMERAL c_0 creal_ge creal_add creal_add creal_mul creal_neg creal_of_num cNUMERAL cBIT1 c_0 creal_of_int f0 creal_add creal_of_int f2 creal_mul creal_neg creal_of_num cNUMERAL cBIT1 c_0 creal_of_int f3 creal_add creal_mul creal_neg creal_of_num cNUMERAL cBIT1 c_0 creal_of_int f2 creal_add creal_of_int f3 creal_neg creal_of_num cNUMERAL cBIT1 c_0 creal_of_num cNUMERAL c_0\n",
            " & c= c- cSUC f0 cSUC f1 c- f0 f1\n",
            "0 c==> c/\\ creal_ge creal_of_int f0 creal_of_num cNUMERAL c_0 c/\\ creal_ge creal_of_int f1 creal_of_num cNUMERAL c_0 c/\\ c/\\ creal_ge creal_neg creal_of_num cNUMERAL cBIT1 c_0 creal_of_num cNUMERAL c_0 c= creal_of_int f0 creal_of_num cNUMERAL c_0 creal_ge creal_add creal_of_int f0 creal_neg creal_of_num cNUMERAL cBIT1 c_0 creal_of_num cNUMERAL c_0 c= c==> ! c= creal_mul b0 creal_of_int f0 creal_of_num cNUMERAL c_0 * / c= creal_mul b0 creal_of_int f0 creal_of_num cNUMERAL c_0 creal_neg creal_of_num cNUMERAL cBIT1 c_0 * / c= creal_mul b0 creal_of_int f0 creal_of_num cNUMERAL c_0 creal_neg creal_of_num cNUMERAL cBIT1 c_0\n",
            " & c= c- cSUC f0 cSUC f1 c- f0 f1\n",
            "0 c==> c/\\ creal_ge creal_of_int f0 creal_of_num cNUMERAL c_0 c/\\ creal_ge creal_of_int f1 creal_of_num cNUMERAL c_0 c/\\ creal_ge creal_of_int f2 creal_of_num cNUMERAL c_0 c/\\ creal_ge creal_of_int f3 creal_of_num cNUMERAL c_0 c/\\ c/\\ creal_ge creal_add creal_mul creal_neg creal_of_num cNUMERAL cBIT1 c_0 creal_of_int f2 creal_add creal_of_int f3 creal_neg creal_of_num cNUMERAL cBIT1 c_0 creal_of_num cNUMERAL c_0 c= creal_of_int f1 creal_of_num cNUMERAL c_0 c/\\ c= creal_add creal_mul creal_neg creal_of_num cNUMERAL cBIT1 c_0 creal_of_int f0 creal_add creal_of_int f2 creal_mul creal_neg creal_of_num cNUMERAL cBIT1 c_0 creal_of_int f3 creal_of_num cNUMERAL c_0 creal_ge creal_add creal_of_int f0 creal_add creal_mul creal_neg creal_of_num cNUMERAL cBIT1 c_0 creal_of_int f1 creal_neg creal_of_num cNUMERAL cBIT1 c_0 creal_of_num cNUMERAL c_0 c= c==> ! c= creal_mul b0 creal_of_int f1 creal_of_num cNUMERAL c_0 * / c= creal_mul b0 creal_of_int f1 creal_of_num cNUMERAL c_0 creal_of_num cNUMERAL cBIT1 c_0 * / c= creal_mul b0 creal_of_int f1 creal_of_num cNUMERAL c_0 creal_of_num cNUMERAL cBIT1 c_0\n",
            " & c= c- cSUC f0 cSUC f1 c- f0 f1\n",
            "1 c==> c/\\ creal_ge creal_of_int f0 creal_of_num cNUMERAL c_0 c/\\ creal_ge creal_of_int f1 creal_of_num cNUMERAL c_0 c/\\ creal_ge creal_of_int f2 creal_of_num cNUMERAL c_0 c/\\ creal_ge creal_of_int f3 creal_of_num cNUMERAL c_0 c/\\ c= creal_add creal_mul creal_neg creal_of_num cNUMERAL cBIT1 c_0 creal_of_int f1 creal_add creal_of_int f2 creal_mul creal_neg creal_of_num cNUMERAL cBIT1 c_0 creal_of_int f3 creal_of_num cNUMERAL c_0 c/\\ c/\\ creal_ge creal_add creal_mul creal_neg creal_of_num cNUMERAL cBIT1 c_0 creal_of_int f2 creal_add creal_of_int f3 creal_neg creal_of_num cNUMERAL cBIT1 c_0 creal_of_num cNUMERAL c_0 c= creal_of_int f0 creal_of_num cNUMERAL c_0 creal_ge creal_add creal_mul creal_neg creal_of_num cNUMERAL cBIT1 c_0 creal_of_int f0 creal_add creal_of_int f1 creal_neg creal_of_num cNUMERAL cBIT1 c_0 creal_of_num cNUMERAL c_0 creal_ge creal_add creal_of_int f0 creal_add creal_mul creal_neg creal_of_num cNUMERAL cBIT1 c_0 creal_of_int f0 creal_add creal_of_int f1 creal_neg creal_of_num cNUMERAL cBIT1 c_0 creal_of_num cNUMERAL c_0\n",
            " & c= c- cSUC f0 cSUC f1 c- f0 f1\n",
            "1 c= c= f0 f1 c= cint_of_num f0 cint_of_num f1\n",
            " & c= c- cSUC f0 cSUC f1 c- f0 f1\n",
            "1 c==> c/\\ creal_ge creal_of_int f0 creal_of_num cNUMERAL c_0 c/\\ creal_ge creal_of_int f1 creal_of_num cNUMERAL c_0 c/\\ creal_ge creal_of_int f2 creal_of_num cNUMERAL c_0 c/\\ creal_ge creal_of_int f3 creal_of_num cNUMERAL c_0 c/\\ c/\\ creal_ge creal_add creal_mul creal_neg creal_of_num cNUMERAL cBIT1 c_0 creal_of_int f2 creal_add creal_of_int f3 creal_neg creal_of_num cNUMERAL cBIT1 c_0 creal_of_num cNUMERAL c_0 c= creal_of_int f1 creal_of_num cNUMERAL c_0 c/\\ c= creal_add creal_mul creal_neg creal_of_num cNUMERAL cBIT1 c_0 creal_of_int f0 creal_add creal_of_int f2 creal_mul creal_neg creal_of_num cNUMERAL cBIT1 c_0 creal_of_int f3 creal_of_num cNUMERAL c_0 creal_ge creal_add creal_mul creal_neg creal_of_num cNUMERAL cBIT1 c_0 creal_of_int f0 creal_add creal_of_int f1 creal_neg creal_of_num cNUMERAL cBIT1 c_0 creal_of_num cNUMERAL c_0 c/\\ creal_ge creal_of_int f2 creal_of_num cNUMERAL c_0 c/\\ creal_ge creal_of_int f3 creal_of_num cNUMERAL c_0 c/\\ c/\\ creal_ge creal_add creal_mul creal_neg creal_of_num cNUMERAL cBIT1 c_0 creal_of_int f2 creal_add creal_of_int f3 creal_neg creal_of_num cNUMERAL cBIT1 c_0 creal_of_num cNUMERAL c_0 c= creal_of_int f1 creal_of_num cNUMERAL c_0 c/\\ c= creal_add creal_mul creal_neg creal_of_num cNUMERAL cBIT1 c_0 creal_of_int f0 creal_add creal_of_int f2 creal_mul creal_neg creal_of_num cNUMERAL cBIT1 c_0 creal_of_int f3 creal_of_num cNUMERAL c_0 creal_ge creal_add creal_mul creal_neg creal_of_num cNUMERAL cBIT1 c_0 creal_of_int f0 creal_add creal_of_int f1 creal_neg creal_of_num cNUMERAL cBIT1 c_0 creal_of_num cNUMERAL c_0\n",
            " & c= c- cSUC f0 cSUC f1 c- f0 f1\n",
            "0 c==> c/\\ creal_ge creal_of_int f0 creal_of_num cNUMERAL c_0 c/\\ creal_ge creal_of_int f1 creal_of_num cNUMERAL c_0 c/\\ creal_ge creal_of_int f2 creal_of_num cNUMERAL c_0 c/\\ creal_ge creal_of_int f3 creal_of_num cNUMERAL c_0 c/\\ c/\\ creal_ge creal_add creal_mul creal_neg creal_of_num cNUMERAL cBIT1 c_0 creal_of_int f2 creal_add creal_of_int f3 creal_neg creal_of_num cNUMERAL cBIT1 c_0 creal_of_num cNUMERAL c_0 c= creal_of_int f1 creal_of_num cNUMERAL c_0 c/\\ c/\\ creal_ge creal_add creal_mul creal_neg creal_of_num cNUMERAL cBIT1 c_0 creal_of_int f2 creal_add creal_of_int f3 creal_neg creal_of_num cNUMERAL cBIT1 c_0 creal_of_num cNUMERAL c_0 c= creal_of_int f0 creal_of_num cNUMERAL c_0 creal_ge creal_add creal_mul creal_neg creal_of_num cNUMERAL cBIT1 c_0 creal_of_int f0 creal_add creal_of_int f1 creal_neg creal_of_num cNUMERAL cBIT1 c_0 creal_of_num cNUMERAL c_0 c/\\ creal_gt creal_of_num cNUMERAL cBIT1 c_0 creal_of_num cNUMERAL c_0 creal_ge creal_add creal_mul creal_neg creal_of_num cNUMERAL cBIT1 c_0 creal_of_int f0 creal_add creal_of_int f1 creal_neg creal_of_num cNUMERAL cBIT1 c_0 creal_of_num cNUMERAL c_0\n",
            " & c= c- cSUC f0 cSUC f1 c- f0 f1\n",
            "1 c==> c\\/ c\\/ c/\\ creal_ge creal_of_int f0 creal_of_num cNUMERAL c_0 c/\\ creal_ge creal_of_int f1 creal_of_num cNUMERAL c_0 c/\\ creal_ge creal_of_int f2 creal_of_num cNUMERAL c_0 c/\\ creal_ge creal_of_int f3 creal_of_num cNUMERAL c_0 c/\\ c= creal_add creal_mul creal_neg creal_of_num cNUMERAL cBIT1 c_0 creal_of_int f1 creal_add creal_of_int f2 creal_mul creal_neg creal_of_num cNUMERAL cBIT1 c_0 creal_of_int f3 creal_of_num cNUMERAL c_0 c/\\ c= creal_add creal_mul creal_neg creal_of_num cNUMERAL cBIT1 c_0 creal_of_int f0 creal_add creal_of_int f2 creal_mul creal_neg creal_of_num cNUMERAL cBIT1 c_0 creal_of_int f3 creal_of_num cNUMERAL c_0 creal_ge creal_add creal_mul creal_neg creal_of_num cNUMERAL cBIT1 c_0 creal_of_int f0 creal_add creal_of_int f1 creal_neg creal_of_num cNUMERAL cBIT1 c_0 creal_of_num cNUMERAL c_0 c/\\ creal_ge creal_of_int f0 creal_of_num cNUMERAL c_0 c/\\ creal_ge creal_of_int f1 creal_of_num cNUMERAL c_0 c/\\ creal_ge creal_of_int f2 creal_of_num cNUMERAL c_0 c/\\ creal_ge creal_of_int f3 creal_of_num cNUMERAL c_0 c/\\ c/\\ creal_ge creal_add creal_mul creal_neg creal_of_num cNUMERAL cBIT1 c_0 creal_of_int f2 creal_add creal_of_int f3 creal_neg creal_of_num cNUMERAL cBIT1 c_0 creal_of_num cNUMERAL c_0 c= creal_of_int f1 creal_of_num cNUMERAL c_0 c/\\ c= creal_add creal_mul creal_neg creal_of_num cNUMERAL cBIT1 c_0 creal_of_int f0 creal_add creal_of_int f2 creal_mul creal_neg creal_of_num cNUMERAL cBIT1 c_0 creal_of_int f3 creal_of_num cNUMERAL c_0 creal_ge creal_add creal_mul creal_neg creal_of_num cNUMERAL cBIT1 c_0 creal_of_int f0 creal_add creal_of_int f1 creal_neg creal_of_num cNUMERAL cBIT1 c_0 creal_of_num cNUMERAL c_0 c\\/ c/\\ creal_ge creal_of_int f0 creal_of_num cNUMERAL c_0 c/\\ creal_ge creal_of_int f1 creal_of_num cNUMERAL c_0 c/\\ creal_ge creal_of_int f2 creal_of_num cNUMERAL c_0 c/\\ creal_ge creal_of_int f3 creal_of_num cNUMERAL c_0 c/\\ c= creal_add creal_mul creal_neg creal_of_num cNUMERAL cBIT1 c_0 creal_of_int f1 creal_add creal_of_int f2 creal_mul creal_neg creal_of_num cNUMERAL cBIT1 c_0 creal_of_int f3 creal_of_num cNUMERAL c_0 c/\\ c/\\ creal_ge creal_add creal_mul creal_neg creal_of_num cNUMERAL cBIT1 c_0 creal_of_int f2 creal_add creal_of_int f3 creal_neg creal_of_num cNUMERAL cBIT1 c_0 creal_of_num cNUMERAL c_0 c= creal_of_int f0 creal_of_num cNUMERAL c_0 creal_ge creal_add creal_mul creal_neg creal_of_num cNUMERAL cBIT1 c_0 creal_of_int f0 creal_add creal_of_int f1 creal_neg creal_of_num cNUMERAL cBIT1 c_0 creal_of_num cNUMERAL c_0 c/\\ creal_ge creal_of_int f0 creal_of_num cNUMERAL c_0 c/\\ creal_ge creal_of_int f1 creal_of_num cNUMERAL c_0 c/\\ creal_ge creal_of_int f2 creal_of_num cNUMERAL c_0 c/\\ creal_ge creal_of_int f3 creal_of_num cNUMERAL c_0 c/\\ c/\\ creal_ge creal_add creal_mul creal_neg creal_of_num cNUMERAL cBIT1 c_0 creal_of_int f2 creal_add creal_of_int f3 creal_neg creal_of_num cNUMERAL cBIT1 c_0 creal_of_num cNUMERAL c_0 c= creal_of_int f1 creal_of_num cNUMERAL c_0 c/\\ c/\\ creal_ge creal_add creal_mul creal_neg creal_of_num cNUMERAL cBIT1 c_0 creal_of_int f2 creal_add creal_of_int f3 creal_neg creal_of_num cNUMERAL cBIT1 c_0 creal_of_num cNUMERAL c_0 c= creal_of_int f0 creal_of_num cNUMERAL c_0 creal_ge creal_add creal_mul creal_neg creal_of_num cNUMERAL cBIT1 c_0 creal_of_int f0 creal_add creal_of_int f1 creal_neg creal_of_num cNUMERAL cBIT1 c_0 creal_of_num cNUMERAL c_0 cF\n",
            " & c= c- cSUC f0 cSUC f1 c- f0 f1\n",
            "1 c==> c/\\ creal_ge creal_of_int f0 creal_of_num cNUMERAL c_0 c/\\ creal_ge creal_of_int f1 creal_of_num cNUMERAL c_0 c/\\ creal_ge creal_of_int f2 creal_of_num cNUMERAL c_0 c/\\ creal_ge creal_of_int f3 creal_of_num cNUMERAL c_0 c/\\ c= creal_add creal_mul creal_neg creal_of_num cNUMERAL cBIT1 c_0 creal_of_int f1 creal_add creal_of_int f2 creal_mul creal_neg creal_of_num cNUMERAL cBIT1 c_0 creal_of_int f3 creal_of_num cNUMERAL c_0 c/\\ c/\\ creal_ge creal_add creal_mul creal_neg creal_of_num cNUMERAL cBIT1 c_0 creal_of_int f2 creal_add creal_of_int f3 creal_neg creal_of_num cNUMERAL cBIT1 c_0 creal_of_num cNUMERAL c_0 c= creal_of_int f0 creal_of_num cNUMERAL c_0 creal_ge creal_add creal_of_int f0 creal_add creal_mul creal_neg creal_of_num cNUMERAL cBIT1 c_0 creal_of_int f1 creal_neg creal_of_num cNUMERAL cBIT1 c_0 creal_of_num cNUMERAL c_0 c/\\ c= creal_add creal_mul creal_neg creal_of_num cNUMERAL cBIT1 c_0 creal_of_int f1 creal_add creal_of_int f2 creal_mul creal_neg creal_of_num cNUMERAL cBIT1 c_0 creal_of_int f3 creal_of_num cNUMERAL c_0 c/\\ c/\\ creal_ge creal_add creal_mul creal_neg creal_of_num cNUMERAL cBIT1 c_0 creal_of_int f2 creal_add creal_of_int f3 creal_neg creal_of_num cNUMERAL cBIT1 c_0 creal_of_num cNUMERAL c_0 c= creal_of_int f0 creal_of_num cNUMERAL c_0 creal_ge creal_add creal_of_int f0 creal_add creal_mul creal_neg creal_of_num cNUMERAL cBIT1 c_0 creal_of_int f1 creal_neg creal_of_num cNUMERAL cBIT1 c_0 creal_of_num cNUMERAL c_0\n",
            " & c= c- cSUC f0 cSUC f1 c- f0 f1\n",
            "('c==> c/\\\\ creal_ge creal_of_int f0 creal_of_num cNUMERAL c_0 c/\\\\ creal_ge creal_of_int f1 creal_of_num cNUMERAL c_0 c/\\\\ creal_ge creal_of_int f2 creal_of_num cNUMERAL c_0 c/\\\\ creal_ge creal_of_int f3 creal_of_num cNUMERAL c_0 c/\\\\ c/\\\\ creal_ge creal_add creal_mul creal_neg creal_of_num cNUMERAL cBIT1 c_0 creal_of_int f2 creal_add creal_of_int f3 creal_neg creal_of_num cNUMERAL cBIT1 c_0 creal_of_num cNUMERAL c_0 c= creal_of_int f1 creal_of_num cNUMERAL c_0 c/\\\\ c/\\\\ creal_ge creal_add creal_mul creal_neg creal_of_num cNUMERAL cBIT1 c_0 creal_of_int f2 creal_add creal_of_int f3 creal_neg creal_of_num cNUMERAL cBIT1 c_0 creal_of_num cNUMERAL c_0 c= creal_of_int f0 creal_of_num cNUMERAL c_0 creal_ge creal_add creal_mul creal_neg creal_of_num cNUMERAL cBIT1 c_0 creal_of_int f0 creal_add creal_of_int f1 creal_neg creal_of_num cNUMERAL cBIT1 c_0 creal_of_num cNUMERAL c_0 c/\\\\ c/\\\\ creal_ge creal_of_int f0 creal_of_num cNUMERAL c_0 c/\\\\ creal_ge creal_of_int f1 creal_of_num cNUMERAL c_0 c/\\\\ creal_ge creal_of_int f2 creal_of_num cNUMERAL c_0 c/\\\\ creal_ge creal_of_int f3 creal_of_num cNUMERAL c_0 c/\\\\ c/\\\\ creal_ge creal_add creal_mul creal_neg creal_of_num cNUMERAL cBIT1 c_0 creal_of_int f2 creal_add creal_of_int f3 creal_neg creal_of_num cNUMERAL cBIT1 c_0 creal_of_num cNUMERAL c_0 c= creal_of_int f1 creal_of_num cNUMERAL c_0 c/\\\\ c/\\\\ creal_ge creal_add creal_mul creal_neg creal_of_num cNUMERAL cBIT1 c_0 creal_of_int f2 creal_add creal_of_int f3 creal_neg creal_of_num cNUMERAL cBIT1 c_0 creal_of_num cNUMERAL c_0 c= creal_of_int f0 creal_of_num cNUMERAL c_0 creal_ge creal_add creal_mul creal_neg creal_of_num cNUMERAL cBIT1 c_0 creal_of_int f0 creal_add creal_of_int f1 creal_neg creal_of_num cNUMERAL cBIT1 c_0 creal_of_num cNUMERAL c_0 cF\\n & c= c- cSUC f0 cSUC f1 c- f0 f1', 1)\n",
            "('c==> c/\\\\ creal_ge creal_of_int f0 creal_of_num cNUMERAL c_0 c/\\\\ creal_ge creal_of_int f1 creal_of_num cNUMERAL c_0 c/\\\\ creal_ge creal_of_int f2 creal_of_num cNUMERAL c_0 c/\\\\ creal_ge creal_of_int f3 creal_of_num cNUMERAL c_0 c/\\\\ c/\\\\ creal_ge creal_add creal_mul creal_neg creal_of_num cNUMERAL cBIT1 c_0 creal_of_int f2 creal_add creal_of_int f3 creal_neg creal_of_num cNUMERAL cBIT1 c_0 creal_of_num cNUMERAL c_0 c= creal_of_int f1 creal_of_num cNUMERAL c_0 c/\\\\ c= creal_add creal_mul creal_neg creal_of_num cNUMERAL cBIT1 c_0 creal_of_int f0 creal_add creal_of_int f2 creal_mul creal_neg creal_of_num cNUMERAL cBIT1 c_0 creal_of_int f3 creal_of_num cNUMERAL c_0 creal_ge creal_add creal_of_int f0 creal_add creal_mul creal_neg creal_of_num cNUMERAL cBIT1 c_0 creal_of_int f1 creal_neg creal_of_num cNUMERAL cBIT1 c_0 creal_of_num cNUMERAL c_0 creal_ge creal_add creal_add creal_mul creal_neg creal_of_num cNUMERAL cBIT1 c_0 creal_of_int f0 creal_add creal_of_int f2 creal_mul creal_neg creal_of_num cNUMERAL cBIT1 c_0 creal_of_int f3 creal_add creal_mul creal_neg creal_of_num cNUMERAL cBIT1 c_0 creal_of_int f2 creal_add creal_of_int f3 creal_neg creal_of_num cNUMERAL cBIT1 c_0 creal_of_num cNUMERAL c_0\\n & c= c- cSUC f0 cSUC f1 c- f0 f1', 1)\n",
            "('c==> c/\\\\ creal_ge creal_of_int f0 creal_of_num cNUMERAL c_0 c/\\\\ creal_ge creal_of_int f1 creal_of_num cNUMERAL c_0 c/\\\\ c/\\\\ creal_ge creal_neg creal_of_num cNUMERAL cBIT1 c_0 creal_of_num cNUMERAL c_0 c= creal_of_int f0 creal_of_num cNUMERAL c_0 creal_ge creal_add creal_of_int f0 creal_neg creal_of_num cNUMERAL cBIT1 c_0 creal_of_num cNUMERAL c_0 c= c==> ! c= creal_mul b0 creal_of_int f0 creal_of_num cNUMERAL c_0 * / c= creal_mul b0 creal_of_int f0 creal_of_num cNUMERAL c_0 creal_neg creal_of_num cNUMERAL cBIT1 c_0 * / c= creal_mul b0 creal_of_int f0 creal_of_num cNUMERAL c_0 creal_neg creal_of_num cNUMERAL cBIT1 c_0\\n & c= c- cSUC f0 cSUC f1 c- f0 f1', 0)\n",
            "('c==> c/\\\\ creal_ge creal_of_int f0 creal_of_num cNUMERAL c_0 c/\\\\ creal_ge creal_of_int f1 creal_of_num cNUMERAL c_0 c/\\\\ creal_ge creal_of_int f2 creal_of_num cNUMERAL c_0 c/\\\\ creal_ge creal_of_int f3 creal_of_num cNUMERAL c_0 c/\\\\ c/\\\\ creal_ge creal_add creal_mul creal_neg creal_of_num cNUMERAL cBIT1 c_0 creal_of_int f2 creal_add creal_of_int f3 creal_neg creal_of_num cNUMERAL cBIT1 c_0 creal_of_num cNUMERAL c_0 c= creal_of_int f1 creal_of_num cNUMERAL c_0 c/\\\\ c= creal_add creal_mul creal_neg creal_of_num cNUMERAL cBIT1 c_0 creal_of_int f0 creal_add creal_of_int f2 creal_mul creal_neg creal_of_num cNUMERAL cBIT1 c_0 creal_of_int f3 creal_of_num cNUMERAL c_0 creal_ge creal_add creal_of_int f0 creal_add creal_mul creal_neg creal_of_num cNUMERAL cBIT1 c_0 creal_of_int f1 creal_neg creal_of_num cNUMERAL cBIT1 c_0 creal_of_num cNUMERAL c_0 c= c==> ! c= creal_mul b0 creal_of_int f1 creal_of_num cNUMERAL c_0 * / c= creal_mul b0 creal_of_int f1 creal_of_num cNUMERAL c_0 creal_of_num cNUMERAL cBIT1 c_0 * / c= creal_mul b0 creal_of_int f1 creal_of_num cNUMERAL c_0 creal_of_num cNUMERAL cBIT1 c_0\\n & c= c- cSUC f0 cSUC f1 c- f0 f1', 0)\n",
            "('c==> c/\\\\ creal_ge creal_of_int f0 creal_of_num cNUMERAL c_0 c/\\\\ creal_ge creal_of_int f1 creal_of_num cNUMERAL c_0 c/\\\\ creal_ge creal_of_int f2 creal_of_num cNUMERAL c_0 c/\\\\ creal_ge creal_of_int f3 creal_of_num cNUMERAL c_0 c/\\\\ c= creal_add creal_mul creal_neg creal_of_num cNUMERAL cBIT1 c_0 creal_of_int f1 creal_add creal_of_int f2 creal_mul creal_neg creal_of_num cNUMERAL cBIT1 c_0 creal_of_int f3 creal_of_num cNUMERAL c_0 c/\\\\ c/\\\\ creal_ge creal_add creal_mul creal_neg creal_of_num cNUMERAL cBIT1 c_0 creal_of_int f2 creal_add creal_of_int f3 creal_neg creal_of_num cNUMERAL cBIT1 c_0 creal_of_num cNUMERAL c_0 c= creal_of_int f0 creal_of_num cNUMERAL c_0 creal_ge creal_add creal_mul creal_neg creal_of_num cNUMERAL cBIT1 c_0 creal_of_int f0 creal_add creal_of_int f1 creal_neg creal_of_num cNUMERAL cBIT1 c_0 creal_of_num cNUMERAL c_0 creal_ge creal_add creal_of_int f0 creal_add creal_mul creal_neg creal_of_num cNUMERAL cBIT1 c_0 creal_of_int f0 creal_add creal_of_int f1 creal_neg creal_of_num cNUMERAL cBIT1 c_0 creal_of_num cNUMERAL c_0\\n & c= c- cSUC f0 cSUC f1 c- f0 f1', 1)\n",
            "('c= c= f0 f1 c= cint_of_num f0 cint_of_num f1\\n & c= c- cSUC f0 cSUC f1 c- f0 f1', 1)\n",
            "('c==> c/\\\\ creal_ge creal_of_int f0 creal_of_num cNUMERAL c_0 c/\\\\ creal_ge creal_of_int f1 creal_of_num cNUMERAL c_0 c/\\\\ creal_ge creal_of_int f2 creal_of_num cNUMERAL c_0 c/\\\\ creal_ge creal_of_int f3 creal_of_num cNUMERAL c_0 c/\\\\ c/\\\\ creal_ge creal_add creal_mul creal_neg creal_of_num cNUMERAL cBIT1 c_0 creal_of_int f2 creal_add creal_of_int f3 creal_neg creal_of_num cNUMERAL cBIT1 c_0 creal_of_num cNUMERAL c_0 c= creal_of_int f1 creal_of_num cNUMERAL c_0 c/\\\\ c= creal_add creal_mul creal_neg creal_of_num cNUMERAL cBIT1 c_0 creal_of_int f0 creal_add creal_of_int f2 creal_mul creal_neg creal_of_num cNUMERAL cBIT1 c_0 creal_of_int f3 creal_of_num cNUMERAL c_0 creal_ge creal_add creal_mul creal_neg creal_of_num cNUMERAL cBIT1 c_0 creal_of_int f0 creal_add creal_of_int f1 creal_neg creal_of_num cNUMERAL cBIT1 c_0 creal_of_num cNUMERAL c_0 c/\\\\ creal_ge creal_of_int f2 creal_of_num cNUMERAL c_0 c/\\\\ creal_ge creal_of_int f3 creal_of_num cNUMERAL c_0 c/\\\\ c/\\\\ creal_ge creal_add creal_mul creal_neg creal_of_num cNUMERAL cBIT1 c_0 creal_of_int f2 creal_add creal_of_int f3 creal_neg creal_of_num cNUMERAL cBIT1 c_0 creal_of_num cNUMERAL c_0 c= creal_of_int f1 creal_of_num cNUMERAL c_0 c/\\\\ c= creal_add creal_mul creal_neg creal_of_num cNUMERAL cBIT1 c_0 creal_of_int f0 creal_add creal_of_int f2 creal_mul creal_neg creal_of_num cNUMERAL cBIT1 c_0 creal_of_int f3 creal_of_num cNUMERAL c_0 creal_ge creal_add creal_mul creal_neg creal_of_num cNUMERAL cBIT1 c_0 creal_of_int f0 creal_add creal_of_int f1 creal_neg creal_of_num cNUMERAL cBIT1 c_0 creal_of_num cNUMERAL c_0\\n & c= c- cSUC f0 cSUC f1 c- f0 f1', 1)\n",
            "('c==> c/\\\\ creal_ge creal_of_int f0 creal_of_num cNUMERAL c_0 c/\\\\ creal_ge creal_of_int f1 creal_of_num cNUMERAL c_0 c/\\\\ creal_ge creal_of_int f2 creal_of_num cNUMERAL c_0 c/\\\\ creal_ge creal_of_int f3 creal_of_num cNUMERAL c_0 c/\\\\ c/\\\\ creal_ge creal_add creal_mul creal_neg creal_of_num cNUMERAL cBIT1 c_0 creal_of_int f2 creal_add creal_of_int f3 creal_neg creal_of_num cNUMERAL cBIT1 c_0 creal_of_num cNUMERAL c_0 c= creal_of_int f1 creal_of_num cNUMERAL c_0 c/\\\\ c/\\\\ creal_ge creal_add creal_mul creal_neg creal_of_num cNUMERAL cBIT1 c_0 creal_of_int f2 creal_add creal_of_int f3 creal_neg creal_of_num cNUMERAL cBIT1 c_0 creal_of_num cNUMERAL c_0 c= creal_of_int f0 creal_of_num cNUMERAL c_0 creal_ge creal_add creal_mul creal_neg creal_of_num cNUMERAL cBIT1 c_0 creal_of_int f0 creal_add creal_of_int f1 creal_neg creal_of_num cNUMERAL cBIT1 c_0 creal_of_num cNUMERAL c_0 c/\\\\ creal_gt creal_of_num cNUMERAL cBIT1 c_0 creal_of_num cNUMERAL c_0 creal_ge creal_add creal_mul creal_neg creal_of_num cNUMERAL cBIT1 c_0 creal_of_int f0 creal_add creal_of_int f1 creal_neg creal_of_num cNUMERAL cBIT1 c_0 creal_of_num cNUMERAL c_0\\n & c= c- cSUC f0 cSUC f1 c- f0 f1', 0)\n",
            "('c==> c\\\\/ c\\\\/ c/\\\\ creal_ge creal_of_int f0 creal_of_num cNUMERAL c_0 c/\\\\ creal_ge creal_of_int f1 creal_of_num cNUMERAL c_0 c/\\\\ creal_ge creal_of_int f2 creal_of_num cNUMERAL c_0 c/\\\\ creal_ge creal_of_int f3 creal_of_num cNUMERAL c_0 c/\\\\ c= creal_add creal_mul creal_neg creal_of_num cNUMERAL cBIT1 c_0 creal_of_int f1 creal_add creal_of_int f2 creal_mul creal_neg creal_of_num cNUMERAL cBIT1 c_0 creal_of_int f3 creal_of_num cNUMERAL c_0 c/\\\\ c= creal_add creal_mul creal_neg creal_of_num cNUMERAL cBIT1 c_0 creal_of_int f0 creal_add creal_of_int f2 creal_mul creal_neg creal_of_num cNUMERAL cBIT1 c_0 creal_of_int f3 creal_of_num cNUMERAL c_0 creal_ge creal_add creal_mul creal_neg creal_of_num cNUMERAL cBIT1 c_0 creal_of_int f0 creal_add creal_of_int f1 creal_neg creal_of_num cNUMERAL cBIT1 c_0 creal_of_num cNUMERAL c_0 c/\\\\ creal_ge creal_of_int f0 creal_of_num cNUMERAL c_0 c/\\\\ creal_ge creal_of_int f1 creal_of_num cNUMERAL c_0 c/\\\\ creal_ge creal_of_int f2 creal_of_num cNUMERAL c_0 c/\\\\ creal_ge creal_of_int f3 creal_of_num cNUMERAL c_0 c/\\\\ c/\\\\ creal_ge creal_add creal_mul creal_neg creal_of_num cNUMERAL cBIT1 c_0 creal_of_int f2 creal_add creal_of_int f3 creal_neg creal_of_num cNUMERAL cBIT1 c_0 creal_of_num cNUMERAL c_0 c= creal_of_int f1 creal_of_num cNUMERAL c_0 c/\\\\ c= creal_add creal_mul creal_neg creal_of_num cNUMERAL cBIT1 c_0 creal_of_int f0 creal_add creal_of_int f2 creal_mul creal_neg creal_of_num cNUMERAL cBIT1 c_0 creal_of_int f3 creal_of_num cNUMERAL c_0 creal_ge creal_add creal_mul creal_neg creal_of_num cNUMERAL cBIT1 c_0 creal_of_int f0 creal_add creal_of_int f1 creal_neg creal_of_num cNUMERAL cBIT1 c_0 creal_of_num cNUMERAL c_0 c\\\\/ c/\\\\ creal_ge creal_of_int f0 creal_of_num cNUMERAL c_0 c/\\\\ creal_ge creal_of_int f1 creal_of_num cNUMERAL c_0 c/\\\\ creal_ge creal_of_int f2 creal_of_num cNUMERAL c_0 c/\\\\ creal_ge creal_of_int f3 creal_of_num cNUMERAL c_0 c/\\\\ c= creal_add creal_mul creal_neg creal_of_num cNUMERAL cBIT1 c_0 creal_of_int f1 creal_add creal_of_int f2 creal_mul creal_neg creal_of_num cNUMERAL cBIT1 c_0 creal_of_int f3 creal_of_num cNUMERAL c_0 c/\\\\ c/\\\\ creal_ge creal_add creal_mul creal_neg creal_of_num cNUMERAL cBIT1 c_0 creal_of_int f2 creal_add creal_of_int f3 creal_neg creal_of_num cNUMERAL cBIT1 c_0 creal_of_num cNUMERAL c_0 c= creal_of_int f0 creal_of_num cNUMERAL c_0 creal_ge creal_add creal_mul creal_neg creal_of_num cNUMERAL cBIT1 c_0 creal_of_int f0 creal_add creal_of_int f1 creal_neg creal_of_num cNUMERAL cBIT1 c_0 creal_of_num cNUMERAL c_0 c/\\\\ creal_ge creal_of_int f0 creal_of_num cNUMERAL c_0 c/\\\\ creal_ge creal_of_int f1 creal_of_num cNUMERAL c_0 c/\\\\ creal_ge creal_of_int f2 creal_of_num cNUMERAL c_0 c/\\\\ creal_ge creal_of_int f3 creal_of_num cNUMERAL c_0 c/\\\\ c/\\\\ creal_ge creal_add creal_mul creal_neg creal_of_num cNUMERAL cBIT1 c_0 creal_of_int f2 creal_add creal_of_int f3 creal_neg creal_of_num cNUMERAL cBIT1 c_0 creal_of_num cNUMERAL c_0 c= creal_of_int f1 creal_of_num cNUMERAL c_0 c/\\\\ c/\\\\ creal_ge creal_add creal_mul creal_neg creal_of_num cNUMERAL cBIT1 c_0 creal_of_int f2 creal_add creal_of_int f3 creal_neg creal_of_num cNUMERAL cBIT1 c_0 creal_of_num cNUMERAL c_0 c= creal_of_int f0 creal_of_num cNUMERAL c_0 creal_ge creal_add creal_mul creal_neg creal_of_num cNUMERAL cBIT1 c_0 creal_of_int f0 creal_add creal_of_int f1 creal_neg creal_of_num cNUMERAL cBIT1 c_0 creal_of_num cNUMERAL c_0 cF\\n & c= c- cSUC f0 cSUC f1 c- f0 f1', 1)\n",
            "('c==> c/\\\\ creal_ge creal_of_int f0 creal_of_num cNUMERAL c_0 c/\\\\ creal_ge creal_of_int f1 creal_of_num cNUMERAL c_0 c/\\\\ creal_ge creal_of_int f2 creal_of_num cNUMERAL c_0 c/\\\\ creal_ge creal_of_int f3 creal_of_num cNUMERAL c_0 c/\\\\ c= creal_add creal_mul creal_neg creal_of_num cNUMERAL cBIT1 c_0 creal_of_int f1 creal_add creal_of_int f2 creal_mul creal_neg creal_of_num cNUMERAL cBIT1 c_0 creal_of_int f3 creal_of_num cNUMERAL c_0 c/\\\\ c/\\\\ creal_ge creal_add creal_mul creal_neg creal_of_num cNUMERAL cBIT1 c_0 creal_of_int f2 creal_add creal_of_int f3 creal_neg creal_of_num cNUMERAL cBIT1 c_0 creal_of_num cNUMERAL c_0 c= creal_of_int f0 creal_of_num cNUMERAL c_0 creal_ge creal_add creal_of_int f0 creal_add creal_mul creal_neg creal_of_num cNUMERAL cBIT1 c_0 creal_of_int f1 creal_neg creal_of_num cNUMERAL cBIT1 c_0 creal_of_num cNUMERAL c_0 c/\\\\ c= creal_add creal_mul creal_neg creal_of_num cNUMERAL cBIT1 c_0 creal_of_int f1 creal_add creal_of_int f2 creal_mul creal_neg creal_of_num cNUMERAL cBIT1 c_0 creal_of_int f3 creal_of_num cNUMERAL c_0 c/\\\\ c/\\\\ creal_ge creal_add creal_mul creal_neg creal_of_num cNUMERAL cBIT1 c_0 creal_of_int f2 creal_add creal_of_int f3 creal_neg creal_of_num cNUMERAL cBIT1 c_0 creal_of_num cNUMERAL c_0 c= creal_of_int f0 creal_of_num cNUMERAL c_0 creal_ge creal_add creal_of_int f0 creal_add creal_mul creal_neg creal_of_num cNUMERAL cBIT1 c_0 creal_of_int f1 creal_neg creal_of_num cNUMERAL cBIT1 c_0 creal_of_num cNUMERAL c_0\\n & c= c- cSUC f0 cSUC f1 c- f0 f1', 1)\n"
          ]
        },
        {
          "output_type": "execute_result",
          "data": {
            "text/plain": [
              "540"
            ]
          },
          "metadata": {},
          "execution_count": 2
        }
      ],
      "source": [
        "examples = []\n",
        "header = True\n",
        "\n",
        "with open(\"data/00001\", \"r\") as f:\n",
        "  counter = 0\n",
        "  clause = \"\"\n",
        "  for line in f:\n",
        "    counter += 1\n",
        "    if line[0] == \"T\" and counter == 3:\n",
        "      clause = line[2:]\n",
        "    if line[0] in \"+-\":\n",
        "      header = False\n",
        "      label = 0 if line[0] == \"-\" else 1\n",
        "    elif not header:\n",
        "      clause_steps = line[2:]+ \" & \" + clause \n",
        "      #print(clause_steps)\n",
        "      examples.append((clause_steps.strip(),label))\n",
        "      \n",
        "for e,(example,label) in enumerate(examples[:10]):\n",
        "  print(label, example)\n",
        "for i in range(10):\n",
        "  print(examples[i])\n",
        "len(examples)"
      ]
    },
    {
      "cell_type": "code",
      "execution_count": null,
      "metadata": {
        "colab": {
          "base_uri": "https://localhost:8080/"
        },
        "id": "qqgNfQ8lsgn4",
        "outputId": "728d2afd-9c79-4190-b274-62488905d556"
      },
      "outputs": [
        {
          "output_type": "stream",
          "name": "stdout",
          "text": [
            "00017\n",
            "00007\n",
            "00010\n",
            "00004\n",
            "00014\n",
            "00009\n",
            "00011\n",
            "00008\n",
            "00002\n",
            "00012\n",
            "00005\n",
            "00013\n",
            "00006\n",
            "00001\n",
            "00003\n",
            "00015\n",
            "00016\n"
          ]
        },
        {
          "output_type": "execute_result",
          "data": {
            "text/plain": [
              "6284"
            ]
          },
          "metadata": {},
          "execution_count": 3
        }
      ],
      "source": [
        "import os \n",
        "\n",
        "examples = []\n",
        "\n",
        "for file in os.listdir(\"data/\"):\n",
        "  filename = os.fsdecode(file)\n",
        "  print(filename)\n",
        "  header = True\n",
        "  path = \"data/\" + filename\n",
        "  with open(path, \"r\") as f:\n",
        "    counter = 0\n",
        "    clause = \"\"\n",
        "    for line in f:\n",
        "      counter += 1\n",
        "      if line[0] == \"T\" and counter == 3:\n",
        "        clause = line[2:]\n",
        "      if line[0] in \"+-\":\n",
        "        header = False\n",
        "        label = 0 if line[0] == \"-\" else 1\n",
        "      elif not header:\n",
        "        clause_steps = line[2:]+ \" & \" + clause\n",
        "        #print(clause_steps)\n",
        "        examples.append((clause_steps,label))\n",
        "'''      \n",
        "for e,(example,label) in enumerate(examples[:10]):\n",
        "  print(label,example[:100])\n",
        "'''\n",
        "src = []\n",
        "dst = []\n",
        "for ex,l in examples:\n",
        "  src.append(ex)\n",
        "  dst.append(l)\n",
        "len(src)\n",
        "len(dst)"
      ]
    },
    {
      "cell_type": "code",
      "execution_count": null,
      "metadata": {
        "colab": {
          "base_uri": "https://localhost:8080/"
        },
        "id": "JY79W1PQyc1l",
        "outputId": "f6cff562-df5d-40be-c282-57f0b2ca79e2"
      },
      "outputs": [
        {
          "output_type": "stream",
          "name": "stdout",
          "text": [
            "abcdefghijklmnopqrstuvwxyABCDEFGHIJKLMNOPQRSTUVWXY_\n",
            "['c', '=', 'cderived_form', 'c', '/', '\\\\', 'c', '/', '\\\\', 'cT', 'cT', 'cT', '', '/', 'creal_mul', '', '*', '', '/', 'creal_mul', '', '*', '', '/', 'b', '1', 'b', '1', '', '*', '', '/', 'b', '1', 'b', '1', 'b', '0', '', '*', '', '/', 'creal_mul', 'creal_mul', 'f', '0', 'f', '0', 'creal_mul', 'f', '1', 'f', '1', 'b', '0', 'creal_add', 'creal_mul', '', '*', '', '/', 'creal_mul', '', '*', '', '/', 'b', '1', 'b', '0', '', '*', '', '/', 'b', '1', 'b', '0', 'f', '2', 'creal_of_num', 'cNUMERAL', 'c_', '0', 'creal_mul', 'creal_add', 'creal_mul', '', '*', '', '/', 'b', '0', 'f', '2', 'creal_of_num', 'cNUMERAL', 'cBIT', '1', 'c_', '0', 'creal_mul', 'creal_of_num', 'cNUMERAL', 'cBIT', '1', 'c_', '0', '', '*', '', '/', 'b', '0', 'f', '2', '', '*', '', '/', 'creal_mul', 'creal_mul', 'f', '0', 'f', '0', 'creal_mul', 'f', '1', 'f', '1', 'f', '2', 'f', '2', 'part', 'cUNIV', 'c', '/', '\\\\', 'cderived_form', 'c', '/', '\\\\', 'c', '/', '\\\\', 'c', '/', '\\\\', 'c', '/', '\\\\', 'cT', 'c', '/', '\\\\', 'cT', 'c', '/', '\\\\', 'cT', 'c', '/', '\\\\', 'cT', 'c', '/', '\\\\', 'c', '/', '\\\\', 'cT', 'cT', 'cT', 'c', '/', '\\\\', 'cT', 'c', '/', '\\\\', 'cT', 'c', '/', '\\\\', 'cT', 'cT', 'cT', 'cT', '', '/', 'creal_sub', '', '*', '', '/', 'creal_sub', '', '*', '', '/', 'creal_sub', '', '*', '', '/', 'creal_mul', '', '*', '', '/', 'creal_mul', 'f', '3', 'f', '3', 'b', '1', '', '*', '', '/', 'creal_mul', '', '*', '', '/', 'creal_mul', 'f', '1', 'f', '1', 'b', '1', '', '*', '', '/', 'creal_add', '', '*', '', '/', 'creal_mul', 'f', '4', 'f', '4', 'b', '1', '', '*', '', '/', 'creal_add', '', '*', '', '/', 'creal_sub', 'creal_mul', 'f', '5', 'f', '5', 'creal_mul', 'f', '3', 'f', '3', 'b', '1', '', '*', '', '/', 'creal_add', '', '*', '', '/', 'creal_mul', '', '*', '', '/', 'b', '1', 'b', '1', '', '*', '', '/', 'b', '1', 'b', '1', 'b', '1', '', '*', '', '/', 'creal_sub', 'creal_mul', 'f', '0', 'f', '0', 'creal_mul', 'f', '1', 'f', '1', 'b', '1', 'b', '1', 'b', '1', 'b', '1', 'b', '1', 'b', '1', '', '*', '', '/', 'creal_mul', '', '*', '', '/', 'creal_mul', 'f', '5', 'f', '5', 'b', '1', '', '*', '', '/', 'creal_mul', '', '*', '', '/', 'creal_mul', 'f', '3', 'f', '3', 'b', '1', '', '*', '', '/', 'creal_mul', '', '*', '', '/', 'b', '1', 'b', '1', '', '*', '', '/', 'b', '1', 'b', '1', 'b', '1', 'b', '1', 'b', '1', 'b', '1', '', '*', '', '/', 'creal_mul', 'creal_mul', 'f', '4', 'f', '4', 'creal_mul', 'creal_mul', 'f', '3', 'f', '3', 'creal_mul', 'f', '0', 'f', '0', 'b', '1', 'b', '0', '', '*', '', '/', 'creal_mul', 'creal_mul', 'f', '4', 'f', '4', 'creal_mul', 'creal_mul', 'f', '5', 'f', '5', 'creal_mul', 'f', '1', 'f', '1', 'b', '0', 'creal_sub', 'creal_sub', 'creal_sub', 'creal_add', 'creal_mul', '', '*', '', '/', 'creal_mul', 'f', '3', 'f', '3', 'f', '2', 'creal_add', 'creal_mul', '', '*', '', '/', 'creal_mul', 'f', '1', 'f', '1', 'f', '2', 'creal_add', 'creal_of_num', 'cNUMERAL', 'c_', '0', 'creal_add', 'creal_of_num', 'cNUMERAL', 'c_', '0', 'creal_add', 'creal_add', 'creal_mul', '', '*', '', '/', 'b', '0', 'f', '2', 'creal_of_num', 'cNUMERAL', 'cBIT', '1', 'c_', '0', 'creal_mul', 'creal_of_num', 'cNUMERAL', 'cBIT', '1', 'c_', '0', '', '*', '', '/', 'b', '0', 'f', '2', 'creal_of_num', 'cNUMERAL', 'c_', '0', 'creal_mul', 'creal_of_num', 'cNUMERAL', 'c_', '0', '', '*', '', '/', 'creal_add', '', '*', '', '/', 'creal_mul', 'f', '4', 'f', '4', 'b', '0', '', '*', '', '/', 'creal_add', '', '*', '', '/', 'creal_sub', 'creal_mul', 'f', '5', 'f', '5', 'creal_mul', 'f', '3', 'f', '3', 'b', '1', '', '*', '', '/', 'creal_add', '', '*', '', '/', 'creal_mul', '', '*', '', '/', 'b', '1', 'b', '1', '', '*', '', '/', 'b', '1', 'b', '1', 'b', '1', '', '*', '', '/', 'creal_sub', 'creal_mul', 'f', '0', 'f', '0', 'creal_mul', 'f', '1', 'f', '1', 'b', '1', 'b', '1', 'b', '0', 'f', '2', 'creal_mul', 'creal_of_num', 'cNUMERAL', 'c_', '0', '', '*', '', '/', 'creal_mul', '', '*', '', '/', 'creal_mul', 'f', '1', 'f', '1', 'b', '0', '', '*', '', '/', 'creal_add', '', '*', '', '/', 'creal_mul', 'f', '4', 'f', '4', 'b', '1', '', '*', '', '/', 'creal_add', '', '*', '', '/', 'creal_sub', 'creal_mul', 'f', '5', 'f', '5', 'creal_mul', 'f', '3', 'f', '3', 'b', '1', '', '*', '', '/', 'creal_add', '', '*', '', '/', 'creal_mul', '', '*', '', '/', 'b', '1', 'b', '1', '', '*', '', '/', 'b', '1', 'b', '1', 'b', '1', '', '*', '', '/', 'creal_sub', 'creal_mul', 'f', '0', 'f', '0', 'creal_mul', 'f', '1', 'f', '1', 'b', '1', 'b', '1', 'b', '1', 'b', '0', 'f', '2', 'creal_add', 'creal_mul', '', '*', '', '/', 'creal_mul', 'f', '5', 'f', '5', 'f', '2', 'creal_add', 'creal_mul', '', '*', '', '/', 'creal_mul', 'f', '3', 'f', '3', 'f', '2', 'creal_add', 'creal_mul', '', '*', '', '/', 'b', '0', 'f', '2', 'creal_of_num', 'cNUMERAL', 'cBIT', '1', 'c_', '0', 'creal_mul', 'creal_of_num', 'cNUMERAL', 'cBIT', '1', 'c_', '0', '', '*', '', '/', 'b', '0', 'f', '2', 'creal_mul', 'creal_of_num', 'cNUMERAL', 'c_', '0', '', '*', '', '/', 'creal_mul', '', '*', '', '/', 'b', '1', 'b', '0', '', '*', '', '/', 'b', '1', 'b', '0', 'f', '2', 'creal_mul', 'creal_of_num', 'cNUMERAL', 'c_', '0', '', '*', '', '/', 'creal_mul', '', '*', '', '/', 'creal_mul', 'f', '3', 'f', '3', 'b', '0', '', '*', '', '/', 'creal_mul', '', '*', '', '/', 'b', '1', 'b', '1', '', '*', '', '/', 'b', '1', 'b', '1', 'b', '0', 'f', '2', 'creal_of_num', 'cNUMERAL', 'c_', '0', 'creal_of_num', 'cNUMERAL', 'c_', '0', 'f', '2', 'part', 'cUNIV', 'cderived_form', 'c', '/', '\\\\', 'c', '/', '\\\\', 'cT', 'cT', 'cT', '', '/', 'creal_mul', '', '*', '', '/', 'creal_mul', '', '*', '', '/', 'b', '1', 'b', '1', '', '*', '', '/', 'b', '1', 'b', '1', 'b', '0', '', '*', '', '/', 'creal_mul', 'creal_mul', 'f', '0', 'f', '0', 'creal_mul', 'f', '1', 'f', '1', 'b', '0', 'creal_add', 'creal_mul', '', '*', '', '/', 'creal_mul', '', '*', '', '/', 'b', '1', 'b', '0', '', '*', '', '/', 'b', '1', 'b', '0', 'f', '2', 'creal_of_num', 'cNUMERAL', 'c_', '0', 'creal_mul', 'creal_add', 'creal_mul', '', '*', '', '/', 'b', '0', 'f', '2', 'creal_of_num', 'cNUMERAL', 'cBIT', '1', 'c_', '0', 'creal_mul', 'creal_of_num', 'cNUMERAL', 'cBIT', '1', 'c_', '0', '', '*', '', '/', 'b', '0', 'f', '2', '', '*', '', '/', 'creal_mul', 'creal_mul', 'f', '0', 'f', '0', 'creal_mul', 'f', '1', 'f', '1', 'f', '2', 'f', '2', 'part', 'cUNIV', '', '', '&', 'creal_open', '', '*', 'part', 'cGSPEC', '', '/', 'c', '?', '', '/', 'cSETSPEC', 'b', '0', 'c', '/', '\\\\', 'creal_lt', 'creal_of_num', 'cNUMERAL', 'c_', '0', 'b', '1', 'creal_lt', 'creal_of_num', 'cNUMERAL', 'c_', '0', 'cdelta_y', 'f', '0', 'f', '1', 'f', '2', 'b', '1', 'f', '3', 'f', '4', 'b', '1', '']\n"
          ]
        }
      ],
      "source": [
        "chrs = \"\".join([chr(c) for c in range(ord(\"a\"), ord(\"z\"))] + [chr(c) for c in range(ord(\"A\"), ord(\"Z\"))] + [\"_\"])\n",
        "print(chrs)\n",
        "\n",
        "def parse(line):\n",
        "  tokens = []\n",
        "  token = \"\"\n",
        "  for c in line:\n",
        "    if c in chrs: token += c\n",
        "    else:\n",
        "      tokens.append(token.lstrip())\n",
        "      token = c\n",
        "  tokens.append(token.lstrip())\n",
        "  return tokens\n",
        "\n",
        "print(parse(examples[0][0]))"
      ]
    },
    {
      "cell_type": "code",
      "execution_count": null,
      "metadata": {
        "colab": {
          "base_uri": "https://localhost:8080/"
        },
        "id": "TUqbbmcwzqyG",
        "outputId": "49e48e2d-ba89-44d2-b92d-bc123f9dc33e"
      },
      "outputs": [
        {
          "output_type": "stream",
          "name": "stdout",
          "text": [
            "{'': 0, 'cflag_list': 1, '6I': 2, 'cis_loop': 3, 'creal_lt': 4, 'creal_of_int': 5, 'crotate_to': 6, 'cAPPEND': 7, '1': 8, 'ctransform_assumption_v': 9, 'cball_annulus': 10, 'cfunlistA_v': 11, 'cfilter': 12, 'cUNIV': 13, 'cn_list': 14, 'cis_restricted': 15, 'co': 16, 'cREVERSE': 17, 'creal': 18, 'cwedge': 19, 'cvector_sub': 20, 'cUNION': 21, 'cGEQ': 22, \"'y\": 23, 'casn': 24, '4I': 25, 'cscs_am_v': 26, 'ccontent': 27, 'creal_abs': 28, '4': 29, '7': 30, 'creal_max': 31, 'cLET_END': 32, 'cf_list': 33, 'cSUBSET': 34, '\\\\': 35, 'cmap': 36, 'cNUMERAL': 37, 'cscs_diag': 38, 'ccstab': 39, 'cmonoidal': 40, 'csi': 41, 'cclosed_interval': 42, 'cMEM': 43, '5': 44, 'cLAST': 45, 'cSUC': 46, '>': 47, 'cPOWER': 48, 'cSETSPEC': 49, 'cset_of_list': 50, 'creal_continuous': 51, 'cEMPTY': 52, 'cpsort': 53, 'catreal': 54, '3M': 55, '3': 56, 'crtrans': 57, '!': 58, 'cloop_list': 59, '5T': 60, 'cloop_map': 61, 'cINSERT': 62, 'cnormal_list': 63, 'csin': 64, 'creal_sub': 65, 'cGSPEC': 66, 'creal_add': 67, 'ccnj': 68, '4T': 69, 'cint_add': 70, '2': 71, 'cMMs_v': 72, '6T': 73, 'creal_min': 74, 'cbetwn': 75, 'cDECIMAL': 76, 'cscs_d_v': 77, '?': 78, 'cJEJTVGB_assume_v': 79, 'cDIFF': 80, 'cLET': 81, 'cs_init_list_v': 82, 'cODD': 83, 'cT': 84, '+': 85, 'cflatten': 86, 'cvector_norm': 87, 'cGABS': 88, '3T': 89, 'cscs_basic_v': 90, 'chas_integral': 91, 'cgood_list': 92, 'ztrans': 93, 'ce_list': 94, 'cNIL': 95, 'cis_contour': 96, 'chas_real_derivative': 97, 'creal_ge': 98, 'cPRE': 99, 'cscs_k_v': 100, '=': 101, 'cCARD': 102, 'cCOND': 103, 'cntrans': 104, 'cLENGTH': 105, 'cASSOCD_v': 106, 'creal_continuous_on': 107, 'copen_real_interval': 108, 'cmain_nonlinear_terminal_v': 109, 'call': 110, '4M': 111, 'cBIT': 112, 'cfunlist_v': 113, 'codd': 114, 'cwedge_ge': 115, 'c': 116, 'ctruncate_simplex': 117, 'ctgt': 118, 'cat': 119, '-': 120, 'cl': 121, 'cBBs_v': 122, 'cindexf': 123, '5M': 124, 'cint_lt': 125, 'cITER': 126, 'chas_real_integral': 127, 'clift': 128, 'b': 129, 'cCONS': 130, 'cscs_str_v': 131, 'cconvex_local_fan': 132, 'creal_mul': 133, '9': 134, 'cuniq': 135, 'cint_of_num': 136, '0': 137, 'cinteger': 138, 'creal_le': 139, \"'m\": 140, 'creal_of_num': 141, 'cIN': 142, 'cclosed_real_interval': 143, 'cF': 144, 'cnext_el': 145, '3I': 146, 'chypermap_of_list': 147, 'cscs_': 148, 'cdelta_x': 149, 'cscs_v': 150, 'cperiodic': 151, 'cin_dart_of_loop': 152, 'cfinal_list': 153, 'creal_div': 154, 'cfind_list': 155, 'cgood_list_nodes': 156, 'cint_le': 157, 'cdistance': 158, 'cone_step_contour': 159, 'z': 160, 'cFST': 161, 'cpi': 162, 'cquotient_list': 163, 'cwithin': 164, 'chas_vector_derivative': 165, '<': 166, 'cmk_unadorned_v': 167, \"'\": 168, 'cderived_form': 169, 'cEL': 170, '~': 171, 'cI': 172, 'cpath_of_loop': 173, 'cscs_lo_v': 174, 'csupport_of_sequence': 175, 'cMAP': 176, 'c_': 177, 'cdrop': 178, 'cupt': 179, '1_prime': 180, 'cfind_face': 181, 'cmin_num': 182, 'f': 183, 'creal_gt': 184, 'cMOD': 185, 'cis_inj_list': 186, 'cis_inj_contour': 187, 'ca': 188, '/': 189, 'creplace': 190, '&': 191, 'cSND': 192, 'part': 193, 'cs_flag_list': 194, 'creal_pow': 195, 'cvec': 196, 'cscs_J_v': 197, 'cunadorned_v': 198, 'cscs_arrow_v': 199, 'citerate': 200, 'cbounded': 201, 'copen_interval': 202, 'zim': 203, 'csamsara': 204, 'cscs_hi_v': 205, ',': 206, 'csplit_normal_list': 207, 'cdelta_y': 208, 'cDIV': 209, 'cnode': 210, 'creal_inv': 211, 'cconvex': 212, '8': 213, 'cvector_angle': 214, 'cIMAGE': 215, 'cscs_stab_diag_v': 216, 'cscs_bm_v': 217, 'ccos': 218, '5I': 219, 'cFINITE': 220, 'cscs_half_slice_v': 221, 'cmarked_list': 222, '6': 223, 'cd_tame': 224, 'creal_neg': 225, 'clist_of_darts': 226, 'cprev_el': 227, 'creal_open': 228, 'zel': 229, 'ctransform_list': 230, '*': 231, 'cdart_of_loop': 232, 'cytrans': 233, 'cf_last': 234, 'cloop': 235, 'cups_x': 236, 'cpermutes': 237, 'cscs_b_v': 238, 'cscs_a_v': 239, 'ch': 240, 'cscs_prop_equ_v': 241}\n",
            "\n",
            "cflag_list\n",
            "6I\n",
            "cis_loop\n",
            "creal_lt\n",
            "creal_of_int\n",
            "crotate_to\n",
            "cAPPEND\n",
            "1\n",
            "ctransform_assumption_v\n",
            "cball_annulus\n",
            "cfunlistA_v\n",
            "cfilter\n",
            "cUNIV\n",
            "cn_list\n",
            "cis_restricted\n",
            "co\n",
            "cREVERSE\n",
            "creal\n",
            "cwedge\n",
            "cvector_sub\n",
            "cUNION\n",
            "cGEQ\n",
            "'y\n",
            "casn\n",
            "4I\n",
            "cscs_am_v\n",
            "ccontent\n",
            "creal_abs\n",
            "4\n",
            "7\n",
            "creal_max\n",
            "cLET_END\n",
            "cf_list\n",
            "cSUBSET\n",
            "\\\n",
            "cmap\n",
            "cNUMERAL\n",
            "cscs_diag\n",
            "ccstab\n",
            "cmonoidal\n",
            "csi\n",
            "cclosed_interval\n",
            "cMEM\n",
            "5\n",
            "cLAST\n",
            "cSUC\n",
            ">\n",
            "cPOWER\n",
            "cSETSPEC\n",
            "cset_of_list\n",
            "creal_continuous\n",
            "cEMPTY\n",
            "cpsort\n",
            "catreal\n",
            "3M\n",
            "3\n",
            "crtrans\n",
            "!\n",
            "cloop_list\n",
            "5T\n",
            "cloop_map\n",
            "cINSERT\n",
            "cnormal_list\n",
            "csin\n",
            "creal_sub\n",
            "cGSPEC\n",
            "creal_add\n",
            "ccnj\n",
            "4T\n",
            "cint_add\n",
            "2\n",
            "cMMs_v\n",
            "6T\n",
            "creal_min\n",
            "cbetwn\n",
            "cDECIMAL\n",
            "cscs_d_v\n",
            "?\n",
            "cJEJTVGB_assume_v\n",
            "cDIFF\n",
            "cLET\n",
            "cs_init_list_v\n",
            "cODD\n",
            "cT\n",
            "+\n",
            "cflatten\n",
            "cvector_norm\n",
            "cGABS\n",
            "3T\n",
            "cscs_basic_v\n",
            "chas_integral\n",
            "cgood_list\n",
            "ztrans\n",
            "ce_list\n",
            "cNIL\n",
            "cis_contour\n",
            "chas_real_derivative\n",
            "creal_ge\n",
            "cPRE\n",
            "cscs_k_v\n",
            "=\n",
            "cCARD\n",
            "cCOND\n",
            "cntrans\n",
            "cLENGTH\n",
            "cASSOCD_v\n",
            "creal_continuous_on\n",
            "copen_real_interval\n",
            "cmain_nonlinear_terminal_v\n",
            "call\n",
            "4M\n",
            "cBIT\n",
            "cfunlist_v\n",
            "codd\n",
            "cwedge_ge\n",
            "c\n",
            "ctruncate_simplex\n",
            "ctgt\n",
            "cat\n",
            "-\n",
            "cl\n",
            "cBBs_v\n",
            "cindexf\n",
            "5M\n",
            "cint_lt\n",
            "cITER\n",
            "chas_real_integral\n",
            "clift\n",
            "b\n",
            "cCONS\n",
            "cscs_str_v\n",
            "cconvex_local_fan\n",
            "creal_mul\n",
            "9\n",
            "cuniq\n",
            "cint_of_num\n",
            "0\n",
            "cinteger\n",
            "creal_le\n",
            "'m\n",
            "creal_of_num\n",
            "cIN\n",
            "cclosed_real_interval\n",
            "cF\n",
            "cnext_el\n",
            "3I\n",
            "chypermap_of_list\n",
            "cscs_\n",
            "cdelta_x\n",
            "cscs_v\n",
            "cperiodic\n",
            "cin_dart_of_loop\n",
            "cfinal_list\n",
            "creal_div\n",
            "cfind_list\n",
            "cgood_list_nodes\n",
            "cint_le\n",
            "cdistance\n",
            "cone_step_contour\n",
            "z\n",
            "cFST\n",
            "cpi\n",
            "cquotient_list\n",
            "cwithin\n",
            "chas_vector_derivative\n",
            "<\n",
            "cmk_unadorned_v\n",
            "'\n",
            "cderived_form\n",
            "cEL\n",
            "~\n",
            "cI\n",
            "cpath_of_loop\n",
            "cscs_lo_v\n",
            "csupport_of_sequence\n",
            "cMAP\n",
            "c_\n",
            "cdrop\n",
            "cupt\n",
            "1_prime\n",
            "cfind_face\n",
            "cmin_num\n",
            "f\n",
            "creal_gt\n",
            "cMOD\n",
            "cis_inj_list\n",
            "cis_inj_contour\n",
            "ca\n",
            "/\n",
            "creplace\n",
            "&\n",
            "cSND\n",
            "part\n",
            "cs_flag_list\n",
            "creal_pow\n",
            "cvec\n",
            "cscs_J_v\n",
            "cunadorned_v\n",
            "cscs_arrow_v\n",
            "citerate\n",
            "cbounded\n",
            "copen_interval\n",
            "zim\n",
            "csamsara\n",
            "cscs_hi_v\n",
            ",\n",
            "csplit_normal_list\n",
            "cdelta_y\n",
            "cDIV\n",
            "cnode\n",
            "creal_inv\n",
            "cconvex\n",
            "8\n",
            "cvector_angle\n",
            "cIMAGE\n",
            "cscs_stab_diag_v\n",
            "cscs_bm_v\n",
            "ccos\n",
            "5I\n",
            "cFINITE\n",
            "cscs_half_slice_v\n",
            "cmarked_list\n",
            "6\n",
            "cd_tame\n",
            "creal_neg\n",
            "clist_of_darts\n",
            "cprev_el\n",
            "creal_open\n",
            "zel\n",
            "ctransform_list\n",
            "*\n",
            "cdart_of_loop\n",
            "cytrans\n",
            "cf_last\n",
            "cloop\n",
            "cups_x\n",
            "cpermutes\n",
            "cscs_b_v\n",
            "cscs_a_v\n",
            "ch\n",
            "cscs_prop_equ_v\n",
            "242\n"
          ]
        }
      ],
      "source": [
        "all_tokens = set()\n",
        "for example, label in examples:\n",
        "  tokens = parse(example) \n",
        "  all_tokens |= set(tokens)\n",
        "\n",
        "\n",
        "all_tokens = list(all_tokens)\n",
        "lookup = {token: t for (t, token) in enumerate(all_tokens)}\n",
        "\n",
        "print(lookup)\n",
        "for token in all_tokens: print(token)\n",
        "print(len(all_tokens))\n"
      ]
    },
    {
      "cell_type": "code",
      "execution_count": null,
      "metadata": {
        "colab": {
          "base_uri": "https://localhost:8080/"
        },
        "id": "0AbJUTUzzvp0",
        "outputId": "58c9e08a-b20b-42c3-abd8-d28702150d69"
      },
      "outputs": [
        {
          "output_type": "stream",
          "name": "stdout",
          "text": [
            "max_len: 2669\n"
          ]
        }
      ],
      "source": [
        "max_len = max([len(parse(example)) for example,label in examples])\n",
        "print(\"max_len:\", max_len)\n",
        "embeddings = tr.eye(len(all_tokens))\n"
      ]
    },
    {
      "cell_type": "code",
      "execution_count": null,
      "metadata": {
        "id": "-8Chz1jOzx_i"
      },
      "outputs": [],
      "source": [
        "\"\"\"\n",
        "Transformer utilities\n",
        "\"\"\"\n",
        "def embed(seq, max_len, embeddings, offset=0):\n",
        "    embedded = tr.zeros(max_len, embeddings.shape[1])\n",
        "    cap = min(len(seq), max_len-offset)\n",
        "    if cap > 0:\n",
        "        embedded[offset:offset+cap] = tr.stack(tuple(embeddings[lookup[token]] for token in seq[:cap]))\n",
        "    return embedded\n",
        "\n",
        "def Attention(Q, K, V, masked=False):\n",
        "    dk = Q.shape[1]\n",
        "    logits = Q @ K.t() / dk**.5\n",
        "    if masked:\n",
        "        idx = tr.arange(Q.shape[0])\n",
        "        logits[idx.unsqueeze(1) < idx] = -tr.inf\n",
        "    return tr.softmax(logits, dim=1) @ V\n",
        "\n",
        "class MultiHeadAttention(tr.nn.Module):\n",
        "    def __init__(self, num_heads, d_model, masked=False, projections=\"\"):\n",
        "        super(MultiHeadAttention, self).__init__()\n",
        "        dh = d_model // num_heads\n",
        "        self.masked = masked\n",
        "        self.num_heads = num_heads\n",
        "        self.WQ, self.WK, self.WV = tuple(\n",
        "            tr.nn.ModuleList([tr.nn.Linear(d_model, dh, bias=False) for i in range(num_heads)])\n",
        "            if p in projections else [lambda x: x[:,:dh]]*num_heads\n",
        "            for p in \"QKV\")\n",
        "        self.WO = tr.nn.Linear(dh * num_heads, d_model, bias=False) if \"O\" in projections else lambda x: x\n",
        "        self.ln = tr.nn.LayerNorm(d_model)\n",
        "        self.projections = projections\n",
        "\n",
        "    def forward(self, Q, K, V):\n",
        "        heads = [\n",
        "            Attention(self.WQ[i](Q), self.WK[i](K), self.WV[i](V), self.masked)\n",
        "            for i in range(self.num_heads)]\n",
        "        out = self.WO(tr.cat(heads, dim=1))\n",
        "        out += Q # skip connection\n",
        "        out = self.ln(out) # layer normalization\n",
        "        return out\n",
        "\n",
        "# requires d_model - d_embedding >= max_len\n",
        "def one_hot_positional_encoder(max_len):\n",
        "    def encode_position(inputs):\n",
        "        I = tr.eye(max_len)\n",
        "        return tr.cat((I, inputs), dim=1)\n",
        "    return encode_position\n",
        "\n"
      ]
    },
    {
      "cell_type": "code",
      "execution_count": null,
      "metadata": {
        "colab": {
          "base_uri": "https://localhost:8080/"
        },
        "id": "MUinbtDAz0e4",
        "outputId": "965d86bf-6262-4392-e18f-a7a14d5ad6e7"
      },
      "outputs": [
        {
          "output_type": "stream",
          "name": "stdout",
          "text": [
            "tensor([[ 0.0822, -0.0587]], grad_fn=<UnsqueezeBackward0>)\n"
          ]
        }
      ],
      "source": [
        "class Net(tr.nn.Module):\n",
        "  def __init__(self, num_blocks, num_heads):\n",
        "    super(Net, self).__init__()\n",
        "    d_model = max_len+embeddings.shape[1]\n",
        "    self.encoder = one_hot_positional_encoder(max_len)\n",
        "    self.blocks = tr.nn.ModuleList([\n",
        "      MultiHeadAttention(num_heads, d_model, projections=\"QKVO\")\n",
        "      for _ in range(num_blocks)\n",
        "    ])\n",
        "    self.readout = tr.nn.Linear(d_model, 2)\n",
        "  def forward(self, example):\n",
        "    x = embed(parse(example), max_len, embeddings)\n",
        "    x = self.encoder(x)\n",
        "    for mha in self.blocks:\n",
        "      x = mha(x, x, x)\n",
        "    y = self.readout(x).mean(dim=0).unsqueeze(0)\n",
        "    return y\n",
        "\n",
        "net = Net(2, 4)\n",
        "y = net(examples[0][0])\n",
        "print(y)"
      ]
    },
    {
      "cell_type": "code",
      "execution_count": null,
      "metadata": {
        "id": "s30ap4TY_G6-",
        "colab": {
          "base_uri": "https://localhost:8080/"
        },
        "outputId": "805a965e-6390-4f06-aa44-9b34f3dadcd4"
      },
      "outputs": [
        {
          "output_type": "stream",
          "name": "stdout",
          "text": [
            "[('c= cderived_form c/\\\\ c/\\\\ cT cT cT / creal_mul * / creal_mul * / b1 b1 * / b1 b1 b0 * / creal_mul creal_mul f0 f0 creal_mul f1 f1 b0 creal_add creal_mul * / creal_mul * / b1 b0 * / b1 b0 f2 creal_of_num cNUMERAL c_0 creal_mul creal_add creal_mul * / b0 f2 creal_of_num cNUMERAL cBIT1 c_0 creal_mul creal_of_num cNUMERAL cBIT1 c_0 * / b0 f2 * / creal_mul creal_mul f0 f0 creal_mul f1 f1 f2 f2 part cUNIV c/\\\\ cderived_form c/\\\\ c/\\\\ c/\\\\ c/\\\\ cT c/\\\\ cT c/\\\\ cT c/\\\\ cT c/\\\\ c/\\\\ cT cT cT c/\\\\ cT c/\\\\ cT c/\\\\ cT cT cT cT / creal_sub * / creal_sub * / creal_sub * / creal_mul * / creal_mul f3 f3 b1 * / creal_mul * / creal_mul f1 f1 b1 * / creal_add * / creal_mul f4 f4 b1 * / creal_add * / creal_sub creal_mul f5 f5 creal_mul f3 f3 b1 * / creal_add * / creal_mul * / b1 b1 * / b1 b1 b1 * / creal_sub creal_mul f0 f0 creal_mul f1 f1 b1 b1 b1 b1 b1 b1 * / creal_mul * / creal_mul f5 f5 b1 * / creal_mul * / creal_mul f3 f3 b1 * / creal_mul * / b1 b1 * / b1 b1 b1 b1 b1 b1 * / creal_mul creal_mul f4 f4 creal_mul creal_mul f3 f3 creal_mul f0 f0 b1 b0 * / creal_mul creal_mul f4 f4 creal_mul creal_mul f5 f5 creal_mul f1 f1 b0 creal_sub creal_sub creal_sub creal_add creal_mul * / creal_mul f3 f3 f2 creal_add creal_mul * / creal_mul f1 f1 f2 creal_add creal_of_num cNUMERAL c_0 creal_add creal_of_num cNUMERAL c_0 creal_add creal_add creal_mul * / b0 f2 creal_of_num cNUMERAL cBIT1 c_0 creal_mul creal_of_num cNUMERAL cBIT1 c_0 * / b0 f2 creal_of_num cNUMERAL c_0 creal_mul creal_of_num cNUMERAL c_0 * / creal_add * / creal_mul f4 f4 b0 * / creal_add * / creal_sub creal_mul f5 f5 creal_mul f3 f3 b1 * / creal_add * / creal_mul * / b1 b1 * / b1 b1 b1 * / creal_sub creal_mul f0 f0 creal_mul f1 f1 b1 b1 b0 f2 creal_mul creal_of_num cNUMERAL c_0 * / creal_mul * / creal_mul f1 f1 b0 * / creal_add * / creal_mul f4 f4 b1 * / creal_add * / creal_sub creal_mul f5 f5 creal_mul f3 f3 b1 * / creal_add * / creal_mul * / b1 b1 * / b1 b1 b1 * / creal_sub creal_mul f0 f0 creal_mul f1 f1 b1 b1 b1 b0 f2 creal_add creal_mul * / creal_mul f5 f5 f2 creal_add creal_mul * / creal_mul f3 f3 f2 creal_add creal_mul * / b0 f2 creal_of_num cNUMERAL cBIT1 c_0 creal_mul creal_of_num cNUMERAL cBIT1 c_0 * / b0 f2 creal_mul creal_of_num cNUMERAL c_0 * / creal_mul * / b1 b0 * / b1 b0 f2 creal_mul creal_of_num cNUMERAL c_0 * / creal_mul * / creal_mul f3 f3 b0 * / creal_mul * / b1 b1 * / b1 b1 b0 f2 creal_of_num cNUMERAL c_0 creal_of_num cNUMERAL c_0 f2 part cUNIV cderived_form c/\\\\ c/\\\\ cT cT cT / creal_mul * / creal_mul * / b1 b1 * / b1 b1 b0 * / creal_mul creal_mul f0 f0 creal_mul f1 f1 b0 creal_add creal_mul * / creal_mul * / b1 b0 * / b1 b0 f2 creal_of_num cNUMERAL c_0 creal_mul creal_add creal_mul * / b0 f2 creal_of_num cNUMERAL cBIT1 c_0 creal_mul creal_of_num cNUMERAL cBIT1 c_0 * / b0 f2 * / creal_mul creal_mul f0 f0 creal_mul f1 f1 f2 f2 part cUNIV\\n & creal_open * part cGSPEC / c? / cSETSPEC b0 c/\\\\ creal_lt creal_of_num cNUMERAL c_0 b1 creal_lt creal_of_num cNUMERAL c_0 cdelta_y f0 f1 f2 b1 f3 f4 b1', 1), ('c/\\\\ cderived_form cT / creal_mul f0 f0 creal_of_num cNUMERAL c_0 f1 part cUNIV cderived_form c/\\\\ cT c/\\\\ cT c/\\\\ c/\\\\ c/\\\\ cT cT cT cT / creal_add * / creal_sub creal_mul f2 f2 creal_mul f3 f3 b0 * / creal_add * / creal_mul f4 f4 b1 * / creal_add * / creal_sub * / creal_mul * / b1 b1 * / b1 b1 b1 * / creal_mul f0 f0 b1 b1 * / creal_mul f5 f5 b1 b1 b0 creal_add creal_of_num cNUMERAL c_0 creal_add creal_of_num cNUMERAL c_0 creal_add creal_sub creal_add creal_mul * / b0 f1 creal_of_num cNUMERAL cBIT1 c_0 creal_mul creal_of_num cNUMERAL cBIT1 c_0 * / b0 f1 creal_of_num cNUMERAL c_0 creal_of_num cNUMERAL c_0 f1 part cUNIV\\n & creal_open * part cGSPEC / c? / cSETSPEC b0 c/\\\\ creal_lt creal_of_num cNUMERAL c_0 b1 creal_lt creal_of_num cNUMERAL c_0 cdelta_y f0 f1 f2 b1 f3 f4 b1', 1), ('* / ! ! ! ! c= cdelta_y f0 b0 b1 b2 b3 b4 cdelta_x creal_mul f0 f0 creal_mul b0 b0 creal_mul b1 b1 creal_mul b2 b2 creal_mul b3 b3 creal_mul b4 b4 f1\\n & creal_open * part cGSPEC / c? / cSETSPEC b0 c/\\\\ creal_lt creal_of_num cNUMERAL c_0 b1 creal_lt creal_of_num cNUMERAL c_0 cdelta_y f0 f1 f2 b1 f3 f4 b1', 1), ('c= cIN f0 * part cGSPEC / c? / cSETSPEC b0 creal_lt creal_of_num cNUMERAL c_0 b1 b1 creal_lt creal_of_num cNUMERAL c_0 f0\\n & creal_open * part cGSPEC / c? / cSETSPEC b0 c/\\\\ creal_lt creal_of_num cNUMERAL c_0 b1 creal_lt creal_of_num cNUMERAL c_0 cdelta_y f0 f1 f2 b1 f3 f4 b1', 1), ('c==> ! ! ! c==> chas_real_derivative b0 b1 catreal b2 creal_continuous b0 catreal b2 ! ! c==> c? / chas_real_derivative b0 b2 catreal b1 creal_continuous b0 catreal b1\\n & creal_open * part cGSPEC / c? / cSETSPEC b0 c/\\\\ creal_lt creal_of_num cNUMERAL c_0 b1 creal_lt creal_of_num cNUMERAL c_0 cdelta_y f0 f1 f2 b1 f3 f4 b1', 1), ('c= c==> c==> c/\\\\ creal_open * part cGSPEC / c? / cSETSPEC b0 creal_lt creal_of_num cNUMERAL c_0 b1 b1 c/\\\\ creal_open * part cGSPEC / c? / cSETSPEC b0 creal_lt creal_of_num cNUMERAL c_0 b1 b1 creal_continuous_on / cdelta_y f0 f1 f2 b0 f3 f4 * part cGSPEC / c? / cSETSPEC b0 creal_lt creal_of_num cNUMERAL c_0 b1 b1 creal_open * part cGSPEC / c? / cSETSPEC b0 c/\\\\ cIN b1 * part cGSPEC / c? / cSETSPEC b2 creal_lt creal_of_num cNUMERAL c_0 b3 b3 cIN * / cdelta_y f0 f1 f2 b2 f3 f4 b1 * part cGSPEC / c? / cSETSPEC b2 creal_lt creal_of_num cNUMERAL c_0 b3 b3 b1 creal_open * part cGSPEC / c? / cSETSPEC b0 c/\\\\ creal_lt creal_of_num cNUMERAL c_0 b1 creal_lt creal_of_num cNUMERAL c_0 cdelta_y f0 f1 f2 b1 f3 f4 b1 creal_open * part cGSPEC / c? / cSETSPEC b0 c/\\\\ creal_lt creal_of_num cNUMERAL c_0 b1 creal_lt creal_of_num cNUMERAL c_0 cdelta_y f0 f1 f2 b1 f3 f4 b1\\n & creal_open * part cGSPEC / c? / cSETSPEC b0 c/\\\\ creal_lt creal_of_num cNUMERAL c_0 b1 creal_lt creal_of_num cNUMERAL c_0 cdelta_y f0 f1 f2 b1 f3 f4 b1', 1), ('* / ! c==> c/\\\\ cderived_form f0 f1 f2 b0 b1 cderived_form f3 f4 f5 b0 b1 cderived_form c/\\\\ f0 f3 / creal_mul * f1 b2 * f4 b2 creal_add creal_mul * f1 b0 f5 creal_mul f2 * f4 b0 b0 b1 f6\\n & creal_open * part cGSPEC / c? / cSETSPEC b0 c/\\\\ creal_lt creal_of_num cNUMERAL c_0 b1 creal_lt creal_of_num cNUMERAL c_0 cdelta_y f0 f1 f2 b1 f3 f4 b1', 1), ('c= c/\\\\ f0 cT f0\\n & creal_open * part cGSPEC / c? / cSETSPEC b0 c/\\\\ creal_lt creal_of_num cNUMERAL c_0 b1 creal_lt creal_of_num cNUMERAL c_0 cdelta_y f0 f1 f2 b1 f3 f4 b1', 0), ('c==> ! ! ! c==> chas_real_derivative b0 b1 catreal b2 creal_continuous b0 catreal b2 c= ! c==> c? / chas_real_derivative f0 b1 catreal b0 creal_continuous f0 catreal b0 cT\\n & creal_open * part cGSPEC / c? / cSETSPEC b0 c/\\\\ creal_lt creal_of_num cNUMERAL c_0 b1 creal_lt creal_of_num cNUMERAL c_0 cdelta_y f0 f1 f2 b1 f3 f4 b1', 1), ('c==> c/\\\\ cderived_form f0 f1 f2 f3 part cUNIV cderived_form f4 f5 f6 f3 part cUNIV cderived_form c/\\\\ f0 f4 / creal_mul * f1 b0 * f5 b0 creal_add creal_mul * f1 f3 f6 creal_mul f2 * f5 f3 f3 part cUNIV\\n & creal_open * part cGSPEC / c? / cSETSPEC b0 c/\\\\ creal_lt creal_of_num cNUMERAL c_0 b1 creal_lt creal_of_num cNUMERAL c_0 cdelta_y f0 f1 f2 b1 f3 f4 b1', 1), ('* / cderived_form cT / creal_sub creal_mul f0 f0 creal_mul f1 f1 creal_of_num cNUMERAL c_0 f2 b0 part cUNIV\\n & creal_open * part cGSPEC / c? / cSETSPEC b0 c/\\\\ creal_lt creal_of_num cNUMERAL c_0 b1 creal_lt creal_of_num cNUMERAL c_0 cdelta_y f0 f1 f2 b1 f3 f4 b1', 1), ('c= ! creal_open * part cGSPEC / c? / cSETSPEC b1 c/\\\\ creal_lt creal_of_num cNUMERAL c_0 b2 creal_lt creal_of_num cNUMERAL c_0 cdelta_y f0 f1 f2 b2 f3 b0 b2 cT\\n & creal_open * part cGSPEC / c? / cSETSPEC b0 c/\\\\ creal_lt creal_of_num cNUMERAL c_0 b1 creal_lt creal_of_num cNUMERAL c_0 cdelta_y f0 f1 f2 b1 f3 f4 b1', 1), ('c= cderived_form c/\\\\ c/\\\\ cT c/\\\\ cT cT cT / creal_add * / creal_sub * / creal_mul f0 f0 b1 * / creal_mul * / b1 b1 * / b1 b1 b1 b0 * / creal_add creal_mul f1 f1 creal_mul f2 f2 b0 creal_add creal_sub creal_of_num cNUMERAL c_0 creal_add creal_mul * / b0 f3 creal_of_num cNUMERAL cBIT1 c_0 creal_mul creal_of_num cNUMERAL cBIT1 c_0 * / b0 f3 creal_of_num cNUMERAL c_0 f3 part cUNIV c/\\\\ cderived_form cT / creal_mul f4 f4 creal_of_num cNUMERAL c_0 f3 part cUNIV cderived_form c/\\\\ c/\\\\ cT c/\\\\ cT cT cT / creal_add * / creal_sub * / creal_mul f0 f0 b1 * / creal_mul * / b1 b1 * / b1 b1 b1 b0 * / creal_add creal_mul f1 f1 creal_mul f2 f2 b0 creal_add creal_sub creal_of_num cNUMERAL c_0 creal_add creal_mul * / b0 f3 creal_of_num cNUMERAL cBIT1 c_0 creal_mul creal_of_num cNUMERAL cBIT1 c_0 * / b0 f3 creal_of_num cNUMERAL c_0 f3 part cUNIV\\n & creal_open * part cGSPEC / c? / cSETSPEC b0 c/\\\\ creal_lt creal_of_num cNUMERAL c_0 b1 creal_lt creal_of_num cNUMERAL c_0 cdelta_y f0 f1 f2 b1 f3 f4 b1', 1), ('c/\\\\ cderived_form c/\\\\ cT cT / creal_mul * / b1 b0 * / b1 b0 creal_add creal_mul * / b0 f0 creal_of_num cNUMERAL cBIT1 c_0 creal_mul creal_of_num cNUMERAL cBIT1 c_0 * / b0 f0 f0 part cUNIV cderived_form cT / creal_mul creal_mul f1 f1 creal_mul f2 f2 creal_of_num cNUMERAL c_0 f0 part cUNIV\\n & creal_open * part cGSPEC / c? / cSETSPEC b0 c/\\\\ creal_lt creal_of_num cNUMERAL c_0 b1 creal_lt creal_of_num cNUMERAL c_0 cdelta_y f0 f1 f2 b1 f3 f4 b1', 1), ('* / ! ! c==> creal_continuous b0 catreal b1 creal_continuous b0 cwithin catreal b1 b2 f0\\n & creal_open * part cGSPEC / c? / cSETSPEC b0 c/\\\\ creal_lt creal_of_num cNUMERAL c_0 b1 creal_lt creal_of_num cNUMERAL c_0 cdelta_y f0 f1 f2 b1 f3 f4 b1', 1), ('* / c= cIN b0 * part cGSPEC / * f0 * part cSETSPEC b1 * f0 / / c/\\\\ b1 c= b0 b2 f1\\n & creal_open * part cGSPEC / c? / cSETSPEC b0 c/\\\\ creal_lt creal_of_num cNUMERAL c_0 b1 creal_lt creal_of_num cNUMERAL c_0 cdelta_y f0 f1 f2 b1 f3 f4 b1', 0), ('c= cderived_form c/\\\\ cT c/\\\\ cT c/\\\\ c/\\\\ cT cT cT / creal_add * / creal_mul f0 f0 b0 * / creal_add * / creal_sub creal_mul f1 f1 creal_mul f2 f2 b1 * / creal_add * / creal_mul * / b1 b1 * / b1 b1 b1 * / creal_sub creal_mul f3 f3 creal_mul f4 f4 b1 b1 b0 creal_add creal_of_num cNUMERAL c_0 creal_add creal_of_num cNUMERAL c_0 creal_add creal_add creal_mul * / b0 f5 creal_of_num cNUMERAL cBIT1 c_0 creal_mul creal_of_num cNUMERAL cBIT1 c_0 * / b0 f5 creal_of_num cNUMERAL c_0 f5 part cUNIV c/\\\\ cderived_form cT / creal_mul f4 f4 creal_of_num cNUMERAL c_0 f5 part cUNIV cderived_form c/\\\\ cT c/\\\\ cT c/\\\\ c/\\\\ cT cT cT / creal_add * / creal_mul f0 f0 b0 * / creal_add * / creal_sub creal_mul f1 f1 creal_mul f2 f2 b1 * / creal_add * / creal_mul * / b1 b1 * / b1 b1 b1 * / creal_sub creal_mul f3 f3 creal_mul f4 f4 b1 b1 b0 creal_add creal_of_num cNUMERAL c_0 creal_add creal_of_num cNUMERAL c_0 creal_add creal_add creal_mul * / b0 f5 creal_of_num cNUMERAL cBIT1 c_0 creal_mul creal_of_num cNUMERAL cBIT1 c_0 * / b0 f5 creal_of_num cNUMERAL c_0 f5 part cUNIV\\n & creal_open * part cGSPEC / c? / cSETSPEC b0 c/\\\\ creal_lt creal_of_num cNUMERAL c_0 b1 creal_lt creal_of_num cNUMERAL c_0 cdelta_y f0 f1 f2 b1 f3 f4 b1', 1), ('c= c==> c/\\\\ cderived_form c/\\\\ cT cT / creal_mul * / b1 b0 * / b1 b0 creal_add creal_mul * / b0 f0 creal_of_num cNUMERAL cBIT1 c_0 creal_mul creal_of_num cNUMERAL cBIT1 c_0 * / b0 f0 f0 part cUNIV cderived_form cT / creal_mul f1 f1 creal_of_num cNUMERAL c_0 f0 part cUNIV cderived_form c/\\\\ c/\\\\ cT cT cT / creal_sub * / creal_mul * / b1 b1 * / b1 b1 b0 * / creal_mul f1 f1 b0 creal_sub creal_add creal_mul * / b0 f0 creal_of_num cNUMERAL cBIT1 c_0 creal_mul creal_of_num cNUMERAL cBIT1 c_0 * / b0 f0 creal_of_num cNUMERAL c_0 f0 part cUNIV cderived_form c/\\\\ c/\\\\ cT cT cT / creal_sub * / creal_mul * / b1 b1 * / b1 b1 b0 * / creal_mul f1 f1 b0 creal_sub creal_add creal_mul * / b0 f0 creal_of_num cNUMERAL cBIT1 c_0 creal_mul creal_of_num cNUMERAL cBIT1 c_0 * / b0 f0 creal_of_num cNUMERAL c_0 f0 part cUNIV\\n & creal_open * part cGSPEC / c? / cSETSPEC b0 c/\\\\ creal_lt creal_of_num cNUMERAL c_0 b1 creal_lt creal_of_num cNUMERAL c_0 cdelta_y f0 f1 f2 b1 f3 f4 b1', 1), ('* / cIN b0 part cUNIV f0\\n & creal_open * part cGSPEC / c? / cSETSPEC b0 c/\\\\ creal_lt creal_of_num cNUMERAL c_0 b1 creal_lt creal_of_num cNUMERAL c_0 cdelta_y f0 f1 f2 b1 f3 f4 b1', 0), ('c= c==> ! c==> * / chas_real_derivative f0 b1 catreal f1 b0 c==> ! ! ! c==> chas_real_derivative b1 b2 catreal b3 creal_continuous b1 catreal b3 creal_continuous f0 catreal f1 c==> c? / chas_real_derivative f0 b0 catreal f1 c==> ! ! ! c==> chas_real_derivative b0 b1 catreal b2 creal_continuous b0 catreal b2 creal_continuous f0 catreal f1 c==> c? / chas_real_derivative f0 b0 catreal f1 c==> ! ! ! c==> chas_real_derivative b0 b1 catreal b2 creal_continuous b0 catreal b2 creal_continuous f0 catreal f1\\n & creal_open * part cGSPEC / c? / cSETSPEC b0 c/\\\\ creal_lt creal_of_num cNUMERAL c_0 b1 creal_lt creal_of_num cNUMERAL c_0 cdelta_y f0 f1 f2 b1 f3 f4 b1', 1), ('* / ! ! c= c\\\\/ b0 c\\\\/ b1 b2 c\\\\/ c\\\\/ b0 b1 b2 f0\\n & creal_open * part cGSPEC / c? / cSETSPEC b0 c/\\\\ creal_lt creal_of_num cNUMERAL c_0 b1 creal_lt creal_of_num cNUMERAL c_0 cdelta_y f0 f1 f2 b1 f3 f4 b1', 0), ('* / c= cderived_form f0 f1 f2 f3 b0 c==> f0 chas_real_derivative f1 f2 cwithin catreal f3 b0 f4\\n & creal_open * part cGSPEC / c? / cSETSPEC b0 c/\\\\ creal_lt creal_of_num cNUMERAL c_0 b1 creal_lt creal_of_num cNUMERAL c_0 cdelta_y f0 f1 f2 b1 f3 f4 b1', 1), ('cderived_form cT / creal_mul creal_mul f0 f0 creal_mul creal_mul f1 f1 creal_mul f2 f2 creal_of_num cNUMERAL c_0 f3 part cUNIV\\n & creal_open * part cGSPEC / c? / cSETSPEC b0 c/\\\\ creal_lt creal_of_num cNUMERAL c_0 b1 creal_lt creal_of_num cNUMERAL c_0 cdelta_y f0 f1 f2 b1 f3 f4 b1', 1), ('* / c= cIN b0 / * f0 b1 * f0 b0 f1\\n & creal_open * part cGSPEC / c? / cSETSPEC b0 c/\\\\ creal_lt creal_of_num cNUMERAL c_0 b1 creal_lt creal_of_num cNUMERAL c_0 cdelta_y f0 f1 f2 b1 f3 f4 b1', 0), ('c==> c/\\\\ creal_gt f0 creal_of_num cNUMERAL c_0 creal_ge f1 creal_of_num cNUMERAL c_0 creal_ge creal_mul f0 f1 creal_of_num cNUMERAL c_0\\n & creal_open * part cGSPEC / c? / cSETSPEC b0 c/\\\\ creal_lt creal_of_num cNUMERAL c_0 b1 creal_lt creal_of_num cNUMERAL c_0 cdelta_y f0 f1 f2 b1 f3 f4 b1', 0), ('c= c? / creal_lt creal_of_num cNUMERAL c_0 b0 creal_open part cUNIV\\n & creal_open * part cGSPEC / c? / cSETSPEC b0 c/\\\\ creal_lt creal_of_num cNUMERAL c_0 b1 creal_lt creal_of_num cNUMERAL c_0 cdelta_y f0 f1 f2 b1 f3 f4 b1', 0), ('c==> * / chas_real_derivative f0 b0 catreal f1 f2 c==> ! ! ! c==> chas_real_derivative b0 b1 catreal b2 creal_continuous b0 catreal b2 creal_continuous f0 catreal f1\\n & creal_open * part cGSPEC / c? / cSETSPEC b0 c/\\\\ creal_lt creal_of_num cNUMERAL c_0 b1 creal_lt creal_of_num cNUMERAL c_0 cdelta_y f0 f1 f2 b1 f3 f4 b1', 1), ('c= c==> ! ! ! c==> creal_continuous b0 catreal b1 creal_continuous b0 cwithin catreal b1 b2 * / ! ! c==> creal_continuous b0 catreal b1 creal_continuous b0 cwithin catreal b1 b2 f0 * / ! ! c==> creal_continuous b0 catreal b1 creal_continuous b0 cwithin catreal b1 b2 f0\\n & creal_open * part cGSPEC / c? / cSETSPEC b0 c/\\\\ creal_lt creal_of_num cNUMERAL c_0 b1 creal_lt creal_of_num cNUMERAL c_0 cdelta_y f0 f1 f2 b1 f3 f4 b1', 1), ('c~ c/\\\\ c\\\\/ c~ creal_lt f0 f1 c~ creal_gt f1 f0 c\\\\/ creal_lt f0 f1 creal_gt f1 f0\\n & creal_open * part cGSPEC / c? / cSETSPEC b0 c/\\\\ creal_lt creal_of_num cNUMERAL c_0 b1 creal_lt creal_of_num cNUMERAL c_0 cdelta_y f0 f1 f2 b1 f3 f4 b1', 1), ('c= c/\\\\ cT cF cF\\n & creal_open * part cGSPEC / c? / cSETSPEC b0 c/\\\\ creal_lt creal_of_num cNUMERAL c_0 b1 creal_lt creal_of_num cNUMERAL c_0 cdelta_y f0 f1 f2 b1 f3 f4 b1', 0), ('c/\\\\ cderived_form cT / creal_sub creal_mul f0 f0 creal_mul f1 f1 creal_of_num cNUMERAL c_0 f2 part cUNIV cderived_form c/\\\\ c/\\\\ cT cT cT / creal_add * / creal_mul * / b1 b1 * / b1 b1 b0 * / creal_sub creal_mul f3 f3 creal_mul f4 f4 b0 creal_add creal_add creal_mul * / b0 f2 creal_of_num cNUMERAL cBIT1 c_0 creal_mul creal_of_num cNUMERAL cBIT1 c_0 * / b0 f2 creal_of_num cNUMERAL c_0 f2 part cUNIV\\n & creal_open * part cGSPEC / c? / cSETSPEC b0 c/\\\\ creal_lt creal_of_num cNUMERAL c_0 b1 creal_lt creal_of_num cNUMERAL c_0 cdelta_y f0 f1 f2 b1 f3 f4 b1', 1), ('c/\\\\ cderived_form c/\\\\ cT cT / creal_mul * / b1 b0 * / b1 b0 creal_add creal_mul * / b0 f0 creal_of_num cNUMERAL cBIT1 c_0 creal_mul creal_of_num cNUMERAL cBIT1 c_0 * / b0 f0 f0 part cUNIV cderived_form cT / creal_mul f1 f1 creal_of_num cNUMERAL c_0 f0 part cUNIV\\n & creal_open * part cGSPEC / c? / cSETSPEC b0 c/\\\\ creal_lt creal_of_num cNUMERAL c_0 b1 creal_lt creal_of_num cNUMERAL c_0 cdelta_y f0 f1 f2 b1 f3 f4 b1', 1), ('c= c==> ! ! ! ! ! c= cderived_form b0 b1 b2 b3 b4 c==> b0 chas_real_derivative b1 b2 cwithin catreal b3 b4 * / ! ! ! ! c= cderived_form b0 b1 b2 b3 b4 c==> b0 chas_real_derivative b1 b2 cwithin catreal b3 b4 f0 * / ! ! ! ! c= cderived_form b0 b1 b2 b3 b4 c==> b0 chas_real_derivative b1 b2 cwithin catreal b3 b4 f0\\n & creal_open * part cGSPEC / c? / cSETSPEC b0 c/\\\\ creal_lt creal_of_num cNUMERAL c_0 b1 creal_lt creal_of_num cNUMERAL c_0 cdelta_y f0 f1 f2 b1 f3 f4 b1', 1), ('c/\\\\ ! ! c= cGSPEC / c? / cSETSPEC b2 * b0 b3 b3 b1 * b0 b1 ! ! c= cIN b1 / * b0 b2 * b0 b1\\n & creal_open * part cGSPEC / c? / cSETSPEC b0 c/\\\\ creal_lt creal_of_num cNUMERAL c_0 b1 creal_lt creal_of_num cNUMERAL c_0 cdelta_y f0 f1 f2 b1 f3 f4 b1', 0), ('c==> * / chas_real_derivative f0 b0 catreal f1 f2 c/\\\\ * / chas_real_derivative f0 b0 catreal f1 f2 c==> ! ! ! c==> chas_real_derivative b0 b1 catreal b2 creal_continuous b0 catreal b2 creal_continuous f0 catreal f1\\n & creal_open * part cGSPEC / c? / cSETSPEC b0 c/\\\\ creal_lt creal_of_num cNUMERAL c_0 b1 creal_lt creal_of_num cNUMERAL c_0 cdelta_y f0 f1 f2 b1 f3 f4 b1', 1), ('c= c==> creal_lt creal_of_num cNUMERAL c_0 f0 creal_continuous / cdelta_y f1 f2 f3 b0 f4 f5 cwithin catreal f0 * part cGSPEC / c? / cSETSPEC b0 creal_lt creal_of_num cNUMERAL c_0 b1 b1 cT\\n & creal_open * part cGSPEC / c? / cSETSPEC b0 c/\\\\ creal_lt creal_of_num cNUMERAL c_0 b1 creal_lt creal_of_num cNUMERAL c_0 cdelta_y f0 f1 f2 b1 f3 f4 b1', 1), ('c/\\\\ cderived_form cT / creal_mul f0 f0 creal_of_num cNUMERAL c_0 f1 part cUNIV cderived_form c/\\\\ c/\\\\ cT cT c/\\\\ cT c/\\\\ cT c/\\\\ c/\\\\ cT c/\\\\ cT cT cT / creal_mul * / creal_mul * / b1 b1 * / b1 b1 b0 * / creal_add * / creal_neg creal_mul f0 f0 b1 * / creal_add * / creal_mul f2 f2 b1 * / creal_add * / creal_sub * / creal_mul f3 f3 b1 * / creal_mul * / b1 b1 * / b1 b1 b1 b1 * / creal_add creal_mul f4 f4 creal_mul f5 f5 b1 b1 b1 b0 creal_add creal_mul * / creal_mul * / b1 b0 * / b1 b0 f1 creal_add creal_of_num cNUMERAL c_0 creal_add creal_of_num cNUMERAL c_0 creal_add creal_sub creal_of_num cNUMERAL c_0 creal_add creal_mul * / b0 f1 creal_of_num cNUMERAL cBIT1 c_0 creal_mul creal_of_num cNUMERAL cBIT1 c_0 * / b0 f1 creal_of_num cNUMERAL c_0 creal_mul creal_add creal_mul * / b0 f1 creal_of_num cNUMERAL cBIT1 c_0 creal_mul creal_of_num cNUMERAL cBIT1 c_0 * / b0 f1 * / creal_add * / creal_neg creal_mul f0 f0 b0 * / creal_add * / creal_mul f2 f2 b1 * / creal_add * / creal_sub * / creal_mul f3 f3 b1 * / creal_mul * / b1 b1 * / b1 b1 b1 b1 * / creal_add creal_mul f4 f4 creal_mul f5 f5 b1 b1 b0 f1 f1 part cUNIV\\n & creal_open * part cGSPEC / c? / cSETSPEC b0 c/\\\\ creal_lt creal_of_num cNUMERAL c_0 b1 creal_lt creal_of_num cNUMERAL c_0 cdelta_y f0 f1 f2 b1 f3 f4 b1', 1), ('c= creal_sub creal_of_num cNUMERAL c_0 f0 creal_neg f0\\n & creal_open * part cGSPEC / c? / cSETSPEC b0 c/\\\\ creal_lt creal_of_num cNUMERAL c_0 b1 creal_lt creal_of_num cNUMERAL c_0 cdelta_y f0 f1 f2 b1 f3 f4 b1', 1), ('cderived_form cT / creal_mul creal_mul f0 f0 creal_mul creal_mul f1 f1 creal_mul f2 f2 creal_of_num cNUMERAL c_0 f3 f4\\n & creal_open * part cGSPEC / c? / cSETSPEC b0 c/\\\\ creal_lt creal_of_num cNUMERAL c_0 b1 creal_lt creal_of_num cNUMERAL c_0 cdelta_y f0 f1 f2 b1 f3 f4 b1', 1), ('cderived_form cT / creal_mul creal_mul f0 f0 creal_mul f1 f1 creal_of_num cNUMERAL c_0 f2 part cUNIV\\n & creal_open * part cGSPEC / c? / cSETSPEC b0 c/\\\\ creal_lt creal_of_num cNUMERAL c_0 b1 creal_lt creal_of_num cNUMERAL c_0 cdelta_y f0 f1 f2 b1 f3 f4 b1', 1), ('c= c==> ! c= cdelta_x f0 f1 f2 f3 f4 b0 creal_add creal_mul f0 creal_mul f3 creal_add creal_neg f0 creal_add f1 creal_add creal_sub f2 f3 creal_add f4 b0 creal_add creal_mul f1 creal_mul f4 creal_add creal_sub f0 f1 creal_add f2 creal_add creal_sub f3 f4 b0 creal_sub creal_sub creal_sub creal_sub creal_mul f2 creal_mul b0 creal_add f0 creal_add creal_sub f1 f2 creal_add f3 creal_sub f4 b0 creal_mul f1 creal_mul f2 f3 creal_mul f0 creal_mul f2 f4 creal_mul f0 creal_mul f1 b0 creal_mul f3 creal_mul f4 b0 * / c= cdelta_x f0 f1 f2 f3 f4 b0 creal_add creal_mul f0 creal_mul f3 creal_add creal_neg f0 creal_add f1 creal_add creal_sub f2 f3 creal_add f4 b0 creal_add creal_mul f1 creal_mul f4 creal_add creal_sub f0 f1 creal_add f2 creal_add creal_sub f3 f4 b0 creal_sub creal_sub creal_sub creal_sub creal_mul f2 creal_mul b0 creal_add f0 creal_add creal_sub f1 f2 creal_add f3 creal_sub f4 b0 creal_mul f1 creal_mul f2 f3 creal_mul f0 creal_mul f2 f4 creal_mul f0 creal_mul f1 b0 creal_mul f3 creal_mul f4 b0 f5 * / c= cdelta_x f0 f1 f2 f3 f4 b0 creal_add creal_mul f0 creal_mul f3 creal_add creal_neg f0 creal_add f1 creal_add creal_sub f2 f3 creal_add f4 b0 creal_add creal_mul f1 creal_mul f4 creal_add creal_sub f0 f1 creal_add f2 creal_add creal_sub f3 f4 b0 creal_sub creal_sub creal_sub creal_sub creal_mul f2 creal_mul b0 creal_add f0 creal_add creal_sub f1 f2 creal_add f3 creal_sub f4 b0 creal_mul f1 creal_mul f2 f3 creal_mul f0 creal_mul f2 f4 creal_mul f0 creal_mul f1 b0 creal_mul f3 creal_mul f4 b0 f5\\n & creal_open * part cGSPEC / c? / cSETSPEC b0 c/\\\\ creal_lt creal_of_num cNUMERAL c_0 b1 creal_lt creal_of_num cNUMERAL c_0 cdelta_y f0 f1 f2 b1 f3 f4 b1', 1), ('c= cderived_form cT / b0 creal_of_num cNUMERAL cBIT1 c_0 f0 part cUNIV c/\\\\ cderived_form cT / b0 creal_of_num cNUMERAL cBIT1 c_0 f0 part cUNIV cderived_form cT / b0 creal_of_num cNUMERAL cBIT1 c_0 f0 part cUNIV\\n & creal_open * part cGSPEC / c? / cSETSPEC b0 c/\\\\ creal_lt creal_of_num cNUMERAL c_0 b1 creal_lt creal_of_num cNUMERAL c_0 cdelta_y f0 f1 f2 b1 f3 f4 b1', 1), ('* / ! ! ! c= cdelta_x f0 b0 f1 b1 b2 b3 creal_add creal_mul f0 creal_mul b1 creal_add creal_neg f0 creal_add b0 creal_add creal_sub f1 b1 creal_add b2 b3 creal_add creal_mul b0 creal_mul b2 creal_add creal_sub f0 b0 creal_add f1 creal_add creal_sub b1 b2 b3 creal_sub creal_sub creal_sub creal_sub creal_mul f1 creal_mul b3 creal_add f0 creal_add creal_sub b0 f1 creal_add b1 creal_sub b2 b3 creal_mul b0 creal_mul f1 b1 creal_mul f0 creal_mul f1 b2 creal_mul f0 creal_mul b0 b3 creal_mul b1 creal_mul b2 b3 f2\\n & creal_open * part cGSPEC / c? / cSETSPEC b0 c/\\\\ creal_lt creal_of_num cNUMERAL c_0 b1 creal_lt creal_of_num cNUMERAL c_0 cdelta_y f0 f1 f2 b1 f3 f4 b1', 1), ('* / c==> c/\\\\ creal_open * part cGSPEC / c? / cSETSPEC b1 creal_lt creal_of_num cNUMERAL c_0 b2 b2 c/\\\\ creal_open b0 creal_continuous_on / cdelta_y f0 f1 f2 b1 f3 f4 * part cGSPEC / c? / cSETSPEC b1 creal_lt creal_of_num cNUMERAL c_0 b2 b2 creal_open * part cGSPEC / c? / cSETSPEC b1 c/\\\\ cIN b2 * part cGSPEC / c? / cSETSPEC b3 creal_lt creal_of_num cNUMERAL c_0 b4 b4 cIN * / cdelta_y f0 f1 f2 b3 f3 f4 b2 b0 b2 * part cGSPEC / c? / cSETSPEC b0 creal_lt creal_of_num cNUMERAL c_0 b1 b1\\n & creal_open * part cGSPEC / c? / cSETSPEC b0 c/\\\\ creal_lt creal_of_num cNUMERAL c_0 b1 creal_lt creal_of_num cNUMERAL c_0 cdelta_y f0 f1 f2 b1 f3 f4 b1', 1), ('c= cderived_form c/\\\\ cT c/\\\\ cT cT / creal_mul * / creal_mul f0 f0 b0 * / creal_mul * / b1 b1 * / b1 b1 b0 creal_add creal_mul * / creal_mul f0 f0 f1 creal_add creal_mul * / b0 f1 creal_of_num cNUMERAL cBIT1 c_0 creal_mul creal_of_num cNUMERAL cBIT1 c_0 * / b0 f1 creal_mul creal_of_num cNUMERAL c_0 * / creal_mul * / b1 b0 * / b1 b0 f1 f1 part cUNIV c/\\\\ cderived_form cT / creal_mul f2 f2 creal_of_num cNUMERAL c_0 f1 part cUNIV cderived_form c/\\\\ cT c/\\\\ cT cT / creal_mul * / creal_mul f0 f0 b0 * / creal_mul * / b1 b1 * / b1 b1 b0 creal_add creal_mul * / creal_mul f0 f0 f1 creal_add creal_mul * / b0 f1 creal_of_num cNUMERAL cBIT1 c_0 creal_mul creal_of_num cNUMERAL cBIT1 c_0 * / b0 f1 creal_mul creal_of_num cNUMERAL c_0 * / creal_mul * / b1 b0 * / b1 b0 f1 f1 part cUNIV\\n & creal_open * part cGSPEC / c? / cSETSPEC b0 c/\\\\ creal_lt creal_of_num cNUMERAL c_0 b1 creal_lt creal_of_num cNUMERAL c_0 cdelta_y f0 f1 f2 b1 f3 f4 b1', 1), ('cderived_form c/\\\\ c/\\\\ cT cT cT / creal_mul * / creal_mul * / b1 b1 * / b1 b1 b0 * / creal_mul creal_mul f0 f0 creal_mul f1 f1 b0 creal_add creal_mul * / creal_mul * / b1 b0 * / b1 b0 f2 creal_of_num cNUMERAL c_0 creal_mul creal_add creal_mul * / b0 f2 creal_of_num cNUMERAL cBIT1 c_0 creal_mul creal_of_num cNUMERAL cBIT1 c_0 * / b0 f2 * / creal_mul creal_mul f0 f0 creal_mul f1 f1 f2 f2 part cUNIV\\n & creal_open * part cGSPEC / c? / cSETSPEC b0 c/\\\\ creal_lt creal_of_num cNUMERAL c_0 b1 creal_lt creal_of_num cNUMERAL c_0 cdelta_y f0 f1 f2 b1 f3 f4 b1', 1), ('* / c= cIN b0 * part cGSPEC / c? / cSETSPEC b1 * f0 b2 b2 * f0 b0 f1\\n & creal_open * part cGSPEC / c? / cSETSPEC b0 c/\\\\ creal_lt creal_of_num cNUMERAL c_0 b1 creal_lt creal_of_num cNUMERAL c_0 cdelta_y f0 f1 f2 b1 f3 f4 b1', 1), ('c==> chas_real_derivative f0 f1 catreal f2 c/\\\\ chas_real_derivative f0 f1 catreal f2 c==> ! ! ! c==> chas_real_derivative b0 b1 catreal b2 creal_continuous b0 catreal b2 creal_continuous f0 catreal f2\\n & creal_open * part cGSPEC / c? / cSETSPEC b0 c/\\\\ creal_lt creal_of_num cNUMERAL c_0 b1 creal_lt creal_of_num cNUMERAL c_0 cdelta_y f0 f1 f2 b1 f3 f4 b1', 1), ('c==> c/\\\\ creal_ge creal_add f0 creal_mul creal_neg creal_of_num cNUMERAL cBIT1 c_0 f1 creal_of_num cNUMERAL c_0 creal_gt creal_add creal_mul creal_neg creal_of_num cNUMERAL cBIT1 c_0 f0 f1 creal_of_num cNUMERAL c_0 c= c==> c/\\\\ creal_gt creal_of_num cNUMERAL cBIT1 c_0 creal_of_num cNUMERAL c_0 creal_ge creal_add f0 creal_mul creal_neg creal_of_num cNUMERAL cBIT1 c_0 f1 creal_of_num cNUMERAL c_0 creal_ge creal_mul creal_of_num cNUMERAL cBIT1 c_0 creal_add f0 creal_mul creal_neg creal_of_num cNUMERAL cBIT1 c_0 f1 creal_of_num cNUMERAL c_0 creal_ge creal_mul creal_of_num cNUMERAL cBIT1 c_0 creal_add f0 creal_mul creal_neg creal_of_num cNUMERAL cBIT1 c_0 f1 creal_of_num cNUMERAL c_0\\n & creal_open * part cGSPEC / c? / cSETSPEC b0 c/\\\\ creal_lt creal_of_num cNUMERAL c_0 b1 creal_lt creal_of_num cNUMERAL c_0 cdelta_y f0 f1 f2 b1 f3 f4 b1', 0), ('cderived_form c/\\\\ cT c/\\\\ cT c/\\\\ cT c/\\\\ c/\\\\ cT cT cT / creal_mul * / creal_mul f0 f0 b0 * / creal_add * / creal_mul f1 f1 b1 * / creal_add * / creal_sub creal_mul f2 f2 creal_mul f3 f3 b1 * / creal_add * / creal_mul * / b1 b1 * / b1 b1 b1 * / creal_sub creal_mul f4 f4 creal_mul f0 f0 b1 b1 b1 b0 creal_add creal_mul * / creal_mul f0 f0 f5 creal_add creal_of_num cNUMERAL c_0 creal_add creal_of_num cNUMERAL c_0 creal_add creal_add creal_mul * / b0 f5 creal_of_num cNUMERAL cBIT1 c_0 creal_mul creal_of_num cNUMERAL cBIT1 c_0 * / b0 f5 creal_of_num cNUMERAL c_0 creal_mul creal_of_num cNUMERAL c_0 * / creal_add * / creal_mul f1 f1 b0 * / creal_add * / creal_sub creal_mul f2 f2 creal_mul f3 f3 b1 * / creal_add * / creal_mul * / b1 b1 * / b1 b1 b1 * / creal_sub creal_mul f4 f4 creal_mul f0 f0 b1 b1 b0 f5 f5 part cUNIV\\n & creal_open * part cGSPEC / c? / cSETSPEC b0 c/\\\\ creal_lt creal_of_num cNUMERAL c_0 b1 creal_lt creal_of_num cNUMERAL c_0 cdelta_y f0 f1 f2 b1 f3 f4 b1', 1), ('c==> c/\\\\ creal_ge creal_add f0 creal_mul creal_neg creal_of_num cNUMERAL cBIT1 c_0 f1 creal_of_num cNUMERAL c_0 creal_gt creal_add creal_mul creal_neg creal_of_num cNUMERAL cBIT1 c_0 f0 f1 creal_of_num cNUMERAL c_0 creal_ge creal_mul creal_of_num cNUMERAL cBIT1 c_0 creal_add f0 creal_mul creal_neg creal_of_num cNUMERAL cBIT1 c_0 f1 creal_of_num cNUMERAL c_0\\n & creal_open * part cGSPEC / c? / cSETSPEC b0 c/\\\\ creal_lt creal_of_num cNUMERAL c_0 b1 creal_lt creal_of_num cNUMERAL c_0 cdelta_y f0 f1 f2 b1 f3 f4 b1', 0), ('c= c==> creal_lt creal_of_num cNUMERAL c_0 creal_of_num cNUMERAL cBIT1 c_0 c==> c= creal_mul creal_add creal_mul creal_neg creal_of_num cNUMERAL cBIT1 c_0 creal_of_num cNUMERAL cBIT1 c_0 creal_mul creal_of_num cNUMERAL cBIT1 c_0 creal_of_num cNUMERAL cBIT1 c_0 creal_of_num cNUMERAL cBIT1 c_0 creal_mul creal_of_num cNUMERAL c_0 creal_mul creal_of_num cNUMERAL cBIT1 c_0 creal_of_num cNUMERAL cBIT1 c_0 c= creal_add creal_div creal_neg creal_of_num cNUMERAL cBIT1 c_0 creal_of_num cNUMERAL cBIT1 c_0 creal_div creal_of_num cNUMERAL cBIT1 c_0 creal_of_num cNUMERAL cBIT1 c_0 creal_div creal_of_num cNUMERAL c_0 creal_of_num cNUMERAL cBIT1 c_0 c==> c= creal_mul creal_add creal_mul creal_neg creal_of_num cNUMERAL cBIT1 c_0 creal_of_num cNUMERAL cBIT1 c_0 creal_mul creal_of_num cNUMERAL cBIT1 c_0 creal_of_num cNUMERAL cBIT1 c_0 creal_of_num cNUMERAL cBIT1 c_0 creal_mul creal_of_num cNUMERAL c_0 creal_mul creal_of_num cNUMERAL cBIT1 c_0 creal_of_num cNUMERAL cBIT1 c_0 c= creal_add creal_div creal_neg creal_of_num cNUMERAL cBIT1 c_0 creal_of_num cNUMERAL cBIT1 c_0 creal_div creal_of_num cNUMERAL cBIT1 c_0 creal_of_num cNUMERAL cBIT1 c_0 creal_div creal_of_num cNUMERAL c_0 creal_of_num cNUMERAL cBIT1 c_0\\n & creal_open * part cGSPEC / c? / cSETSPEC b0 c/\\\\ creal_lt creal_of_num cNUMERAL c_0 b1 creal_lt creal_of_num cNUMERAL c_0 cdelta_y f0 f1 f2 b1 f3 f4 b1', 0), ('c= c==> c/\\\\ cderived_form cT / b0 creal_of_num cNUMERAL cBIT1 c_0 f0 part cUNIV cderived_form cT / b0 creal_of_num cNUMERAL cBIT1 c_0 f0 part cUNIV cderived_form c/\\\\ cT cT / creal_mul * / b1 b0 * / b1 b0 creal_add creal_mul * / b0 f0 creal_of_num cNUMERAL cBIT1 c_0 creal_mul creal_of_num cNUMERAL cBIT1 c_0 * / b0 f0 f0 part cUNIV cderived_form c/\\\\ cT cT / creal_mul * / b1 b0 * / b1 b0 creal_add creal_mul * / b0 f0 creal_of_num cNUMERAL cBIT1 c_0 creal_mul creal_of_num cNUMERAL cBIT1 c_0 * / b0 f0 f0 part cUNIV\\n & creal_open * part cGSPEC / c? / cSETSPEC b0 c/\\\\ creal_lt creal_of_num cNUMERAL c_0 b1 creal_lt creal_of_num cNUMERAL c_0 cdelta_y f0 f1 f2 b1 f3 f4 b1', 1), ('creal_open * part cGSPEC / c? / cSETSPEC b0 creal_lt creal_of_num cNUMERAL c_0 b1 b1\\n & creal_open * part cGSPEC / c? / cSETSPEC b0 c/\\\\ creal_lt creal_of_num cNUMERAL c_0 b1 creal_lt creal_of_num cNUMERAL c_0 cdelta_y f0 f1 f2 b1 f3 f4 b1', 1), ('c= c==> f0 cT cT\\n & creal_open * part cGSPEC / c? / cSETSPEC b0 c/\\\\ creal_lt creal_of_num cNUMERAL c_0 b1 creal_lt creal_of_num cNUMERAL c_0 cdelta_y f0 f1 f2 b1 f3 f4 b1', 0), ('c/\\\\ cderived_form cT / creal_mul f0 f0 creal_of_num cNUMERAL c_0 f1 part cUNIV cderived_form c/\\\\ cT cT / creal_mul * / b1 b0 * / b1 b0 creal_add creal_mul * / b0 f1 creal_of_num cNUMERAL cBIT1 c_0 creal_mul creal_of_num cNUMERAL cBIT1 c_0 * / b0 f1 f1 part cUNIV\\n & creal_open * part cGSPEC / c? / cSETSPEC b0 c/\\\\ creal_lt creal_of_num cNUMERAL c_0 b1 creal_lt creal_of_num cNUMERAL c_0 cdelta_y f0 f1 f2 b1 f3 f4 b1', 1), ('c= c==> ! ! cderived_form cT / creal_add creal_mul f0 f0 creal_mul f1 f1 creal_of_num cNUMERAL c_0 b0 b1 * / ! cderived_form cT / creal_add creal_mul f0 f0 creal_mul f1 f1 creal_of_num cNUMERAL c_0 b0 b1 f2 * / ! cderived_form cT / creal_add creal_mul f0 f0 creal_mul f1 f1 creal_of_num cNUMERAL c_0 b0 b1 f2\\n & creal_open * part cGSPEC / c? / cSETSPEC b0 c/\\\\ creal_lt creal_of_num cNUMERAL c_0 b1 creal_lt creal_of_num cNUMERAL c_0 cdelta_y f0 f1 f2 b1 f3 f4 b1', 1), ('c==> ! ! ! c==> creal_continuous b0 catreal b2 creal_continuous b0 cwithin catreal b2 b1 c= c==> creal_continuous f0 catreal f1 creal_continuous f0 cwithin catreal f1 f2 cT\\n & creal_open * part cGSPEC / c? / cSETSPEC b0 c/\\\\ creal_lt creal_of_num cNUMERAL c_0 b1 creal_lt creal_of_num cNUMERAL c_0 cdelta_y f0 f1 f2 b1 f3 f4 b1', 1), ('* / c= cGSPEC / * f0 * part cSETSPEC b1 b0 * f0 / / c/\\\\ b1 c= b0 b2 f1\\n & creal_open * part cGSPEC / c? / cSETSPEC b0 c/\\\\ creal_lt creal_of_num cNUMERAL c_0 b1 creal_lt creal_of_num cNUMERAL c_0 cdelta_y f0 f1 f2 b1 f3 f4 b1', 0), ('c= cderived_form c/\\\\ cT c/\\\\ cT c/\\\\ cT c/\\\\ c/\\\\ c/\\\\ cT cT cT cT / creal_mul * / creal_mul f0 f0 b0 * / creal_add * / creal_sub creal_mul f1 f1 creal_mul f2 f2 b1 * / creal_add * / creal_mul f3 f3 b1 * / creal_add * / creal_sub * / creal_mul * / b1 b1 * / b1 b1 b1 * / creal_mul f0 f0 b1 b1 * / creal_mul f4 f4 b1 b1 b1 b0 creal_add creal_mul * / creal_mul f0 f0 f5 creal_add creal_of_num cNUMERAL c_0 creal_add creal_of_num cNUMERAL c_0 creal_add creal_sub creal_add creal_mul * / b0 f5 creal_of_num cNUMERAL cBIT1 c_0 creal_mul creal_of_num cNUMERAL cBIT1 c_0 * / b0 f5 creal_of_num cNUMERAL c_0 creal_of_num cNUMERAL c_0 creal_mul creal_of_num cNUMERAL c_0 * / creal_add * / creal_sub creal_mul f1 f1 creal_mul f2 f2 b0 * / creal_add * / creal_mul f3 f3 b1 * / creal_add * / creal_sub * / creal_mul * / b1 b1 * / b1 b1 b1 * / creal_mul f0 f0 b1 b1 * / creal_mul f4 f4 b1 b1 b0 f5 f5 part cUNIV c/\\\\ cderived_form cT / creal_mul f2 f2 creal_of_num cNUMERAL c_0 f5 part cUNIV cderived_form c/\\\\ cT c/\\\\ cT c/\\\\ cT c/\\\\ c/\\\\ c/\\\\ cT cT cT cT / creal_mul * / creal_mul f0 f0 b0 * / creal_add * / creal_sub creal_mul f1 f1 creal_mul f2 f2 b1 * / creal_add * / creal_mul f3 f3 b1 * / creal_add * / creal_sub * / creal_mul * / b1 b1 * / b1 b1 b1 * / creal_mul f0 f0 b1 b1 * / creal_mul f4 f4 b1 b1 b1 b0 creal_add creal_mul * / creal_mul f0 f0 f5 creal_add creal_of_num cNUMERAL c_0 creal_add creal_of_num cNUMERAL c_0 creal_add creal_sub creal_add creal_mul * / b0 f5 creal_of_num cNUMERAL cBIT1 c_0 creal_mul creal_of_num cNUMERAL cBIT1 c_0 * / b0 f5 creal_of_num cNUMERAL c_0 creal_of_num cNUMERAL c_0 creal_mul creal_of_num cNUMERAL c_0 * / creal_add * / creal_sub creal_mul f1 f1 creal_mul f2 f2 b0 * / creal_add * / creal_mul f3 f3 b1 * / creal_add * / creal_sub * / creal_mul * / b1 b1 * / b1 b1 b1 * / creal_mul f0 f0 b1 b1 * / creal_mul f4 f4 b1 b1 b0 f5 f5 part cUNIV\\n & creal_open * part cGSPEC / c? / cSETSPEC b0 c/\\\\ creal_lt creal_of_num cNUMERAL c_0 b1 creal_lt creal_of_num cNUMERAL c_0 cdelta_y f0 f1 f2 b1 f3 f4 b1', 1), ('c= cT creal_gt creal_of_num cNUMERAL cBIT1 c_0 creal_of_num cNUMERAL c_0\\n & creal_open * part cGSPEC / c? / cSETSPEC b0 c/\\\\ creal_lt creal_of_num cNUMERAL c_0 b1 creal_lt creal_of_num cNUMERAL c_0 cdelta_y f0 f1 f2 b1 f3 f4 b1', 0), ('c= c==> f0 f0 cT\\n & creal_open * part cGSPEC / c? / cSETSPEC b0 c/\\\\ creal_lt creal_of_num cNUMERAL c_0 b1 creal_lt creal_of_num cNUMERAL c_0 cdelta_y f0 f1 f2 b1 f3 f4 b1', 1), ('c==> c/\\\\ creal_ge creal_add f0 creal_mul creal_neg creal_of_num cNUMERAL cBIT1 c_0 f1 creal_of_num cNUMERAL c_0 creal_gt creal_add creal_mul creal_neg creal_of_num cNUMERAL cBIT1 c_0 f0 f1 creal_of_num cNUMERAL c_0 c/\\\\ creal_gt creal_add creal_mul creal_neg creal_of_num cNUMERAL cBIT1 c_0 f0 f1 creal_of_num cNUMERAL c_0 creal_ge creal_add f0 creal_mul creal_neg creal_of_num cNUMERAL cBIT1 c_0 f1 creal_of_num cNUMERAL c_0\\n & creal_open * part cGSPEC / c? / cSETSPEC b0 c/\\\\ creal_lt creal_of_num cNUMERAL c_0 b1 creal_lt creal_of_num cNUMERAL c_0 cdelta_y f0 f1 f2 b1 f3 f4 b1', 1), ('c= c\\\\/ f0 f0 f0\\n & creal_open * part cGSPEC / c? / cSETSPEC b0 c/\\\\ creal_lt creal_of_num cNUMERAL c_0 b1 creal_lt creal_of_num cNUMERAL c_0 cdelta_y f0 f1 f2 b1 f3 f4 b1', 0), ('c==> c/\\\\ creal_open f0 c/\\\\ creal_open f1 creal_continuous_on / cdelta_y f2 f3 f4 b0 f5 f6 f0 creal_open * part cGSPEC / c? / cSETSPEC b0 c/\\\\ cIN b1 f0 cIN * / cdelta_y f2 f3 f4 b2 f5 f6 b1 f1 b1\\n & creal_open * part cGSPEC / c? / cSETSPEC b0 c/\\\\ creal_lt creal_of_num cNUMERAL c_0 b1 creal_lt creal_of_num cNUMERAL c_0 cdelta_y f0 f1 f2 b1 f3 f4 b1', 1), ('c/\\\\ cderived_form c/\\\\ c/\\\\ c/\\\\ cT c/\\\\ cT c/\\\\ cT c/\\\\ cT c/\\\\ c/\\\\ cT cT cT c/\\\\ cT c/\\\\ cT c/\\\\ cT cT cT / creal_sub * / creal_sub * / creal_mul * / creal_mul f0 f0 b1 * / creal_mul * / creal_mul f1 f1 b1 * / creal_add * / creal_mul f2 f2 b1 * / creal_add * / creal_sub creal_mul f3 f3 creal_mul f0 f0 b1 * / creal_add * / creal_mul * / b1 b1 * / b1 b1 b1 * / creal_sub creal_mul f4 f4 creal_mul f1 f1 b1 b1 b1 b1 b1 b1 * / creal_mul * / creal_mul f3 f3 b1 * / creal_mul * / creal_mul f0 f0 b1 * / creal_mul * / b1 b1 * / b1 b1 b1 b1 b1 b0 * / creal_mul creal_mul f2 f2 creal_mul creal_mul f0 f0 creal_mul f4 f4 b0 creal_sub creal_sub creal_add creal_mul * / creal_mul f0 f0 f5 creal_add creal_mul * / creal_mul f1 f1 f5 creal_add creal_of_num cNUMERAL c_0 creal_add creal_of_num cNUMERAL c_0 creal_add creal_add creal_mul * / b0 f5 creal_of_num cNUMERAL cBIT1 c_0 creal_mul creal_of_num cNUMERAL cBIT1 c_0 * / b0 f5 creal_of_num cNUMERAL c_0 creal_mul creal_of_num cNUMERAL c_0 * / creal_add * / creal_mul f2 f2 b0 * / creal_add * / creal_sub creal_mul f3 f3 creal_mul f0 f0 b1 * / creal_add * / creal_mul * / b1 b1 * / b1 b1 b1 * / creal_sub creal_mul f4 f4 creal_mul f1 f1 b1 b1 b0 f5 creal_mul creal_of_num cNUMERAL c_0 * / creal_mul * / creal_mul f1 f1 b0 * / creal_add * / creal_mul f2 f2 b1 * / creal_add * / creal_sub creal_mul f3 f3 creal_mul f0 f0 b1 * / creal_add * / creal_mul * / b1 b1 * / b1 b1 b1 * / creal_sub creal_mul f4 f4 creal_mul f1 f1 b1 b1 b1 b0 f5 creal_add creal_mul * / creal_mul f3 f3 f5 creal_add creal_mul * / creal_mul f0 f0 f5 creal_add creal_mul * / b0 f5 creal_of_num cNUMERAL cBIT1 c_0 creal_mul creal_of_num cNUMERAL cBIT1 c_0 * / b0 f5 creal_mul creal_of_num cNUMERAL c_0 * / creal_mul * / b1 b0 * / b1 b0 f5 creal_mul creal_of_num cNUMERAL c_0 * / creal_mul * / creal_mul f0 f0 b0 * / creal_mul * / b1 b1 * / b1 b1 b0 f5 creal_of_num cNUMERAL c_0 f5 part cUNIV cderived_form cT / creal_mul creal_mul f2 f2 creal_mul creal_mul f3 f3 creal_mul f1 f1 creal_of_num cNUMERAL c_0 f5 part cUNIV\\n & creal_open * part cGSPEC / c? / cSETSPEC b0 c/\\\\ creal_lt creal_of_num cNUMERAL c_0 b1 creal_lt creal_of_num cNUMERAL c_0 cdelta_y f0 f1 f2 b1 f3 f4 b1', 1), ('c= creal_lt creal_div creal_of_num cNUMERAL c_0 creal_of_num cNUMERAL cBIT1 c_0 creal_div creal_of_num cNUMERAL cBIT1 c_0 creal_of_num cNUMERAL cBIT1 c_0 creal_lt creal_mul creal_of_num cNUMERAL c_0 creal_of_num cNUMERAL cBIT1 c_0 creal_mul creal_of_num cNUMERAL cBIT1 c_0 creal_of_num cNUMERAL cBIT1 c_0\\n & creal_open * part cGSPEC / c? / cSETSPEC b0 c/\\\\ creal_lt creal_of_num cNUMERAL c_0 b1 creal_lt creal_of_num cNUMERAL c_0 cdelta_y f0 f1 f2 b1 f3 f4 b1', 0), ('c==> c==> c/\\\\ creal_open * part cGSPEC / c? / cSETSPEC b0 creal_lt creal_of_num cNUMERAL c_0 b1 b1 c/\\\\ creal_open * part cGSPEC / c? / cSETSPEC b0 creal_lt creal_of_num cNUMERAL c_0 b1 b1 creal_continuous_on / cdelta_y f0 f1 f2 b0 f3 f4 * part cGSPEC / c? / cSETSPEC b0 creal_lt creal_of_num cNUMERAL c_0 b1 b1 creal_open * part cGSPEC / c? / cSETSPEC b0 c/\\\\ cIN b1 * part cGSPEC / c? / cSETSPEC b2 creal_lt creal_of_num cNUMERAL c_0 b3 b3 cIN * / cdelta_y f0 f1 f2 b2 f3 f4 b1 * part cGSPEC / c? / cSETSPEC b2 creal_lt creal_of_num cNUMERAL c_0 b3 b3 b1 creal_open * part cGSPEC / c? / cSETSPEC b0 c/\\\\ creal_lt creal_of_num cNUMERAL c_0 b1 creal_lt creal_of_num cNUMERAL c_0 cdelta_y f0 f1 f2 b1 f3 f4 b1\\n & creal_open * part cGSPEC / c? / cSETSPEC b0 c/\\\\ creal_lt creal_of_num cNUMERAL c_0 b1 creal_lt creal_of_num cNUMERAL c_0 cdelta_y f0 f1 f2 b1 f3 f4 b1', 1), ('c==> ! ! ! c==> creal_continuous b0 catreal b2 creal_continuous b0 cwithin catreal b2 b1 ! c==> creal_continuous f0 catreal b0 creal_continuous f0 cwithin catreal b0 f1\\n & creal_open * part cGSPEC / c? / cSETSPEC b0 c/\\\\ creal_lt creal_of_num cNUMERAL c_0 b1 creal_lt creal_of_num cNUMERAL c_0 cdelta_y f0 f1 f2 b1 f3 f4 b1', 1), ('c==> ! ! ! c==> chas_real_derivative b0 b1 catreal b2 creal_continuous b0 catreal b2 c==> c? / chas_real_derivative f0 b0 catreal f1 creal_continuous f0 catreal f1\\n & creal_open * part cGSPEC / c? / cSETSPEC b0 c/\\\\ creal_lt creal_of_num cNUMERAL c_0 b1 creal_lt creal_of_num cNUMERAL c_0 cdelta_y f0 f1 f2 b1 f3 f4 b1', 1), ('c==> c/\\\\ creal_ge creal_add f0 creal_mul creal_neg creal_of_num cNUMERAL cBIT1 c_0 f1 creal_of_num cNUMERAL c_0 creal_gt creal_add creal_mul creal_neg creal_of_num cNUMERAL cBIT1 c_0 f0 f1 creal_of_num cNUMERAL c_0 c= creal_ge creal_add f0 creal_mul creal_neg creal_of_num cNUMERAL cBIT1 c_0 f1 creal_of_num cNUMERAL c_0 c/\\\\ creal_gt creal_add creal_mul creal_neg creal_of_num cNUMERAL cBIT1 c_0 f0 f1 creal_of_num cNUMERAL c_0 creal_ge creal_add f0 creal_mul creal_neg creal_of_num cNUMERAL cBIT1 c_0 f1 creal_of_num cNUMERAL c_0\\n & creal_open * part cGSPEC / c? / cSETSPEC b0 c/\\\\ creal_lt creal_of_num cNUMERAL c_0 b1 creal_lt creal_of_num cNUMERAL c_0 cdelta_y f0 f1 f2 b1 f3 f4 b1', 1), ('c= cderived_form c/\\\\ c/\\\\ cT cT cT / creal_add * / creal_mul * / b1 b1 * / b1 b1 b0 * / creal_sub creal_mul f0 f0 creal_mul f1 f1 b0 creal_add creal_add creal_mul * / b0 f2 creal_of_num cNUMERAL cBIT1 c_0 creal_mul creal_of_num cNUMERAL cBIT1 c_0 * / b0 f2 creal_of_num cNUMERAL c_0 f2 part cUNIV c/\\\\ cderived_form cT / creal_sub creal_mul f3 f3 creal_mul f4 f4 creal_of_num cNUMERAL c_0 f2 part cUNIV cderived_form c/\\\\ c/\\\\ cT cT cT / creal_add * / creal_mul * / b1 b1 * / b1 b1 b0 * / creal_sub creal_mul f0 f0 creal_mul f1 f1 b0 creal_add creal_add creal_mul * / b0 f2 creal_of_num cNUMERAL cBIT1 c_0 creal_mul creal_of_num cNUMERAL cBIT1 c_0 * / b0 f2 creal_of_num cNUMERAL c_0 f2 part cUNIV\\n & creal_open * part cGSPEC / c? / cSETSPEC b0 c/\\\\ creal_lt creal_of_num cNUMERAL c_0 b1 creal_lt creal_of_num cNUMERAL c_0 cdelta_y f0 f1 f2 b1 f3 f4 b1', 1), ('c= c==> ! ! ! ! ! c= cdelta_y f0 b0 b1 b2 b3 b4 cdelta_x creal_mul f0 f0 creal_mul b0 b0 creal_mul b1 b1 creal_mul b2 b2 creal_mul b3 b3 creal_mul b4 b4 * / ! ! ! ! c= cdelta_y f0 b0 b1 b2 b3 b4 cdelta_x creal_mul f0 f0 creal_mul b0 b0 creal_mul b1 b1 creal_mul b2 b2 creal_mul b3 b3 creal_mul b4 b4 f1 * / ! ! ! ! c= cdelta_y f0 b0 b1 b2 b3 b4 cdelta_x creal_mul f0 f0 creal_mul b0 b0 creal_mul b1 b1 creal_mul b2 b2 creal_mul b3 b3 creal_mul b4 b4 f1\\n & creal_open * part cGSPEC / c? / cSETSPEC b0 c/\\\\ creal_lt creal_of_num cNUMERAL c_0 b1 creal_lt creal_of_num cNUMERAL c_0 cdelta_y f0 f1 f2 b1 f3 f4 b1', 1), ('c= c==> ! ! ! ! ! ! c= cdelta_y b0 b1 b2 b3 b4 b5 cdelta_x creal_mul b0 b0 creal_mul b1 b1 creal_mul b2 b2 creal_mul b3 b3 creal_mul b4 b4 creal_mul b5 b5 * / ! ! ! ! ! c= cdelta_y b0 b1 b2 b3 b4 b5 cdelta_x creal_mul b0 b0 creal_mul b1 b1 creal_mul b2 b2 creal_mul b3 b3 creal_mul b4 b4 creal_mul b5 b5 f0 * / ! ! ! ! ! c= cdelta_y b0 b1 b2 b3 b4 b5 cdelta_x creal_mul b0 b0 creal_mul b1 b1 creal_mul b2 b2 creal_mul b3 b3 creal_mul b4 b4 creal_mul b5 b5 f0\\n & creal_open * part cGSPEC / c? / cSETSPEC b0 c/\\\\ creal_lt creal_of_num cNUMERAL c_0 b1 creal_lt creal_of_num cNUMERAL c_0 cdelta_y f0 f1 f2 b1 f3 f4 b1', 1), ('c/\\\\ creal_open * part cGSPEC / c? / cSETSPEC b0 creal_lt creal_of_num cNUMERAL c_0 b1 b1 c/\\\\ creal_open * part cGSPEC / c? / cSETSPEC b0 creal_lt creal_of_num cNUMERAL c_0 b1 b1 creal_continuous_on / cdelta_y f0 f1 f2 b0 f3 f4 * part cGSPEC / c? / cSETSPEC b0 creal_lt creal_of_num cNUMERAL c_0 b1 b1\\n & creal_open * part cGSPEC / c? / cSETSPEC b0 c/\\\\ creal_lt creal_of_num cNUMERAL c_0 b1 creal_lt creal_of_num cNUMERAL c_0 cdelta_y f0 f1 f2 b1 f3 f4 b1', 1), ('cderived_form c/\\\\ c/\\\\ cT c/\\\\ cT cT cT / creal_add * / creal_sub * / creal_mul f0 f0 b1 * / creal_mul * / b1 b1 * / b1 b1 b1 b0 * / creal_add creal_mul f1 f1 creal_mul f2 f2 b0 creal_add creal_sub creal_of_num cNUMERAL c_0 creal_add creal_mul * / b0 f3 creal_of_num cNUMERAL cBIT1 c_0 creal_mul creal_of_num cNUMERAL cBIT1 c_0 * / b0 f3 creal_of_num cNUMERAL c_0 f3 part cUNIV\\n & creal_open * part cGSPEC / c? / cSETSPEC b0 c/\\\\ creal_lt creal_of_num cNUMERAL c_0 b1 creal_lt creal_of_num cNUMERAL c_0 cdelta_y f0 f1 f2 b1 f3 f4 b1', 1), ('* / ! cderived_form cT / b2 creal_of_num cNUMERAL cBIT1 c_0 b0 b1 f0\\n & creal_open * part cGSPEC / c? / cSETSPEC b0 c/\\\\ creal_lt creal_of_num cNUMERAL c_0 b1 creal_lt creal_of_num cNUMERAL c_0 cdelta_y f0 f1 f2 b1 f3 f4 b1', 1), ('c==> c= creal_mul creal_add creal_mul creal_neg creal_of_num cNUMERAL cBIT1 c_0 creal_of_num cNUMERAL cBIT1 c_0 creal_mul creal_of_num cNUMERAL cBIT1 c_0 creal_of_num cNUMERAL cBIT1 c_0 creal_of_num cNUMERAL cBIT1 c_0 creal_mul creal_of_num cNUMERAL c_0 creal_mul creal_of_num cNUMERAL cBIT1 c_0 creal_of_num cNUMERAL cBIT1 c_0 c= creal_add creal_div creal_neg creal_of_num cNUMERAL cBIT1 c_0 creal_of_num cNUMERAL cBIT1 c_0 creal_div creal_of_num cNUMERAL cBIT1 c_0 creal_of_num cNUMERAL cBIT1 c_0 creal_div creal_of_num cNUMERAL c_0 creal_of_num cNUMERAL cBIT1 c_0\\n & creal_open * part cGSPEC / c? / cSETSPEC b0 c/\\\\ creal_lt creal_of_num cNUMERAL c_0 b1 creal_lt creal_of_num cNUMERAL c_0 cdelta_y f0 f1 f2 b1 f3 f4 b1', 0), ('* / c= c\\\\/ f0 c\\\\/ f1 b0 c\\\\/ c\\\\/ f0 f1 b0 f2\\n & creal_open * part cGSPEC / c? / cSETSPEC b0 c/\\\\ creal_lt creal_of_num cNUMERAL c_0 b1 creal_lt creal_of_num cNUMERAL c_0 cdelta_y f0 f1 f2 b1 f3 f4 b1', 0), ('c= c==> c/\\\\ cderived_form cT / creal_mul f0 f0 creal_of_num cNUMERAL c_0 f1 part cUNIV cderived_form c/\\\\ cT c/\\\\ c/\\\\ cT cT cT / creal_add * / creal_sub creal_mul f2 f2 creal_mul f3 f3 b0 * / creal_add * / creal_mul * / b1 b1 * / b1 b1 b1 * / creal_sub creal_mul f4 f4 creal_mul f5 f5 b1 b0 creal_add creal_of_num cNUMERAL c_0 creal_add creal_add creal_mul * / b0 f1 creal_of_num cNUMERAL cBIT1 c_0 creal_mul creal_of_num cNUMERAL cBIT1 c_0 * / b0 f1 creal_of_num cNUMERAL c_0 f1 part cUNIV cderived_form c/\\\\ cT c/\\\\ cT c/\\\\ c/\\\\ cT cT cT / creal_add * / creal_mul f0 f0 b0 * / creal_add * / creal_sub creal_mul f2 f2 creal_mul f3 f3 b1 * / creal_add * / creal_mul * / b1 b1 * / b1 b1 b1 * / creal_sub creal_mul f4 f4 creal_mul f5 f5 b1 b1 b0 creal_add creal_of_num cNUMERAL c_0 creal_add creal_of_num cNUMERAL c_0 creal_add creal_add creal_mul * / b0 f1 creal_of_num cNUMERAL cBIT1 c_0 creal_mul creal_of_num cNUMERAL cBIT1 c_0 * / b0 f1 creal_of_num cNUMERAL c_0 f1 part cUNIV cderived_form c/\\\\ cT c/\\\\ cT c/\\\\ c/\\\\ cT cT cT / creal_add * / creal_mul f0 f0 b0 * / creal_add * / creal_sub creal_mul f2 f2 creal_mul f3 f3 b1 * / creal_add * / creal_mul * / b1 b1 * / b1 b1 b1 * / creal_sub creal_mul f4 f4 creal_mul f5 f5 b1 b1 b0 creal_add creal_of_num cNUMERAL c_0 creal_add creal_of_num cNUMERAL c_0 creal_add creal_add creal_mul * / b0 f1 creal_of_num cNUMERAL cBIT1 c_0 creal_mul creal_of_num cNUMERAL cBIT1 c_0 * / b0 f1 creal_of_num cNUMERAL c_0 f1 part cUNIV\\n & creal_open * part cGSPEC / c? / cSETSPEC b0 c/\\\\ creal_lt creal_of_num cNUMERAL c_0 b1 creal_lt creal_of_num cNUMERAL c_0 cdelta_y f0 f1 f2 b1 f3 f4 b1', 1), ('c= c==> c==> c/\\\\ creal_open * part cGSPEC / c? / cSETSPEC b0 creal_lt creal_of_num cNUMERAL c_0 b1 b1 c/\\\\ creal_open * part cGSPEC / c? / cSETSPEC b0 creal_lt creal_of_num cNUMERAL c_0 b1 b1 creal_continuous_on / cdelta_y f0 f1 f2 b0 f3 f4 * part cGSPEC / c? / cSETSPEC b0 creal_lt creal_of_num cNUMERAL c_0 b1 b1 creal_open * part cGSPEC / c? / cSETSPEC b0 c/\\\\ creal_lt creal_of_num cNUMERAL c_0 b1 creal_lt creal_of_num cNUMERAL c_0 cdelta_y f0 f1 f2 b1 f3 f4 b1 creal_open * part cGSPEC / c? / cSETSPEC b0 c/\\\\ creal_lt creal_of_num cNUMERAL c_0 b1 creal_lt creal_of_num cNUMERAL c_0 cdelta_y f0 f1 f2 b1 f3 f4 b1 c==> c==> c/\\\\ creal_open * part cGSPEC / c? / cSETSPEC b0 creal_lt creal_of_num cNUMERAL c_0 b1 b1 c/\\\\ creal_open * part cGSPEC / c? / cSETSPEC b0 creal_lt creal_of_num cNUMERAL c_0 b1 b1 creal_continuous_on / cdelta_y f0 f1 f2 b0 f3 f4 * part cGSPEC / c? / cSETSPEC b0 creal_lt creal_of_num cNUMERAL c_0 b1 b1 creal_open * part cGSPEC / c? / cSETSPEC b0 c/\\\\ cIN b1 * part cGSPEC / c? / cSETSPEC b2 creal_lt creal_of_num cNUMERAL c_0 b3 b3 cIN * / cdelta_y f0 f1 f2 b2 f3 f4 b1 * part cGSPEC / c? / cSETSPEC b2 creal_lt creal_of_num cNUMERAL c_0 b3 b3 b1 creal_open * part cGSPEC / c? / cSETSPEC b0 c/\\\\ creal_lt creal_of_num cNUMERAL c_0 b1 creal_lt creal_of_num cNUMERAL c_0 cdelta_y f0 f1 f2 b1 f3 f4 b1\\n & creal_open * part cGSPEC / c? / cSETSPEC b0 c/\\\\ creal_lt creal_of_num cNUMERAL c_0 b1 creal_lt creal_of_num cNUMERAL c_0 cdelta_y f0 f1 f2 b1 f3 f4 b1', 1), ('cderived_form c/\\\\ cT cT / creal_mul * / b1 b0 * / b1 b0 creal_add creal_mul * / b0 f0 creal_of_num cNUMERAL cBIT1 c_0 creal_mul creal_of_num cNUMERAL cBIT1 c_0 * / b0 f0 f0 part cUNIV\\n & creal_open * part cGSPEC / c? / cSETSPEC b0 c/\\\\ creal_lt creal_of_num cNUMERAL c_0 b1 creal_lt creal_of_num cNUMERAL c_0 cdelta_y f0 f1 f2 b1 f3 f4 b1', 1), ('c==> ! ! ! c==> chas_real_derivative b0 b1 catreal b2 creal_continuous b0 catreal b2 * / ! ! c==> chas_real_derivative b0 b1 catreal b2 creal_continuous b0 catreal b2 f0\\n & creal_open * part cGSPEC / c? / cSETSPEC b0 c/\\\\ creal_lt creal_of_num cNUMERAL c_0 b1 creal_lt creal_of_num cNUMERAL c_0 cdelta_y f0 f1 f2 b1 f3 f4 b1', 1), ('c= c= cNUMERAL cBIT1 c_0 cNUMERAL c_0 cF\\n & creal_open * part cGSPEC / c? / cSETSPEC b0 c/\\\\ creal_lt creal_of_num cNUMERAL c_0 b1 creal_lt creal_of_num cNUMERAL c_0 cdelta_y f0 f1 f2 b1 f3 f4 b1', 0), ('cderived_form c/\\\\ cT c/\\\\ cT c/\\\\ cT c/\\\\ cT c/\\\\ c/\\\\ cT cT cT / creal_mul * / creal_mul f0 f0 b0 * / creal_mul * / creal_mul f1 f1 b1 * / creal_add * / creal_mul f2 f2 b1 * / creal_add * / creal_sub creal_mul f3 f3 creal_mul f0 f0 b1 * / creal_add * / creal_mul * / b1 b1 * / b1 b1 b1 * / creal_sub creal_mul f4 f4 creal_mul f1 f1 b1 b1 b1 b1 b0 creal_add creal_mul * / creal_mul f0 f0 f5 creal_add creal_mul * / creal_mul f1 f1 f5 creal_add creal_of_num cNUMERAL c_0 creal_add creal_of_num cNUMERAL c_0 creal_add creal_add creal_mul * / b0 f5 creal_of_num cNUMERAL cBIT1 c_0 creal_mul creal_of_num cNUMERAL cBIT1 c_0 * / b0 f5 creal_of_num cNUMERAL c_0 creal_mul creal_of_num cNUMERAL c_0 * / creal_add * / creal_mul f2 f2 b0 * / creal_add * / creal_sub creal_mul f3 f3 creal_mul f0 f0 b1 * / creal_add * / creal_mul * / b1 b1 * / b1 b1 b1 * / creal_sub creal_mul f4 f4 creal_mul f1 f1 b1 b1 b0 f5 creal_mul creal_of_num cNUMERAL c_0 * / creal_mul * / creal_mul f1 f1 b0 * / creal_add * / creal_mul f2 f2 b1 * / creal_add * / creal_sub creal_mul f3 f3 creal_mul f0 f0 b1 * / creal_add * / creal_mul * / b1 b1 * / b1 b1 b1 * / creal_sub creal_mul f4 f4 creal_mul f1 f1 b1 b1 b1 b0 f5 f5 part cUNIV\\n & creal_open * part cGSPEC / c? / cSETSPEC b0 c/\\\\ creal_lt creal_of_num cNUMERAL c_0 b1 creal_lt creal_of_num cNUMERAL c_0 cdelta_y f0 f1 f2 b1 f3 f4 b1', 1), ('c= c==> ! ! ! ! c= cderived_form f0 b0 b1 b2 b3 c==> f0 chas_real_derivative b0 b1 cwithin catreal b2 b3 * / ! ! ! c= cderived_form f0 b0 b1 b2 b3 c==> f0 chas_real_derivative b0 b1 cwithin catreal b2 b3 f1 * / ! ! ! c= cderived_form f0 b0 b1 b2 b3 c==> f0 chas_real_derivative b0 b1 cwithin catreal b2 b3 f1\\n & creal_open * part cGSPEC / c? / cSETSPEC b0 c/\\\\ creal_lt creal_of_num cNUMERAL c_0 b1 creal_lt creal_of_num cNUMERAL c_0 cdelta_y f0 f1 f2 b1 f3 f4 b1', 1), ('c==> c/\\\\ creal_gt f0 creal_of_num cNUMERAL c_0 creal_ge f1 creal_of_num cNUMERAL c_0 creal_gt creal_add f0 f1 creal_of_num cNUMERAL c_0\\n & creal_open * part cGSPEC / c? / cSETSPEC b0 c/\\\\ creal_lt creal_of_num cNUMERAL c_0 b1 creal_lt creal_of_num cNUMERAL c_0 cdelta_y f0 f1 f2 b1 f3 f4 b1', 1), ('c==> c/\\\\ creal_ge creal_add f0 creal_mul creal_neg creal_of_num cNUMERAL cBIT1 c_0 f1 creal_of_num cNUMERAL c_0 creal_gt creal_add creal_mul creal_neg creal_of_num cNUMERAL cBIT1 c_0 f0 f1 creal_of_num cNUMERAL c_0 creal_gt creal_add creal_add creal_mul creal_neg creal_of_num cNUMERAL cBIT1 c_0 f0 f1 creal_add f0 creal_mul creal_neg creal_of_num cNUMERAL cBIT1 c_0 f1 creal_of_num cNUMERAL c_0\\n & creal_open * part cGSPEC / c? / cSETSPEC b0 c/\\\\ creal_lt creal_of_num cNUMERAL c_0 b1 creal_lt creal_of_num cNUMERAL c_0 cdelta_y f0 f1 f2 b1 f3 f4 b1', 1), ('c/\\\\ cderived_form cT / creal_mul f0 f0 creal_of_num cNUMERAL c_0 f1 part cUNIV cderived_form c/\\\\ cT c/\\\\ cT c/\\\\ cT c/\\\\ c/\\\\ cT cT cT / creal_mul * / creal_mul f2 f2 b0 * / creal_add * / creal_mul f3 f3 b1 * / creal_add * / creal_sub creal_mul f4 f4 creal_mul f0 f0 b1 * / creal_add * / creal_mul * / b1 b1 * / b1 b1 b1 * / creal_sub creal_mul f5 f5 creal_mul f2 f2 b1 b1 b1 b0 creal_add creal_mul * / creal_mul f2 f2 f1 creal_add creal_of_num cNUMERAL c_0 creal_add creal_of_num cNUMERAL c_0 creal_add creal_add creal_mul * / b0 f1 creal_of_num cNUMERAL cBIT1 c_0 creal_mul creal_of_num cNUMERAL cBIT1 c_0 * / b0 f1 creal_of_num cNUMERAL c_0 creal_mul creal_of_num cNUMERAL c_0 * / creal_add * / creal_mul f3 f3 b0 * / creal_add * / creal_sub creal_mul f4 f4 creal_mul f0 f0 b1 * / creal_add * / creal_mul * / b1 b1 * / b1 b1 b1 * / creal_sub creal_mul f5 f5 creal_mul f2 f2 b1 b1 b0 f1 f1 part cUNIV\\n & creal_open * part cGSPEC / c? / cSETSPEC b0 c/\\\\ creal_lt creal_of_num cNUMERAL c_0 b1 creal_lt creal_of_num cNUMERAL c_0 cdelta_y f0 f1 f2 b1 f3 f4 b1', 1), ('c==> ! ! ! c==> chas_real_derivative b0 b1 catreal b2 creal_continuous b0 catreal b2 c= c==> ! ! c==> chas_real_derivative f0 b0 catreal b1 creal_continuous f0 catreal b1 * / ! c==> chas_real_derivative f0 b0 catreal b1 creal_continuous f0 catreal b1 f1 * / ! c==> chas_real_derivative f0 b0 catreal b1 creal_continuous f0 catreal b1 f1\\n & creal_open * part cGSPEC / c? / cSETSPEC b0 c/\\\\ creal_lt creal_of_num cNUMERAL c_0 b1 creal_lt creal_of_num cNUMERAL c_0 cdelta_y f0 f1 f2 b1 f3 f4 b1', 1), ('c= ! f0 f0\\n & creal_open * part cGSPEC / c? / cSETSPEC b0 c/\\\\ creal_lt creal_of_num cNUMERAL c_0 b1 creal_lt creal_of_num cNUMERAL c_0 cdelta_y f0 f1 f2 b1 f3 f4 b1', 0), ('c= c==> c/\\\\ cderived_form cT / creal_neg creal_mul f0 f0 creal_of_num cNUMERAL c_0 f1 part cUNIV cderived_form c/\\\\ cT c/\\\\ c/\\\\ cT c/\\\\ cT cT cT / creal_add * / creal_mul f2 f2 b0 * / creal_add * / creal_sub * / creal_mul f3 f3 b1 * / creal_mul * / b1 b1 * / b1 b1 b1 b1 * / creal_add creal_mul f4 f4 creal_mul f5 f5 b1 b0 creal_add creal_of_num cNUMERAL c_0 creal_add creal_sub creal_of_num cNUMERAL c_0 creal_add creal_mul * / b0 f1 creal_of_num cNUMERAL cBIT1 c_0 creal_mul creal_of_num cNUMERAL cBIT1 c_0 * / b0 f1 creal_of_num cNUMERAL c_0 f1 part cUNIV cderived_form c/\\\\ cT c/\\\\ cT c/\\\\ c/\\\\ cT c/\\\\ cT cT cT / creal_add * / creal_neg creal_mul f0 f0 b0 * / creal_add * / creal_mul f2 f2 b1 * / creal_add * / creal_sub * / creal_mul f3 f3 b1 * / creal_mul * / b1 b1 * / b1 b1 b1 b1 * / creal_add creal_mul f4 f4 creal_mul f5 f5 b1 b1 b0 creal_add creal_of_num cNUMERAL c_0 creal_add creal_of_num cNUMERAL c_0 creal_add creal_sub creal_of_num cNUMERAL c_0 creal_add creal_mul * / b0 f1 creal_of_num cNUMERAL cBIT1 c_0 creal_mul creal_of_num cNUMERAL cBIT1 c_0 * / b0 f1 creal_of_num cNUMERAL c_0 f1 part cUNIV cderived_form c/\\\\ cT c/\\\\ cT c/\\\\ c/\\\\ cT c/\\\\ cT cT cT / creal_add * / creal_neg creal_mul f0 f0 b0 * / creal_add * / creal_mul f2 f2 b1 * / creal_add * / creal_sub * / creal_mul f3 f3 b1 * / creal_mul * / b1 b1 * / b1 b1 b1 b1 * / creal_add creal_mul f4 f4 creal_mul f5 f5 b1 b1 b0 creal_add creal_of_num cNUMERAL c_0 creal_add creal_of_num cNUMERAL c_0 creal_add creal_sub creal_of_num cNUMERAL c_0 creal_add creal_mul * / b0 f1 creal_of_num cNUMERAL cBIT1 c_0 creal_mul creal_of_num cNUMERAL cBIT1 c_0 * / b0 f1 creal_of_num cNUMERAL c_0 f1 part cUNIV\\n & creal_open * part cGSPEC / c? / cSETSPEC b0 c/\\\\ creal_lt creal_of_num cNUMERAL c_0 b1 creal_lt creal_of_num cNUMERAL c_0 cdelta_y f0 f1 f2 b1 f3 f4 b1', 1), ('c= c==> ! ! c= cGSPEC / * b0 * part cSETSPEC b2 b1 * b0 / / c/\\\\ b2 c= b1 b3 * / ! c= cGSPEC / * b0 * part cSETSPEC b2 b1 * b0 / / c/\\\\ b2 c= b1 b3 f0 * / ! c= cGSPEC / * b0 * part cSETSPEC b2 b1 * b0 / / c/\\\\ b2 c= b1 b3 f0\\n & creal_open * part cGSPEC / c? / cSETSPEC b0 c/\\\\ creal_lt creal_of_num cNUMERAL c_0 b1 creal_lt creal_of_num cNUMERAL c_0 cdelta_y f0 f1 f2 b1 f3 f4 b1', 0), ('cderived_form cT / creal_sub creal_mul f0 f0 creal_mul f1 f1 creal_of_num cNUMERAL c_0 f2 f3\\n & creal_open * part cGSPEC / c? / cSETSPEC b0 c/\\\\ creal_lt creal_of_num cNUMERAL c_0 b1 creal_lt creal_of_num cNUMERAL c_0 cdelta_y f0 f1 f2 b1 f3 f4 b1', 1), ('c==> ! ! ! c==> chas_real_derivative b0 b1 catreal b2 creal_continuous b0 catreal b2 c==> chas_real_derivative f0 f1 catreal f2 creal_continuous f0 catreal f2\\n & creal_open * part cGSPEC / c? / cSETSPEC b0 c/\\\\ creal_lt creal_of_num cNUMERAL c_0 b1 creal_lt creal_of_num cNUMERAL c_0 cdelta_y f0 f1 f2 b1 f3 f4 b1', 1), ('c/\\\\ cderived_form cT / creal_mul f0 f0 creal_of_num cNUMERAL c_0 f1 part cUNIV cderived_form c/\\\\ cT c/\\\\ c/\\\\ cT cT cT / creal_add * / creal_sub creal_mul f2 f2 creal_mul f3 f3 b0 * / creal_add * / creal_mul * / b1 b1 * / b1 b1 b1 * / creal_sub creal_mul f4 f4 creal_mul f5 f5 b1 b0 creal_add creal_of_num cNUMERAL c_0 creal_add creal_add creal_mul * / b0 f1 creal_of_num cNUMERAL cBIT1 c_0 creal_mul creal_of_num cNUMERAL cBIT1 c_0 * / b0 f1 creal_of_num cNUMERAL c_0 f1 part cUNIV\\n & creal_open * part cGSPEC / c? / cSETSPEC b0 c/\\\\ creal_lt creal_of_num cNUMERAL c_0 b1 creal_lt creal_of_num cNUMERAL c_0 cdelta_y f0 f1 f2 b1 f3 f4 b1', 1), ('c= c==> ! ! ! c==> c/\\\\ creal_open b1 c/\\\\ creal_open b2 creal_continuous_on b0 b1 creal_open * part cGSPEC / c? / cSETSPEC b3 c/\\\\ cIN b4 b1 cIN * b0 b4 b2 b4 * / ! ! c==> c/\\\\ creal_open b1 c/\\\\ creal_open b2 creal_continuous_on b0 b1 creal_open * part cGSPEC / c? / cSETSPEC b3 c/\\\\ cIN b4 b1 cIN * b0 b4 b2 b4 / cdelta_y f0 f1 f2 b0 f3 f4 * / ! ! c==> c/\\\\ creal_open b1 c/\\\\ creal_open b2 creal_continuous_on b0 b1 creal_open * part cGSPEC / c? / cSETSPEC b3 c/\\\\ cIN b4 b1 cIN * b0 b4 b2 b4 / cdelta_y f0 f1 f2 b0 f3 f4\\n & creal_open * part cGSPEC / c? / cSETSPEC b0 c/\\\\ creal_lt creal_of_num cNUMERAL c_0 b1 creal_lt creal_of_num cNUMERAL c_0 cdelta_y f0 f1 f2 b1 f3 f4 b1', 1), ('c= c==> c? / chas_real_derivative / cdelta_y f0 f1 f2 b1 f3 f4 b0 catreal f5 creal_continuous / cdelta_y f0 f1 f2 b0 f3 f4 catreal f5 creal_continuous / cdelta_y f0 f1 f2 b0 f3 f4 catreal f5\\n & creal_open * part cGSPEC / c? / cSETSPEC b0 c/\\\\ creal_lt creal_of_num cNUMERAL c_0 b1 creal_lt creal_of_num cNUMERAL c_0 cdelta_y f0 f1 f2 b1 f3 f4 b1', 1), ('c= cderived_form c/\\\\ cT c/\\\\ cT c/\\\\ c/\\\\ cT c/\\\\ cT cT cT / creal_add * / creal_neg creal_mul f0 f0 b0 * / creal_add * / creal_mul f1 f1 b1 * / creal_add * / creal_sub * / creal_mul f2 f2 b1 * / creal_mul * / b1 b1 * / b1 b1 b1 b1 * / creal_add creal_mul f3 f3 creal_mul f4 f4 b1 b1 b0 creal_add creal_of_num cNUMERAL c_0 creal_add creal_of_num cNUMERAL c_0 creal_add creal_sub creal_of_num cNUMERAL c_0 creal_add creal_mul * / b0 f5 creal_of_num cNUMERAL cBIT1 c_0 creal_mul creal_of_num cNUMERAL cBIT1 c_0 * / b0 f5 creal_of_num cNUMERAL c_0 f5 part cUNIV c/\\\\ cderived_form c/\\\\ cT cT / creal_mul * / b1 b0 * / b1 b0 creal_add creal_mul * / b0 f5 creal_of_num cNUMERAL cBIT1 c_0 creal_mul creal_of_num cNUMERAL cBIT1 c_0 * / b0 f5 f5 part cUNIV cderived_form c/\\\\ cT c/\\\\ cT c/\\\\ c/\\\\ cT c/\\\\ cT cT cT / creal_add * / creal_neg creal_mul f0 f0 b0 * / creal_add * / creal_mul f1 f1 b1 * / creal_add * / creal_sub * / creal_mul f2 f2 b1 * / creal_mul * / b1 b1 * / b1 b1 b1 b1 * / creal_add creal_mul f3 f3 creal_mul f4 f4 b1 b1 b0 creal_add creal_of_num cNUMERAL c_0 creal_add creal_of_num cNUMERAL c_0 creal_add creal_sub creal_of_num cNUMERAL c_0 creal_add creal_mul * / b0 f5 creal_of_num cNUMERAL cBIT1 c_0 creal_mul creal_of_num cNUMERAL cBIT1 c_0 * / b0 f5 creal_of_num cNUMERAL c_0 f5 part cUNIV\\n & creal_open * part cGSPEC / c? / cSETSPEC b0 c/\\\\ creal_lt creal_of_num cNUMERAL c_0 b1 creal_lt creal_of_num cNUMERAL c_0 cdelta_y f0 f1 f2 b1 f3 f4 b1', 1), ('cderived_form c/\\\\ c/\\\\ cT c/\\\\ cT c/\\\\ cT c/\\\\ cT c/\\\\ c/\\\\ cT cT cT c/\\\\ cT c/\\\\ cT c/\\\\ cT cT / creal_sub * / creal_mul * / creal_mul f0 f0 b1 * / creal_mul * / creal_mul f1 f1 b1 * / creal_add * / creal_mul f2 f2 b1 * / creal_add * / creal_sub creal_mul f3 f3 creal_mul f0 f0 b1 * / creal_add * / creal_mul * / b1 b1 * / b1 b1 b1 * / creal_sub creal_mul f4 f4 creal_mul f1 f1 b1 b1 b1 b1 b1 b0 * / creal_mul * / creal_mul f3 f3 b1 * / creal_mul * / creal_mul f0 f0 b1 * / creal_mul * / b1 b1 * / b1 b1 b1 b1 b0 creal_sub creal_add creal_mul * / creal_mul f0 f0 f5 creal_add creal_mul * / creal_mul f1 f1 f5 creal_add creal_of_num cNUMERAL c_0 creal_add creal_of_num cNUMERAL c_0 creal_add creal_add creal_mul * / b0 f5 creal_of_num cNUMERAL cBIT1 c_0 creal_mul creal_of_num cNUMERAL cBIT1 c_0 * / b0 f5 creal_of_num cNUMERAL c_0 creal_mul creal_of_num cNUMERAL c_0 * / creal_add * / creal_mul f2 f2 b0 * / creal_add * / creal_sub creal_mul f3 f3 creal_mul f0 f0 b1 * / creal_add * / creal_mul * / b1 b1 * / b1 b1 b1 * / creal_sub creal_mul f4 f4 creal_mul f1 f1 b1 b1 b0 f5 creal_mul creal_of_num cNUMERAL c_0 * / creal_mul * / creal_mul f1 f1 b0 * / creal_add * / creal_mul f2 f2 b1 * / creal_add * / creal_sub creal_mul f3 f3 creal_mul f0 f0 b1 * / creal_add * / creal_mul * / b1 b1 * / b1 b1 b1 * / creal_sub creal_mul f4 f4 creal_mul f1 f1 b1 b1 b1 b0 f5 creal_add creal_mul * / creal_mul f3 f3 f5 creal_add creal_mul * / creal_mul f0 f0 f5 creal_add creal_mul * / b0 f5 creal_of_num cNUMERAL cBIT1 c_0 creal_mul creal_of_num cNUMERAL cBIT1 c_0 * / b0 f5 creal_mul creal_of_num cNUMERAL c_0 * / creal_mul * / b1 b0 * / b1 b0 f5 creal_mul creal_of_num cNUMERAL c_0 * / creal_mul * / creal_mul f0 f0 b0 * / creal_mul * / b1 b1 * / b1 b1 b0 f5 f5 part cUNIV\\n & creal_open * part cGSPEC / c? / cSETSPEC b0 c/\\\\ creal_lt creal_of_num cNUMERAL c_0 b1 creal_lt creal_of_num cNUMERAL c_0 cdelta_y f0 f1 f2 b1 f3 f4 b1', 1), ('c= c==> c/\\\\ cderived_form cT / creal_mul f0 f0 creal_of_num cNUMERAL c_0 f1 part cUNIV cderived_form c/\\\\ cT c/\\\\ cT c/\\\\ c/\\\\ cT cT cT / creal_add * / creal_mul f2 f2 b0 * / creal_add * / creal_sub creal_mul f3 f3 creal_mul f4 f4 b1 * / creal_add * / creal_mul * / b1 b1 * / b1 b1 b1 * / creal_sub creal_mul f5 f5 creal_mul f0 f0 b1 b1 b0 creal_add creal_of_num cNUMERAL c_0 creal_add creal_of_num cNUMERAL c_0 creal_add creal_add creal_mul * / b0 f1 creal_of_num cNUMERAL cBIT1 c_0 creal_mul creal_of_num cNUMERAL cBIT1 c_0 * / b0 f1 creal_of_num cNUMERAL c_0 f1 part cUNIV cderived_form c/\\\\ cT c/\\\\ cT c/\\\\ cT c/\\\\ c/\\\\ cT cT cT / creal_mul * / creal_mul f0 f0 b0 * / creal_add * / creal_mul f2 f2 b1 * / creal_add * / creal_sub creal_mul f3 f3 creal_mul f4 f4 b1 * / creal_add * / creal_mul * / b1 b1 * / b1 b1 b1 * / creal_sub creal_mul f5 f5 creal_mul f0 f0 b1 b1 b1 b0 creal_add creal_mul * / creal_mul f0 f0 f1 creal_add creal_of_num cNUMERAL c_0 creal_add creal_of_num cNUMERAL c_0 creal_add creal_add creal_mul * / b0 f1 creal_of_num cNUMERAL cBIT1 c_0 creal_mul creal_of_num cNUMERAL cBIT1 c_0 * / b0 f1 creal_of_num cNUMERAL c_0 creal_mul creal_of_num cNUMERAL c_0 * / creal_add * / creal_mul f2 f2 b0 * / creal_add * / creal_sub creal_mul f3 f3 creal_mul f4 f4 b1 * / creal_add * / creal_mul * / b1 b1 * / b1 b1 b1 * / creal_sub creal_mul f5 f5 creal_mul f0 f0 b1 b1 b0 f1 f1 part cUNIV cderived_form c/\\\\ cT c/\\\\ cT c/\\\\ cT c/\\\\ c/\\\\ cT cT cT / creal_mul * / creal_mul f0 f0 b0 * / creal_add * / creal_mul f2 f2 b1 * / creal_add * / creal_sub creal_mul f3 f3 creal_mul f4 f4 b1 * / creal_add * / creal_mul * / b1 b1 * / b1 b1 b1 * / creal_sub creal_mul f5 f5 creal_mul f0 f0 b1 b1 b1 b0 creal_add creal_mul * / creal_mul f0 f0 f1 creal_add creal_of_num cNUMERAL c_0 creal_add creal_of_num cNUMERAL c_0 creal_add creal_add creal_mul * / b0 f1 creal_of_num cNUMERAL cBIT1 c_0 creal_mul creal_of_num cNUMERAL cBIT1 c_0 * / b0 f1 creal_of_num cNUMERAL c_0 creal_mul creal_of_num cNUMERAL c_0 * / creal_add * / creal_mul f2 f2 b0 * / creal_add * / creal_sub creal_mul f3 f3 creal_mul f4 f4 b1 * / creal_add * / creal_mul * / b1 b1 * / b1 b1 b1 * / creal_sub creal_mul f5 f5 creal_mul f0 f0 b1 b1 b0 f1 f1 part cUNIV\\n & creal_open * part cGSPEC / c? / cSETSPEC b0 c/\\\\ creal_lt creal_of_num cNUMERAL c_0 b1 creal_lt creal_of_num cNUMERAL c_0 cdelta_y f0 f1 f2 b1 f3 f4 b1', 1), ('* / ! c= cIN b1 * part cGSPEC / * b0 * part cSETSPEC b2 * b0 / / c/\\\\ b2 c= b1 b3 f0\\n & creal_open * part cGSPEC / c? / cSETSPEC b0 c/\\\\ creal_lt creal_of_num cNUMERAL c_0 b1 creal_lt creal_of_num cNUMERAL c_0 cdelta_y f0 f1 f2 b1 f3 f4 b1', 0), ('c= c==> creal_lt creal_of_num cNUMERAL c_0 creal_of_num cNUMERAL cBIT1 c_0 c= creal_lt creal_div creal_of_num cNUMERAL c_0 creal_of_num cNUMERAL cBIT1 c_0 creal_div creal_of_num cNUMERAL c_0 creal_of_num cNUMERAL cBIT1 c_0 creal_lt creal_mul creal_of_num cNUMERAL c_0 creal_of_num cNUMERAL cBIT1 c_0 creal_mul creal_of_num cNUMERAL c_0 creal_of_num cNUMERAL cBIT1 c_0 c= creal_lt creal_div creal_of_num cNUMERAL c_0 creal_of_num cNUMERAL cBIT1 c_0 creal_div creal_of_num cNUMERAL c_0 creal_of_num cNUMERAL cBIT1 c_0 creal_lt creal_mul creal_of_num cNUMERAL c_0 creal_of_num cNUMERAL cBIT1 c_0 creal_mul creal_of_num cNUMERAL c_0 creal_of_num cNUMERAL cBIT1 c_0\\n & creal_open * part cGSPEC / c? / cSETSPEC b0 c/\\\\ creal_lt creal_of_num cNUMERAL c_0 b1 creal_lt creal_of_num cNUMERAL c_0 cdelta_y f0 f1 f2 b1 f3 f4 b1', 0), ('c==> c/\\\\ cderived_form f0 f1 f2 f3 f4 c/\\\\ c= f0 f5 c/\\\\ c= f1 f6 c/\\\\ c= f2 f7 c/\\\\ c= f3 f8 c= f4 f9 cderived_form f5 f6 f7 f8 f9\\n & creal_open * part cGSPEC / c? / cSETSPEC b0 c/\\\\ creal_lt creal_of_num cNUMERAL c_0 b1 creal_lt creal_of_num cNUMERAL c_0 cdelta_y f0 f1 f2 b1 f3 f4 b1', 1), ('c= c==> ! ! ! ! ! ! c= cdelta_x b1 b2 b0 b3 b4 b5 creal_add creal_mul b1 creal_mul b3 creal_add creal_neg b1 creal_add b2 creal_add creal_sub b0 b3 creal_add b4 b5 creal_add creal_mul b2 creal_mul b4 creal_add creal_sub b1 b2 creal_add b0 creal_add creal_sub b3 b4 b5 creal_sub creal_sub creal_sub creal_sub creal_mul b0 creal_mul b5 creal_add b1 creal_add creal_sub b2 b0 creal_add b3 creal_sub b4 b5 creal_mul b2 creal_mul b0 b3 creal_mul b1 creal_mul b0 b4 creal_mul b1 creal_mul b2 b5 creal_mul b3 creal_mul b4 b5 * / ! ! ! ! ! c= cdelta_x b1 b2 b0 b3 b4 b5 creal_add creal_mul b1 creal_mul b3 creal_add creal_neg b1 creal_add b2 creal_add creal_sub b0 b3 creal_add b4 b5 creal_add creal_mul b2 creal_mul b4 creal_add creal_sub b1 b2 creal_add b0 creal_add creal_sub b3 b4 b5 creal_sub creal_sub creal_sub creal_sub creal_mul b0 creal_mul b5 creal_add b1 creal_add creal_sub b2 b0 creal_add b3 creal_sub b4 b5 creal_mul b2 creal_mul b0 b3 creal_mul b1 creal_mul b0 b4 creal_mul b1 creal_mul b2 b5 creal_mul b3 creal_mul b4 b5 f0 * / ! ! ! ! ! c= cdelta_x b1 b2 b0 b3 b4 b5 creal_add creal_mul b1 creal_mul b3 creal_add creal_neg b1 creal_add b2 creal_add creal_sub b0 b3 creal_add b4 b5 creal_add creal_mul b2 creal_mul b4 creal_add creal_sub b1 b2 creal_add b0 creal_add creal_sub b3 b4 b5 creal_sub creal_sub creal_sub creal_sub creal_mul b0 creal_mul b5 creal_add b1 creal_add creal_sub b2 b0 creal_add b3 creal_sub b4 b5 creal_mul b2 creal_mul b0 b3 creal_mul b1 creal_mul b0 b4 creal_mul b1 creal_mul b2 b5 creal_mul b3 creal_mul b4 b5 f0\\n & creal_open * part cGSPEC / c? / cSETSPEC b0 c/\\\\ creal_lt creal_of_num cNUMERAL c_0 b1 creal_lt creal_of_num cNUMERAL c_0 cdelta_y f0 f1 f2 b1 f3 f4 b1', 1), ('c==> ! ! ! c==> chas_real_derivative b0 b1 catreal b2 creal_continuous b0 catreal b2 c= c==> ! c==> chas_real_derivative f0 f1 catreal b0 creal_continuous f0 catreal b0 * / c==> chas_real_derivative f0 f1 catreal b0 creal_continuous f0 catreal b0 f2 * / c==> chas_real_derivative f0 f1 catreal b0 creal_continuous f0 catreal b0 f2\\n & creal_open * part cGSPEC / c? / cSETSPEC b0 c/\\\\ creal_lt creal_of_num cNUMERAL c_0 b1 creal_lt creal_of_num cNUMERAL c_0 cdelta_y f0 f1 f2 b1 f3 f4 b1', 1), ('c= c==> ! ! ! cderived_form cT / b0 creal_of_num cNUMERAL c_0 b1 b2 * / ! ! cderived_form cT / b0 creal_of_num cNUMERAL c_0 b1 b2 creal_mul creal_mul f0 f0 creal_mul creal_mul f1 f1 creal_mul f2 f2 * / ! ! cderived_form cT / b0 creal_of_num cNUMERAL c_0 b1 b2 creal_mul creal_mul f0 f0 creal_mul creal_mul f1 f1 creal_mul f2 f2\\n & creal_open * part cGSPEC / c? / cSETSPEC b0 c/\\\\ creal_lt creal_of_num cNUMERAL c_0 b1 creal_lt creal_of_num cNUMERAL c_0 cdelta_y f0 f1 f2 b1 f3 f4 b1', 1), ('c==> c/\\\\ creal_open * part cGSPEC / c? / cSETSPEC b0 creal_lt creal_of_num cNUMERAL c_0 b1 b1 c/\\\\ creal_open * part cGSPEC / c? / cSETSPEC b0 creal_lt creal_of_num cNUMERAL c_0 b1 b1 creal_continuous_on / cdelta_y f0 f1 f2 b0 f3 f4 * part cGSPEC / c? / cSETSPEC b0 creal_lt creal_of_num cNUMERAL c_0 b1 b1 c==> c==> c/\\\\ creal_open * part cGSPEC / c? / cSETSPEC b0 creal_lt creal_of_num cNUMERAL c_0 b1 b1 c/\\\\ creal_open * part cGSPEC / c? / cSETSPEC b0 creal_lt creal_of_num cNUMERAL c_0 b1 b1 creal_continuous_on / cdelta_y f0 f1 f2 b0 f3 f4 * part cGSPEC / c? / cSETSPEC b0 creal_lt creal_of_num cNUMERAL c_0 b1 b1 creal_open * part cGSPEC / c? / cSETSPEC b0 c/\\\\ creal_lt creal_of_num cNUMERAL c_0 b1 creal_lt creal_of_num cNUMERAL c_0 cdelta_y f0 f1 f2 b1 f3 f4 b1 creal_open * part cGSPEC / c? / cSETSPEC b0 c/\\\\ creal_lt creal_of_num cNUMERAL c_0 b1 creal_lt creal_of_num cNUMERAL c_0 cdelta_y f0 f1 f2 b1 f3 f4 b1\\n & creal_open * part cGSPEC / c? / cSETSPEC b0 c/\\\\ creal_lt creal_of_num cNUMERAL c_0 b1 creal_lt creal_of_num cNUMERAL c_0 cdelta_y f0 f1 f2 b1 f3 f4 b1', 0), ('c= c? / f0 f0\\n & creal_open * part cGSPEC / c? / cSETSPEC b0 c/\\\\ creal_lt creal_of_num cNUMERAL c_0 b1 creal_lt creal_of_num cNUMERAL c_0 cdelta_y f0 f1 f2 b1 f3 f4 b1', 0), ('cderived_form cT / creal_add creal_mul f0 f0 creal_mul f1 f1 creal_of_num cNUMERAL c_0 f2 f3\\n & creal_open * part cGSPEC / c? / cSETSPEC b0 c/\\\\ creal_lt creal_of_num cNUMERAL c_0 b1 creal_lt creal_of_num cNUMERAL c_0 cdelta_y f0 f1 f2 b1 f3 f4 b1', 1), ('c==> ! ! ! c==> creal_continuous b0 catreal b2 creal_continuous b0 cwithin catreal b2 b1 c==> creal_continuous f0 catreal f1 c/\\\\ creal_continuous f0 catreal f1 creal_continuous f0 cwithin catreal f1 f2\\n & creal_open * part cGSPEC / c? / cSETSPEC b0 c/\\\\ creal_lt creal_of_num cNUMERAL c_0 b1 creal_lt creal_of_num cNUMERAL c_0 cdelta_y f0 f1 f2 b1 f3 f4 b1', 0), ('c= c==> creal_lt creal_of_num cNUMERAL c_0 creal_of_num cNUMERAL cBIT1 c_0 c==> creal_lt creal_of_num cNUMERAL c_0 creal_of_num cNUMERAL cBIT1 c_0 c= creal_le creal_div creal_of_num cNUMERAL c_0 creal_of_num cNUMERAL cBIT1 c_0 creal_div creal_neg creal_of_num cNUMERAL cBIT1 c_0 creal_of_num cNUMERAL cBIT1 c_0 creal_le creal_mul creal_of_num cNUMERAL c_0 creal_of_num cNUMERAL cBIT1 c_0 creal_mul creal_neg creal_of_num cNUMERAL cBIT1 c_0 creal_of_num cNUMERAL cBIT1 c_0 c==> creal_lt creal_of_num cNUMERAL c_0 creal_of_num cNUMERAL cBIT1 c_0 c= creal_le creal_div creal_of_num cNUMERAL c_0 creal_of_num cNUMERAL cBIT1 c_0 creal_div creal_neg creal_of_num cNUMERAL cBIT1 c_0 creal_of_num cNUMERAL cBIT1 c_0 creal_le creal_mul creal_of_num cNUMERAL c_0 creal_of_num cNUMERAL cBIT1 c_0 creal_mul creal_neg creal_of_num cNUMERAL cBIT1 c_0 creal_of_num cNUMERAL cBIT1 c_0\\n & creal_open * part cGSPEC / c? / cSETSPEC b0 c/\\\\ creal_lt creal_of_num cNUMERAL c_0 b1 creal_lt creal_of_num cNUMERAL c_0 cdelta_y f0 f1 f2 b1 f3 f4 b1', 0), ('c==> c? / cderived_form cT / cdelta_y f0 f1 f2 b1 f3 f4 b0 f5 part cUNIV c? / chas_real_derivative / cdelta_y f0 f1 f2 b1 f3 f4 b0 catreal f5\\n & creal_open * part cGSPEC / c? / cSETSPEC b0 c/\\\\ creal_lt creal_of_num cNUMERAL c_0 b1 creal_lt creal_of_num cNUMERAL c_0 cdelta_y f0 f1 f2 b1 f3 f4 b1', 1), ('c==> c\\\\/ c/\\\\ creal_ge creal_add f0 creal_mul creal_neg creal_of_num cNUMERAL cBIT1 c_0 f1 creal_of_num cNUMERAL c_0 creal_gt creal_add creal_mul creal_neg creal_of_num cNUMERAL cBIT1 c_0 f0 f1 creal_of_num cNUMERAL c_0 c/\\\\ creal_ge creal_add f0 creal_mul creal_neg creal_of_num cNUMERAL cBIT1 c_0 f1 creal_of_num cNUMERAL c_0 creal_gt creal_add creal_mul creal_neg creal_of_num cNUMERAL cBIT1 c_0 f0 f1 creal_of_num cNUMERAL c_0 cF\\n & creal_open * part cGSPEC / c? / cSETSPEC b0 c/\\\\ creal_lt creal_of_num cNUMERAL c_0 b1 creal_lt creal_of_num cNUMERAL c_0 cdelta_y f0 f1 f2 b1 f3 f4 b1', 1), ('c==> c/\\\\ cderived_form f0 f1 f2 f3 part cUNIV cderived_form f4 f5 f6 f3 part cUNIV cderived_form c/\\\\ f0 f4 / creal_add * f1 b0 * f5 b0 creal_add f2 f6 f3 part cUNIV\\n & creal_open * part cGSPEC / c? / cSETSPEC b0 c/\\\\ creal_lt creal_of_num cNUMERAL c_0 b1 creal_lt creal_of_num cNUMERAL c_0 cdelta_y f0 f1 f2 b1 f3 f4 b1', 1), ('cderived_form cT / creal_neg creal_mul f0 f0 creal_of_num cNUMERAL c_0 f1 f2\\n & creal_open * part cGSPEC / c? / cSETSPEC b0 c/\\\\ creal_lt creal_of_num cNUMERAL c_0 b1 creal_lt creal_of_num cNUMERAL c_0 cdelta_y f0 f1 f2 b1 f3 f4 b1', 1), ('* / ! c= cIN b1 * part cGSPEC / c? / cSETSPEC b2 * b0 b3 b3 * b0 b1 f0\\n & creal_open * part cGSPEC / c? / cSETSPEC b0 c/\\\\ creal_lt creal_of_num cNUMERAL c_0 b1 creal_lt creal_of_num cNUMERAL c_0 cdelta_y f0 f1 f2 b1 f3 f4 b1', 1), ('c/\\\\ cderived_form c/\\\\ cT cT / creal_mul * / b1 b0 * / b1 b0 creal_add creal_mul * / b0 f0 creal_of_num cNUMERAL cBIT1 c_0 creal_mul creal_of_num cNUMERAL cBIT1 c_0 * / b0 f0 f0 part cUNIV cderived_form c/\\\\ cT c/\\\\ cT c/\\\\ c/\\\\ cT c/\\\\ cT cT cT / creal_add * / creal_neg creal_mul f1 f1 b0 * / creal_add * / creal_mul f2 f2 b1 * / creal_add * / creal_sub * / creal_mul f3 f3 b1 * / creal_mul * / b1 b1 * / b1 b1 b1 b1 * / creal_add creal_mul f4 f4 creal_mul f5 f5 b1 b1 b0 creal_add creal_of_num cNUMERAL c_0 creal_add creal_of_num cNUMERAL c_0 creal_add creal_sub creal_of_num cNUMERAL c_0 creal_add creal_mul * / b0 f0 creal_of_num cNUMERAL cBIT1 c_0 creal_mul creal_of_num cNUMERAL cBIT1 c_0 * / b0 f0 creal_of_num cNUMERAL c_0 f0 part cUNIV\\n & creal_open * part cGSPEC / c? / cSETSPEC b0 c/\\\\ creal_lt creal_of_num cNUMERAL c_0 b1 creal_lt creal_of_num cNUMERAL c_0 cdelta_y f0 f1 f2 b1 f3 f4 b1', 1), ('c= creal_lt creal_of_num cNUMERAL c_0 creal_of_num cNUMERAL cBIT1 c_0 * / creal_lt creal_of_num cNUMERAL c_0 b0 creal_of_num cNUMERAL cBIT1 c_0\\n & creal_open * part cGSPEC / c? / cSETSPEC b0 c/\\\\ creal_lt creal_of_num cNUMERAL c_0 b1 creal_lt creal_of_num cNUMERAL c_0 cdelta_y f0 f1 f2 b1 f3 f4 b1', 0), ('c= c==> creal_lt creal_of_num cNUMERAL c_0 creal_of_num cNUMERAL cBIT1 c_0 c==> creal_lt creal_of_num cNUMERAL c_0 creal_of_num cNUMERAL cBIT1 c_0 c==> c= creal_mul creal_add creal_mul creal_neg creal_of_num cNUMERAL cBIT1 c_0 creal_of_num cNUMERAL cBIT1 c_0 creal_mul creal_of_num cNUMERAL cBIT1 c_0 creal_of_num cNUMERAL cBIT1 c_0 creal_of_num cNUMERAL cBIT1 c_0 creal_mul creal_of_num cNUMERAL c_0 creal_mul creal_of_num cNUMERAL cBIT1 c_0 creal_of_num cNUMERAL cBIT1 c_0 c= creal_add creal_div creal_neg creal_of_num cNUMERAL cBIT1 c_0 creal_of_num cNUMERAL cBIT1 c_0 creal_div creal_of_num cNUMERAL cBIT1 c_0 creal_of_num cNUMERAL cBIT1 c_0 creal_div creal_of_num cNUMERAL c_0 creal_of_num cNUMERAL cBIT1 c_0 c==> creal_lt creal_of_num cNUMERAL c_0 creal_of_num cNUMERAL cBIT1 c_0 c==> c= creal_mul creal_add creal_mul creal_neg creal_of_num cNUMERAL cBIT1 c_0 creal_of_num cNUMERAL cBIT1 c_0 creal_mul creal_of_num cNUMERAL cBIT1 c_0 creal_of_num cNUMERAL cBIT1 c_0 creal_of_num cNUMERAL cBIT1 c_0 creal_mul creal_of_num cNUMERAL c_0 creal_mul creal_of_num cNUMERAL cBIT1 c_0 creal_of_num cNUMERAL cBIT1 c_0 c= creal_add creal_div creal_neg creal_of_num cNUMERAL cBIT1 c_0 creal_of_num cNUMERAL cBIT1 c_0 creal_div creal_of_num cNUMERAL cBIT1 c_0 creal_of_num cNUMERAL cBIT1 c_0 creal_div creal_of_num cNUMERAL c_0 creal_of_num cNUMERAL cBIT1 c_0\\n & creal_open * part cGSPEC / c? / cSETSPEC b0 c/\\\\ creal_lt creal_of_num cNUMERAL c_0 b1 creal_lt creal_of_num cNUMERAL c_0 cdelta_y f0 f1 f2 b1 f3 f4 b1', 0), ('c= c==> c/\\\\ cderived_form c/\\\\ cT c/\\\\ cT cT / creal_sub * / creal_mul f0 f0 b0 * / creal_mul * / b1 b1 * / b1 b1 b0 creal_sub creal_of_num cNUMERAL c_0 creal_add creal_mul * / b0 f1 creal_of_num cNUMERAL cBIT1 c_0 creal_mul creal_of_num cNUMERAL cBIT1 c_0 * / b0 f1 f1 part cUNIV cderived_form cT / creal_add creal_mul f2 f2 creal_mul f3 f3 creal_of_num cNUMERAL c_0 f1 part cUNIV cderived_form c/\\\\ c/\\\\ cT c/\\\\ cT cT cT / creal_add * / creal_sub * / creal_mul f0 f0 b1 * / creal_mul * / b1 b1 * / b1 b1 b1 b0 * / creal_add creal_mul f2 f2 creal_mul f3 f3 b0 creal_add creal_sub creal_of_num cNUMERAL c_0 creal_add creal_mul * / b0 f1 creal_of_num cNUMERAL cBIT1 c_0 creal_mul creal_of_num cNUMERAL cBIT1 c_0 * / b0 f1 creal_of_num cNUMERAL c_0 f1 part cUNIV cderived_form c/\\\\ c/\\\\ cT c/\\\\ cT cT cT / creal_add * / creal_sub * / creal_mul f0 f0 b1 * / creal_mul * / b1 b1 * / b1 b1 b1 b0 * / creal_add creal_mul f2 f2 creal_mul f3 f3 b0 creal_add creal_sub creal_of_num cNUMERAL c_0 creal_add creal_mul * / b0 f1 creal_of_num cNUMERAL cBIT1 c_0 creal_mul creal_of_num cNUMERAL cBIT1 c_0 * / b0 f1 creal_of_num cNUMERAL c_0 f1 part cUNIV\\n & creal_open * part cGSPEC / c? / cSETSPEC b0 c/\\\\ creal_lt creal_of_num cNUMERAL c_0 b1 creal_lt creal_of_num cNUMERAL c_0 cdelta_y f0 f1 f2 b1 f3 f4 b1', 1), ('c==> ! ! ! c==> chas_real_derivative b0 b1 catreal b2 creal_continuous b0 catreal b2 c/\\\\ ! ! ! c==> chas_real_derivative b0 b1 catreal b2 creal_continuous b0 catreal b2 ! ! c==> c? / chas_real_derivative b0 b2 catreal b1 creal_continuous b0 catreal b1\\n & creal_open * part cGSPEC / c? / cSETSPEC b0 c/\\\\ creal_lt creal_of_num cNUMERAL c_0 b1 creal_lt creal_of_num cNUMERAL c_0 cdelta_y f0 f1 f2 b1 f3 f4 b1', 1), ('c= c==> c/\\\\ cderived_form cT / creal_mul f0 f0 creal_of_num cNUMERAL c_0 f1 part cUNIV cderived_form c/\\\\ cT cT / creal_mul * / b1 b0 * / b1 b0 creal_add creal_mul * / b0 f1 creal_of_num cNUMERAL cBIT1 c_0 creal_mul creal_of_num cNUMERAL cBIT1 c_0 * / b0 f1 f1 part cUNIV cderived_form c/\\\\ cT c/\\\\ cT cT / creal_mul * / creal_mul f0 f0 b0 * / creal_mul * / b1 b1 * / b1 b1 b0 creal_add creal_mul * / creal_mul f0 f0 f1 creal_add creal_mul * / b0 f1 creal_of_num cNUMERAL cBIT1 c_0 creal_mul creal_of_num cNUMERAL cBIT1 c_0 * / b0 f1 creal_mul creal_of_num cNUMERAL c_0 * / creal_mul * / b1 b0 * / b1 b0 f1 f1 part cUNIV cderived_form c/\\\\ cT c/\\\\ cT cT / creal_mul * / creal_mul f0 f0 b0 * / creal_mul * / b1 b1 * / b1 b1 b0 creal_add creal_mul * / creal_mul f0 f0 f1 creal_add creal_mul * / b0 f1 creal_of_num cNUMERAL cBIT1 c_0 creal_mul creal_of_num cNUMERAL cBIT1 c_0 * / b0 f1 creal_mul creal_of_num cNUMERAL c_0 * / creal_mul * / b1 b0 * / b1 b0 f1 f1 part cUNIV\\n & creal_open * part cGSPEC / c? / cSETSPEC b0 c/\\\\ creal_lt creal_of_num cNUMERAL c_0 b1 creal_lt creal_of_num cNUMERAL c_0 cdelta_y f0 f1 f2 b1 f3 f4 b1', 1), ('c= c==> ! cderived_form cT / b1 creal_of_num cNUMERAL cBIT1 c_0 f0 b0 * / cderived_form cT / b1 creal_of_num cNUMERAL cBIT1 c_0 f0 b0 part cUNIV * / cderived_form cT / b1 creal_of_num cNUMERAL cBIT1 c_0 f0 b0 part cUNIV\\n & creal_open * part cGSPEC / c? / cSETSPEC b0 c/\\\\ creal_lt creal_of_num cNUMERAL c_0 b1 creal_lt creal_of_num cNUMERAL c_0 cdelta_y f0 f1 f2 b1 f3 f4 b1', 1), ('c= creal_open * part cGSPEC / c? / cSETSPEC b0 creal_gt b1 f0 b1 cT\\n & creal_open * part cGSPEC / c? / cSETSPEC b0 c/\\\\ creal_lt creal_of_num cNUMERAL c_0 b1 creal_lt creal_of_num cNUMERAL c_0 cdelta_y f0 f1 f2 b1 f3 f4 b1', 1), ('* / cderived_form cT / creal_add creal_mul creal_mul f0 f0 creal_mul creal_mul b1 b1 creal_add creal_neg creal_mul f0 f0 creal_add creal_mul f1 f1 creal_add creal_sub creal_mul f2 f2 creal_mul b1 b1 creal_add creal_mul f3 f3 creal_mul f4 f4 creal_add creal_mul creal_mul f1 f1 creal_mul creal_mul f3 f3 creal_add creal_sub creal_mul f0 f0 creal_mul f1 f1 creal_add creal_mul f2 f2 creal_add creal_sub creal_mul b1 b1 creal_mul f3 f3 creal_mul f4 f4 creal_sub creal_sub creal_sub creal_sub creal_mul creal_mul f2 f2 creal_mul creal_mul f4 f4 creal_add creal_mul f0 f0 creal_add creal_sub creal_mul f1 f1 creal_mul f2 f2 creal_add creal_mul b1 b1 creal_sub creal_mul f3 f3 creal_mul f4 f4 creal_mul creal_mul f1 f1 creal_mul creal_mul f2 f2 creal_mul b1 b1 creal_mul creal_mul f0 f0 creal_mul creal_mul f2 f2 creal_mul f3 f3 creal_mul creal_mul f0 f0 creal_mul creal_mul f1 f1 creal_mul f4 f4 creal_mul creal_mul b1 b1 creal_mul creal_mul f3 f3 creal_mul f4 f4 b0 f5 part cUNIV creal_add creal_mul creal_mul f0 f0 creal_add creal_mul creal_mul f5 f5 creal_neg creal_add f5 f5 creal_mul creal_add f5 f5 creal_add creal_neg creal_mul f0 f0 creal_add creal_mul f1 f1 creal_add creal_sub creal_mul f2 f2 creal_mul f5 f5 creal_add creal_mul f3 f3 creal_mul f4 f4 creal_add creal_mul creal_mul f1 f1 creal_mul creal_mul f3 f3 creal_add f5 f5 creal_sub creal_sub creal_mul creal_mul f2 f2 creal_mul creal_mul f4 f4 creal_add f5 f5 creal_mul creal_mul f1 f1 creal_mul creal_mul f2 f2 creal_add f5 f5 creal_mul creal_add f5 f5 creal_mul creal_mul f3 f3 creal_mul f4 f4\\n & creal_open * part cGSPEC / c? / cSETSPEC b0 c/\\\\ creal_lt creal_of_num cNUMERAL c_0 b1 creal_lt creal_of_num cNUMERAL c_0 cdelta_y f0 f1 f2 b1 f3 f4 b1', 1), ('c= c==> c==> c~ c~ c/\\\\ c\\\\/ c~ creal_lt f0 f1 c~ creal_gt f1 f0 c\\\\/ creal_lt f0 f1 creal_gt f1 f0 cF c~ c/\\\\ c\\\\/ c~ creal_lt f0 f1 c~ creal_gt f1 f0 c\\\\/ creal_lt f0 f1 creal_gt f1 f0 c~ c/\\\\ c\\\\/ c~ creal_lt f0 f1 c~ creal_gt f1 f0 c\\\\/ creal_lt f0 f1 creal_gt f1 f0\\n & creal_open * part cGSPEC / c? / cSETSPEC b0 c/\\\\ creal_lt creal_of_num cNUMERAL c_0 b1 creal_lt creal_of_num cNUMERAL c_0 cdelta_y f0 f1 f2 b1 f3 f4 b1', 1), ('c==> creal_open * part cGSPEC / c? / cSETSPEC b0 creal_lt creal_of_num cNUMERAL c_0 b1 b1 c= creal_continuous_on / cdelta_y f0 f1 f2 b0 f3 f4 * part cGSPEC / c? / cSETSPEC b0 creal_lt creal_of_num cNUMERAL c_0 b1 b1 c/\\\\ creal_open * part cGSPEC / c? / cSETSPEC b0 creal_lt creal_of_num cNUMERAL c_0 b1 b1 c/\\\\ creal_open * part cGSPEC / c? / cSETSPEC b0 creal_lt creal_of_num cNUMERAL c_0 b1 b1 creal_continuous_on / cdelta_y f0 f1 f2 b0 f3 f4 * part cGSPEC / c? / cSETSPEC b0 creal_lt creal_of_num cNUMERAL c_0 b1 b1\\n & creal_open * part cGSPEC / c? / cSETSPEC b0 c/\\\\ creal_lt creal_of_num cNUMERAL c_0 b1 creal_lt creal_of_num cNUMERAL c_0 cdelta_y f0 f1 f2 b1 f3 f4 b1', 1), ('c= cIN * / cdelta_y f0 f1 f2 b0 f3 f4 f5 * part cGSPEC / c? / cSETSPEC b0 creal_lt creal_of_num cNUMERAL c_0 b1 b1 creal_lt creal_of_num cNUMERAL c_0 * / cdelta_y f0 f1 f2 b0 f3 f4 f5\\n & creal_open * part cGSPEC / c? / cSETSPEC b0 c/\\\\ creal_lt creal_of_num cNUMERAL c_0 b1 creal_lt creal_of_num cNUMERAL c_0 cdelta_y f0 f1 f2 b1 f3 f4 b1', 1), ('cderived_form c/\\\\ c/\\\\ c/\\\\ cT cT cT cT / creal_add * / creal_sub * / creal_mul * / b1 b1 * / b1 b1 b1 * / creal_mul f0 f0 b1 b0 * / creal_mul f1 f1 b0 creal_add creal_sub creal_add creal_mul * / b0 f2 creal_of_num cNUMERAL cBIT1 c_0 creal_mul creal_of_num cNUMERAL cBIT1 c_0 * / b0 f2 creal_of_num cNUMERAL c_0 creal_of_num cNUMERAL c_0 f2 part cUNIV\\n & creal_open * part cGSPEC / c? / cSETSPEC b0 c/\\\\ creal_lt creal_of_num cNUMERAL c_0 b1 creal_lt creal_of_num cNUMERAL c_0 cdelta_y f0 f1 f2 b1 f3 f4 b1', 1), ('cderived_form cT / creal_mul creal_mul f0 f0 creal_mul f1 f1 creal_of_num cNUMERAL c_0 f2 f3\\n & creal_open * part cGSPEC / c? / cSETSPEC b0 c/\\\\ creal_lt creal_of_num cNUMERAL c_0 b1 creal_lt creal_of_num cNUMERAL c_0 cdelta_y f0 f1 f2 b1 f3 f4 b1', 1), ('creal_continuous_on / cdelta_y f0 f1 f2 b0 f3 f4 * part cGSPEC / c? / cSETSPEC b0 creal_lt creal_of_num cNUMERAL c_0 b1 b1\\n & creal_open * part cGSPEC / c? / cSETSPEC b0 c/\\\\ creal_lt creal_of_num cNUMERAL c_0 b1 creal_lt creal_of_num cNUMERAL c_0 cdelta_y f0 f1 f2 b1 f3 f4 b1', 1), ('c= c==> cT f0 f0\\n & creal_open * part cGSPEC / c? / cSETSPEC b0 c/\\\\ creal_lt creal_of_num cNUMERAL c_0 b1 creal_lt creal_of_num cNUMERAL c_0 cdelta_y f0 f1 f2 b1 f3 f4 b1', 1), ('c= c\\\\/ f0 c\\\\/ f1 f2 c\\\\/ c\\\\/ f0 f1 f2\\n & creal_open * part cGSPEC / c? / cSETSPEC b0 c/\\\\ creal_lt creal_of_num cNUMERAL c_0 b1 creal_lt creal_of_num cNUMERAL c_0 cdelta_y f0 f1 f2 b1 f3 f4 b1', 0), ('c/\\\\ cderived_form cT / creal_mul f0 f0 creal_of_num cNUMERAL c_0 f1 part cUNIV cderived_form c/\\\\ cT c/\\\\ cT c/\\\\ cT c/\\\\ c/\\\\ c/\\\\ cT cT cT cT / creal_mul * / creal_mul f2 f2 b0 * / creal_add * / creal_sub creal_mul f3 f3 creal_mul f0 f0 b1 * / creal_add * / creal_mul f4 f4 b1 * / creal_add * / creal_sub * / creal_mul * / b1 b1 * / b1 b1 b1 * / creal_mul f2 f2 b1 b1 * / creal_mul f5 f5 b1 b1 b1 b0 creal_add creal_mul * / creal_mul f2 f2 f1 creal_add creal_of_num cNUMERAL c_0 creal_add creal_of_num cNUMERAL c_0 creal_add creal_sub creal_add creal_mul * / b0 f1 creal_of_num cNUMERAL cBIT1 c_0 creal_mul creal_of_num cNUMERAL cBIT1 c_0 * / b0 f1 creal_of_num cNUMERAL c_0 creal_of_num cNUMERAL c_0 creal_mul creal_of_num cNUMERAL c_0 * / creal_add * / creal_sub creal_mul f3 f3 creal_mul f0 f0 b0 * / creal_add * / creal_mul f4 f4 b1 * / creal_add * / creal_sub * / creal_mul * / b1 b1 * / b1 b1 b1 * / creal_mul f2 f2 b1 b1 * / creal_mul f5 f5 b1 b1 b0 f1 f1 part cUNIV\\n & creal_open * part cGSPEC / c? / cSETSPEC b0 c/\\\\ creal_lt creal_of_num cNUMERAL c_0 b1 creal_lt creal_of_num cNUMERAL c_0 cdelta_y f0 f1 f2 b1 f3 f4 b1', 1), ('cderived_form c/\\\\ cT c/\\\\ cT c/\\\\ c/\\\\ cT cT cT / creal_add * / creal_mul f0 f0 b0 * / creal_add * / creal_sub creal_mul f1 f1 creal_mul f2 f2 b1 * / creal_add * / creal_mul * / b1 b1 * / b1 b1 b1 * / creal_sub creal_mul f3 f3 creal_mul f4 f4 b1 b1 b0 creal_add creal_of_num cNUMERAL c_0 creal_add creal_of_num cNUMERAL c_0 creal_add creal_add creal_mul * / b0 f5 creal_of_num cNUMERAL cBIT1 c_0 creal_mul creal_of_num cNUMERAL cBIT1 c_0 * / b0 f5 creal_of_num cNUMERAL c_0 f5 part cUNIV\\n & creal_open * part cGSPEC / c? / cSETSPEC b0 c/\\\\ creal_lt creal_of_num cNUMERAL c_0 b1 creal_lt creal_of_num cNUMERAL c_0 cdelta_y f0 f1 f2 b1 f3 f4 b1', 1), ('c==> ! ! ! c==> creal_continuous b0 catreal b2 creal_continuous b0 cwithin catreal b2 b1 c= c==> ! c==> creal_continuous f0 catreal b0 creal_continuous f0 cwithin catreal b0 f1 * / c==> creal_continuous f0 catreal b0 creal_continuous f0 cwithin catreal b0 f1 f2 * / c==> creal_continuous f0 catreal b0 creal_continuous f0 cwithin catreal b0 f1 f2\\n & creal_open * part cGSPEC / c? / cSETSPEC b0 c/\\\\ creal_lt creal_of_num cNUMERAL c_0 b1 creal_lt creal_of_num cNUMERAL c_0 cdelta_y f0 f1 f2 b1 f3 f4 b1', 1), ('c==> c/\\\\ creal_ge creal_add f0 creal_mul creal_neg creal_of_num cNUMERAL cBIT1 c_0 f1 creal_of_num cNUMERAL c_0 creal_gt creal_add creal_mul creal_neg creal_of_num cNUMERAL cBIT1 c_0 f0 f1 creal_of_num cNUMERAL c_0 c/\\\\ creal_gt creal_of_num cNUMERAL cBIT1 c_0 creal_of_num cNUMERAL c_0 creal_gt creal_add creal_mul creal_neg creal_of_num cNUMERAL cBIT1 c_0 f0 f1 creal_of_num cNUMERAL c_0\\n & creal_open * part cGSPEC / c? / cSETSPEC b0 c/\\\\ creal_lt creal_of_num cNUMERAL c_0 b1 creal_lt creal_of_num cNUMERAL c_0 cdelta_y f0 f1 f2 b1 f3 f4 b1', 0), ('* / creal_lt creal_of_num cNUMERAL c_0 b0 creal_of_num cNUMERAL cBIT1 c_0\\n & creal_open * part cGSPEC / c? / cSETSPEC b0 c/\\\\ creal_lt creal_of_num cNUMERAL c_0 b1 creal_lt creal_of_num cNUMERAL c_0 cdelta_y f0 f1 f2 b1 f3 f4 b1', 0), ('c==> c==> c/\\\\ creal_open * part cGSPEC / c? / cSETSPEC b0 creal_lt creal_of_num cNUMERAL c_0 b1 b1 c/\\\\ creal_open * part cGSPEC / c? / cSETSPEC b0 creal_lt creal_of_num cNUMERAL c_0 b1 b1 creal_continuous_on / cdelta_y f0 f1 f2 b0 f3 f4 * part cGSPEC / c? / cSETSPEC b0 creal_lt creal_of_num cNUMERAL c_0 b1 b1 creal_open * part cGSPEC / c? / cSETSPEC b0 c/\\\\ creal_lt creal_of_num cNUMERAL c_0 b1 creal_lt creal_of_num cNUMERAL c_0 cdelta_y f0 f1 f2 b1 f3 f4 b1 c/\\\\ c==> c/\\\\ creal_open * part cGSPEC / c? / cSETSPEC b0 creal_lt creal_of_num cNUMERAL c_0 b1 b1 c/\\\\ creal_open * part cGSPEC / c? / cSETSPEC b0 creal_lt creal_of_num cNUMERAL c_0 b1 b1 creal_continuous_on / cdelta_y f0 f1 f2 b0 f3 f4 * part cGSPEC / c? / cSETSPEC b0 creal_lt creal_of_num cNUMERAL c_0 b1 b1 creal_open * part cGSPEC / c? / cSETSPEC b0 c/\\\\ creal_lt creal_of_num cNUMERAL c_0 b1 creal_lt creal_of_num cNUMERAL c_0 cdelta_y f0 f1 f2 b1 f3 f4 b1 c==> c/\\\\ creal_open * part cGSPEC / c? / cSETSPEC b0 creal_lt creal_of_num cNUMERAL c_0 b1 b1 c/\\\\ creal_open * part cGSPEC / c? / cSETSPEC b0 creal_lt creal_of_num cNUMERAL c_0 b1 b1 creal_continuous_on / cdelta_y f0 f1 f2 b0 f3 f4 * part cGSPEC / c? / cSETSPEC b0 creal_lt creal_of_num cNUMERAL c_0 b1 b1 creal_open * part cGSPEC / c? / cSETSPEC b0 c/\\\\ creal_lt creal_of_num cNUMERAL c_0 b1 creal_lt creal_of_num cNUMERAL c_0 cdelta_y f0 f1 f2 b1 f3 f4 b1\\n & creal_open * part cGSPEC / c? / cSETSPEC b0 c/\\\\ creal_lt creal_of_num cNUMERAL c_0 b1 creal_lt creal_of_num cNUMERAL c_0 cdelta_y f0 f1 f2 b1 f3 f4 b1', 0), ('c==> c/\\\\ creal_ge creal_add f0 creal_mul creal_neg creal_of_num cNUMERAL cBIT1 c_0 f1 creal_of_num cNUMERAL c_0 creal_gt creal_add creal_mul creal_neg creal_of_num cNUMERAL cBIT1 c_0 f0 f1 creal_of_num cNUMERAL c_0 c= c==> c/\\\\ creal_gt creal_of_num cNUMERAL cBIT1 c_0 creal_of_num cNUMERAL c_0 creal_gt creal_add creal_mul creal_neg creal_of_num cNUMERAL cBIT1 c_0 f0 f1 creal_of_num cNUMERAL c_0 creal_gt creal_mul creal_of_num cNUMERAL cBIT1 c_0 creal_add creal_mul creal_neg creal_of_num cNUMERAL cBIT1 c_0 f0 f1 creal_of_num cNUMERAL c_0 creal_gt creal_mul creal_of_num cNUMERAL cBIT1 c_0 creal_add creal_mul creal_neg creal_of_num cNUMERAL cBIT1 c_0 f0 f1 creal_of_num cNUMERAL c_0\\n & creal_open * part cGSPEC / c? / cSETSPEC b0 c/\\\\ creal_lt creal_of_num cNUMERAL c_0 b1 creal_lt creal_of_num cNUMERAL c_0 cdelta_y f0 f1 f2 b1 f3 f4 b1', 0), ('c= creal_div f0 creal_of_num cNUMERAL cBIT1 c_0 f0\\n & creal_open * part cGSPEC / c? / cSETSPEC b0 c/\\\\ creal_lt creal_of_num cNUMERAL c_0 b1 creal_lt creal_of_num cNUMERAL c_0 cdelta_y f0 f1 f2 b1 f3 f4 b1', 0), ('c= creal_gt creal_add creal_mul creal_neg creal_of_num cNUMERAL cBIT1 c_0 f0 f1 creal_of_num cNUMERAL c_0 c/\\\\ creal_gt creal_of_num cNUMERAL cBIT1 c_0 creal_of_num cNUMERAL c_0 creal_gt creal_add creal_mul creal_neg creal_of_num cNUMERAL cBIT1 c_0 f0 f1 creal_of_num cNUMERAL c_0\\n & creal_open * part cGSPEC / c? / cSETSPEC b0 c/\\\\ creal_lt creal_of_num cNUMERAL c_0 b1 creal_lt creal_of_num cNUMERAL c_0 cdelta_y f0 f1 f2 b1 f3 f4 b1', 0), ('* / ! c= c\\\\/ f0 c\\\\/ b0 b1 c\\\\/ c\\\\/ f0 b0 b1 f1\\n & creal_open * part cGSPEC / c? / cSETSPEC b0 c/\\\\ creal_lt creal_of_num cNUMERAL c_0 b1 creal_lt creal_of_num cNUMERAL c_0 cdelta_y f0 f1 f2 b1 f3 f4 b1', 0), ('c==> creal_lt creal_of_num cNUMERAL c_0 creal_of_num cNUMERAL cBIT1 c_0 c= creal_lt creal_div creal_of_num cNUMERAL c_0 creal_of_num cNUMERAL cBIT1 c_0 creal_div creal_of_num cNUMERAL c_0 creal_of_num cNUMERAL cBIT1 c_0 creal_lt creal_mul creal_of_num cNUMERAL c_0 creal_of_num cNUMERAL cBIT1 c_0 creal_mul creal_of_num cNUMERAL c_0 creal_of_num cNUMERAL cBIT1 c_0\\n & creal_open * part cGSPEC / c? / cSETSPEC b0 c/\\\\ creal_lt creal_of_num cNUMERAL c_0 b1 creal_lt creal_of_num cNUMERAL c_0 cdelta_y f0 f1 f2 b1 f3 f4 b1', 0), ('c= c==> creal_lt creal_of_num cNUMERAL c_0 creal_of_num cNUMERAL cBIT1 c_0 c==> creal_lt creal_of_num cNUMERAL c_0 creal_of_num cNUMERAL cBIT1 c_0 c==> creal_lt creal_of_num cNUMERAL c_0 creal_of_num cNUMERAL cBIT1 c_0 c==> c= creal_mul creal_add creal_mul creal_neg creal_of_num cNUMERAL cBIT1 c_0 creal_of_num cNUMERAL cBIT1 c_0 creal_mul creal_of_num cNUMERAL cBIT1 c_0 creal_of_num cNUMERAL cBIT1 c_0 creal_of_num cNUMERAL cBIT1 c_0 creal_mul creal_of_num cNUMERAL c_0 creal_mul creal_of_num cNUMERAL cBIT1 c_0 creal_of_num cNUMERAL cBIT1 c_0 c= creal_add creal_div creal_neg creal_of_num cNUMERAL cBIT1 c_0 creal_of_num cNUMERAL cBIT1 c_0 creal_div creal_of_num cNUMERAL cBIT1 c_0 creal_of_num cNUMERAL cBIT1 c_0 creal_div creal_of_num cNUMERAL c_0 creal_of_num cNUMERAL cBIT1 c_0 c==> creal_lt creal_of_num cNUMERAL c_0 creal_of_num cNUMERAL cBIT1 c_0 c==> creal_lt creal_of_num cNUMERAL c_0 creal_of_num cNUMERAL cBIT1 c_0 c==> c= creal_mul creal_add creal_mul creal_neg creal_of_num cNUMERAL cBIT1 c_0 creal_of_num cNUMERAL cBIT1 c_0 creal_mul creal_of_num cNUMERAL cBIT1 c_0 creal_of_num cNUMERAL cBIT1 c_0 creal_of_num cNUMERAL cBIT1 c_0 creal_mul creal_of_num cNUMERAL c_0 creal_mul creal_of_num cNUMERAL cBIT1 c_0 creal_of_num cNUMERAL cBIT1 c_0 c= creal_add creal_div creal_neg creal_of_num cNUMERAL cBIT1 c_0 creal_of_num cNUMERAL cBIT1 c_0 creal_div creal_of_num cNUMERAL cBIT1 c_0 creal_of_num cNUMERAL cBIT1 c_0 creal_div creal_of_num cNUMERAL c_0 creal_of_num cNUMERAL cBIT1 c_0\\n & creal_open * part cGSPEC / c? / cSETSPEC b0 c/\\\\ creal_lt creal_of_num cNUMERAL c_0 b1 creal_lt creal_of_num cNUMERAL c_0 cdelta_y f0 f1 f2 b1 f3 f4 b1', 0), ('creal_gt creal_of_num cNUMERAL cBIT1 c_0 creal_of_num cNUMERAL c_0\\n & creal_open * part cGSPEC / c? / cSETSPEC b0 c/\\\\ creal_lt creal_of_num cNUMERAL c_0 b1 creal_lt creal_of_num cNUMERAL c_0 cdelta_y f0 f1 f2 b1 f3 f4 b1', 0), ('* / c= cGSPEC / c? / cSETSPEC b1 * f0 b2 b2 b0 * f0 b0 f1\\n & creal_open * part cGSPEC / c? / cSETSPEC b0 c/\\\\ creal_lt creal_of_num cNUMERAL c_0 b1 creal_lt creal_of_num cNUMERAL c_0 cdelta_y f0 f1 f2 b1 f3 f4 b1', 0), ('c==> c/\\\\ creal_open * part cGSPEC / c? / cSETSPEC b0 creal_lt creal_of_num cNUMERAL c_0 b1 b1 c/\\\\ creal_open * part cGSPEC / c? / cSETSPEC b0 creal_lt creal_of_num cNUMERAL c_0 b1 b1 creal_continuous_on / cdelta_y f0 f1 f2 b0 f3 f4 * part cGSPEC / c? / cSETSPEC b0 creal_lt creal_of_num cNUMERAL c_0 b1 b1 c==> c==> c/\\\\ creal_open * part cGSPEC / c? / cSETSPEC b0 creal_lt creal_of_num cNUMERAL c_0 b1 b1 c/\\\\ creal_open * part cGSPEC / c? / cSETSPEC b0 creal_lt creal_of_num cNUMERAL c_0 b1 b1 creal_continuous_on / cdelta_y f0 f1 f2 b0 f3 f4 * part cGSPEC / c? / cSETSPEC b0 creal_lt creal_of_num cNUMERAL c_0 b1 b1 creal_open * part cGSPEC / c? / cSETSPEC b0 c/\\\\ creal_lt creal_of_num cNUMERAL c_0 b1 creal_lt creal_of_num cNUMERAL c_0 cdelta_y f0 f1 f2 b1 f3 f4 b1 c/\\\\ c/\\\\ creal_open * part cGSPEC / c? / cSETSPEC b0 creal_lt creal_of_num cNUMERAL c_0 b1 b1 c/\\\\ creal_open * part cGSPEC / c? / cSETSPEC b0 creal_lt creal_of_num cNUMERAL c_0 b1 b1 creal_continuous_on / cdelta_y f0 f1 f2 b0 f3 f4 * part cGSPEC / c? / cSETSPEC b0 creal_lt creal_of_num cNUMERAL c_0 b1 b1 creal_open * part cGSPEC / c? / cSETSPEC b0 c/\\\\ creal_lt creal_of_num cNUMERAL c_0 b1 creal_lt creal_of_num cNUMERAL c_0 cdelta_y f0 f1 f2 b1 f3 f4 b1\\n & creal_open * part cGSPEC / c? / cSETSPEC b0 c/\\\\ creal_lt creal_of_num cNUMERAL c_0 b1 creal_lt creal_of_num cNUMERAL c_0 cdelta_y f0 f1 f2 b1 f3 f4 b1', 0), ('c= c==> ! ! c= c\\\\/ f0 c\\\\/ b0 b1 c\\\\/ c\\\\/ f0 b0 b1 * / ! c= c\\\\/ f0 c\\\\/ b0 b1 c\\\\/ c\\\\/ f0 b0 b1 f1 * / ! c= c\\\\/ f0 c\\\\/ b0 b1 c\\\\/ c\\\\/ f0 b0 b1 f1\\n & creal_open * part cGSPEC / c? / cSETSPEC b0 c/\\\\ creal_lt creal_of_num cNUMERAL c_0 b1 creal_lt creal_of_num cNUMERAL c_0 cdelta_y f0 f1 f2 b1 f3 f4 b1', 0), ('c/\\\\ ! ! c= cGSPEC / * b0 * part cSETSPEC b2 b1 * b0 / / c/\\\\ b2 c= b1 b3 c/\\\\ ! ! c= cGSPEC / c? / cSETSPEC b2 * b0 b3 b3 b1 * b0 b1 ! ! c= cIN b1 / * b0 b2 * b0 b1\\n & creal_open * part cGSPEC / c? / cSETSPEC b0 c/\\\\ creal_lt creal_of_num cNUMERAL c_0 b1 creal_lt creal_of_num cNUMERAL c_0 cdelta_y f0 f1 f2 b1 f3 f4 b1', 0), ('c= c==> creal_lt creal_of_num cNUMERAL c_0 creal_of_num cNUMERAL cBIT1 c_0 c= creal_lt creal_div creal_of_num cNUMERAL c_0 creal_of_num cNUMERAL cBIT1 c_0 creal_div creal_of_num cNUMERAL cBIT1 c_0 creal_of_num cNUMERAL cBIT1 c_0 creal_lt creal_mul creal_of_num cNUMERAL c_0 creal_of_num cNUMERAL cBIT1 c_0 creal_mul creal_of_num cNUMERAL cBIT1 c_0 creal_of_num cNUMERAL cBIT1 c_0 c= creal_lt creal_div creal_of_num cNUMERAL c_0 creal_of_num cNUMERAL cBIT1 c_0 creal_div creal_of_num cNUMERAL cBIT1 c_0 creal_of_num cNUMERAL cBIT1 c_0 creal_lt creal_mul creal_of_num cNUMERAL c_0 creal_of_num cNUMERAL cBIT1 c_0 creal_mul creal_of_num cNUMERAL cBIT1 c_0 creal_of_num cNUMERAL cBIT1 c_0\\n & creal_open * part cGSPEC / c? / cSETSPEC b0 c/\\\\ creal_lt creal_of_num cNUMERAL c_0 b1 creal_lt creal_of_num cNUMERAL c_0 cdelta_y f0 f1 f2 b1 f3 f4 b1', 0), ('c? / creal_lt creal_of_num cNUMERAL c_0 b0\\n & creal_open * part cGSPEC / c? / cSETSPEC b0 c/\\\\ creal_lt creal_of_num cNUMERAL c_0 b1 creal_lt creal_of_num cNUMERAL c_0 cdelta_y f0 f1 f2 b1 f3 f4 b1', 0), ('c==> ! ! ! c==> creal_continuous b0 catreal b2 creal_continuous b0 cwithin catreal b2 b1 c==> creal_continuous f0 catreal f1 c/\\\\ ! ! ! c==> creal_continuous b0 catreal b2 creal_continuous b0 cwithin catreal b2 b1 creal_continuous f0 cwithin catreal f1 f2\\n & creal_open * part cGSPEC / c? / cSETSPEC b0 c/\\\\ creal_lt creal_of_num cNUMERAL c_0 b1 creal_lt creal_of_num cNUMERAL c_0 cdelta_y f0 f1 f2 b1 f3 f4 b1', 0), ('c==> creal_lt creal_of_num cNUMERAL c_0 creal_of_num cNUMERAL cBIT1 c_0 c= creal_le creal_div creal_of_num cNUMERAL c_0 creal_of_num cNUMERAL cBIT1 c_0 creal_div creal_neg creal_of_num cNUMERAL cBIT1 c_0 creal_of_num cNUMERAL cBIT1 c_0 creal_le creal_mul creal_of_num cNUMERAL c_0 creal_of_num cNUMERAL cBIT1 c_0 creal_mul creal_neg creal_of_num cNUMERAL cBIT1 c_0 creal_of_num cNUMERAL cBIT1 c_0\\n & creal_open * part cGSPEC / c? / cSETSPEC b0 c/\\\\ creal_lt creal_of_num cNUMERAL c_0 b1 creal_lt creal_of_num cNUMERAL c_0 cdelta_y f0 f1 f2 b1 f3 f4 b1', 0), ('c= cIN f0 part cUNIV cT\\n & creal_open * part cGSPEC / c? / cSETSPEC b0 c/\\\\ creal_lt creal_of_num cNUMERAL c_0 b1 creal_lt creal_of_num cNUMERAL c_0 cdelta_y f0 f1 f2 b1 f3 f4 b1', 0), ('c= creal_open f0 ! c==> cIN b0 f0 c? / c/\\\\ creal_lt creal_of_num cNUMERAL c_0 b1 ! c==> creal_lt creal_abs creal_sub b2 b0 b1 cIN b2 f0\\n & creal_open * part cGSPEC / c? / cSETSPEC b0 c/\\\\ creal_lt creal_of_num cNUMERAL c_0 b1 creal_lt creal_of_num cNUMERAL c_0 cdelta_y f0 f1 f2 b1 f3 f4 b1', 0), ('c==> c/\\\\ creal_gt f0 creal_of_num cNUMERAL c_0 creal_gt f1 creal_of_num cNUMERAL c_0 creal_gt creal_mul f0 f1 creal_of_num cNUMERAL c_0\\n & creal_open * part cGSPEC / c? / cSETSPEC b0 c/\\\\ creal_lt creal_of_num cNUMERAL c_0 b1 creal_lt creal_of_num cNUMERAL c_0 cdelta_y f0 f1 f2 b1 f3 f4 b1', 0), ('c==> creal_lt creal_of_num cNUMERAL c_0 creal_of_num cNUMERAL cBIT1 c_0 c==> creal_lt creal_of_num cNUMERAL c_0 creal_of_num cNUMERAL cBIT1 c_0 c==> c= creal_mul creal_add creal_mul creal_neg creal_of_num cNUMERAL cBIT1 c_0 creal_of_num cNUMERAL cBIT1 c_0 creal_mul creal_of_num cNUMERAL cBIT1 c_0 creal_of_num cNUMERAL cBIT1 c_0 creal_of_num cNUMERAL cBIT1 c_0 creal_mul creal_of_num cNUMERAL c_0 creal_mul creal_of_num cNUMERAL cBIT1 c_0 creal_of_num cNUMERAL cBIT1 c_0 c= creal_add creal_div creal_neg creal_of_num cNUMERAL cBIT1 c_0 creal_of_num cNUMERAL cBIT1 c_0 creal_div creal_of_num cNUMERAL cBIT1 c_0 creal_of_num cNUMERAL cBIT1 c_0 creal_div creal_of_num cNUMERAL c_0 creal_of_num cNUMERAL cBIT1 c_0\\n & creal_open * part cGSPEC / c? / cSETSPEC b0 c/\\\\ creal_lt creal_of_num cNUMERAL c_0 b1 creal_lt creal_of_num cNUMERAL c_0 cdelta_y f0 f1 f2 b1 f3 f4 b1', 0), ('c= creal_ge creal_add f0 creal_mul creal_neg creal_of_num cNUMERAL cBIT1 c_0 f1 creal_of_num cNUMERAL c_0 c/\\\\ creal_gt creal_of_num cNUMERAL cBIT1 c_0 creal_of_num cNUMERAL c_0 creal_ge creal_add f0 creal_mul creal_neg creal_of_num cNUMERAL cBIT1 c_0 f1 creal_of_num cNUMERAL c_0\\n & creal_open * part cGSPEC / c? / cSETSPEC b0 c/\\\\ creal_lt creal_of_num cNUMERAL c_0 b1 creal_lt creal_of_num cNUMERAL c_0 cdelta_y f0 f1 f2 b1 f3 f4 b1', 0), ('c= c==> ! ! c= cIN b1 / * b0 b2 * b0 b1 * / ! c= cIN b1 / * b0 b2 * b0 b1 f0 * / ! c= cIN b1 / * b0 b2 * b0 b1 f0\\n & creal_open * part cGSPEC / c? / cSETSPEC b0 c/\\\\ creal_lt creal_of_num cNUMERAL c_0 b1 creal_lt creal_of_num cNUMERAL c_0 cdelta_y f0 f1 f2 b1 f3 f4 b1', 0), ('c= c\\\\/ c\\\\/ f0 f1 f2 c\\\\/ f0 c\\\\/ f1 f2\\n & creal_open * part cGSPEC / c? / cSETSPEC b0 c/\\\\ creal_lt creal_of_num cNUMERAL c_0 b1 creal_lt creal_of_num cNUMERAL c_0 cdelta_y f0 f1 f2 b1 f3 f4 b1', 0), ('c= c==> ! c= cIN b0 * part cGSPEC / * f0 * part cSETSPEC b1 * f0 / / c/\\\\ b1 c= b0 b2 * / c= cIN b0 * part cGSPEC / * f0 * part cSETSPEC b1 * f0 / / c/\\\\ b1 c= b0 b2 f1 * / c= cIN b0 * part cGSPEC / * f0 * part cSETSPEC b1 * f0 / / c/\\\\ b1 c= b0 b2 f1\\n & creal_open * part cGSPEC / c? / cSETSPEC b0 c/\\\\ creal_lt creal_of_num cNUMERAL c_0 b1 creal_lt creal_of_num cNUMERAL c_0 cdelta_y f0 f1 f2 b1 f3 f4 b1', 0), ('c= c==> ! ! c= cIN b1 * part cGSPEC / * b0 * part cSETSPEC b2 * b0 / / c/\\\\ b2 c= b1 b3 * / ! c= cIN b1 * part cGSPEC / * b0 * part cSETSPEC b2 * b0 / / c/\\\\ b2 c= b1 b3 f0 * / ! c= cIN b1 * part cGSPEC / * b0 * part cSETSPEC b2 * b0 / / c/\\\\ b2 c= b1 b3 f0\\n & creal_open * part cGSPEC / c? / cSETSPEC b0 c/\\\\ creal_lt creal_of_num cNUMERAL c_0 b1 creal_lt creal_of_num cNUMERAL c_0 cdelta_y f0 f1 f2 b1 f3 f4 b1', 0), ('c==> c~ creal_lt creal_of_num cNUMERAL c_0 creal_of_num cNUMERAL cBIT1 c_0 cF\\n & creal_open * part cGSPEC / c? / cSETSPEC b0 c/\\\\ creal_lt creal_of_num cNUMERAL c_0 b1 creal_lt creal_of_num cNUMERAL c_0 cdelta_y f0 f1 f2 b1 f3 f4 b1', 0), ('c==> creal_continuous f0 catreal f1 c==> ! ! ! c==> creal_continuous b0 catreal b2 creal_continuous b0 cwithin catreal b2 b1 creal_continuous f0 cwithin catreal f1 f2\\n & creal_open * part cGSPEC / c? / cSETSPEC b0 c/\\\\ creal_lt creal_of_num cNUMERAL c_0 b1 creal_lt creal_of_num cNUMERAL c_0 cdelta_y f0 f1 f2 b1 f3 f4 b1', 0), ('c= c==> creal_lt creal_of_num cNUMERAL c_0 creal_of_num cNUMERAL cBIT1 c_0 c= creal_le creal_div creal_of_num cNUMERAL c_0 creal_of_num cNUMERAL cBIT1 c_0 creal_div creal_neg creal_of_num cNUMERAL cBIT1 c_0 creal_of_num cNUMERAL cBIT1 c_0 creal_le creal_mul creal_of_num cNUMERAL c_0 creal_of_num cNUMERAL cBIT1 c_0 creal_mul creal_neg creal_of_num cNUMERAL cBIT1 c_0 creal_of_num cNUMERAL cBIT1 c_0 c= creal_le creal_div creal_of_num cNUMERAL c_0 creal_of_num cNUMERAL cBIT1 c_0 creal_div creal_neg creal_of_num cNUMERAL cBIT1 c_0 creal_of_num cNUMERAL cBIT1 c_0 creal_le creal_mul creal_of_num cNUMERAL c_0 creal_of_num cNUMERAL cBIT1 c_0 creal_mul creal_neg creal_of_num cNUMERAL cBIT1 c_0 creal_of_num cNUMERAL cBIT1 c_0\\n & creal_open * part cGSPEC / c? / cSETSPEC b0 c/\\\\ creal_lt creal_of_num cNUMERAL c_0 b1 creal_lt creal_of_num cNUMERAL c_0 cdelta_y f0 f1 f2 b1 f3 f4 b1', 0), ('c= c* cNUMERAL cBIT1 c_0 cNUMERAL cBIT1 c_0 cNUMERAL cBIT1 c_0\\n & creal_open * part cGSPEC / c? / cSETSPEC b0 c/\\\\ creal_lt creal_of_num cNUMERAL c_0 b1 creal_lt creal_of_num cNUMERAL c_0 cdelta_y f0 f1 f2 b1 f3 f4 b1', 0), ('c==> c/\\\\ creal_ge creal_add f0 creal_mul creal_neg creal_of_num cNUMERAL cBIT1 c_0 f1 creal_of_num cNUMERAL c_0 creal_gt creal_add creal_mul creal_neg creal_of_num cNUMERAL cBIT1 c_0 f0 f1 creal_of_num cNUMERAL c_0 creal_gt creal_mul creal_of_num cNUMERAL cBIT1 c_0 creal_add creal_mul creal_neg creal_of_num cNUMERAL cBIT1 c_0 f0 f1 creal_of_num cNUMERAL c_0\\n & creal_open * part cGSPEC / c? / cSETSPEC b0 c/\\\\ creal_lt creal_of_num cNUMERAL c_0 b1 creal_lt creal_of_num cNUMERAL c_0 cdelta_y f0 f1 f2 b1 f3 f4 b1', 0), ('c= cIN f0 * part cGSPEC / * f1 * part cSETSPEC b0 * f1 / / c/\\\\ b0 c= f0 b1\\n & creal_open * part cGSPEC / c? / cSETSPEC b0 c/\\\\ creal_lt creal_of_num cNUMERAL c_0 b1 creal_lt creal_of_num cNUMERAL c_0 cdelta_y f0 f1 f2 b1 f3 f4 b1', 0), ('c==> cderived_form cT / creal_add creal_mul creal_mul f0 f0 creal_mul creal_mul b0 b0 creal_add creal_neg creal_mul f0 f0 creal_add creal_mul f1 f1 creal_add creal_sub creal_mul f2 f2 creal_mul b0 b0 creal_add creal_mul f3 f3 creal_mul f4 f4 creal_add creal_mul creal_mul f1 f1 creal_mul creal_mul f3 f3 creal_add creal_sub creal_mul f0 f0 creal_mul f1 f1 creal_add creal_mul f2 f2 creal_add creal_sub creal_mul b0 b0 creal_mul f3 f3 creal_mul f4 f4 creal_sub creal_sub creal_sub creal_sub creal_mul creal_mul f2 f2 creal_mul creal_mul f4 f4 creal_add creal_mul f0 f0 creal_add creal_sub creal_mul f1 f1 creal_mul f2 f2 creal_add creal_mul b0 b0 creal_sub creal_mul f3 f3 creal_mul f4 f4 creal_mul creal_mul f1 f1 creal_mul creal_mul f2 f2 creal_mul b0 b0 creal_mul creal_mul f0 f0 creal_mul creal_mul f2 f2 creal_mul f3 f3 creal_mul creal_mul f0 f0 creal_mul creal_mul f1 f1 creal_mul f4 f4 creal_mul creal_mul b0 b0 creal_mul creal_mul f3 f3 creal_mul f4 f4 creal_add creal_mul creal_mul f0 f0 creal_add creal_mul creal_mul f5 f5 creal_neg creal_add f5 f5 creal_mul creal_add f5 f5 creal_add creal_neg creal_mul f0 f0 creal_add creal_mul f1 f1 creal_add creal_sub creal_mul f2 f2 creal_mul f5 f5 creal_add creal_mul f3 f3 creal_mul f4 f4 creal_add creal_mul creal_mul f1 f1 creal_mul creal_mul f3 f3 creal_add f5 f5 creal_sub creal_sub creal_mul creal_mul f2 f2 creal_mul creal_mul f4 f4 creal_add f5 f5 creal_mul creal_mul f1 f1 creal_mul creal_mul f2 f2 creal_add f5 f5 creal_mul creal_add f5 f5 creal_mul creal_mul f3 f3 creal_mul f4 f4 f5 part cUNIV cderived_form cT / creal_add creal_mul creal_mul f0 f0 creal_mul creal_mul b0 b0 creal_add creal_neg creal_mul f0 f0 creal_add creal_mul f1 f1 creal_add creal_sub creal_mul f2 f2 creal_mul b0 b0 creal_add creal_mul f3 f3 creal_mul f4 f4 creal_add creal_mul creal_mul f1 f1 creal_mul creal_mul f3 f3 creal_add creal_sub creal_mul f0 f0 creal_mul f1 f1 creal_add creal_mul f2 f2 creal_add creal_sub creal_mul b0 b0 creal_mul f3 f3 creal_mul f4 f4 creal_sub creal_sub creal_sub creal_sub creal_mul creal_mul f2 f2 creal_mul creal_mul f4 f4 creal_add creal_mul f0 f0 creal_add creal_sub creal_mul f1 f1 creal_mul f2 f2 creal_add creal_mul b0 b0 creal_sub creal_mul f3 f3 creal_mul f4 f4 creal_mul creal_mul f1 f1 creal_mul creal_mul f2 f2 creal_mul b0 b0 creal_mul creal_mul f0 f0 creal_mul creal_mul f2 f2 creal_mul f3 f3 creal_mul creal_mul f0 f0 creal_mul creal_mul f1 f1 creal_mul f4 f4 creal_mul creal_mul b0 b0 creal_mul creal_mul f3 f3 creal_mul f4 f4 creal_add creal_mul creal_mul f0 f0 creal_add creal_mul creal_mul f5 f5 creal_neg creal_add f5 f5 creal_mul creal_add f5 f5 creal_add creal_neg creal_mul f0 f0 creal_add creal_mul f1 f1 creal_add creal_sub creal_mul f2 f2 creal_mul f5 f5 creal_add creal_mul f3 f3 creal_mul f4 f4 creal_add creal_mul creal_mul f1 f1 creal_mul creal_mul f3 f3 creal_add f5 f5 creal_sub creal_sub creal_mul creal_mul f2 f2 creal_mul creal_mul f4 f4 creal_add f5 f5 creal_mul creal_mul f1 f1 creal_mul creal_mul f2 f2 creal_add f5 f5 creal_mul creal_add f5 f5 creal_mul creal_mul f3 f3 creal_mul f4 f4 f5 part cUNIV\\n & creal_open * part cGSPEC / c? / cSETSPEC b0 c/\\\\ creal_lt creal_of_num cNUMERAL c_0 b1 creal_lt creal_of_num cNUMERAL c_0 cdelta_y f0 f1 f2 b1 f3 f4 b1', 0), ('c= creal_le creal_of_num f0 creal_neg creal_of_num f1 c/\\\\ c= f0 cNUMERAL c_0 c= f1 cNUMERAL c_0\\n & creal_open * part cGSPEC / c? / cSETSPEC b0 c/\\\\ creal_lt creal_of_num cNUMERAL c_0 b1 creal_lt creal_of_num cNUMERAL c_0 cdelta_y f0 f1 f2 b1 f3 f4 b1', 0), ('c= c==> ! c= c\\\\/ f0 c\\\\/ f1 b0 c\\\\/ c\\\\/ f0 f1 b0 * / c= c\\\\/ f0 c\\\\/ f1 b0 c\\\\/ c\\\\/ f0 f1 b0 f2 * / c= c\\\\/ f0 c\\\\/ f1 b0 c\\\\/ c\\\\/ f0 f1 b0 f2\\n & creal_open * part cGSPEC / c? / cSETSPEC b0 c/\\\\ creal_lt creal_of_num cNUMERAL c_0 b1 creal_lt creal_of_num cNUMERAL c_0 cdelta_y f0 f1 f2 b1 f3 f4 b1', 0), ('c= c==> ! cIN b0 part cUNIV * / cIN b0 part cUNIV f0 * / cIN b0 part cUNIV f0\\n & creal_open * part cGSPEC / c? / cSETSPEC b0 c/\\\\ creal_lt creal_of_num cNUMERAL c_0 b1 creal_lt creal_of_num cNUMERAL c_0 cdelta_y f0 f1 f2 b1 f3 f4 b1', 0), ('c= c/\\\\ f0 f0 f0\\n & creal_open * part cGSPEC / c? / cSETSPEC b0 c/\\\\ creal_lt creal_of_num cNUMERAL c_0 b1 creal_lt creal_of_num cNUMERAL c_0 cdelta_y f0 f1 f2 b1 f3 f4 b1', 0), ('c==> c~ creal_lt creal_of_num cNUMERAL c_0 creal_of_num cNUMERAL cBIT1 c_0 c/\\\\ c~ creal_lt creal_of_num cNUMERAL c_0 creal_of_num cNUMERAL cBIT1 c_0 cF\\n & creal_open * part cGSPEC / c? / cSETSPEC b0 c/\\\\ creal_lt creal_of_num cNUMERAL c_0 b1 creal_lt creal_of_num cNUMERAL c_0 cdelta_y f0 f1 f2 b1 f3 f4 b1', 0), ('c= creal_of_num cNUMERAL c_0 creal_mul creal_of_num cNUMERAL c_0 creal_mul creal_of_num cNUMERAL cBIT1 c_0 creal_of_num cNUMERAL cBIT1 c_0\\n & creal_open * part cGSPEC / c? / cSETSPEC b0 c/\\\\ creal_lt creal_of_num cNUMERAL c_0 b1 creal_lt creal_of_num cNUMERAL c_0 cdelta_y f0 f1 f2 b1 f3 f4 b1', 0), ('c==> c/\\\\ creal_open * part cGSPEC / c? / cSETSPEC b0 creal_lt creal_of_num cNUMERAL c_0 b1 b1 c/\\\\ creal_open * part cGSPEC / c? / cSETSPEC b0 creal_lt creal_of_num cNUMERAL c_0 b1 b1 creal_continuous_on / cdelta_y f0 f1 f2 b0 f3 f4 * part cGSPEC / c? / cSETSPEC b0 creal_lt creal_of_num cNUMERAL c_0 b1 b1 c==> c==> c/\\\\ creal_open * part cGSPEC / c? / cSETSPEC b0 creal_lt creal_of_num cNUMERAL c_0 b1 b1 c/\\\\ creal_open * part cGSPEC / c? / cSETSPEC b0 creal_lt creal_of_num cNUMERAL c_0 b1 b1 creal_continuous_on / cdelta_y f0 f1 f2 b0 f3 f4 * part cGSPEC / c? / cSETSPEC b0 creal_lt creal_of_num cNUMERAL c_0 b1 b1 creal_open * part cGSPEC / c? / cSETSPEC b0 c/\\\\ creal_lt creal_of_num cNUMERAL c_0 b1 creal_lt creal_of_num cNUMERAL c_0 cdelta_y f0 f1 f2 b1 f3 f4 b1 c/\\\\ c==> c/\\\\ creal_open * part cGSPEC / c? / cSETSPEC b0 creal_lt creal_of_num cNUMERAL c_0 b1 b1 c/\\\\ creal_open * part cGSPEC / c? / cSETSPEC b0 creal_lt creal_of_num cNUMERAL c_0 b1 b1 creal_continuous_on / cdelta_y f0 f1 f2 b0 f3 f4 * part cGSPEC / c? / cSETSPEC b0 creal_lt creal_of_num cNUMERAL c_0 b1 b1 creal_open * part cGSPEC / c? / cSETSPEC b0 c/\\\\ creal_lt creal_of_num cNUMERAL c_0 b1 creal_lt creal_of_num cNUMERAL c_0 cdelta_y f0 f1 f2 b1 f3 f4 b1 creal_open * part cGSPEC / c? / cSETSPEC b0 c/\\\\ creal_lt creal_of_num cNUMERAL c_0 b1 creal_lt creal_of_num cNUMERAL c_0 cdelta_y f0 f1 f2 b1 f3 f4 b1\\n & creal_open * part cGSPEC / c? / cSETSPEC b0 c/\\\\ creal_lt creal_of_num cNUMERAL c_0 b1 creal_lt creal_of_num cNUMERAL c_0 cdelta_y f0 f1 f2 b1 f3 f4 b1', 0), ('c= c==> ! c= cGSPEC / * f0 * part cSETSPEC b1 b0 * f0 / / c/\\\\ b1 c= b0 b2 * / c= cGSPEC / * f0 * part cSETSPEC b1 b0 * f0 / / c/\\\\ b1 c= b0 b2 f1 * / c= cGSPEC / * f0 * part cSETSPEC b1 b0 * f0 / / c/\\\\ b1 c= b0 b2 f1\\n & creal_open * part cGSPEC / c? / cSETSPEC b0 c/\\\\ creal_lt creal_of_num cNUMERAL c_0 b1 creal_lt creal_of_num cNUMERAL c_0 cdelta_y f0 f1 f2 b1 f3 f4 b1', 0), ('c= cGSPEC / c? / cSETSPEC b0 * f0 b1 b1 f1 * f0 f1\\n & creal_open * part cGSPEC / c? / cSETSPEC b0 c/\\\\ creal_lt creal_of_num cNUMERAL c_0 b1 creal_lt creal_of_num cNUMERAL c_0 cdelta_y f0 f1 f2 b1 f3 f4 b1', 0), ('c= c==> ! c= creal_open b0 ! c==> cIN b1 b0 c? / c/\\\\ creal_lt creal_of_num cNUMERAL c_0 b2 ! c==> creal_lt creal_abs creal_sub b3 b1 b2 cIN b3 b0 * / c= creal_open b0 ! c==> cIN b1 b0 c? / c/\\\\ creal_lt creal_of_num cNUMERAL c_0 b2 ! c==> creal_lt creal_abs creal_sub b3 b1 b2 cIN b3 b0 f0 * / c= creal_open b0 ! c==> cIN b1 b0 c? / c/\\\\ creal_lt creal_of_num cNUMERAL c_0 b2 ! c==> creal_lt creal_abs creal_sub b3 b1 b2 cIN b3 b0 f0\\n & creal_open * part cGSPEC / c? / cSETSPEC b0 c/\\\\ creal_lt creal_of_num cNUMERAL c_0 b1 creal_lt creal_of_num cNUMERAL c_0 cdelta_y f0 f1 f2 b1 f3 f4 b1', 0), ('c= cT c==> cderived_form cT / creal_add creal_mul creal_mul f0 f0 creal_mul creal_mul b0 b0 creal_add creal_neg creal_mul f0 f0 creal_add creal_mul f1 f1 creal_add creal_sub creal_mul f2 f2 creal_mul b0 b0 creal_add creal_mul f3 f3 creal_mul f4 f4 creal_add creal_mul creal_mul f1 f1 creal_mul creal_mul f3 f3 creal_add creal_sub creal_mul f0 f0 creal_mul f1 f1 creal_add creal_mul f2 f2 creal_add creal_sub creal_mul b0 b0 creal_mul f3 f3 creal_mul f4 f4 creal_sub creal_sub creal_sub creal_sub creal_mul creal_mul f2 f2 creal_mul creal_mul f4 f4 creal_add creal_mul f0 f0 creal_add creal_sub creal_mul f1 f1 creal_mul f2 f2 creal_add creal_mul b0 b0 creal_sub creal_mul f3 f3 creal_mul f4 f4 creal_mul creal_mul f1 f1 creal_mul creal_mul f2 f2 creal_mul b0 b0 creal_mul creal_mul f0 f0 creal_mul creal_mul f2 f2 creal_mul f3 f3 creal_mul creal_mul f0 f0 creal_mul creal_mul f1 f1 creal_mul f4 f4 creal_mul creal_mul b0 b0 creal_mul creal_mul f3 f3 creal_mul f4 f4 creal_add creal_mul creal_mul f0 f0 creal_add creal_mul creal_mul f5 f5 creal_neg creal_add f5 f5 creal_mul creal_add f5 f5 creal_add creal_neg creal_mul f0 f0 creal_add creal_mul f1 f1 creal_add creal_sub creal_mul f2 f2 creal_mul f5 f5 creal_add creal_mul f3 f3 creal_mul f4 f4 creal_add creal_mul creal_mul f1 f1 creal_mul creal_mul f3 f3 creal_add f5 f5 creal_sub creal_sub creal_mul creal_mul f2 f2 creal_mul creal_mul f4 f4 creal_add f5 f5 creal_mul creal_mul f1 f1 creal_mul creal_mul f2 f2 creal_add f5 f5 creal_mul creal_add f5 f5 creal_mul creal_mul f3 f3 creal_mul f4 f4 f5 part cUNIV cderived_form cT / creal_add creal_mul creal_mul f0 f0 creal_mul creal_mul b0 b0 creal_add creal_neg creal_mul f0 f0 creal_add creal_mul f1 f1 creal_add creal_sub creal_mul f2 f2 creal_mul b0 b0 creal_add creal_mul f3 f3 creal_mul f4 f4 creal_add creal_mul creal_mul f1 f1 creal_mul creal_mul f3 f3 creal_add creal_sub creal_mul f0 f0 creal_mul f1 f1 creal_add creal_mul f2 f2 creal_add creal_sub creal_mul b0 b0 creal_mul f3 f3 creal_mul f4 f4 creal_sub creal_sub creal_sub creal_sub creal_mul creal_mul f2 f2 creal_mul creal_mul f4 f4 creal_add creal_mul f0 f0 creal_add creal_sub creal_mul f1 f1 creal_mul f2 f2 creal_add creal_mul b0 b0 creal_sub creal_mul f3 f3 creal_mul f4 f4 creal_mul creal_mul f1 f1 creal_mul creal_mul f2 f2 creal_mul b0 b0 creal_mul creal_mul f0 f0 creal_mul creal_mul f2 f2 creal_mul f3 f3 creal_mul creal_mul f0 f0 creal_mul creal_mul f1 f1 creal_mul f4 f4 creal_mul creal_mul b0 b0 creal_mul creal_mul f3 f3 creal_mul f4 f4 creal_add creal_mul creal_mul f0 f0 creal_add creal_mul creal_mul f5 f5 creal_neg creal_add f5 f5 creal_mul creal_add f5 f5 creal_add creal_neg creal_mul f0 f0 creal_add creal_mul f1 f1 creal_add creal_sub creal_mul f2 f2 creal_mul f5 f5 creal_add creal_mul f3 f3 creal_mul f4 f4 creal_add creal_mul creal_mul f1 f1 creal_mul creal_mul f3 f3 creal_add f5 f5 creal_sub creal_sub creal_mul creal_mul f2 f2 creal_mul creal_mul f4 f4 creal_add f5 f5 creal_mul creal_mul f1 f1 creal_mul creal_mul f2 f2 creal_add f5 f5 creal_mul creal_add f5 f5 creal_mul creal_mul f3 f3 creal_mul f4 f4 f5 part cUNIV\\n & creal_open * part cGSPEC / c? / cSETSPEC b0 c/\\\\ creal_lt creal_of_num cNUMERAL c_0 b1 creal_lt creal_of_num cNUMERAL c_0 cdelta_y f0 f1 f2 b1 f3 f4 b1', 0), ('* / ! c= cIN b1 / * b0 b2 * b0 b1 f0\\n & creal_open * part cGSPEC / c? / cSETSPEC b0 c/\\\\ creal_lt creal_of_num cNUMERAL c_0 b1 creal_lt creal_of_num cNUMERAL c_0 cdelta_y f0 f1 f2 b1 f3 f4 b1', 0), ('c==> creal_lt creal_of_num cNUMERAL c_0 creal_of_num cNUMERAL cBIT1 c_0 c==> c= creal_mul creal_add creal_mul creal_neg creal_of_num cNUMERAL cBIT1 c_0 creal_of_num cNUMERAL cBIT1 c_0 creal_mul creal_of_num cNUMERAL cBIT1 c_0 creal_of_num cNUMERAL cBIT1 c_0 creal_of_num cNUMERAL cBIT1 c_0 creal_mul creal_of_num cNUMERAL c_0 creal_mul creal_of_num cNUMERAL cBIT1 c_0 creal_of_num cNUMERAL cBIT1 c_0 c= creal_add creal_div creal_neg creal_of_num cNUMERAL cBIT1 c_0 creal_of_num cNUMERAL cBIT1 c_0 creal_div creal_of_num cNUMERAL cBIT1 c_0 creal_of_num cNUMERAL cBIT1 c_0 creal_div creal_of_num cNUMERAL c_0 creal_of_num cNUMERAL cBIT1 c_0\\n & creal_open * part cGSPEC / c? / cSETSPEC b0 c/\\\\ creal_lt creal_of_num cNUMERAL c_0 b1 creal_lt creal_of_num cNUMERAL c_0 cdelta_y f0 f1 f2 b1 f3 f4 b1', 0), ('c==> c/\\\\ creal_ge creal_add f0 creal_mul creal_neg creal_of_num cNUMERAL cBIT1 c_0 f1 creal_of_num cNUMERAL c_0 creal_gt creal_add creal_mul creal_neg creal_of_num cNUMERAL cBIT1 c_0 f0 f1 creal_of_num cNUMERAL c_0 c/\\\\ creal_gt creal_of_num cNUMERAL cBIT1 c_0 creal_of_num cNUMERAL c_0 creal_ge creal_add f0 creal_mul creal_neg creal_of_num cNUMERAL cBIT1 c_0 f1 creal_of_num cNUMERAL c_0\\n & creal_open * part cGSPEC / c? / cSETSPEC b0 c/\\\\ creal_lt creal_of_num cNUMERAL c_0 b1 creal_lt creal_of_num cNUMERAL c_0 cdelta_y f0 f1 f2 b1 f3 f4 b1', 0), ('c= c==> ! c= cGSPEC / c? / cSETSPEC b1 * f0 b2 b2 b0 * f0 b0 * / c= cGSPEC / c? / cSETSPEC b1 * f0 b2 b2 b0 * f0 b0 f1 * / c= cGSPEC / c? / cSETSPEC b1 * f0 b2 b2 b0 * f0 b0 f1\\n & creal_open * part cGSPEC / c? / cSETSPEC b0 c/\\\\ creal_lt creal_of_num cNUMERAL c_0 b1 creal_lt creal_of_num cNUMERAL c_0 cdelta_y f0 f1 f2 b1 f3 f4 b1', 0), ('c==> c~ creal_lt creal_of_num cNUMERAL c_0 creal_of_num cNUMERAL cBIT1 c_0 creal_ge creal_neg creal_of_num cNUMERAL cBIT1 c_0 creal_of_num cNUMERAL c_0\\n & creal_open * part cGSPEC / c? / cSETSPEC b0 c/\\\\ creal_lt creal_of_num cNUMERAL c_0 b1 creal_lt creal_of_num cNUMERAL c_0 cdelta_y f0 f1 f2 b1 f3 f4 b1', 0), ('c= creal_add creal_div creal_neg creal_of_num cNUMERAL cBIT1 c_0 creal_of_num cNUMERAL cBIT1 c_0 creal_div creal_of_num cNUMERAL cBIT1 c_0 creal_of_num cNUMERAL cBIT1 c_0 creal_div creal_of_num cNUMERAL c_0 creal_of_num cNUMERAL cBIT1 c_0\\n & creal_open * part cGSPEC / c? / cSETSPEC b0 c/\\\\ creal_lt creal_of_num cNUMERAL c_0 b1 creal_lt creal_of_num cNUMERAL c_0 cdelta_y f0 f1 f2 b1 f3 f4 b1', 0), ('c= cIN f0 / * f1 b0 * f1 f0\\n & creal_open * part cGSPEC / c? / cSETSPEC b0 c/\\\\ creal_lt creal_of_num cNUMERAL c_0 b1 creal_lt creal_of_num cNUMERAL c_0 cdelta_y f0 f1 f2 b1 f3 f4 b1', 0), ('c= cT creal_lt creal_of_num cNUMERAL c_0 creal_of_num cNUMERAL cBIT1 c_0\\n & creal_open * part cGSPEC / c? / cSETSPEC b0 c/\\\\ creal_lt creal_of_num cNUMERAL c_0 b1 creal_lt creal_of_num cNUMERAL c_0 cdelta_y f0 f1 f2 b1 f3 f4 b1', 0), ('c= c==> ! ! ! c= c\\\\/ b0 c\\\\/ b1 b2 c\\\\/ c\\\\/ b0 b1 b2 * / ! ! c= c\\\\/ b0 c\\\\/ b1 b2 c\\\\/ c\\\\/ b0 b1 b2 f0 * / ! ! c= c\\\\/ b0 c\\\\/ b1 b2 c\\\\/ c\\\\/ b0 b1 b2 f0\\n & creal_open * part cGSPEC / c? / cSETSPEC b0 c/\\\\ creal_lt creal_of_num cNUMERAL c_0 b1 creal_lt creal_of_num cNUMERAL c_0 cdelta_y f0 f1 f2 b1 f3 f4 b1', 0), ('c= c< cNUMERAL c_0 cNUMERAL cBIT1 c_0 cT\\n & creal_open * part cGSPEC / c? / cSETSPEC b0 c/\\\\ creal_lt creal_of_num cNUMERAL c_0 b1 creal_lt creal_of_num cNUMERAL c_0 cdelta_y f0 f1 f2 b1 f3 f4 b1', 0), ('c= c==> creal_lt creal_of_num cNUMERAL c_0 creal_of_num cNUMERAL cBIT1 c_0 c==> creal_lt creal_of_num cNUMERAL c_0 creal_of_num cNUMERAL cBIT1 c_0 c= creal_lt creal_div creal_of_num cNUMERAL c_0 creal_of_num cNUMERAL cBIT1 c_0 creal_div creal_of_num cNUMERAL cBIT1 c_0 creal_of_num cNUMERAL cBIT1 c_0 creal_lt creal_mul creal_of_num cNUMERAL c_0 creal_of_num cNUMERAL cBIT1 c_0 creal_mul creal_of_num cNUMERAL cBIT1 c_0 creal_of_num cNUMERAL cBIT1 c_0 c==> creal_lt creal_of_num cNUMERAL c_0 creal_of_num cNUMERAL cBIT1 c_0 c= creal_lt creal_div creal_of_num cNUMERAL c_0 creal_of_num cNUMERAL cBIT1 c_0 creal_div creal_of_num cNUMERAL cBIT1 c_0 creal_of_num cNUMERAL cBIT1 c_0 creal_lt creal_mul creal_of_num cNUMERAL c_0 creal_of_num cNUMERAL cBIT1 c_0 creal_mul creal_of_num cNUMERAL cBIT1 c_0 creal_of_num cNUMERAL cBIT1 c_0\\n & creal_open * part cGSPEC / c? / cSETSPEC b0 c/\\\\ creal_lt creal_of_num cNUMERAL c_0 b1 creal_lt creal_of_num cNUMERAL c_0 cdelta_y f0 f1 f2 b1 f3 f4 b1', 0), ('cIN f0 part cUNIV\\n & creal_open * part cGSPEC / c? / cSETSPEC b0 c/\\\\ creal_lt creal_of_num cNUMERAL c_0 b1 creal_lt creal_of_num cNUMERAL c_0 cdelta_y f0 f1 f2 b1 f3 f4 b1', 0), ('c==> creal_ge creal_neg creal_of_num cNUMERAL cBIT1 c_0 creal_of_num cNUMERAL c_0 cF\\n & creal_open * part cGSPEC / c? / cSETSPEC b0 c/\\\\ creal_lt creal_of_num cNUMERAL c_0 b1 creal_lt creal_of_num cNUMERAL c_0 cdelta_y f0 f1 f2 b1 f3 f4 b1', 0), ('c= * / * f0 b0 f1 * f0 f1\\n & creal_open * part cGSPEC / c? / cSETSPEC b0 c/\\\\ creal_lt creal_of_num cNUMERAL c_0 b1 creal_lt creal_of_num cNUMERAL c_0 cdelta_y f0 f1 f2 b1 f3 f4 b1', 0), ('c= c==> c==> c~ creal_lt creal_of_num cNUMERAL c_0 creal_of_num cNUMERAL cBIT1 c_0 cF creal_lt creal_of_num cNUMERAL c_0 creal_of_num cNUMERAL cBIT1 c_0 creal_lt creal_of_num cNUMERAL c_0 creal_of_num cNUMERAL cBIT1 c_0\\n & creal_open * part cGSPEC / c? / cSETSPEC b0 c/\\\\ creal_lt creal_of_num cNUMERAL c_0 b1 creal_lt creal_of_num cNUMERAL c_0 cdelta_y f0 f1 f2 b1 f3 f4 b1', 0), ('c= creal_mul creal_of_num cNUMERAL c_0 creal_of_num f0 creal_of_num cNUMERAL c_0\\n & creal_open * part cGSPEC / c? / cSETSPEC b0 c/\\\\ creal_lt creal_of_num cNUMERAL c_0 b1 creal_lt creal_of_num cNUMERAL c_0 cdelta_y f0 f1 f2 b1 f3 f4 b1', 0), ('c= creal_of_num f0 creal_div creal_of_num f0 creal_of_num cNUMERAL cBIT1 c_0\\n & creal_open * part cGSPEC / c? / cSETSPEC b0 c/\\\\ creal_lt creal_of_num cNUMERAL c_0 b1 creal_lt creal_of_num cNUMERAL c_0 cdelta_y f0 f1 f2 b1 f3 f4 b1', 0), ('c= creal_lt creal_div creal_of_num cNUMERAL c_0 creal_of_num cNUMERAL cBIT1 c_0 creal_div creal_of_num cNUMERAL c_0 creal_of_num cNUMERAL cBIT1 c_0 creal_lt creal_mul creal_of_num cNUMERAL c_0 creal_of_num cNUMERAL cBIT1 c_0 creal_mul creal_of_num cNUMERAL c_0 creal_of_num cNUMERAL cBIT1 c_0\\n & creal_open * part cGSPEC / c? / cSETSPEC b0 c/\\\\ creal_lt creal_of_num cNUMERAL c_0 b1 creal_lt creal_of_num cNUMERAL c_0 cdelta_y f0 f1 f2 b1 f3 f4 b1', 0), ('c= cGSPEC / * f0 * part cSETSPEC b0 f1 * f0 / / c/\\\\ b0 c= f1 b1\\n & creal_open * part cGSPEC / c? / cSETSPEC b0 c/\\\\ creal_lt creal_of_num cNUMERAL c_0 b1 creal_lt creal_of_num cNUMERAL c_0 cdelta_y f0 f1 f2 b1 f3 f4 b1', 0), ('c= c==> ! ! c= cGSPEC / c? / cSETSPEC b2 * b0 b3 b3 b1 * b0 b1 * / ! c= cGSPEC / c? / cSETSPEC b2 * b0 b3 b3 b1 * b0 b1 f0 * / ! c= cGSPEC / c? / cSETSPEC b2 * b0 b3 b3 b1 * b0 b1 f0\\n & creal_open * part cGSPEC / c? / cSETSPEC b0 c/\\\\ creal_lt creal_of_num cNUMERAL c_0 b1 creal_lt creal_of_num cNUMERAL c_0 cdelta_y f0 f1 f2 b1 f3 f4 b1', 0), ('c= creal_mul creal_neg creal_of_num f0 creal_of_num f1 creal_neg creal_of_num c* f0 f1\\n & creal_open * part cGSPEC / c? / cSETSPEC b0 c/\\\\ creal_lt creal_of_num cNUMERAL c_0 b1 creal_lt creal_of_num cNUMERAL c_0 cdelta_y f0 f1 f2 b1 f3 f4 b1', 0), ('c= c==> c= creal_mul creal_add creal_mul creal_neg creal_of_num cNUMERAL cBIT1 c_0 creal_of_num cNUMERAL cBIT1 c_0 creal_mul creal_of_num cNUMERAL cBIT1 c_0 creal_of_num cNUMERAL cBIT1 c_0 creal_of_num cNUMERAL cBIT1 c_0 creal_mul creal_of_num cNUMERAL c_0 creal_mul creal_of_num cNUMERAL cBIT1 c_0 creal_of_num cNUMERAL cBIT1 c_0 c= creal_add creal_div creal_neg creal_of_num cNUMERAL cBIT1 c_0 creal_of_num cNUMERAL cBIT1 c_0 creal_div creal_of_num cNUMERAL cBIT1 c_0 creal_of_num cNUMERAL cBIT1 c_0 creal_div creal_of_num cNUMERAL c_0 creal_of_num cNUMERAL cBIT1 c_0 c= creal_add creal_div creal_neg creal_of_num cNUMERAL cBIT1 c_0 creal_of_num cNUMERAL cBIT1 c_0 creal_div creal_of_num cNUMERAL cBIT1 c_0 creal_of_num cNUMERAL cBIT1 c_0 creal_div creal_of_num cNUMERAL c_0 creal_of_num cNUMERAL cBIT1 c_0\\n & creal_open * part cGSPEC / c? / cSETSPEC b0 c/\\\\ creal_lt creal_of_num cNUMERAL c_0 b1 creal_lt creal_of_num cNUMERAL c_0 cdelta_y f0 f1 f2 b1 f3 f4 b1', 0), ('* / ! c= cGSPEC / c? / cSETSPEC b2 * b0 b3 b3 b1 * b0 b1 f0\\n & creal_open * part cGSPEC / c? / cSETSPEC b0 c/\\\\ creal_lt creal_of_num cNUMERAL c_0 b1 creal_lt creal_of_num cNUMERAL c_0 cdelta_y f0 f1 f2 b1 f3 f4 b1', 0), ('c==> creal_lt creal_of_num cNUMERAL c_0 creal_of_num cNUMERAL cBIT1 c_0 c= creal_lt creal_div creal_of_num cNUMERAL c_0 creal_of_num cNUMERAL cBIT1 c_0 creal_div creal_of_num cNUMERAL cBIT1 c_0 creal_of_num cNUMERAL cBIT1 c_0 creal_lt creal_mul creal_of_num cNUMERAL c_0 creal_of_num cNUMERAL cBIT1 c_0 creal_mul creal_of_num cNUMERAL cBIT1 c_0 creal_of_num cNUMERAL cBIT1 c_0\\n & creal_open * part cGSPEC / c? / cSETSPEC b0 c/\\\\ creal_lt creal_of_num cNUMERAL c_0 b1 creal_lt creal_of_num cNUMERAL c_0 cdelta_y f0 f1 f2 b1 f3 f4 b1', 0), ('c= creal_le creal_div creal_of_num cNUMERAL c_0 creal_of_num cNUMERAL cBIT1 c_0 creal_div creal_neg creal_of_num cNUMERAL cBIT1 c_0 creal_of_num cNUMERAL cBIT1 c_0 creal_le creal_mul creal_of_num cNUMERAL c_0 creal_of_num cNUMERAL cBIT1 c_0 creal_mul creal_neg creal_of_num cNUMERAL cBIT1 c_0 creal_of_num cNUMERAL cBIT1 c_0\\n & creal_open * part cGSPEC / c? / cSETSPEC b0 c/\\\\ creal_lt creal_of_num cNUMERAL c_0 b1 creal_lt creal_of_num cNUMERAL c_0 cdelta_y f0 f1 f2 b1 f3 f4 b1', 0), ('c= creal_neg creal_of_num f0 creal_div creal_neg creal_of_num f0 creal_of_num cNUMERAL cBIT1 c_0\\n & creal_open * part cGSPEC / c? / cSETSPEC b0 c/\\\\ creal_lt creal_of_num cNUMERAL c_0 b1 creal_lt creal_of_num cNUMERAL c_0 cdelta_y f0 f1 f2 b1 f3 f4 b1', 0), ('c= c==> ! c= cIN b0 / * f0 b1 * f0 b0 * / c= cIN b0 / * f0 b1 * f0 b0 f1 * / c= cIN b0 / * f0 b1 * f0 b0 f1\\n & creal_open * part cGSPEC / c? / cSETSPEC b0 c/\\\\ creal_lt creal_of_num cNUMERAL c_0 b1 creal_lt creal_of_num cNUMERAL c_0 cdelta_y f0 f1 f2 b1 f3 f4 b1', 0), ('* / c= creal_open b0 ! c==> cIN b1 b0 c? / c/\\\\ creal_lt creal_of_num cNUMERAL c_0 b2 ! c==> creal_lt creal_abs creal_sub b3 b1 b2 cIN b3 b0 f0\\n & creal_open * part cGSPEC / c? / cSETSPEC b0 c/\\\\ creal_lt creal_of_num cNUMERAL c_0 b1 creal_lt creal_of_num cNUMERAL c_0 cdelta_y f0 f1 f2 b1 f3 f4 b1', 0), ('* / ! c= cGSPEC / * b0 * part cSETSPEC b2 b1 * b0 / / c/\\\\ b2 c= b1 b3 f0\\n & creal_open * part cGSPEC / c? / cSETSPEC b0 c/\\\\ creal_lt creal_of_num cNUMERAL c_0 b1 creal_lt creal_of_num cNUMERAL c_0 cdelta_y f0 f1 f2 b1 f3 f4 b1', 0), ('c= c==> creal_lt creal_of_num cNUMERAL c_0 creal_of_num cNUMERAL cBIT1 c_0 c==> creal_lt creal_of_num cNUMERAL c_0 creal_of_num cNUMERAL cBIT1 c_0 c= creal_lt creal_div creal_of_num cNUMERAL c_0 creal_of_num cNUMERAL cBIT1 c_0 creal_div creal_of_num cNUMERAL c_0 creal_of_num cNUMERAL cBIT1 c_0 creal_lt creal_mul creal_of_num cNUMERAL c_0 creal_of_num cNUMERAL cBIT1 c_0 creal_mul creal_of_num cNUMERAL c_0 creal_of_num cNUMERAL cBIT1 c_0 c==> creal_lt creal_of_num cNUMERAL c_0 creal_of_num cNUMERAL cBIT1 c_0 c= creal_lt creal_div creal_of_num cNUMERAL c_0 creal_of_num cNUMERAL cBIT1 c_0 creal_div creal_of_num cNUMERAL c_0 creal_of_num cNUMERAL cBIT1 c_0 creal_lt creal_mul creal_of_num cNUMERAL c_0 creal_of_num cNUMERAL cBIT1 c_0 creal_mul creal_of_num cNUMERAL c_0 creal_of_num cNUMERAL cBIT1 c_0\\n & creal_open * part cGSPEC / c? / cSETSPEC b0 c/\\\\ creal_lt creal_of_num cNUMERAL c_0 b1 creal_lt creal_of_num cNUMERAL c_0 cdelta_y f0 f1 f2 b1 f3 f4 b1', 0)]\n"
          ]
        }
      ],
      "source": [
        "validation = []\n",
        "header = True\n",
        "\n",
        "with open(\"data/00017\", \"r\") as f:\n",
        "  counter = 0\n",
        "  clause = \"\"\n",
        "  for line in f:\n",
        "    counter += 1\n",
        "    if line[0] == \"T\" and counter == 3:\n",
        "      clause = line[2:]\n",
        "    if line[0] in \"+-\":\n",
        "      header = False\n",
        "      label = 0 if line[0] == \"-\" else 1\n",
        "    elif not header:\n",
        "      clause_steps = line[2:] + \" & \" + clause\n",
        "      #print(clause_steps)\n",
        "      validation.append((clause_steps.strip(),label))\n",
        "      \n",
        "print(validation)"
      ]
    },
    {
      "cell_type": "code",
      "execution_count": null,
      "metadata": {
        "colab": {
          "base_uri": "https://localhost:8080/"
        },
        "id": "E7KMrjPjsWx0",
        "outputId": "94e629aa-31e1-4c13-d9f4-d238c2ce1338"
      },
      "outputs": [
        {
          "output_type": "stream",
          "name": "stdout",
          "text": [
            "tensor([[ 0.0278, -0.0148]], grad_fn=<UnsqueezeBackward0>)\n"
          ]
        }
      ],
      "source": [
        "print(net(validation[1][0]))"
      ]
    },
    {
      "cell_type": "code",
      "execution_count": null,
      "metadata": {
        "colab": {
          "base_uri": "https://localhost:8080/",
          "height": 722,
          "referenced_widgets": [
            "f7a7bfe7f80a4d529bb031bf647fe09b",
            "f8bcab21cb8c4663b29ddf50afc37d90",
            "7dbe0bf909da43f582599cc9208d1744",
            "5ce39e7f4b954ddfbeb805d6a3f6ad23",
            "6332e7e98a134097b2b89cc6cbbe5d59",
            "0ef701c3d37a4b1d8205832d62e5f0e8",
            "694a1d75d7be446a8550b8360dd7f95f",
            "ff91a7879c0845d1b7d332808f52323b",
            "f5eaef6673964324a7add00f2873dc2c",
            "c1e8dce5a6a84926b6518fda6274a033",
            "bf16695a035e4041a7c5ddc0aac242fd"
          ]
        },
        "id": "jshKLvyKz3U_",
        "outputId": "e4f8e4fd-8c7f-4155-a2da-cc8af8f332bc"
      },
      "outputs": [
        {
          "output_type": "display_data",
          "data": {
            "text/plain": [
              "  0%|          | 0/200 [00:00<?, ?it/s]"
            ],
            "application/vnd.jupyter.widget-view+json": {
              "version_major": 2,
              "version_minor": 0,
              "model_id": "f7a7bfe7f80a4d529bb031bf647fe09b"
            }
          },
          "metadata": {}
        },
        {
          "output_type": "stream",
          "name": "stdout",
          "text": [
            "loss: 0.7168729901313782\n",
            "val_acc: 0.5\n",
            "loss: 0.7666082978248596\n",
            "val_acc: 0.4\n",
            "loss: 0.6556968688964844\n",
            "val_acc: 0.30000000000000004\n",
            "loss: 0.7848762273788452\n",
            "val_acc: 1.0\n",
            "loss: 0.99754798412323\n",
            "val_acc: 0.30000000000000004\n",
            "loss: 0.5787806510925293\n",
            "val_acc: 0.6\n",
            "loss: 0.5797520875930786\n",
            "val_acc: 0.6\n",
            "loss: 0.4204747974872589\n",
            "val_acc: 0.8\n",
            "loss: 0.8077718615531921\n",
            "val_acc: 0.5\n",
            "loss: 0.6826273798942566\n",
            "val_acc: 0.8\n",
            "loss: 0.5882868766784668\n",
            "val_acc: 0.7\n"
          ]
        },
        {
          "output_type": "execute_result",
          "data": {
            "text/plain": [
              "Text(0, 0.5, 'Loss')"
            ]
          },
          "metadata": {},
          "execution_count": 15
        },
        {
          "output_type": "display_data",
          "data": {
            "text/plain": [
              "<Figure size 432x288 with 1 Axes>"
            ],
            "image/png": "[encoded data removed]"
          },
          "metadata": {
            "needs_background": "light"
          }
        }
      ],
      "source": [
        "net = Net(2, 4)\n",
        "xc = tr.nn.CrossEntropyLoss()\n",
        "\n",
        "opt = tr.optim.Adam(net.parameters(), lr=0.0001)\n",
        "\n",
        "num_iters = 200\n",
        "verb_step = 20\n",
        "train_loss = []\n",
        "valid_accu =[]\n",
        "for i in trange(num_iters):\n",
        "\n",
        "    example, label = random.choice(examples)\n",
        "    logits = net(example)\n",
        "    loss = xc(logits, tr.tensor([label]))\n",
        "    train_loss.append(loss.item())\n",
        "\n",
        "    opt.zero_grad()\n",
        "    loss.backward()\n",
        "    opt.step()\n",
        "    correct = []\n",
        "    if i % verb_step == 0 or i == num_iters-1: \n",
        "      print(\"loss:\",loss.item())\n",
        "      with tr.no_grad():\n",
        "         for i in range(20):\n",
        "           example_2, label_2 = random.choice(validation)\n",
        "           logits = net(example_2)\n",
        "           pred = logits.argmax()\n",
        "           correct.append(np.absolute(label_2-pred))\n",
        "      accuracy =1-np.mean(correct)\n",
        "    #valid_accu.append(accuracy)\n",
        "      print(\"val_acc:\",accuracy)\n",
        "              \n",
        "\n",
        "#pt.plot(prediction)\n",
        "pt.plot(train_loss)\n",
        "pt.xlabel(\"Iteration\")\n",
        "pt.ylabel(\"Loss\")"
      ]
    }
  ],
  "metadata": {
    "accelerator": "GPU",
    "colab": {
      "collapsed_sections": [],
      "machine_shape": "hm",
      "name": "Copy of transformers.ipynb",
      "provenance": [],
      "include_colab_link": true
    },
    "kernelspec": {
      "display_name": "Python 3",
      "name": "python3"
    },
    "language_info": {
      "name": "python"
    },
    "widgets": {
      "application/vnd.jupyter.widget-state+json": {
        "f7a7bfe7f80a4d529bb031bf647fe09b": {
          "model_module": "@jupyter-widgets/controls",
          "model_name": "HBoxModel",
          "model_module_version": "1.5.0",
          "state": {
            "_dom_classes": [],
            "_model_module": "@jupyter-widgets/controls",
            "_model_module_version": "1.5.0",
            "_model_name": "HBoxModel",
            "_view_count": null,
            "_view_module": "@jupyter-widgets/controls",
            "_view_module_version": "1.5.0",
            "_view_name": "HBoxView",
            "box_style": "",
            "children": [
              "IPY_MODEL_f8bcab21cb8c4663b29ddf50afc37d90",
              "IPY_MODEL_7dbe0bf909da43f582599cc9208d1744",
              "IPY_MODEL_5ce39e7f4b954ddfbeb805d6a3f6ad23"
            ],
            "layout": "IPY_MODEL_6332e7e98a134097b2b89cc6cbbe5d59"
          }
        },
        "f8bcab21cb8c4663b29ddf50afc37d90": {
          "model_module": "@jupyter-widgets/controls",
          "model_name": "HTMLModel",
          "model_module_version": "1.5.0",
          "state": {
            "_dom_classes": [],
            "_model_module": "@jupyter-widgets/controls",
            "_model_module_version": "1.5.0",
            "_model_name": "HTMLModel",
            "_view_count": null,
            "_view_module": "@jupyter-widgets/controls",
            "_view_module_version": "1.5.0",
            "_view_name": "HTMLView",
            "description": "",
            "description_tooltip": null,
            "layout": "IPY_MODEL_0ef701c3d37a4b1d8205832d62e5f0e8",
            "placeholder": "​",
            "style": "IPY_MODEL_694a1d75d7be446a8550b8360dd7f95f",
            "value": "100%"
          }
        },
        "7dbe0bf909da43f582599cc9208d1744": {
          "model_module": "@jupyter-widgets/controls",
          "model_name": "FloatProgressModel",
          "model_module_version": "1.5.0",
          "state": {
            "_dom_classes": [],
            "_model_module": "@jupyter-widgets/controls",
            "_model_module_version": "1.5.0",
            "_model_name": "FloatProgressModel",
            "_view_count": null,
            "_view_module": "@jupyter-widgets/controls",
            "_view_module_version": "1.5.0",
            "_view_name": "ProgressView",
            "bar_style": "success",
            "description": "",
            "description_tooltip": null,
            "layout": "IPY_MODEL_ff91a7879c0845d1b7d332808f52323b",
            "max": 200,
            "min": 0,
            "orientation": "horizontal",
            "style": "IPY_MODEL_f5eaef6673964324a7add00f2873dc2c",
            "value": 200
          }
        },
        "5ce39e7f4b954ddfbeb805d6a3f6ad23": {
          "model_module": "@jupyter-widgets/controls",
          "model_name": "HTMLModel",
          "model_module_version": "1.5.0",
          "state": {
            "_dom_classes": [],
            "_model_module": "@jupyter-widgets/controls",
            "_model_module_version": "1.5.0",
            "_model_name": "HTMLModel",
            "_view_count": null,
            "_view_module": "@jupyter-widgets/controls",
            "_view_module_version": "1.5.0",
            "_view_name": "HTMLView",
            "description": "",
            "description_tooltip": null,
            "layout": "IPY_MODEL_c1e8dce5a6a84926b6518fda6274a033",
            "placeholder": "​",
            "style": "IPY_MODEL_bf16695a035e4041a7c5ddc0aac242fd",
            "value": " 200/200 [37:58&lt;00:00, 19.75s/it]"
          }
        },
        "6332e7e98a134097b2b89cc6cbbe5d59": {
          "model_module": "@jupyter-widgets/base",
          "model_name": "LayoutModel",
          "model_module_version": "1.2.0",
          "state": {
            "_model_module": "@jupyter-widgets/base",
            "_model_module_version": "1.2.0",
            "_model_name": "LayoutModel",
            "_view_count": null,
            "_view_module": "@jupyter-widgets/base",
            "_view_module_version": "1.2.0",
            "_view_name": "LayoutView",
            "align_content": null,
            "align_items": null,
            "align_self": null,
            "border": null,
            "bottom": null,
            "display": null,
            "flex": null,
            "flex_flow": null,
            "grid_area": null,
            "grid_auto_columns": null,
            "grid_auto_flow": null,
            "grid_auto_rows": null,
            "grid_column": null,
            "grid_gap": null,
            "grid_row": null,
            "grid_template_areas": null,
            "grid_template_columns": null,
            "grid_template_rows": null,
            "height": null,
            "justify_content": null,
            "justify_items": null,
            "left": null,
            "margin": null,
            "max_height": null,
            "max_width": null,
            "min_height": null,
            "min_width": null,
            "object_fit": null,
            "object_position": null,
            "order": null,
            "overflow": null,
            "overflow_x": null,
            "overflow_y": null,
            "padding": null,
            "right": null,
            "top": null,
            "visibility": null,
            "width": null
          }
        },
        "0ef701c3d37a4b1d8205832d62e5f0e8": {
          "model_module": "@jupyter-widgets/base",
          "model_name": "LayoutModel",
          "model_module_version": "1.2.0",
          "state": {
            "_model_module": "@jupyter-widgets/base",
            "_model_module_version": "1.2.0",
            "_model_name": "LayoutModel",
            "_view_count": null,
            "_view_module": "@jupyter-widgets/base",
            "_view_module_version": "1.2.0",
            "_view_name": "LayoutView",
            "align_content": null,
            "align_items": null,
            "align_self": null,
            "border": null,
            "bottom": null,
            "display": null,
            "flex": null,
            "flex_flow": null,
            "grid_area": null,
            "grid_auto_columns": null,
            "grid_auto_flow": null,
            "grid_auto_rows": null,
            "grid_column": null,
            "grid_gap": null,
            "grid_row": null,
            "grid_template_areas": null,
            "grid_template_columns": null,
            "grid_template_rows": null,
            "height": null,
            "justify_content": null,
            "justify_items": null,
            "left": null,
            "margin": null,
            "max_height": null,
            "max_width": null,
            "min_height": null,
            "min_width": null,
            "object_fit": null,
            "object_position": null,
            "order": null,
            "overflow": null,
            "overflow_x": null,
            "overflow_y": null,
            "padding": null,
            "right": null,
            "top": null,
            "visibility": null,
            "width": null
          }
        },
        "694a1d75d7be446a8550b8360dd7f95f": {
          "model_module": "@jupyter-widgets/controls",
          "model_name": "DescriptionStyleModel",
          "model_module_version": "1.5.0",
          "state": {
            "_model_module": "@jupyter-widgets/controls",
            "_model_module_version": "1.5.0",
            "_model_name": "DescriptionStyleModel",
            "_view_count": null,
            "_view_module": "@jupyter-widgets/base",
            "_view_module_version": "1.2.0",
            "_view_name": "StyleView",
            "description_width": ""
          }
        },
        "ff91a7879c0845d1b7d332808f52323b": {
          "model_module": "@jupyter-widgets/base",
          "model_name": "LayoutModel",
          "model_module_version": "1.2.0",
          "state": {
            "_model_module": "@jupyter-widgets/base",
            "_model_module_version": "1.2.0",
            "_model_name": "LayoutModel",
            "_view_count": null,
            "_view_module": "@jupyter-widgets/base",
            "_view_module_version": "1.2.0",
            "_view_name": "LayoutView",
            "align_content": null,
            "align_items": null,
            "align_self": null,
            "border": null,
            "bottom": null,
            "display": null,
            "flex": null,
            "flex_flow": null,
            "grid_area": null,
            "grid_auto_columns": null,
            "grid_auto_flow": null,
            "grid_auto_rows": null,
            "grid_column": null,
            "grid_gap": null,
            "grid_row": null,
            "grid_template_areas": null,
            "grid_template_columns": null,
            "grid_template_rows": null,
            "height": null,
            "justify_content": null,
            "justify_items": null,
            "left": null,
            "margin": null,
            "max_height": null,
            "max_width": null,
            "min_height": null,
            "min_width": null,
            "object_fit": null,
            "object_position": null,
            "order": null,
            "overflow": null,
            "overflow_x": null,
            "overflow_y": null,
            "padding": null,
            "right": null,
            "top": null,
            "visibility": null,
            "width": null
          }
        },
        "f5eaef6673964324a7add00f2873dc2c": {
          "model_module": "@jupyter-widgets/controls",
          "model_name": "ProgressStyleModel",
          "model_module_version": "1.5.0",
          "state": {
            "_model_module": "@jupyter-widgets/controls",
            "_model_module_version": "1.5.0",
            "_model_name": "ProgressStyleModel",
            "_view_count": null,
            "_view_module": "@jupyter-widgets/base",
            "_view_module_version": "1.2.0",
            "_view_name": "StyleView",
            "bar_color": null,
            "description_width": ""
          }
        },
        "c1e8dce5a6a84926b6518fda6274a033": {
          "model_module": "@jupyter-widgets/base",
          "model_name": "LayoutModel",
          "model_module_version": "1.2.0",
          "state": {
            "_model_module": "@jupyter-widgets/base",
            "_model_module_version": "1.2.0",
            "_model_name": "LayoutModel",
            "_view_count": null,
            "_view_module": "@jupyter-widgets/base",
            "_view_module_version": "1.2.0",
            "_view_name": "LayoutView",
            "align_content": null,
            "align_items": null,
            "align_self": null,
            "border": null,
            "bottom": null,
            "display": null,
            "flex": null,
            "flex_flow": null,
            "grid_area": null,
            "grid_auto_columns": null,
            "grid_auto_flow": null,
            "grid_auto_rows": null,
            "grid_column": null,
            "grid_gap": null,
            "grid_row": null,
            "grid_template_areas": null,
            "grid_template_columns": null,
            "grid_template_rows": null,
            "height": null,
            "justify_content": null,
            "justify_items": null,
            "left": null,
            "margin": null,
            "max_height": null,
            "max_width": null,
            "min_height": null,
            "min_width": null,
            "object_fit": null,
            "object_position": null,
            "order": null,
            "overflow": null,
            "overflow_x": null,
            "overflow_y": null,
            "padding": null,
            "right": null,
            "top": null,
            "visibility": null,
            "width": null
          }
        },
        "bf16695a035e4041a7c5ddc0aac242fd": {
          "model_module": "@jupyter-widgets/controls",
          "model_name": "DescriptionStyleModel",
          "model_module_version": "1.5.0",
          "state": {
            "_model_module": "@jupyter-widgets/controls",
            "_model_module_version": "1.5.0",
            "_model_name": "DescriptionStyleModel",
            "_view_count": null,
            "_view_module": "@jupyter-widgets/base",
            "_view_module_version": "1.2.0",
            "_view_name": "StyleView",
            "description_width": ""
          }
        }
      }
    }
  },
  "nbformat": 4,
  "nbformat_minor": 0
}
