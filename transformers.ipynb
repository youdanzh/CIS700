{
  "nbformat": 4,
  "nbformat_minor": 0,
  "metadata": {
    "colab": {
      "name": "transformers.ipynb",
      "provenance": [],
      "collapsed_sections": [],
      "include_colab_link": true
    },
    "kernelspec": {
      "name": "python3",
      "display_name": "Python 3"
    },
    "language_info": {
      "name": "python"
    },
    "widgets": {
      "application/vnd.jupyter.widget-state+json": {
        "002234066bce4ebca1fec096c2b92b6f": {
          "model_module": "@jupyter-widgets/controls",
          "model_name": "HBoxModel",
          "model_module_version": "1.5.0",
          "state": {
            "_dom_classes": [],
            "_model_module": "@jupyter-widgets/controls",
            "_model_module_version": "1.5.0",
            "_model_name": "HBoxModel",
            "_view_count": null,
            "_view_module": "@jupyter-widgets/controls",
            "_view_module_version": "1.5.0",
            "_view_name": "HBoxView",
            "box_style": "",
            "children": [
              "IPY_MODEL_c0c0dc472b7342a3b6b7a7244173abcf",
              "IPY_MODEL_34278f2b36f04ecbab85fc9309a59342",
              "IPY_MODEL_127f6663073742aeb648377133d6f91c"
            ],
            "layout": "IPY_MODEL_270212945c964f8fa4309df29004ca25"
          }
        },
        "c0c0dc472b7342a3b6b7a7244173abcf": {
          "model_module": "@jupyter-widgets/controls",
          "model_name": "HTMLModel",
          "model_module_version": "1.5.0",
          "state": {
            "_dom_classes": [],
            "_model_module": "@jupyter-widgets/controls",
            "_model_module_version": "1.5.0",
            "_model_name": "HTMLModel",
            "_view_count": null,
            "_view_module": "@jupyter-widgets/controls",
            "_view_module_version": "1.5.0",
            "_view_name": "HTMLView",
            "description": "",
            "description_tooltip": null,
            "layout": "IPY_MODEL_ae7524bddfd54381b6372614bb9a6dc1",
            "placeholder": "​",
            "style": "IPY_MODEL_d1a499e426104dacb09e503cdbfd4324",
            "value": "  0%"
          }
        },
        "34278f2b36f04ecbab85fc9309a59342": {
          "model_module": "@jupyter-widgets/controls",
          "model_name": "FloatProgressModel",
          "model_module_version": "1.5.0",
          "state": {
            "_dom_classes": [],
            "_model_module": "@jupyter-widgets/controls",
            "_model_module_version": "1.5.0",
            "_model_name": "FloatProgressModel",
            "_view_count": null,
            "_view_module": "@jupyter-widgets/controls",
            "_view_module_version": "1.5.0",
            "_view_name": "ProgressView",
            "bar_style": "danger",
            "description": "",
            "description_tooltip": null,
            "layout": "IPY_MODEL_3000e7cb55eb42a98ce97ae8a0ec322e",
            "max": 500,
            "min": 0,
            "orientation": "horizontal",
            "style": "IPY_MODEL_a4eaf9c1dd6a46bcacbde3e5390f5a42",
            "value": 0
          }
        },
        "127f6663073742aeb648377133d6f91c": {
          "model_module": "@jupyter-widgets/controls",
          "model_name": "HTMLModel",
          "model_module_version": "1.5.0",
          "state": {
            "_dom_classes": [],
            "_model_module": "@jupyter-widgets/controls",
            "_model_module_version": "1.5.0",
            "_model_name": "HTMLModel",
            "_view_count": null,
            "_view_module": "@jupyter-widgets/controls",
            "_view_module_version": "1.5.0",
            "_view_name": "HTMLView",
            "description": "",
            "description_tooltip": null,
            "layout": "IPY_MODEL_3457fe47494c49dd867526b2123f15e8",
            "placeholder": "​",
            "style": "IPY_MODEL_3032befd16374a3bb4e98ac9626bd0ee",
            "value": " 0/500 [00:00&lt;?, ?it/s]"
          }
        },
        "270212945c964f8fa4309df29004ca25": {
          "model_module": "@jupyter-widgets/base",
          "model_name": "LayoutModel",
          "model_module_version": "1.2.0",
          "state": {
            "_model_module": "@jupyter-widgets/base",
            "_model_module_version": "1.2.0",
            "_model_name": "LayoutModel",
            "_view_count": null,
            "_view_module": "@jupyter-widgets/base",
            "_view_module_version": "1.2.0",
            "_view_name": "LayoutView",
            "align_content": null,
            "align_items": null,
            "align_self": null,
            "border": null,
            "bottom": null,
            "display": null,
            "flex": null,
            "flex_flow": null,
            "grid_area": null,
            "grid_auto_columns": null,
            "grid_auto_flow": null,
            "grid_auto_rows": null,
            "grid_column": null,
            "grid_gap": null,
            "grid_row": null,
            "grid_template_areas": null,
            "grid_template_columns": null,
            "grid_template_rows": null,
            "height": null,
            "justify_content": null,
            "justify_items": null,
            "left": null,
            "margin": null,
            "max_height": null,
            "max_width": null,
            "min_height": null,
            "min_width": null,
            "object_fit": null,
            "object_position": null,
            "order": null,
            "overflow": null,
            "overflow_x": null,
            "overflow_y": null,
            "padding": null,
            "right": null,
            "top": null,
            "visibility": null,
            "width": null
          }
        },
        "ae7524bddfd54381b6372614bb9a6dc1": {
          "model_module": "@jupyter-widgets/base",
          "model_name": "LayoutModel",
          "model_module_version": "1.2.0",
          "state": {
            "_model_module": "@jupyter-widgets/base",
            "_model_module_version": "1.2.0",
            "_model_name": "LayoutModel",
            "_view_count": null,
            "_view_module": "@jupyter-widgets/base",
            "_view_module_version": "1.2.0",
            "_view_name": "LayoutView",
            "align_content": null,
            "align_items": null,
            "align_self": null,
            "border": null,
            "bottom": null,
            "display": null,
            "flex": null,
            "flex_flow": null,
            "grid_area": null,
            "grid_auto_columns": null,
            "grid_auto_flow": null,
            "grid_auto_rows": null,
            "grid_column": null,
            "grid_gap": null,
            "grid_row": null,
            "grid_template_areas": null,
            "grid_template_columns": null,
            "grid_template_rows": null,
            "height": null,
            "justify_content": null,
            "justify_items": null,
            "left": null,
            "margin": null,
            "max_height": null,
            "max_width": null,
            "min_height": null,
            "min_width": null,
            "object_fit": null,
            "object_position": null,
            "order": null,
            "overflow": null,
            "overflow_x": null,
            "overflow_y": null,
            "padding": null,
            "right": null,
            "top": null,
            "visibility": null,
            "width": null
          }
        },
        "d1a499e426104dacb09e503cdbfd4324": {
          "model_module": "@jupyter-widgets/controls",
          "model_name": "DescriptionStyleModel",
          "model_module_version": "1.5.0",
          "state": {
            "_model_module": "@jupyter-widgets/controls",
            "_model_module_version": "1.5.0",
            "_model_name": "DescriptionStyleModel",
            "_view_count": null,
            "_view_module": "@jupyter-widgets/base",
            "_view_module_version": "1.2.0",
            "_view_name": "StyleView",
            "description_width": ""
          }
        },
        "3000e7cb55eb42a98ce97ae8a0ec322e": {
          "model_module": "@jupyter-widgets/base",
          "model_name": "LayoutModel",
          "model_module_version": "1.2.0",
          "state": {
            "_model_module": "@jupyter-widgets/base",
            "_model_module_version": "1.2.0",
            "_model_name": "LayoutModel",
            "_view_count": null,
            "_view_module": "@jupyter-widgets/base",
            "_view_module_version": "1.2.0",
            "_view_name": "LayoutView",
            "align_content": null,
            "align_items": null,
            "align_self": null,
            "border": null,
            "bottom": null,
            "display": null,
            "flex": null,
            "flex_flow": null,
            "grid_area": null,
            "grid_auto_columns": null,
            "grid_auto_flow": null,
            "grid_auto_rows": null,
            "grid_column": null,
            "grid_gap": null,
            "grid_row": null,
            "grid_template_areas": null,
            "grid_template_columns": null,
            "grid_template_rows": null,
            "height": null,
            "justify_content": null,
            "justify_items": null,
            "left": null,
            "margin": null,
            "max_height": null,
            "max_width": null,
            "min_height": null,
            "min_width": null,
            "object_fit": null,
            "object_position": null,
            "order": null,
            "overflow": null,
            "overflow_x": null,
            "overflow_y": null,
            "padding": null,
            "right": null,
            "top": null,
            "visibility": null,
            "width": null
          }
        },
        "a4eaf9c1dd6a46bcacbde3e5390f5a42": {
          "model_module": "@jupyter-widgets/controls",
          "model_name": "ProgressStyleModel",
          "model_module_version": "1.5.0",
          "state": {
            "_model_module": "@jupyter-widgets/controls",
            "_model_module_version": "1.5.0",
            "_model_name": "ProgressStyleModel",
            "_view_count": null,
            "_view_module": "@jupyter-widgets/base",
            "_view_module_version": "1.2.0",
            "_view_name": "StyleView",
            "bar_color": null,
            "description_width": ""
          }
        },
        "3457fe47494c49dd867526b2123f15e8": {
          "model_module": "@jupyter-widgets/base",
          "model_name": "LayoutModel",
          "model_module_version": "1.2.0",
          "state": {
            "_model_module": "@jupyter-widgets/base",
            "_model_module_version": "1.2.0",
            "_model_name": "LayoutModel",
            "_view_count": null,
            "_view_module": "@jupyter-widgets/base",
            "_view_module_version": "1.2.0",
            "_view_name": "LayoutView",
            "align_content": null,
            "align_items": null,
            "align_self": null,
            "border": null,
            "bottom": null,
            "display": null,
            "flex": null,
            "flex_flow": null,
            "grid_area": null,
            "grid_auto_columns": null,
            "grid_auto_flow": null,
            "grid_auto_rows": null,
            "grid_column": null,
            "grid_gap": null,
            "grid_row": null,
            "grid_template_areas": null,
            "grid_template_columns": null,
            "grid_template_rows": null,
            "height": null,
            "justify_content": null,
            "justify_items": null,
            "left": null,
            "margin": null,
            "max_height": null,
            "max_width": null,
            "min_height": null,
            "min_width": null,
            "object_fit": null,
            "object_position": null,
            "order": null,
            "overflow": null,
            "overflow_x": null,
            "overflow_y": null,
            "padding": null,
            "right": null,
            "top": null,
            "visibility": null,
            "width": null
          }
        },
        "3032befd16374a3bb4e98ac9626bd0ee": {
          "model_module": "@jupyter-widgets/controls",
          "model_name": "DescriptionStyleModel",
          "model_module_version": "1.5.0",
          "state": {
            "_model_module": "@jupyter-widgets/controls",
            "_model_module_version": "1.5.0",
            "_model_name": "DescriptionStyleModel",
            "_view_count": null,
            "_view_module": "@jupyter-widgets/base",
            "_view_module_version": "1.2.0",
            "_view_name": "StyleView",
            "description_width": ""
          }
        }
      }
    }
  },
  "cells": [
    {
      "cell_type": "markdown",
      "metadata": {
        "id": "view-in-github",
        "colab_type": "text"
      },
      "source": [
        "<a href=\"https://colab.research.google.com/github/youdanzh/CIS700-projects/blob/main/transformers.ipynb\" target=\"_parent\"><img src=\"https://colab.research.google.com/assets/colab-badge.svg\" alt=\"Open In Colab\"/></a>"
      ]
    },
    {
      "cell_type": "code",
      "execution_count": null,
      "metadata": {
        "id": "pasXsTAnxxsB"
      },
      "outputs": [],
      "source": [
        "import random\n",
        "import torch as tr\n",
        "import matplotlib.pyplot as pt\n",
        "from tqdm.notebook import trange\n",
        "import numpy as np"
      ]
    },
    {
      "cell_type": "code",
      "source": [
        "examples = []\n",
        "header = True\n",
        "\n",
        "with open(\"data/00001\", \"r\") as f:\n",
        "  counter = 0\n",
        "  clause = \"\"\n",
        "  for line in f:\n",
        "    counter += 1\n",
        "    if line[0] == \"T\" and counter == 3:\n",
        "      clause = line[2:]\n",
        "    if line[0] in \"+-\":\n",
        "      header = False\n",
        "      label = 0 if line[0] == \"-\" else 1\n",
        "    elif not header:\n",
        "      clause_steps = line[2:] + \" & \" + clause\n",
        "      #print(clause_steps)\n",
        "      examples.append((clause_steps.strip(),label))\n",
        "      \n",
        "#for e,(example,label) in enumerate(examples[:10]):\n",
        " # print(label, example)\n",
        "for i in range(10):\n",
        "  print(examples[i])\n",
        "len(examples)"
      ],
      "metadata": {
        "id": "dkdllvdayS73",
        "colab": {
          "base_uri": "https://localhost:8080/"
        },
        "outputId": "5cdd9f14-f223-4afa-8fbf-5ee4a27fb1e3"
      },
      "execution_count": null,
      "outputs": [
        {
          "output_type": "stream",
          "name": "stdout",
          "text": [
            "('c==> c/\\\\ creal_ge creal_of_int f0 creal_of_num cNUMERAL c_0 c/\\\\ creal_ge creal_of_int f1 creal_of_num cNUMERAL c_0 c/\\\\ creal_ge creal_of_int f2 creal_of_num cNUMERAL c_0 c/\\\\ creal_ge creal_of_int f3 creal_of_num cNUMERAL c_0 c/\\\\ c/\\\\ creal_ge creal_add creal_mul creal_neg creal_of_num cNUMERAL cBIT1 c_0 creal_of_int f2 creal_add creal_of_int f3 creal_neg creal_of_num cNUMERAL cBIT1 c_0 creal_of_num cNUMERAL c_0 c= creal_of_int f1 creal_of_num cNUMERAL c_0 c/\\\\ c/\\\\ creal_ge creal_add creal_mul creal_neg creal_of_num cNUMERAL cBIT1 c_0 creal_of_int f2 creal_add creal_of_int f3 creal_neg creal_of_num cNUMERAL cBIT1 c_0 creal_of_num cNUMERAL c_0 c= creal_of_int f0 creal_of_num cNUMERAL c_0 creal_ge creal_add creal_mul creal_neg creal_of_num cNUMERAL cBIT1 c_0 creal_of_int f0 creal_add creal_of_int f1 creal_neg creal_of_num cNUMERAL cBIT1 c_0 creal_of_num cNUMERAL c_0 c/\\\\ c/\\\\ creal_ge creal_of_int f0 creal_of_num cNUMERAL c_0 c/\\\\ creal_ge creal_of_int f1 creal_of_num cNUMERAL c_0 c/\\\\ creal_ge creal_of_int f2 creal_of_num cNUMERAL c_0 c/\\\\ creal_ge creal_of_int f3 creal_of_num cNUMERAL c_0 c/\\\\ c/\\\\ creal_ge creal_add creal_mul creal_neg creal_of_num cNUMERAL cBIT1 c_0 creal_of_int f2 creal_add creal_of_int f3 creal_neg creal_of_num cNUMERAL cBIT1 c_0 creal_of_num cNUMERAL c_0 c= creal_of_int f1 creal_of_num cNUMERAL c_0 c/\\\\ c/\\\\ creal_ge creal_add creal_mul creal_neg creal_of_num cNUMERAL cBIT1 c_0 creal_of_int f2 creal_add creal_of_int f3 creal_neg creal_of_num cNUMERAL cBIT1 c_0 creal_of_num cNUMERAL c_0 c= creal_of_int f0 creal_of_num cNUMERAL c_0 creal_ge creal_add creal_mul creal_neg creal_of_num cNUMERAL cBIT1 c_0 creal_of_int f0 creal_add creal_of_int f1 creal_neg creal_of_num cNUMERAL cBIT1 c_0 creal_of_num cNUMERAL c_0 cF\\n & c= c- cSUC f0 cSUC f1 c- f0 f1', 1)\n",
            "('c==> c/\\\\ creal_ge creal_of_int f0 creal_of_num cNUMERAL c_0 c/\\\\ creal_ge creal_of_int f1 creal_of_num cNUMERAL c_0 c/\\\\ creal_ge creal_of_int f2 creal_of_num cNUMERAL c_0 c/\\\\ creal_ge creal_of_int f3 creal_of_num cNUMERAL c_0 c/\\\\ c/\\\\ creal_ge creal_add creal_mul creal_neg creal_of_num cNUMERAL cBIT1 c_0 creal_of_int f2 creal_add creal_of_int f3 creal_neg creal_of_num cNUMERAL cBIT1 c_0 creal_of_num cNUMERAL c_0 c= creal_of_int f1 creal_of_num cNUMERAL c_0 c/\\\\ c= creal_add creal_mul creal_neg creal_of_num cNUMERAL cBIT1 c_0 creal_of_int f0 creal_add creal_of_int f2 creal_mul creal_neg creal_of_num cNUMERAL cBIT1 c_0 creal_of_int f3 creal_of_num cNUMERAL c_0 creal_ge creal_add creal_of_int f0 creal_add creal_mul creal_neg creal_of_num cNUMERAL cBIT1 c_0 creal_of_int f1 creal_neg creal_of_num cNUMERAL cBIT1 c_0 creal_of_num cNUMERAL c_0 creal_ge creal_add creal_add creal_mul creal_neg creal_of_num cNUMERAL cBIT1 c_0 creal_of_int f0 creal_add creal_of_int f2 creal_mul creal_neg creal_of_num cNUMERAL cBIT1 c_0 creal_of_int f3 creal_add creal_mul creal_neg creal_of_num cNUMERAL cBIT1 c_0 creal_of_int f2 creal_add creal_of_int f3 creal_neg creal_of_num cNUMERAL cBIT1 c_0 creal_of_num cNUMERAL c_0\\n & c= c- cSUC f0 cSUC f1 c- f0 f1', 1)\n",
            "('c==> c/\\\\ creal_ge creal_of_int f0 creal_of_num cNUMERAL c_0 c/\\\\ creal_ge creal_of_int f1 creal_of_num cNUMERAL c_0 c/\\\\ c/\\\\ creal_ge creal_neg creal_of_num cNUMERAL cBIT1 c_0 creal_of_num cNUMERAL c_0 c= creal_of_int f0 creal_of_num cNUMERAL c_0 creal_ge creal_add creal_of_int f0 creal_neg creal_of_num cNUMERAL cBIT1 c_0 creal_of_num cNUMERAL c_0 c= c==> ! c= creal_mul b0 creal_of_int f0 creal_of_num cNUMERAL c_0 * / c= creal_mul b0 creal_of_int f0 creal_of_num cNUMERAL c_0 creal_neg creal_of_num cNUMERAL cBIT1 c_0 * / c= creal_mul b0 creal_of_int f0 creal_of_num cNUMERAL c_0 creal_neg creal_of_num cNUMERAL cBIT1 c_0\\n & c= c- cSUC f0 cSUC f1 c- f0 f1', 0)\n",
            "('c==> c/\\\\ creal_ge creal_of_int f0 creal_of_num cNUMERAL c_0 c/\\\\ creal_ge creal_of_int f1 creal_of_num cNUMERAL c_0 c/\\\\ creal_ge creal_of_int f2 creal_of_num cNUMERAL c_0 c/\\\\ creal_ge creal_of_int f3 creal_of_num cNUMERAL c_0 c/\\\\ c/\\\\ creal_ge creal_add creal_mul creal_neg creal_of_num cNUMERAL cBIT1 c_0 creal_of_int f2 creal_add creal_of_int f3 creal_neg creal_of_num cNUMERAL cBIT1 c_0 creal_of_num cNUMERAL c_0 c= creal_of_int f1 creal_of_num cNUMERAL c_0 c/\\\\ c= creal_add creal_mul creal_neg creal_of_num cNUMERAL cBIT1 c_0 creal_of_int f0 creal_add creal_of_int f2 creal_mul creal_neg creal_of_num cNUMERAL cBIT1 c_0 creal_of_int f3 creal_of_num cNUMERAL c_0 creal_ge creal_add creal_of_int f0 creal_add creal_mul creal_neg creal_of_num cNUMERAL cBIT1 c_0 creal_of_int f1 creal_neg creal_of_num cNUMERAL cBIT1 c_0 creal_of_num cNUMERAL c_0 c= c==> ! c= creal_mul b0 creal_of_int f1 creal_of_num cNUMERAL c_0 * / c= creal_mul b0 creal_of_int f1 creal_of_num cNUMERAL c_0 creal_of_num cNUMERAL cBIT1 c_0 * / c= creal_mul b0 creal_of_int f1 creal_of_num cNUMERAL c_0 creal_of_num cNUMERAL cBIT1 c_0\\n & c= c- cSUC f0 cSUC f1 c- f0 f1', 0)\n",
            "('c==> c/\\\\ creal_ge creal_of_int f0 creal_of_num cNUMERAL c_0 c/\\\\ creal_ge creal_of_int f1 creal_of_num cNUMERAL c_0 c/\\\\ creal_ge creal_of_int f2 creal_of_num cNUMERAL c_0 c/\\\\ creal_ge creal_of_int f3 creal_of_num cNUMERAL c_0 c/\\\\ c= creal_add creal_mul creal_neg creal_of_num cNUMERAL cBIT1 c_0 creal_of_int f1 creal_add creal_of_int f2 creal_mul creal_neg creal_of_num cNUMERAL cBIT1 c_0 creal_of_int f3 creal_of_num cNUMERAL c_0 c/\\\\ c/\\\\ creal_ge creal_add creal_mul creal_neg creal_of_num cNUMERAL cBIT1 c_0 creal_of_int f2 creal_add creal_of_int f3 creal_neg creal_of_num cNUMERAL cBIT1 c_0 creal_of_num cNUMERAL c_0 c= creal_of_int f0 creal_of_num cNUMERAL c_0 creal_ge creal_add creal_mul creal_neg creal_of_num cNUMERAL cBIT1 c_0 creal_of_int f0 creal_add creal_of_int f1 creal_neg creal_of_num cNUMERAL cBIT1 c_0 creal_of_num cNUMERAL c_0 creal_ge creal_add creal_of_int f0 creal_add creal_mul creal_neg creal_of_num cNUMERAL cBIT1 c_0 creal_of_int f0 creal_add creal_of_int f1 creal_neg creal_of_num cNUMERAL cBIT1 c_0 creal_of_num cNUMERAL c_0\\n & c= c- cSUC f0 cSUC f1 c- f0 f1', 1)\n",
            "('c= c= f0 f1 c= cint_of_num f0 cint_of_num f1\\n & c= c- cSUC f0 cSUC f1 c- f0 f1', 1)\n",
            "('c==> c/\\\\ creal_ge creal_of_int f0 creal_of_num cNUMERAL c_0 c/\\\\ creal_ge creal_of_int f1 creal_of_num cNUMERAL c_0 c/\\\\ creal_ge creal_of_int f2 creal_of_num cNUMERAL c_0 c/\\\\ creal_ge creal_of_int f3 creal_of_num cNUMERAL c_0 c/\\\\ c/\\\\ creal_ge creal_add creal_mul creal_neg creal_of_num cNUMERAL cBIT1 c_0 creal_of_int f2 creal_add creal_of_int f3 creal_neg creal_of_num cNUMERAL cBIT1 c_0 creal_of_num cNUMERAL c_0 c= creal_of_int f1 creal_of_num cNUMERAL c_0 c/\\\\ c= creal_add creal_mul creal_neg creal_of_num cNUMERAL cBIT1 c_0 creal_of_int f0 creal_add creal_of_int f2 creal_mul creal_neg creal_of_num cNUMERAL cBIT1 c_0 creal_of_int f3 creal_of_num cNUMERAL c_0 creal_ge creal_add creal_mul creal_neg creal_of_num cNUMERAL cBIT1 c_0 creal_of_int f0 creal_add creal_of_int f1 creal_neg creal_of_num cNUMERAL cBIT1 c_0 creal_of_num cNUMERAL c_0 c/\\\\ creal_ge creal_of_int f2 creal_of_num cNUMERAL c_0 c/\\\\ creal_ge creal_of_int f3 creal_of_num cNUMERAL c_0 c/\\\\ c/\\\\ creal_ge creal_add creal_mul creal_neg creal_of_num cNUMERAL cBIT1 c_0 creal_of_int f2 creal_add creal_of_int f3 creal_neg creal_of_num cNUMERAL cBIT1 c_0 creal_of_num cNUMERAL c_0 c= creal_of_int f1 creal_of_num cNUMERAL c_0 c/\\\\ c= creal_add creal_mul creal_neg creal_of_num cNUMERAL cBIT1 c_0 creal_of_int f0 creal_add creal_of_int f2 creal_mul creal_neg creal_of_num cNUMERAL cBIT1 c_0 creal_of_int f3 creal_of_num cNUMERAL c_0 creal_ge creal_add creal_mul creal_neg creal_of_num cNUMERAL cBIT1 c_0 creal_of_int f0 creal_add creal_of_int f1 creal_neg creal_of_num cNUMERAL cBIT1 c_0 creal_of_num cNUMERAL c_0\\n & c= c- cSUC f0 cSUC f1 c- f0 f1', 1)\n",
            "('c==> c/\\\\ creal_ge creal_of_int f0 creal_of_num cNUMERAL c_0 c/\\\\ creal_ge creal_of_int f1 creal_of_num cNUMERAL c_0 c/\\\\ creal_ge creal_of_int f2 creal_of_num cNUMERAL c_0 c/\\\\ creal_ge creal_of_int f3 creal_of_num cNUMERAL c_0 c/\\\\ c/\\\\ creal_ge creal_add creal_mul creal_neg creal_of_num cNUMERAL cBIT1 c_0 creal_of_int f2 creal_add creal_of_int f3 creal_neg creal_of_num cNUMERAL cBIT1 c_0 creal_of_num cNUMERAL c_0 c= creal_of_int f1 creal_of_num cNUMERAL c_0 c/\\\\ c/\\\\ creal_ge creal_add creal_mul creal_neg creal_of_num cNUMERAL cBIT1 c_0 creal_of_int f2 creal_add creal_of_int f3 creal_neg creal_of_num cNUMERAL cBIT1 c_0 creal_of_num cNUMERAL c_0 c= creal_of_int f0 creal_of_num cNUMERAL c_0 creal_ge creal_add creal_mul creal_neg creal_of_num cNUMERAL cBIT1 c_0 creal_of_int f0 creal_add creal_of_int f1 creal_neg creal_of_num cNUMERAL cBIT1 c_0 creal_of_num cNUMERAL c_0 c/\\\\ creal_gt creal_of_num cNUMERAL cBIT1 c_0 creal_of_num cNUMERAL c_0 creal_ge creal_add creal_mul creal_neg creal_of_num cNUMERAL cBIT1 c_0 creal_of_int f0 creal_add creal_of_int f1 creal_neg creal_of_num cNUMERAL cBIT1 c_0 creal_of_num cNUMERAL c_0\\n & c= c- cSUC f0 cSUC f1 c- f0 f1', 0)\n",
            "('c==> c\\\\/ c\\\\/ c/\\\\ creal_ge creal_of_int f0 creal_of_num cNUMERAL c_0 c/\\\\ creal_ge creal_of_int f1 creal_of_num cNUMERAL c_0 c/\\\\ creal_ge creal_of_int f2 creal_of_num cNUMERAL c_0 c/\\\\ creal_ge creal_of_int f3 creal_of_num cNUMERAL c_0 c/\\\\ c= creal_add creal_mul creal_neg creal_of_num cNUMERAL cBIT1 c_0 creal_of_int f1 creal_add creal_of_int f2 creal_mul creal_neg creal_of_num cNUMERAL cBIT1 c_0 creal_of_int f3 creal_of_num cNUMERAL c_0 c/\\\\ c= creal_add creal_mul creal_neg creal_of_num cNUMERAL cBIT1 c_0 creal_of_int f0 creal_add creal_of_int f2 creal_mul creal_neg creal_of_num cNUMERAL cBIT1 c_0 creal_of_int f3 creal_of_num cNUMERAL c_0 creal_ge creal_add creal_mul creal_neg creal_of_num cNUMERAL cBIT1 c_0 creal_of_int f0 creal_add creal_of_int f1 creal_neg creal_of_num cNUMERAL cBIT1 c_0 creal_of_num cNUMERAL c_0 c/\\\\ creal_ge creal_of_int f0 creal_of_num cNUMERAL c_0 c/\\\\ creal_ge creal_of_int f1 creal_of_num cNUMERAL c_0 c/\\\\ creal_ge creal_of_int f2 creal_of_num cNUMERAL c_0 c/\\\\ creal_ge creal_of_int f3 creal_of_num cNUMERAL c_0 c/\\\\ c/\\\\ creal_ge creal_add creal_mul creal_neg creal_of_num cNUMERAL cBIT1 c_0 creal_of_int f2 creal_add creal_of_int f3 creal_neg creal_of_num cNUMERAL cBIT1 c_0 creal_of_num cNUMERAL c_0 c= creal_of_int f1 creal_of_num cNUMERAL c_0 c/\\\\ c= creal_add creal_mul creal_neg creal_of_num cNUMERAL cBIT1 c_0 creal_of_int f0 creal_add creal_of_int f2 creal_mul creal_neg creal_of_num cNUMERAL cBIT1 c_0 creal_of_int f3 creal_of_num cNUMERAL c_0 creal_ge creal_add creal_mul creal_neg creal_of_num cNUMERAL cBIT1 c_0 creal_of_int f0 creal_add creal_of_int f1 creal_neg creal_of_num cNUMERAL cBIT1 c_0 creal_of_num cNUMERAL c_0 c\\\\/ c/\\\\ creal_ge creal_of_int f0 creal_of_num cNUMERAL c_0 c/\\\\ creal_ge creal_of_int f1 creal_of_num cNUMERAL c_0 c/\\\\ creal_ge creal_of_int f2 creal_of_num cNUMERAL c_0 c/\\\\ creal_ge creal_of_int f3 creal_of_num cNUMERAL c_0 c/\\\\ c= creal_add creal_mul creal_neg creal_of_num cNUMERAL cBIT1 c_0 creal_of_int f1 creal_add creal_of_int f2 creal_mul creal_neg creal_of_num cNUMERAL cBIT1 c_0 creal_of_int f3 creal_of_num cNUMERAL c_0 c/\\\\ c/\\\\ creal_ge creal_add creal_mul creal_neg creal_of_num cNUMERAL cBIT1 c_0 creal_of_int f2 creal_add creal_of_int f3 creal_neg creal_of_num cNUMERAL cBIT1 c_0 creal_of_num cNUMERAL c_0 c= creal_of_int f0 creal_of_num cNUMERAL c_0 creal_ge creal_add creal_mul creal_neg creal_of_num cNUMERAL cBIT1 c_0 creal_of_int f0 creal_add creal_of_int f1 creal_neg creal_of_num cNUMERAL cBIT1 c_0 creal_of_num cNUMERAL c_0 c/\\\\ creal_ge creal_of_int f0 creal_of_num cNUMERAL c_0 c/\\\\ creal_ge creal_of_int f1 creal_of_num cNUMERAL c_0 c/\\\\ creal_ge creal_of_int f2 creal_of_num cNUMERAL c_0 c/\\\\ creal_ge creal_of_int f3 creal_of_num cNUMERAL c_0 c/\\\\ c/\\\\ creal_ge creal_add creal_mul creal_neg creal_of_num cNUMERAL cBIT1 c_0 creal_of_int f2 creal_add creal_of_int f3 creal_neg creal_of_num cNUMERAL cBIT1 c_0 creal_of_num cNUMERAL c_0 c= creal_of_int f1 creal_of_num cNUMERAL c_0 c/\\\\ c/\\\\ creal_ge creal_add creal_mul creal_neg creal_of_num cNUMERAL cBIT1 c_0 creal_of_int f2 creal_add creal_of_int f3 creal_neg creal_of_num cNUMERAL cBIT1 c_0 creal_of_num cNUMERAL c_0 c= creal_of_int f0 creal_of_num cNUMERAL c_0 creal_ge creal_add creal_mul creal_neg creal_of_num cNUMERAL cBIT1 c_0 creal_of_int f0 creal_add creal_of_int f1 creal_neg creal_of_num cNUMERAL cBIT1 c_0 creal_of_num cNUMERAL c_0 cF\\n & c= c- cSUC f0 cSUC f1 c- f0 f1', 1)\n",
            "('c==> c/\\\\ creal_ge creal_of_int f0 creal_of_num cNUMERAL c_0 c/\\\\ creal_ge creal_of_int f1 creal_of_num cNUMERAL c_0 c/\\\\ creal_ge creal_of_int f2 creal_of_num cNUMERAL c_0 c/\\\\ creal_ge creal_of_int f3 creal_of_num cNUMERAL c_0 c/\\\\ c= creal_add creal_mul creal_neg creal_of_num cNUMERAL cBIT1 c_0 creal_of_int f1 creal_add creal_of_int f2 creal_mul creal_neg creal_of_num cNUMERAL cBIT1 c_0 creal_of_int f3 creal_of_num cNUMERAL c_0 c/\\\\ c/\\\\ creal_ge creal_add creal_mul creal_neg creal_of_num cNUMERAL cBIT1 c_0 creal_of_int f2 creal_add creal_of_int f3 creal_neg creal_of_num cNUMERAL cBIT1 c_0 creal_of_num cNUMERAL c_0 c= creal_of_int f0 creal_of_num cNUMERAL c_0 creal_ge creal_add creal_of_int f0 creal_add creal_mul creal_neg creal_of_num cNUMERAL cBIT1 c_0 creal_of_int f1 creal_neg creal_of_num cNUMERAL cBIT1 c_0 creal_of_num cNUMERAL c_0 c/\\\\ c= creal_add creal_mul creal_neg creal_of_num cNUMERAL cBIT1 c_0 creal_of_int f1 creal_add creal_of_int f2 creal_mul creal_neg creal_of_num cNUMERAL cBIT1 c_0 creal_of_int f3 creal_of_num cNUMERAL c_0 c/\\\\ c/\\\\ creal_ge creal_add creal_mul creal_neg creal_of_num cNUMERAL cBIT1 c_0 creal_of_int f2 creal_add creal_of_int f3 creal_neg creal_of_num cNUMERAL cBIT1 c_0 creal_of_num cNUMERAL c_0 c= creal_of_int f0 creal_of_num cNUMERAL c_0 creal_ge creal_add creal_of_int f0 creal_add creal_mul creal_neg creal_of_num cNUMERAL cBIT1 c_0 creal_of_int f1 creal_neg creal_of_num cNUMERAL cBIT1 c_0 creal_of_num cNUMERAL c_0\\n & c= c- cSUC f0 cSUC f1 c- f0 f1', 1)\n"
          ]
        },
        {
          "output_type": "execute_result",
          "data": {
            "text/plain": [
              "540"
            ]
          },
          "metadata": {},
          "execution_count": 75
        }
      ]
    },
    {
      "cell_type": "code",
      "source": [
        "validation = []\n",
        "header = True\n",
        "\n",
        "with open(\"00030\", \"r\") as f:\n",
        "  counter = 0\n",
        "  clause = \"\"\n",
        "  for line in f:\n",
        "    counter += 1\n",
        "    if line[0] == \"T\" and counter == 3:\n",
        "      clause = line[2:]\n",
        "    if line[0] in \"+-\":\n",
        "      header = False\n",
        "      label = 0 if line[0] == \"-\" else 1\n",
        "    elif not header:\n",
        "      clause_steps = line[2:] + \" & \" + clause\n",
        "      #print(clause_steps)\n",
        "      validation.append((clause_steps.strip(),label))\n",
        "      \n",
        "      \n"
      ],
      "metadata": {
        "id": "qqgNfQ8lsgn4"
      },
      "execution_count": null,
      "outputs": []
    },
    {
      "cell_type": "code",
      "source": [
        "chrs = \"\".join([chr(c) for c in range(ord(\"a\"), ord(\"z\"))] + [chr(c) for c in range(ord(\"A\"), ord(\"Z\"))] + [\"_\"])\n",
        "print(chrs)\n",
        "\n",
        "def parse(line):\n",
        "  tokens = []\n",
        "  token = \"\"\n",
        "  for c in line:\n",
        "    if c in chrs: token += c\n",
        "    else:\n",
        "      tokens.append(token.lstrip())\n",
        "      token = c\n",
        "  tokens.append(token.lstrip())\n",
        "  return tokens\n",
        "\n",
        "print(parse(examples[0][0]))"
      ],
      "metadata": {
        "id": "JY79W1PQyc1l",
        "colab": {
          "base_uri": "https://localhost:8080/"
        },
        "outputId": "6f14dbaa-8ac6-4b30-865e-298bb9d8ce8f"
      },
      "execution_count": null,
      "outputs": [
        {
          "output_type": "stream",
          "name": "stdout",
          "text": [
            "abcdefghijklmnopqrstuvwxyABCDEFGHIJKLMNOPQRSTUVWXY_\n",
            "['c', '=', '=', '>', 'c', '/', '\\\\', 'creal_ge', 'creal_of_int', 'f', '0', 'creal_of_num', 'cNUMERAL', 'c_', '0', 'c', '/', '\\\\', 'creal_ge', 'creal_of_int', 'f', '1', 'creal_of_num', 'cNUMERAL', 'c_', '0', 'c', '/', '\\\\', 'creal_ge', 'creal_of_int', 'f', '2', 'creal_of_num', 'cNUMERAL', 'c_', '0', 'c', '/', '\\\\', 'creal_ge', 'creal_of_int', 'f', '3', 'creal_of_num', 'cNUMERAL', 'c_', '0', 'c', '/', '\\\\', 'c', '/', '\\\\', 'creal_ge', 'creal_add', 'creal_mul', 'creal_neg', 'creal_of_num', 'cNUMERAL', 'cBIT', '1', 'c_', '0', 'creal_of_int', 'f', '2', 'creal_add', 'creal_of_int', 'f', '3', 'creal_neg', 'creal_of_num', 'cNUMERAL', 'cBIT', '1', 'c_', '0', 'creal_of_num', 'cNUMERAL', 'c_', '0', 'c', '=', 'creal_of_int', 'f', '1', 'creal_of_num', 'cNUMERAL', 'c_', '0', 'c', '/', '\\\\', 'c', '/', '\\\\', 'creal_ge', 'creal_add', 'creal_mul', 'creal_neg', 'creal_of_num', 'cNUMERAL', 'cBIT', '1', 'c_', '0', 'creal_of_int', 'f', '2', 'creal_add', 'creal_of_int', 'f', '3', 'creal_neg', 'creal_of_num', 'cNUMERAL', 'cBIT', '1', 'c_', '0', 'creal_of_num', 'cNUMERAL', 'c_', '0', 'c', '=', 'creal_of_int', 'f', '0', 'creal_of_num', 'cNUMERAL', 'c_', '0', 'creal_ge', 'creal_add', 'creal_mul', 'creal_neg', 'creal_of_num', 'cNUMERAL', 'cBIT', '1', 'c_', '0', 'creal_of_int', 'f', '0', 'creal_add', 'creal_of_int', 'f', '1', 'creal_neg', 'creal_of_num', 'cNUMERAL', 'cBIT', '1', 'c_', '0', 'creal_of_num', 'cNUMERAL', 'c_', '0', 'c', '/', '\\\\', 'c', '/', '\\\\', 'creal_ge', 'creal_of_int', 'f', '0', 'creal_of_num', 'cNUMERAL', 'c_', '0', 'c', '/', '\\\\', 'creal_ge', 'creal_of_int', 'f', '1', 'creal_of_num', 'cNUMERAL', 'c_', '0', 'c', '/', '\\\\', 'creal_ge', 'creal_of_int', 'f', '2', 'creal_of_num', 'cNUMERAL', 'c_', '0', 'c', '/', '\\\\', 'creal_ge', 'creal_of_int', 'f', '3', 'creal_of_num', 'cNUMERAL', 'c_', '0', 'c', '/', '\\\\', 'c', '/', '\\\\', 'creal_ge', 'creal_add', 'creal_mul', 'creal_neg', 'creal_of_num', 'cNUMERAL', 'cBIT', '1', 'c_', '0', 'creal_of_int', 'f', '2', 'creal_add', 'creal_of_int', 'f', '3', 'creal_neg', 'creal_of_num', 'cNUMERAL', 'cBIT', '1', 'c_', '0', 'creal_of_num', 'cNUMERAL', 'c_', '0', 'c', '=', 'creal_of_int', 'f', '1', 'creal_of_num', 'cNUMERAL', 'c_', '0', 'c', '/', '\\\\', 'c', '/', '\\\\', 'creal_ge', 'creal_add', 'creal_mul', 'creal_neg', 'creal_of_num', 'cNUMERAL', 'cBIT', '1', 'c_', '0', 'creal_of_int', 'f', '2', 'creal_add', 'creal_of_int', 'f', '3', 'creal_neg', 'creal_of_num', 'cNUMERAL', 'cBIT', '1', 'c_', '0', 'creal_of_num', 'cNUMERAL', 'c_', '0', 'c', '=', 'creal_of_int', 'f', '0', 'creal_of_num', 'cNUMERAL', 'c_', '0', 'creal_ge', 'creal_add', 'creal_mul', 'creal_neg', 'creal_of_num', 'cNUMERAL', 'cBIT', '1', 'c_', '0', 'creal_of_int', 'f', '0', 'creal_add', 'creal_of_int', 'f', '1', 'creal_neg', 'creal_of_num', 'cNUMERAL', 'cBIT', '1', 'c_', '0', 'creal_of_num', 'cNUMERAL', 'c_', '0', 'cF', '', '', '&', 'c', '=', 'c', '-', 'cSUC', 'f', '0', 'cSUC', 'f', '1', 'c', '-', 'f', '0', 'f', '1']\n"
          ]
        }
      ]
    },
    {
      "cell_type": "code",
      "source": [
        "all_tokens = set()\n",
        "for example, label in examples:\n",
        "  tokens = parse(example) \n",
        "  all_tokens |= set(tokens)\n",
        "\n",
        "for example_2, label_2 in validation:\n",
        "  tokens = parse(example_2) \n",
        "  all_tokens |= set(tokens)\n",
        "\n",
        "\n",
        "all_tokens = list(all_tokens)\n",
        "lookup = {token: t for (t, token) in enumerate(all_tokens)}\n",
        "\n",
        "print(lookup)\n",
        "for token in all_tokens: print(token)\n",
        "print(len(all_tokens))\n"
      ],
      "metadata": {
        "id": "TUqbbmcwzqyG",
        "colab": {
          "base_uri": "https://localhost:8080/"
        },
        "outputId": "a568c44d-61d8-4d0b-ac88-13f809666b45"
      },
      "execution_count": null,
      "outputs": [
        {
          "output_type": "stream",
          "name": "stdout",
          "text": [
            "{'': 0, 'creal_le': 1, 'creal_div': 2, '0': 3, '<': 4, 'b': 5, '>': 6, 'creal_neg': 7, 'cwithin': 8, '+': 9, 'cT': 10, '3': 11, '*': 12, '~': 13, '/': 14, 'creal_of_int': 15, '1': 16, '=': 17, 'creal_gt': 18, 'cSUBSET': 19, 'f': 20, '4': 21, '-': 22, 'cat': 23, 'chas_complex_derivative': 24, 'creal_mul': 25, 'cSUC': 26, 'cint_add': 27, 'cint_lt': 28, 'c': 29, 'cF': 30, 'cint_of_num': 31, 'cNUMERAL': 32, '&': 33, '!': 34, 'ccomplex_mul': 35, 'creal_lt': 36, 'c_': 37, 'cBIT': 38, 'cint_le': 39, 'creal_of_num': 40, '\\\\': 41, 'creal_ge': 42, 'creal_add': 43, 'chas_derivative': 44, '2': 45}\n",
            "\n",
            "creal_le\n",
            "creal_div\n",
            "0\n",
            "<\n",
            "b\n",
            ">\n",
            "creal_neg\n",
            "cwithin\n",
            "+\n",
            "cT\n",
            "3\n",
            "*\n",
            "~\n",
            "/\n",
            "creal_of_int\n",
            "1\n",
            "=\n",
            "creal_gt\n",
            "cSUBSET\n",
            "f\n",
            "4\n",
            "-\n",
            "cat\n",
            "chas_complex_derivative\n",
            "creal_mul\n",
            "cSUC\n",
            "cint_add\n",
            "cint_lt\n",
            "c\n",
            "cF\n",
            "cint_of_num\n",
            "cNUMERAL\n",
            "&\n",
            "!\n",
            "ccomplex_mul\n",
            "creal_lt\n",
            "c_\n",
            "cBIT\n",
            "cint_le\n",
            "creal_of_num\n",
            "\\\n",
            "creal_ge\n",
            "creal_add\n",
            "chas_derivative\n",
            "2\n",
            "46\n"
          ]
        }
      ]
    },
    {
      "cell_type": "code",
      "source": [
        "max_len = max([len(parse(example)) for example,label in examples])\n",
        "print(\"max_len:\", max_len)\n",
        "embeddings = tr.eye(len(all_tokens))"
      ],
      "metadata": {
        "id": "0AbJUTUzzvp0",
        "colab": {
          "base_uri": "https://localhost:8080/"
        },
        "outputId": "8a2fa148-9661-4385-fd41-d7c97db68d1a"
      },
      "execution_count": null,
      "outputs": [
        {
          "output_type": "stream",
          "name": "stdout",
          "text": [
            "max_len: 651\n"
          ]
        }
      ]
    },
    {
      "cell_type": "code",
      "source": [
        "\"\"\"\n",
        "Transformer utilities\n",
        "\"\"\"\n",
        "def embed(seq, max_len, embeddings, offset=0):\n",
        "    embedded = tr.zeros(max_len, embeddings.shape[1])\n",
        "    cap = min(len(seq), max_len-offset)\n",
        "    if cap > 0:\n",
        "        embedded[offset:offset+cap] = tr.stack(tuple(embeddings[lookup[token]] for token in seq[:cap]))\n",
        "    return embedded\n",
        "\n",
        "def Attention(Q, K, V, masked=False):\n",
        "    dk = Q.shape[1]\n",
        "    logits = Q @ K.t() / dk**.5\n",
        "    if masked:\n",
        "        idx = tr.arange(Q.shape[0])\n",
        "        logits[idx.unsqueeze(1) < idx] = -tr.inf\n",
        "    return tr.softmax(logits, dim=1) @ V\n",
        "\n",
        "class MultiHeadAttention(tr.nn.Module):\n",
        "    def __init__(self, num_heads, d_model, masked=False, projections=\"\"):\n",
        "        super(MultiHeadAttention, self).__init__()\n",
        "        dh = d_model // num_heads\n",
        "        self.masked = masked\n",
        "        self.num_heads = num_heads\n",
        "        self.WQ, self.WK, self.WV = tuple(\n",
        "            tr.nn.ModuleList([tr.nn.Linear(d_model, dh, bias=False) for i in range(num_heads)])\n",
        "            if p in projections else [lambda x: x[:,:dh]]*num_heads\n",
        "            for p in \"QKV\")\n",
        "        self.WO = tr.nn.Linear(dh * num_heads, d_model, bias=False) if \"O\" in projections else lambda x: x\n",
        "        self.ln = tr.nn.LayerNorm(d_model)\n",
        "        self.projections = projections\n",
        "\n",
        "    def forward(self, Q, K, V):\n",
        "        heads = [\n",
        "            Attention(self.WQ[i](Q), self.WK[i](K), self.WV[i](V), self.masked)\n",
        "            for i in range(self.num_heads)]\n",
        "        out = self.WO(tr.cat(heads, dim=1))\n",
        "        out += Q # skip connection\n",
        "        out = self.ln(out) # layer normalization\n",
        "        return out\n",
        "\n",
        "# requires d_model - d_embedding >= max_len\n",
        "def one_hot_positional_encoder(max_len):\n",
        "    def encode_position(inputs):\n",
        "        I = tr.eye(max_len)\n",
        "        return tr.cat((I, inputs), dim=1)\n",
        "    return encode_position\n",
        "\n"
      ],
      "metadata": {
        "id": "-8Chz1jOzx_i"
      },
      "execution_count": null,
      "outputs": []
    },
    {
      "cell_type": "code",
      "source": [
        "class Net(tr.nn.Module):\n",
        "  def __init__(self, num_blocks, num_heads):\n",
        "    super(Net, self).__init__()\n",
        "    d_model = max_len+embeddings.shape[1]\n",
        "    self.encoder = one_hot_positional_encoder(max_len)\n",
        "    self.blocks = tr.nn.ModuleList([\n",
        "      MultiHeadAttention(num_heads, d_model, projections=\"QKVO\")\n",
        "      for _ in range(num_blocks)\n",
        "    ])\n",
        "    self.readout = tr.nn.Linear(d_model, 2)\n",
        "  def forward(self, example):\n",
        "    x = embed(parse(example), max_len, embeddings)\n",
        "    x = self.encoder(x)\n",
        "    for mha in self.blocks:\n",
        "      x = mha(x, x, x)\n",
        "    y = self.readout(x).mean(dim=0).unsqueeze(0)\n",
        "    return y\n",
        "\n",
        "net = Net(3, 4)\n",
        "y = net(examples[0][0])\n",
        "print(y)"
      ],
      "metadata": {
        "id": "MUinbtDAz0e4",
        "colab": {
          "base_uri": "https://localhost:8080/"
        },
        "outputId": "b40c8166-d682-418d-a501-d9bc9ee6e6f1"
      },
      "execution_count": null,
      "outputs": [
        {
          "output_type": "stream",
          "name": "stdout",
          "text": [
            "tensor([[0.0401, 0.0094]], grad_fn=<UnsqueezeBackward0>)\n"
          ]
        }
      ]
    },
    {
      "cell_type": "code",
      "source": [
        "validation = []\n",
        "header = True\n",
        "\n",
        "with open(\"data_valid/0017\", \"r\") as f:\n",
        "  counter = 0\n",
        "  clause = \"\"\n",
        "  for line in f:\n",
        "    counter += 1\n",
        "    if line[0] == \"T\" and counter == 3:\n",
        "      clause = line[2:]\n",
        "    if line[0] in \"+-\":\n",
        "      header = False\n",
        "      label = 0 if line[0] == \"-\" else 1\n",
        "    elif not header:\n",
        "      clause_steps = line[2:] + \" & \" + clause\n",
        "      #print(clause_steps)\n",
        "      validation.append((clause_steps.strip(),label))\n",
        "      \n",
        "print(validation)"
      ],
      "metadata": {
        "id": "s30ap4TY_G6-",
        "colab": {
          "base_uri": "https://localhost:8080/"
        },
        "outputId": "fa68b2cc-c059-4a09-9747-04aa5c2661b0"
      },
      "execution_count": null,
      "outputs": [
        {
          "output_type": "stream",
          "name": "stdout",
          "text": [
            "[('c= cderived_form c/\\\\ c/\\\\ cT cT cT / creal_mul * / creal_mul * / b1 b1 * / b1 b1 b0 * / creal_mul creal_mul f0 f0 creal_mul f1 f1 b0 creal_add creal_mul * / creal_mul * / b1 b0 * / b1 b0 f2 creal_of_num cNUMERAL c_0 creal_mul creal_add creal_mul * / b0 f2 creal_of_num cNUMERAL cBIT1 c_0 creal_mul creal_of_num cNUMERAL cBIT1 c_0 * / b0 f2 * / creal_mul creal_mul f0 f0 creal_mul f1 f1 f2 f2 part cUNIV c/\\\\ cderived_form c/\\\\ c/\\\\ c/\\\\ c/\\\\ cT c/\\\\ cT c/\\\\ cT c/\\\\ cT c/\\\\ c/\\\\ cT cT cT c/\\\\ cT c/\\\\ cT c/\\\\ cT cT cT cT / creal_sub * / creal_sub * / creal_sub * / creal_mul * / creal_mul f3 f3 b1 * / creal_mul * / creal_mul f1 f1 b1 * / creal_add * / creal_mul f4 f4 b1 * / creal_add * / creal_sub creal_mul f5 f5 creal_mul f3 f3 b1 * / creal_add * / creal_mul * / b1 b1 * / b1 b1 b1 * / creal_sub creal_mul f0 f0 creal_mul f1 f1 b1 b1 b1 b1 b1 b1 * / creal_mul * / creal_mul f5 f5 b1 * / creal_mul * / creal_mul f3 f3 b1 * / creal_mul * / b1 b1 * / b1 b1 b1 b1 b1 b1 * / creal_mul creal_mul f4 f4 creal_mul creal_mul f3 f3 creal_mul f0 f0 b1 b0 * / creal_mul creal_mul f4 f4 creal_mul creal_mul f5 f5 creal_mul f1 f1 b0 creal_sub creal_sub creal_sub creal_add creal_mul * / creal_mul f3 f3 f2 creal_add creal_mul * / creal_mul f1 f1 f2 creal_add creal_of_num cNUMERAL c_0 creal_add creal_of_num cNUMERAL c_0 creal_add creal_add creal_mul * / b0 f2 creal_of_num cNUMERAL cBIT1 c_0 creal_mul creal_of_num cNUMERAL cBIT1 c_0 * / b0 f2 creal_of_num cNUMERAL c_0 creal_mul creal_of_num cNUMERAL c_0 * / creal_add * / creal_mul f4 f4 b0 * / creal_add * / creal_sub creal_mul f5 f5 creal_mul f3 f3 b1 * / creal_add * / creal_mul * / b1 b1 * / b1 b1 b1 * / creal_sub creal_mul f0 f0 creal_mul f1 f1 b1 b1 b0 f2 creal_mul creal_of_num cNUMERAL c_0 * / creal_mul * / creal_mul f1 f1 b0 * / creal_add * / creal_mul f4 f4 b1 * / creal_add * / creal_sub creal_mul f5 f5 creal_mul f3 f3 b1 * / creal_add * / creal_mul * / b1 b1 * / b1 b1 b1 * / creal_sub creal_mul f0 f0 creal_mul f1 f1 b1 b1 b1 b0 f2 creal_add creal_mul * / creal_mul f5 f5 f2 creal_add creal_mul * / creal_mul f3 f3 f2 creal_add creal_mul * / b0 f2 creal_of_num cNUMERAL cBIT1 c_0 creal_mul creal_of_num cNUMERAL cBIT1 c_0 * / b0 f2 creal_mul creal_of_num cNUMERAL c_0 * / creal_mul * / b1 b0 * / b1 b0 f2 creal_mul creal_of_num cNUMERAL c_0 * / creal_mul * / creal_mul f3 f3 b0 * / creal_mul * / b1 b1 * / b1 b1 b0 f2 creal_of_num cNUMERAL c_0 creal_of_num cNUMERAL c_0 f2 part cUNIV cderived_form c/\\\\ c/\\\\ cT cT cT / creal_mul * / creal_mul * / b1 b1 * / b1 b1 b0 * / creal_mul creal_mul f0 f0 creal_mul f1 f1 b0 creal_add creal_mul * / creal_mul * / b1 b0 * / b1 b0 f2 creal_of_num cNUMERAL c_0 creal_mul creal_add creal_mul * / b0 f2 creal_of_num cNUMERAL cBIT1 c_0 creal_mul creal_of_num cNUMERAL cBIT1 c_0 * / b0 f2 * / creal_mul creal_mul f0 f0 creal_mul f1 f1 f2 f2 part cUNIV\\n & creal_open * part cGSPEC / c? / cSETSPEC b0 c/\\\\ creal_lt creal_of_num cNUMERAL c_0 b1 creal_lt creal_of_num cNUMERAL c_0 cdelta_y f0 f1 f2 b1 f3 f4 b1', 1), ('c/\\\\ cderived_form cT / creal_mul f0 f0 creal_of_num cNUMERAL c_0 f1 part cUNIV cderived_form c/\\\\ cT c/\\\\ cT c/\\\\ c/\\\\ c/\\\\ cT cT cT cT / creal_add * / creal_sub creal_mul f2 f2 creal_mul f3 f3 b0 * / creal_add * / creal_mul f4 f4 b1 * / creal_add * / creal_sub * / creal_mul * / b1 b1 * / b1 b1 b1 * / creal_mul f0 f0 b1 b1 * / creal_mul f5 f5 b1 b1 b0 creal_add creal_of_num cNUMERAL c_0 creal_add creal_of_num cNUMERAL c_0 creal_add creal_sub creal_add creal_mul * / b0 f1 creal_of_num cNUMERAL cBIT1 c_0 creal_mul creal_of_num cNUMERAL cBIT1 c_0 * / b0 f1 creal_of_num cNUMERAL c_0 creal_of_num cNUMERAL c_0 f1 part cUNIV\\n & creal_open * part cGSPEC / c? / cSETSPEC b0 c/\\\\ creal_lt creal_of_num cNUMERAL c_0 b1 creal_lt creal_of_num cNUMERAL c_0 cdelta_y f0 f1 f2 b1 f3 f4 b1', 1), ('* / ! ! ! ! c= cdelta_y f0 b0 b1 b2 b3 b4 cdelta_x creal_mul f0 f0 creal_mul b0 b0 creal_mul b1 b1 creal_mul b2 b2 creal_mul b3 b3 creal_mul b4 b4 f1\\n & creal_open * part cGSPEC / c? / cSETSPEC b0 c/\\\\ creal_lt creal_of_num cNUMERAL c_0 b1 creal_lt creal_of_num cNUMERAL c_0 cdelta_y f0 f1 f2 b1 f3 f4 b1', 1), ('c= cIN f0 * part cGSPEC / c? / cSETSPEC b0 creal_lt creal_of_num cNUMERAL c_0 b1 b1 creal_lt creal_of_num cNUMERAL c_0 f0\\n & creal_open * part cGSPEC / c? / cSETSPEC b0 c/\\\\ creal_lt creal_of_num cNUMERAL c_0 b1 creal_lt creal_of_num cNUMERAL c_0 cdelta_y f0 f1 f2 b1 f3 f4 b1', 1), ('c==> ! ! ! c==> chas_real_derivative b0 b1 catreal b2 creal_continuous b0 catreal b2 ! ! c==> c? / chas_real_derivative b0 b2 catreal b1 creal_continuous b0 catreal b1\\n & creal_open * part cGSPEC / c? / cSETSPEC b0 c/\\\\ creal_lt creal_of_num cNUMERAL c_0 b1 creal_lt creal_of_num cNUMERAL c_0 cdelta_y f0 f1 f2 b1 f3 f4 b1', 1), ('c= c==> c==> c/\\\\ creal_open * part cGSPEC / c? / cSETSPEC b0 creal_lt creal_of_num cNUMERAL c_0 b1 b1 c/\\\\ creal_open * part cGSPEC / c? / cSETSPEC b0 creal_lt creal_of_num cNUMERAL c_0 b1 b1 creal_continuous_on / cdelta_y f0 f1 f2 b0 f3 f4 * part cGSPEC / c? / cSETSPEC b0 creal_lt creal_of_num cNUMERAL c_0 b1 b1 creal_open * part cGSPEC / c? / cSETSPEC b0 c/\\\\ cIN b1 * part cGSPEC / c? / cSETSPEC b2 creal_lt creal_of_num cNUMERAL c_0 b3 b3 cIN * / cdelta_y f0 f1 f2 b2 f3 f4 b1 * part cGSPEC / c? / cSETSPEC b2 creal_lt creal_of_num cNUMERAL c_0 b3 b3 b1 creal_open * part cGSPEC / c? / cSETSPEC b0 c/\\\\ creal_lt creal_of_num cNUMERAL c_0 b1 creal_lt creal_of_num cNUMERAL c_0 cdelta_y f0 f1 f2 b1 f3 f4 b1 creal_open * part cGSPEC / c? / cSETSPEC b0 c/\\\\ creal_lt creal_of_num cNUMERAL c_0 b1 creal_lt creal_of_num cNUMERAL c_0 cdelta_y f0 f1 f2 b1 f3 f4 b1\\n & creal_open * part cGSPEC / c? / cSETSPEC b0 c/\\\\ creal_lt creal_of_num cNUMERAL c_0 b1 creal_lt creal_of_num cNUMERAL c_0 cdelta_y f0 f1 f2 b1 f3 f4 b1', 1), ('* / ! c==> c/\\\\ cderived_form f0 f1 f2 b0 b1 cderived_form f3 f4 f5 b0 b1 cderived_form c/\\\\ f0 f3 / creal_mul * f1 b2 * f4 b2 creal_add creal_mul * f1 b0 f5 creal_mul f2 * f4 b0 b0 b1 f6\\n & creal_open * part cGSPEC / c? / cSETSPEC b0 c/\\\\ creal_lt creal_of_num cNUMERAL c_0 b1 creal_lt creal_of_num cNUMERAL c_0 cdelta_y f0 f1 f2 b1 f3 f4 b1', 1), ('c= c/\\\\ f0 cT f0\\n & creal_open * part cGSPEC / c? / cSETSPEC b0 c/\\\\ creal_lt creal_of_num cNUMERAL c_0 b1 creal_lt creal_of_num cNUMERAL c_0 cdelta_y f0 f1 f2 b1 f3 f4 b1', 0), ('c==> ! ! ! c==> chas_real_derivative b0 b1 catreal b2 creal_continuous b0 catreal b2 c= ! c==> c? / chas_real_derivative f0 b1 catreal b0 creal_continuous f0 catreal b0 cT\\n & creal_open * part cGSPEC / c? / cSETSPEC b0 c/\\\\ creal_lt creal_of_num cNUMERAL c_0 b1 creal_lt creal_of_num cNUMERAL c_0 cdelta_y f0 f1 f2 b1 f3 f4 b1', 1), ('c==> c/\\\\ cderived_form f0 f1 f2 f3 part cUNIV cderived_form f4 f5 f6 f3 part cUNIV cderived_form c/\\\\ f0 f4 / creal_mul * f1 b0 * f5 b0 creal_add creal_mul * f1 f3 f6 creal_mul f2 * f5 f3 f3 part cUNIV\\n & creal_open * part cGSPEC / c? / cSETSPEC b0 c/\\\\ creal_lt creal_of_num cNUMERAL c_0 b1 creal_lt creal_of_num cNUMERAL c_0 cdelta_y f0 f1 f2 b1 f3 f4 b1', 1), ('* / cderived_form cT / creal_sub creal_mul f0 f0 creal_mul f1 f1 creal_of_num cNUMERAL c_0 f2 b0 part cUNIV\\n & creal_open * part cGSPEC / c? / cSETSPEC b0 c/\\\\ creal_lt creal_of_num cNUMERAL c_0 b1 creal_lt creal_of_num cNUMERAL c_0 cdelta_y f0 f1 f2 b1 f3 f4 b1', 1), ('c= ! creal_open * part cGSPEC / c? / cSETSPEC b1 c/\\\\ creal_lt creal_of_num cNUMERAL c_0 b2 creal_lt creal_of_num cNUMERAL c_0 cdelta_y f0 f1 f2 b2 f3 b0 b2 cT\\n & creal_open * part cGSPEC / c? / cSETSPEC b0 c/\\\\ creal_lt creal_of_num cNUMERAL c_0 b1 creal_lt creal_of_num cNUMERAL c_0 cdelta_y f0 f1 f2 b1 f3 f4 b1', 1), ('c= cderived_form c/\\\\ c/\\\\ cT c/\\\\ cT cT cT / creal_add * / creal_sub * / creal_mul f0 f0 b1 * / creal_mul * / b1 b1 * / b1 b1 b1 b0 * / creal_add creal_mul f1 f1 creal_mul f2 f2 b0 creal_add creal_sub creal_of_num cNUMERAL c_0 creal_add creal_mul * / b0 f3 creal_of_num cNUMERAL cBIT1 c_0 creal_mul creal_of_num cNUMERAL cBIT1 c_0 * / b0 f3 creal_of_num cNUMERAL c_0 f3 part cUNIV c/\\\\ cderived_form cT / creal_mul f4 f4 creal_of_num cNUMERAL c_0 f3 part cUNIV cderived_form c/\\\\ c/\\\\ cT c/\\\\ cT cT cT / creal_add * / creal_sub * / creal_mul f0 f0 b1 * / creal_mul * / b1 b1 * / b1 b1 b1 b0 * / creal_add creal_mul f1 f1 creal_mul f2 f2 b0 creal_add creal_sub creal_of_num cNUMERAL c_0 creal_add creal_mul * / b0 f3 creal_of_num cNUMERAL cBIT1 c_0 creal_mul creal_of_num cNUMERAL cBIT1 c_0 * / b0 f3 creal_of_num cNUMERAL c_0 f3 part cUNIV\\n & creal_open * part cGSPEC / c? / cSETSPEC b0 c/\\\\ creal_lt creal_of_num cNUMERAL c_0 b1 creal_lt creal_of_num cNUMERAL c_0 cdelta_y f0 f1 f2 b1 f3 f4 b1', 1), ('c/\\\\ cderived_form c/\\\\ cT cT / creal_mul * / b1 b0 * / b1 b0 creal_add creal_mul * / b0 f0 creal_of_num cNUMERAL cBIT1 c_0 creal_mul creal_of_num cNUMERAL cBIT1 c_0 * / b0 f0 f0 part cUNIV cderived_form cT / creal_mul creal_mul f1 f1 creal_mul f2 f2 creal_of_num cNUMERAL c_0 f0 part cUNIV\\n & creal_open * part cGSPEC / c? / cSETSPEC b0 c/\\\\ creal_lt creal_of_num cNUMERAL c_0 b1 creal_lt creal_of_num cNUMERAL c_0 cdelta_y f0 f1 f2 b1 f3 f4 b1', 1), ('* / ! ! c==> creal_continuous b0 catreal b1 creal_continuous b0 cwithin catreal b1 b2 f0\\n & creal_open * part cGSPEC / c? / cSETSPEC b0 c/\\\\ creal_lt creal_of_num cNUMERAL c_0 b1 creal_lt creal_of_num cNUMERAL c_0 cdelta_y f0 f1 f2 b1 f3 f4 b1', 1), ('* / c= cIN b0 * part cGSPEC / * f0 * part cSETSPEC b1 * f0 / / c/\\\\ b1 c= b0 b2 f1\\n & creal_open * part cGSPEC / c? / cSETSPEC b0 c/\\\\ creal_lt creal_of_num cNUMERAL c_0 b1 creal_lt creal_of_num cNUMERAL c_0 cdelta_y f0 f1 f2 b1 f3 f4 b1', 0), ('c= cderived_form c/\\\\ cT c/\\\\ cT c/\\\\ c/\\\\ cT cT cT / creal_add * / creal_mul f0 f0 b0 * / creal_add * / creal_sub creal_mul f1 f1 creal_mul f2 f2 b1 * / creal_add * / creal_mul * / b1 b1 * / b1 b1 b1 * / creal_sub creal_mul f3 f3 creal_mul f4 f4 b1 b1 b0 creal_add creal_of_num cNUMERAL c_0 creal_add creal_of_num cNUMERAL c_0 creal_add creal_add creal_mul * / b0 f5 creal_of_num cNUMERAL cBIT1 c_0 creal_mul creal_of_num cNUMERAL cBIT1 c_0 * / b0 f5 creal_of_num cNUMERAL c_0 f5 part cUNIV c/\\\\ cderived_form cT / creal_mul f4 f4 creal_of_num cNUMERAL c_0 f5 part cUNIV cderived_form c/\\\\ cT c/\\\\ cT c/\\\\ c/\\\\ cT cT cT / creal_add * / creal_mul f0 f0 b0 * / creal_add * / creal_sub creal_mul f1 f1 creal_mul f2 f2 b1 * / creal_add * / creal_mul * / b1 b1 * / b1 b1 b1 * / creal_sub creal_mul f3 f3 creal_mul f4 f4 b1 b1 b0 creal_add creal_of_num cNUMERAL c_0 creal_add creal_of_num cNUMERAL c_0 creal_add creal_add creal_mul * / b0 f5 creal_of_num cNUMERAL cBIT1 c_0 creal_mul creal_of_num cNUMERAL cBIT1 c_0 * / b0 f5 creal_of_num cNUMERAL c_0 f5 part cUNIV\\n & creal_open * part cGSPEC / c? / cSETSPEC b0 c/\\\\ creal_lt creal_of_num cNUMERAL c_0 b1 creal_lt creal_of_num cNUMERAL c_0 cdelta_y f0 f1 f2 b1 f3 f4 b1', 1), ('c= c==> c/\\\\ cderived_form c/\\\\ cT cT / creal_mul * / b1 b0 * / b1 b0 creal_add creal_mul * / b0 f0 creal_of_num cNUMERAL cBIT1 c_0 creal_mul creal_of_num cNUMERAL cBIT1 c_0 * / b0 f0 f0 part cUNIV cderived_form cT / creal_mul f1 f1 creal_of_num cNUMERAL c_0 f0 part cUNIV cderived_form c/\\\\ c/\\\\ cT cT cT / creal_sub * / creal_mul * / b1 b1 * / b1 b1 b0 * / creal_mul f1 f1 b0 creal_sub creal_add creal_mul * / b0 f0 creal_of_num cNUMERAL cBIT1 c_0 creal_mul creal_of_num cNUMERAL cBIT1 c_0 * / b0 f0 creal_of_num cNUMERAL c_0 f0 part cUNIV cderived_form c/\\\\ c/\\\\ cT cT cT / creal_sub * / creal_mul * / b1 b1 * / b1 b1 b0 * / creal_mul f1 f1 b0 creal_sub creal_add creal_mul * / b0 f0 creal_of_num cNUMERAL cBIT1 c_0 creal_mul creal_of_num cNUMERAL cBIT1 c_0 * / b0 f0 creal_of_num cNUMERAL c_0 f0 part cUNIV\\n & creal_open * part cGSPEC / c? / cSETSPEC b0 c/\\\\ creal_lt creal_of_num cNUMERAL c_0 b1 creal_lt creal_of_num cNUMERAL c_0 cdelta_y f0 f1 f2 b1 f3 f4 b1', 1), ('* / cIN b0 part cUNIV f0\\n & creal_open * part cGSPEC / c? / cSETSPEC b0 c/\\\\ creal_lt creal_of_num cNUMERAL c_0 b1 creal_lt creal_of_num cNUMERAL c_0 cdelta_y f0 f1 f2 b1 f3 f4 b1', 0), ('c= c==> ! c==> * / chas_real_derivative f0 b1 catreal f1 b0 c==> ! ! ! c==> chas_real_derivative b1 b2 catreal b3 creal_continuous b1 catreal b3 creal_continuous f0 catreal f1 c==> c? / chas_real_derivative f0 b0 catreal f1 c==> ! ! ! c==> chas_real_derivative b0 b1 catreal b2 creal_continuous b0 catreal b2 creal_continuous f0 catreal f1 c==> c? / chas_real_derivative f0 b0 catreal f1 c==> ! ! ! c==> chas_real_derivative b0 b1 catreal b2 creal_continuous b0 catreal b2 creal_continuous f0 catreal f1\\n & creal_open * part cGSPEC / c? / cSETSPEC b0 c/\\\\ creal_lt creal_of_num cNUMERAL c_0 b1 creal_lt creal_of_num cNUMERAL c_0 cdelta_y f0 f1 f2 b1 f3 f4 b1', 1), ('* / ! ! c= c\\\\/ b0 c\\\\/ b1 b2 c\\\\/ c\\\\/ b0 b1 b2 f0\\n & creal_open * part cGSPEC / c? / cSETSPEC b0 c/\\\\ creal_lt creal_of_num cNUMERAL c_0 b1 creal_lt creal_of_num cNUMERAL c_0 cdelta_y f0 f1 f2 b1 f3 f4 b1', 0), ('* / c= cderived_form f0 f1 f2 f3 b0 c==> f0 chas_real_derivative f1 f2 cwithin catreal f3 b0 f4\\n & creal_open * part cGSPEC / c? / cSETSPEC b0 c/\\\\ creal_lt creal_of_num cNUMERAL c_0 b1 creal_lt creal_of_num cNUMERAL c_0 cdelta_y f0 f1 f2 b1 f3 f4 b1', 1), ('cderived_form cT / creal_mul creal_mul f0 f0 creal_mul creal_mul f1 f1 creal_mul f2 f2 creal_of_num cNUMERAL c_0 f3 part cUNIV\\n & creal_open * part cGSPEC / c? / cSETSPEC b0 c/\\\\ creal_lt creal_of_num cNUMERAL c_0 b1 creal_lt creal_of_num cNUMERAL c_0 cdelta_y f0 f1 f2 b1 f3 f4 b1', 1), ('* / c= cIN b0 / * f0 b1 * f0 b0 f1\\n & creal_open * part cGSPEC / c? / cSETSPEC b0 c/\\\\ creal_lt creal_of_num cNUMERAL c_0 b1 creal_lt creal_of_num cNUMERAL c_0 cdelta_y f0 f1 f2 b1 f3 f4 b1', 0), ('c==> c/\\\\ creal_gt f0 creal_of_num cNUMERAL c_0 creal_ge f1 creal_of_num cNUMERAL c_0 creal_ge creal_mul f0 f1 creal_of_num cNUMERAL c_0\\n & creal_open * part cGSPEC / c? / cSETSPEC b0 c/\\\\ creal_lt creal_of_num cNUMERAL c_0 b1 creal_lt creal_of_num cNUMERAL c_0 cdelta_y f0 f1 f2 b1 f3 f4 b1', 0), ('c= c? / creal_lt creal_of_num cNUMERAL c_0 b0 creal_open part cUNIV\\n & creal_open * part cGSPEC / c? / cSETSPEC b0 c/\\\\ creal_lt creal_of_num cNUMERAL c_0 b1 creal_lt creal_of_num cNUMERAL c_0 cdelta_y f0 f1 f2 b1 f3 f4 b1', 0), ('c==> * / chas_real_derivative f0 b0 catreal f1 f2 c==> ! ! ! c==> chas_real_derivative b0 b1 catreal b2 creal_continuous b0 catreal b2 creal_continuous f0 catreal f1\\n & creal_open * part cGSPEC / c? / cSETSPEC b0 c/\\\\ creal_lt creal_of_num cNUMERAL c_0 b1 creal_lt creal_of_num cNUMERAL c_0 cdelta_y f0 f1 f2 b1 f3 f4 b1', 1), ('c= c==> ! ! ! c==> creal_continuous b0 catreal b1 creal_continuous b0 cwithin catreal b1 b2 * / ! ! c==> creal_continuous b0 catreal b1 creal_continuous b0 cwithin catreal b1 b2 f0 * / ! ! c==> creal_continuous b0 catreal b1 creal_continuous b0 cwithin catreal b1 b2 f0\\n & creal_open * part cGSPEC / c? / cSETSPEC b0 c/\\\\ creal_lt creal_of_num cNUMERAL c_0 b1 creal_lt creal_of_num cNUMERAL c_0 cdelta_y f0 f1 f2 b1 f3 f4 b1', 1), ('c~ c/\\\\ c\\\\/ c~ creal_lt f0 f1 c~ creal_gt f1 f0 c\\\\/ creal_lt f0 f1 creal_gt f1 f0\\n & creal_open * part cGSPEC / c? / cSETSPEC b0 c/\\\\ creal_lt creal_of_num cNUMERAL c_0 b1 creal_lt creal_of_num cNUMERAL c_0 cdelta_y f0 f1 f2 b1 f3 f4 b1', 1), ('c= c/\\\\ cT cF cF\\n & creal_open * part cGSPEC / c? / cSETSPEC b0 c/\\\\ creal_lt creal_of_num cNUMERAL c_0 b1 creal_lt creal_of_num cNUMERAL c_0 cdelta_y f0 f1 f2 b1 f3 f4 b1', 0), ('c/\\\\ cderived_form cT / creal_sub creal_mul f0 f0 creal_mul f1 f1 creal_of_num cNUMERAL c_0 f2 part cUNIV cderived_form c/\\\\ c/\\\\ cT cT cT / creal_add * / creal_mul * / b1 b1 * / b1 b1 b0 * / creal_sub creal_mul f3 f3 creal_mul f4 f4 b0 creal_add creal_add creal_mul * / b0 f2 creal_of_num cNUMERAL cBIT1 c_0 creal_mul creal_of_num cNUMERAL cBIT1 c_0 * / b0 f2 creal_of_num cNUMERAL c_0 f2 part cUNIV\\n & creal_open * part cGSPEC / c? / cSETSPEC b0 c/\\\\ creal_lt creal_of_num cNUMERAL c_0 b1 creal_lt creal_of_num cNUMERAL c_0 cdelta_y f0 f1 f2 b1 f3 f4 b1', 1), ('c/\\\\ cderived_form c/\\\\ cT cT / creal_mul * / b1 b0 * / b1 b0 creal_add creal_mul * / b0 f0 creal_of_num cNUMERAL cBIT1 c_0 creal_mul creal_of_num cNUMERAL cBIT1 c_0 * / b0 f0 f0 part cUNIV cderived_form cT / creal_mul f1 f1 creal_of_num cNUMERAL c_0 f0 part cUNIV\\n & creal_open * part cGSPEC / c? / cSETSPEC b0 c/\\\\ creal_lt creal_of_num cNUMERAL c_0 b1 creal_lt creal_of_num cNUMERAL c_0 cdelta_y f0 f1 f2 b1 f3 f4 b1', 1), ('c= c==> ! ! ! ! ! c= cderived_form b0 b1 b2 b3 b4 c==> b0 chas_real_derivative b1 b2 cwithin catreal b3 b4 * / ! ! ! ! c= cderived_form b0 b1 b2 b3 b4 c==> b0 chas_real_derivative b1 b2 cwithin catreal b3 b4 f0 * / ! ! ! ! c= cderived_form b0 b1 b2 b3 b4 c==> b0 chas_real_derivative b1 b2 cwithin catreal b3 b4 f0\\n & creal_open * part cGSPEC / c? / cSETSPEC b0 c/\\\\ creal_lt creal_of_num cNUMERAL c_0 b1 creal_lt creal_of_num cNUMERAL c_0 cdelta_y f0 f1 f2 b1 f3 f4 b1', 1), ('c/\\\\ ! ! c= cGSPEC / c? / cSETSPEC b2 * b0 b3 b3 b1 * b0 b1 ! ! c= cIN b1 / * b0 b2 * b0 b1\\n & creal_open * part cGSPEC / c? / cSETSPEC b0 c/\\\\ creal_lt creal_of_num cNUMERAL c_0 b1 creal_lt creal_of_num cNUMERAL c_0 cdelta_y f0 f1 f2 b1 f3 f4 b1', 0), ('c==> * / chas_real_derivative f0 b0 catreal f1 f2 c/\\\\ * / chas_real_derivative f0 b0 catreal f1 f2 c==> ! ! ! c==> chas_real_derivative b0 b1 catreal b2 creal_continuous b0 catreal b2 creal_continuous f0 catreal f1\\n & creal_open * part cGSPEC / c? / cSETSPEC b0 c/\\\\ creal_lt creal_of_num cNUMERAL c_0 b1 creal_lt creal_of_num cNUMERAL c_0 cdelta_y f0 f1 f2 b1 f3 f4 b1', 1), ('c= c==> creal_lt creal_of_num cNUMERAL c_0 f0 creal_continuous / cdelta_y f1 f2 f3 b0 f4 f5 cwithin catreal f0 * part cGSPEC / c? / cSETSPEC b0 creal_lt creal_of_num cNUMERAL c_0 b1 b1 cT\\n & creal_open * part cGSPEC / c? / cSETSPEC b0 c/\\\\ creal_lt creal_of_num cNUMERAL c_0 b1 creal_lt creal_of_num cNUMERAL c_0 cdelta_y f0 f1 f2 b1 f3 f4 b1', 1), ('c/\\\\ cderived_form cT / creal_mul f0 f0 creal_of_num cNUMERAL c_0 f1 part cUNIV cderived_form c/\\\\ c/\\\\ cT cT c/\\\\ cT c/\\\\ cT c/\\\\ c/\\\\ cT c/\\\\ cT cT cT / creal_mul * / creal_mul * / b1 b1 * / b1 b1 b0 * / creal_add * / creal_neg creal_mul f0 f0 b1 * / creal_add * / creal_mul f2 f2 b1 * / creal_add * / creal_sub * / creal_mul f3 f3 b1 * / creal_mul * / b1 b1 * / b1 b1 b1 b1 * / creal_add creal_mul f4 f4 creal_mul f5 f5 b1 b1 b1 b0 creal_add creal_mul * / creal_mul * / b1 b0 * / b1 b0 f1 creal_add creal_of_num cNUMERAL c_0 creal_add creal_of_num cNUMERAL c_0 creal_add creal_sub creal_of_num cNUMERAL c_0 creal_add creal_mul * / b0 f1 creal_of_num cNUMERAL cBIT1 c_0 creal_mul creal_of_num cNUMERAL cBIT1 c_0 * / b0 f1 creal_of_num cNUMERAL c_0 creal_mul creal_add creal_mul * / b0 f1 creal_of_num cNUMERAL cBIT1 c_0 creal_mul creal_of_num cNUMERAL cBIT1 c_0 * / b0 f1 * / creal_add * / creal_neg creal_mul f0 f0 b0 * / creal_add * / creal_mul f2 f2 b1 * / creal_add * / creal_sub * / creal_mul f3 f3 b1 * / creal_mul * / b1 b1 * / b1 b1 b1 b1 * / creal_add creal_mul f4 f4 creal_mul f5 f5 b1 b1 b0 f1 f1 part cUNIV\\n & creal_open * part cGSPEC / c? / cSETSPEC b0 c/\\\\ creal_lt creal_of_num cNUMERAL c_0 b1 creal_lt creal_of_num cNUMERAL c_0 cdelta_y f0 f1 f2 b1 f3 f4 b1', 1), ('c= creal_sub creal_of_num cNUMERAL c_0 f0 creal_neg f0\\n & creal_open * part cGSPEC / c? / cSETSPEC b0 c/\\\\ creal_lt creal_of_num cNUMERAL c_0 b1 creal_lt creal_of_num cNUMERAL c_0 cdelta_y f0 f1 f2 b1 f3 f4 b1', 1), ('cderived_form cT / creal_mul creal_mul f0 f0 creal_mul creal_mul f1 f1 creal_mul f2 f2 creal_of_num cNUMERAL c_0 f3 f4\\n & creal_open * part cGSPEC / c? / cSETSPEC b0 c/\\\\ creal_lt creal_of_num cNUMERAL c_0 b1 creal_lt creal_of_num cNUMERAL c_0 cdelta_y f0 f1 f2 b1 f3 f4 b1', 1), ('cderived_form cT / creal_mul creal_mul f0 f0 creal_mul f1 f1 creal_of_num cNUMERAL c_0 f2 part cUNIV\\n & creal_open * part cGSPEC / c? / cSETSPEC b0 c/\\\\ creal_lt creal_of_num cNUMERAL c_0 b1 creal_lt creal_of_num cNUMERAL c_0 cdelta_y f0 f1 f2 b1 f3 f4 b1', 1), ('c= c==> ! c= cdelta_x f0 f1 f2 f3 f4 b0 creal_add creal_mul f0 creal_mul f3 creal_add creal_neg f0 creal_add f1 creal_add creal_sub f2 f3 creal_add f4 b0 creal_add creal_mul f1 creal_mul f4 creal_add creal_sub f0 f1 creal_add f2 creal_add creal_sub f3 f4 b0 creal_sub creal_sub creal_sub creal_sub creal_mul f2 creal_mul b0 creal_add f0 creal_add creal_sub f1 f2 creal_add f3 creal_sub f4 b0 creal_mul f1 creal_mul f2 f3 creal_mul f0 creal_mul f2 f4 creal_mul f0 creal_mul f1 b0 creal_mul f3 creal_mul f4 b0 * / c= cdelta_x f0 f1 f2 f3 f4 b0 creal_add creal_mul f0 creal_mul f3 creal_add creal_neg f0 creal_add f1 creal_add creal_sub f2 f3 creal_add f4 b0 creal_add creal_mul f1 creal_mul f4 creal_add creal_sub f0 f1 creal_add f2 creal_add creal_sub f3 f4 b0 creal_sub creal_sub creal_sub creal_sub creal_mul f2 creal_mul b0 creal_add f0 creal_add creal_sub f1 f2 creal_add f3 creal_sub f4 b0 creal_mul f1 creal_mul f2 f3 creal_mul f0 creal_mul f2 f4 creal_mul f0 creal_mul f1 b0 creal_mul f3 creal_mul f4 b0 f5 * / c= cdelta_x f0 f1 f2 f3 f4 b0 creal_add creal_mul f0 creal_mul f3 creal_add creal_neg f0 creal_add f1 creal_add creal_sub f2 f3 creal_add f4 b0 creal_add creal_mul f1 creal_mul f4 creal_add creal_sub f0 f1 creal_add f2 creal_add creal_sub f3 f4 b0 creal_sub creal_sub creal_sub creal_sub creal_mul f2 creal_mul b0 creal_add f0 creal_add creal_sub f1 f2 creal_add f3 creal_sub f4 b0 creal_mul f1 creal_mul f2 f3 creal_mul f0 creal_mul f2 f4 creal_mul f0 creal_mul f1 b0 creal_mul f3 creal_mul f4 b0 f5\\n & creal_open * part cGSPEC / c? / cSETSPEC b0 c/\\\\ creal_lt creal_of_num cNUMERAL c_0 b1 creal_lt creal_of_num cNUMERAL c_0 cdelta_y f0 f1 f2 b1 f3 f4 b1', 1), ('c= cderived_form cT / b0 creal_of_num cNUMERAL cBIT1 c_0 f0 part cUNIV c/\\\\ cderived_form cT / b0 creal_of_num cNUMERAL cBIT1 c_0 f0 part cUNIV cderived_form cT / b0 creal_of_num cNUMERAL cBIT1 c_0 f0 part cUNIV\\n & creal_open * part cGSPEC / c? / cSETSPEC b0 c/\\\\ creal_lt creal_of_num cNUMERAL c_0 b1 creal_lt creal_of_num cNUMERAL c_0 cdelta_y f0 f1 f2 b1 f3 f4 b1', 1), ('* / ! ! ! c= cdelta_x f0 b0 f1 b1 b2 b3 creal_add creal_mul f0 creal_mul b1 creal_add creal_neg f0 creal_add b0 creal_add creal_sub f1 b1 creal_add b2 b3 creal_add creal_mul b0 creal_mul b2 creal_add creal_sub f0 b0 creal_add f1 creal_add creal_sub b1 b2 b3 creal_sub creal_sub creal_sub creal_sub creal_mul f1 creal_mul b3 creal_add f0 creal_add creal_sub b0 f1 creal_add b1 creal_sub b2 b3 creal_mul b0 creal_mul f1 b1 creal_mul f0 creal_mul f1 b2 creal_mul f0 creal_mul b0 b3 creal_mul b1 creal_mul b2 b3 f2\\n & creal_open * part cGSPEC / c? / cSETSPEC b0 c/\\\\ creal_lt creal_of_num cNUMERAL c_0 b1 creal_lt creal_of_num cNUMERAL c_0 cdelta_y f0 f1 f2 b1 f3 f4 b1', 1), ('* / c==> c/\\\\ creal_open * part cGSPEC / c? / cSETSPEC b1 creal_lt creal_of_num cNUMERAL c_0 b2 b2 c/\\\\ creal_open b0 creal_continuous_on / cdelta_y f0 f1 f2 b1 f3 f4 * part cGSPEC / c? / cSETSPEC b1 creal_lt creal_of_num cNUMERAL c_0 b2 b2 creal_open * part cGSPEC / c? / cSETSPEC b1 c/\\\\ cIN b2 * part cGSPEC / c? / cSETSPEC b3 creal_lt creal_of_num cNUMERAL c_0 b4 b4 cIN * / cdelta_y f0 f1 f2 b3 f3 f4 b2 b0 b2 * part cGSPEC / c? / cSETSPEC b0 creal_lt creal_of_num cNUMERAL c_0 b1 b1\\n & creal_open * part cGSPEC / c? / cSETSPEC b0 c/\\\\ creal_lt creal_of_num cNUMERAL c_0 b1 creal_lt creal_of_num cNUMERAL c_0 cdelta_y f0 f1 f2 b1 f3 f4 b1', 1), ('c= cderived_form c/\\\\ cT c/\\\\ cT cT / creal_mul * / creal_mul f0 f0 b0 * / creal_mul * / b1 b1 * / b1 b1 b0 creal_add creal_mul * / creal_mul f0 f0 f1 creal_add creal_mul * / b0 f1 creal_of_num cNUMERAL cBIT1 c_0 creal_mul creal_of_num cNUMERAL cBIT1 c_0 * / b0 f1 creal_mul creal_of_num cNUMERAL c_0 * / creal_mul * / b1 b0 * / b1 b0 f1 f1 part cUNIV c/\\\\ cderived_form cT / creal_mul f2 f2 creal_of_num cNUMERAL c_0 f1 part cUNIV cderived_form c/\\\\ cT c/\\\\ cT cT / creal_mul * / creal_mul f0 f0 b0 * / creal_mul * / b1 b1 * / b1 b1 b0 creal_add creal_mul * / creal_mul f0 f0 f1 creal_add creal_mul * / b0 f1 creal_of_num cNUMERAL cBIT1 c_0 creal_mul creal_of_num cNUMERAL cBIT1 c_0 * / b0 f1 creal_mul creal_of_num cNUMERAL c_0 * / creal_mul * / b1 b0 * / b1 b0 f1 f1 part cUNIV\\n & creal_open * part cGSPEC / c? / cSETSPEC b0 c/\\\\ creal_lt creal_of_num cNUMERAL c_0 b1 creal_lt creal_of_num cNUMERAL c_0 cdelta_y f0 f1 f2 b1 f3 f4 b1', 1), ('cderived_form c/\\\\ c/\\\\ cT cT cT / creal_mul * / creal_mul * / b1 b1 * / b1 b1 b0 * / creal_mul creal_mul f0 f0 creal_mul f1 f1 b0 creal_add creal_mul * / creal_mul * / b1 b0 * / b1 b0 f2 creal_of_num cNUMERAL c_0 creal_mul creal_add creal_mul * / b0 f2 creal_of_num cNUMERAL cBIT1 c_0 creal_mul creal_of_num cNUMERAL cBIT1 c_0 * / b0 f2 * / creal_mul creal_mul f0 f0 creal_mul f1 f1 f2 f2 part cUNIV\\n & creal_open * part cGSPEC / c? / cSETSPEC b0 c/\\\\ creal_lt creal_of_num cNUMERAL c_0 b1 creal_lt creal_of_num cNUMERAL c_0 cdelta_y f0 f1 f2 b1 f3 f4 b1', 1), ('* / c= cIN b0 * part cGSPEC / c? / cSETSPEC b1 * f0 b2 b2 * f0 b0 f1\\n & creal_open * part cGSPEC / c? / cSETSPEC b0 c/\\\\ creal_lt creal_of_num cNUMERAL c_0 b1 creal_lt creal_of_num cNUMERAL c_0 cdelta_y f0 f1 f2 b1 f3 f4 b1', 1), ('c==> chas_real_derivative f0 f1 catreal f2 c/\\\\ chas_real_derivative f0 f1 catreal f2 c==> ! ! ! c==> chas_real_derivative b0 b1 catreal b2 creal_continuous b0 catreal b2 creal_continuous f0 catreal f2\\n & creal_open * part cGSPEC / c? / cSETSPEC b0 c/\\\\ creal_lt creal_of_num cNUMERAL c_0 b1 creal_lt creal_of_num cNUMERAL c_0 cdelta_y f0 f1 f2 b1 f3 f4 b1', 1), ('c==> c/\\\\ creal_ge creal_add f0 creal_mul creal_neg creal_of_num cNUMERAL cBIT1 c_0 f1 creal_of_num cNUMERAL c_0 creal_gt creal_add creal_mul creal_neg creal_of_num cNUMERAL cBIT1 c_0 f0 f1 creal_of_num cNUMERAL c_0 c= c==> c/\\\\ creal_gt creal_of_num cNUMERAL cBIT1 c_0 creal_of_num cNUMERAL c_0 creal_ge creal_add f0 creal_mul creal_neg creal_of_num cNUMERAL cBIT1 c_0 f1 creal_of_num cNUMERAL c_0 creal_ge creal_mul creal_of_num cNUMERAL cBIT1 c_0 creal_add f0 creal_mul creal_neg creal_of_num cNUMERAL cBIT1 c_0 f1 creal_of_num cNUMERAL c_0 creal_ge creal_mul creal_of_num cNUMERAL cBIT1 c_0 creal_add f0 creal_mul creal_neg creal_of_num cNUMERAL cBIT1 c_0 f1 creal_of_num cNUMERAL c_0\\n & creal_open * part cGSPEC / c? / cSETSPEC b0 c/\\\\ creal_lt creal_of_num cNUMERAL c_0 b1 creal_lt creal_of_num cNUMERAL c_0 cdelta_y f0 f1 f2 b1 f3 f4 b1', 0), ('cderived_form c/\\\\ cT c/\\\\ cT c/\\\\ cT c/\\\\ c/\\\\ cT cT cT / creal_mul * / creal_mul f0 f0 b0 * / creal_add * / creal_mul f1 f1 b1 * / creal_add * / creal_sub creal_mul f2 f2 creal_mul f3 f3 b1 * / creal_add * / creal_mul * / b1 b1 * / b1 b1 b1 * / creal_sub creal_mul f4 f4 creal_mul f0 f0 b1 b1 b1 b0 creal_add creal_mul * / creal_mul f0 f0 f5 creal_add creal_of_num cNUMERAL c_0 creal_add creal_of_num cNUMERAL c_0 creal_add creal_add creal_mul * / b0 f5 creal_of_num cNUMERAL cBIT1 c_0 creal_mul creal_of_num cNUMERAL cBIT1 c_0 * / b0 f5 creal_of_num cNUMERAL c_0 creal_mul creal_of_num cNUMERAL c_0 * / creal_add * / creal_mul f1 f1 b0 * / creal_add * / creal_sub creal_mul f2 f2 creal_mul f3 f3 b1 * / creal_add * / creal_mul * / b1 b1 * / b1 b1 b1 * / creal_sub creal_mul f4 f4 creal_mul f0 f0 b1 b1 b0 f5 f5 part cUNIV\\n & creal_open * part cGSPEC / c? / cSETSPEC b0 c/\\\\ creal_lt creal_of_num cNUMERAL c_0 b1 creal_lt creal_of_num cNUMERAL c_0 cdelta_y f0 f1 f2 b1 f3 f4 b1', 1), ('c==> c/\\\\ creal_ge creal_add f0 creal_mul creal_neg creal_of_num cNUMERAL cBIT1 c_0 f1 creal_of_num cNUMERAL c_0 creal_gt creal_add creal_mul creal_neg creal_of_num cNUMERAL cBIT1 c_0 f0 f1 creal_of_num cNUMERAL c_0 creal_ge creal_mul creal_of_num cNUMERAL cBIT1 c_0 creal_add f0 creal_mul creal_neg creal_of_num cNUMERAL cBIT1 c_0 f1 creal_of_num cNUMERAL c_0\\n & creal_open * part cGSPEC / c? / cSETSPEC b0 c/\\\\ creal_lt creal_of_num cNUMERAL c_0 b1 creal_lt creal_of_num cNUMERAL c_0 cdelta_y f0 f1 f2 b1 f3 f4 b1', 0), ('c= c==> creal_lt creal_of_num cNUMERAL c_0 creal_of_num cNUMERAL cBIT1 c_0 c==> c= creal_mul creal_add creal_mul creal_neg creal_of_num cNUMERAL cBIT1 c_0 creal_of_num cNUMERAL cBIT1 c_0 creal_mul creal_of_num cNUMERAL cBIT1 c_0 creal_of_num cNUMERAL cBIT1 c_0 creal_of_num cNUMERAL cBIT1 c_0 creal_mul creal_of_num cNUMERAL c_0 creal_mul creal_of_num cNUMERAL cBIT1 c_0 creal_of_num cNUMERAL cBIT1 c_0 c= creal_add creal_div creal_neg creal_of_num cNUMERAL cBIT1 c_0 creal_of_num cNUMERAL cBIT1 c_0 creal_div creal_of_num cNUMERAL cBIT1 c_0 creal_of_num cNUMERAL cBIT1 c_0 creal_div creal_of_num cNUMERAL c_0 creal_of_num cNUMERAL cBIT1 c_0 c==> c= creal_mul creal_add creal_mul creal_neg creal_of_num cNUMERAL cBIT1 c_0 creal_of_num cNUMERAL cBIT1 c_0 creal_mul creal_of_num cNUMERAL cBIT1 c_0 creal_of_num cNUMERAL cBIT1 c_0 creal_of_num cNUMERAL cBIT1 c_0 creal_mul creal_of_num cNUMERAL c_0 creal_mul creal_of_num cNUMERAL cBIT1 c_0 creal_of_num cNUMERAL cBIT1 c_0 c= creal_add creal_div creal_neg creal_of_num cNUMERAL cBIT1 c_0 creal_of_num cNUMERAL cBIT1 c_0 creal_div creal_of_num cNUMERAL cBIT1 c_0 creal_of_num cNUMERAL cBIT1 c_0 creal_div creal_of_num cNUMERAL c_0 creal_of_num cNUMERAL cBIT1 c_0\\n & creal_open * part cGSPEC / c? / cSETSPEC b0 c/\\\\ creal_lt creal_of_num cNUMERAL c_0 b1 creal_lt creal_of_num cNUMERAL c_0 cdelta_y f0 f1 f2 b1 f3 f4 b1', 0), ('c= c==> c/\\\\ cderived_form cT / b0 creal_of_num cNUMERAL cBIT1 c_0 f0 part cUNIV cderived_form cT / b0 creal_of_num cNUMERAL cBIT1 c_0 f0 part cUNIV cderived_form c/\\\\ cT cT / creal_mul * / b1 b0 * / b1 b0 creal_add creal_mul * / b0 f0 creal_of_num cNUMERAL cBIT1 c_0 creal_mul creal_of_num cNUMERAL cBIT1 c_0 * / b0 f0 f0 part cUNIV cderived_form c/\\\\ cT cT / creal_mul * / b1 b0 * / b1 b0 creal_add creal_mul * / b0 f0 creal_of_num cNUMERAL cBIT1 c_0 creal_mul creal_of_num cNUMERAL cBIT1 c_0 * / b0 f0 f0 part cUNIV\\n & creal_open * part cGSPEC / c? / cSETSPEC b0 c/\\\\ creal_lt creal_of_num cNUMERAL c_0 b1 creal_lt creal_of_num cNUMERAL c_0 cdelta_y f0 f1 f2 b1 f3 f4 b1', 1), ('creal_open * part cGSPEC / c? / cSETSPEC b0 creal_lt creal_of_num cNUMERAL c_0 b1 b1\\n & creal_open * part cGSPEC / c? / cSETSPEC b0 c/\\\\ creal_lt creal_of_num cNUMERAL c_0 b1 creal_lt creal_of_num cNUMERAL c_0 cdelta_y f0 f1 f2 b1 f3 f4 b1', 1), ('c= c==> f0 cT cT\\n & creal_open * part cGSPEC / c? / cSETSPEC b0 c/\\\\ creal_lt creal_of_num cNUMERAL c_0 b1 creal_lt creal_of_num cNUMERAL c_0 cdelta_y f0 f1 f2 b1 f3 f4 b1', 0), ('c/\\\\ cderived_form cT / creal_mul f0 f0 creal_of_num cNUMERAL c_0 f1 part cUNIV cderived_form c/\\\\ cT cT / creal_mul * / b1 b0 * / b1 b0 creal_add creal_mul * / b0 f1 creal_of_num cNUMERAL cBIT1 c_0 creal_mul creal_of_num cNUMERAL cBIT1 c_0 * / b0 f1 f1 part cUNIV\\n & creal_open * part cGSPEC / c? / cSETSPEC b0 c/\\\\ creal_lt creal_of_num cNUMERAL c_0 b1 creal_lt creal_of_num cNUMERAL c_0 cdelta_y f0 f1 f2 b1 f3 f4 b1', 1), ('c= c==> ! ! cderived_form cT / creal_add creal_mul f0 f0 creal_mul f1 f1 creal_of_num cNUMERAL c_0 b0 b1 * / ! cderived_form cT / creal_add creal_mul f0 f0 creal_mul f1 f1 creal_of_num cNUMERAL c_0 b0 b1 f2 * / ! cderived_form cT / creal_add creal_mul f0 f0 creal_mul f1 f1 creal_of_num cNUMERAL c_0 b0 b1 f2\\n & creal_open * part cGSPEC / c? / cSETSPEC b0 c/\\\\ creal_lt creal_of_num cNUMERAL c_0 b1 creal_lt creal_of_num cNUMERAL c_0 cdelta_y f0 f1 f2 b1 f3 f4 b1', 1), ('c==> ! ! ! c==> creal_continuous b0 catreal b2 creal_continuous b0 cwithin catreal b2 b1 c= c==> creal_continuous f0 catreal f1 creal_continuous f0 cwithin catreal f1 f2 cT\\n & creal_open * part cGSPEC / c? / cSETSPEC b0 c/\\\\ creal_lt creal_of_num cNUMERAL c_0 b1 creal_lt creal_of_num cNUMERAL c_0 cdelta_y f0 f1 f2 b1 f3 f4 b1', 1), ('* / c= cGSPEC / * f0 * part cSETSPEC b1 b0 * f0 / / c/\\\\ b1 c= b0 b2 f1\\n & creal_open * part cGSPEC / c? / cSETSPEC b0 c/\\\\ creal_lt creal_of_num cNUMERAL c_0 b1 creal_lt creal_of_num cNUMERAL c_0 cdelta_y f0 f1 f2 b1 f3 f4 b1', 0), ('c= cderived_form c/\\\\ cT c/\\\\ cT c/\\\\ cT c/\\\\ c/\\\\ c/\\\\ cT cT cT cT / creal_mul * / creal_mul f0 f0 b0 * / creal_add * / creal_sub creal_mul f1 f1 creal_mul f2 f2 b1 * / creal_add * / creal_mul f3 f3 b1 * / creal_add * / creal_sub * / creal_mul * / b1 b1 * / b1 b1 b1 * / creal_mul f0 f0 b1 b1 * / creal_mul f4 f4 b1 b1 b1 b0 creal_add creal_mul * / creal_mul f0 f0 f5 creal_add creal_of_num cNUMERAL c_0 creal_add creal_of_num cNUMERAL c_0 creal_add creal_sub creal_add creal_mul * / b0 f5 creal_of_num cNUMERAL cBIT1 c_0 creal_mul creal_of_num cNUMERAL cBIT1 c_0 * / b0 f5 creal_of_num cNUMERAL c_0 creal_of_num cNUMERAL c_0 creal_mul creal_of_num cNUMERAL c_0 * / creal_add * / creal_sub creal_mul f1 f1 creal_mul f2 f2 b0 * / creal_add * / creal_mul f3 f3 b1 * / creal_add * / creal_sub * / creal_mul * / b1 b1 * / b1 b1 b1 * / creal_mul f0 f0 b1 b1 * / creal_mul f4 f4 b1 b1 b0 f5 f5 part cUNIV c/\\\\ cderived_form cT / creal_mul f2 f2 creal_of_num cNUMERAL c_0 f5 part cUNIV cderived_form c/\\\\ cT c/\\\\ cT c/\\\\ cT c/\\\\ c/\\\\ c/\\\\ cT cT cT cT / creal_mul * / creal_mul f0 f0 b0 * / creal_add * / creal_sub creal_mul f1 f1 creal_mul f2 f2 b1 * / creal_add * / creal_mul f3 f3 b1 * / creal_add * / creal_sub * / creal_mul * / b1 b1 * / b1 b1 b1 * / creal_mul f0 f0 b1 b1 * / creal_mul f4 f4 b1 b1 b1 b0 creal_add creal_mul * / creal_mul f0 f0 f5 creal_add creal_of_num cNUMERAL c_0 creal_add creal_of_num cNUMERAL c_0 creal_add creal_sub creal_add creal_mul * / b0 f5 creal_of_num cNUMERAL cBIT1 c_0 creal_mul creal_of_num cNUMERAL cBIT1 c_0 * / b0 f5 creal_of_num cNUMERAL c_0 creal_of_num cNUMERAL c_0 creal_mul creal_of_num cNUMERAL c_0 * / creal_add * / creal_sub creal_mul f1 f1 creal_mul f2 f2 b0 * / creal_add * / creal_mul f3 f3 b1 * / creal_add * / creal_sub * / creal_mul * / b1 b1 * / b1 b1 b1 * / creal_mul f0 f0 b1 b1 * / creal_mul f4 f4 b1 b1 b0 f5 f5 part cUNIV\\n & creal_open * part cGSPEC / c? / cSETSPEC b0 c/\\\\ creal_lt creal_of_num cNUMERAL c_0 b1 creal_lt creal_of_num cNUMERAL c_0 cdelta_y f0 f1 f2 b1 f3 f4 b1', 1), ('c= cT creal_gt creal_of_num cNUMERAL cBIT1 c_0 creal_of_num cNUMERAL c_0\\n & creal_open * part cGSPEC / c? / cSETSPEC b0 c/\\\\ creal_lt creal_of_num cNUMERAL c_0 b1 creal_lt creal_of_num cNUMERAL c_0 cdelta_y f0 f1 f2 b1 f3 f4 b1', 0), ('c= c==> f0 f0 cT\\n & creal_open * part cGSPEC / c? / cSETSPEC b0 c/\\\\ creal_lt creal_of_num cNUMERAL c_0 b1 creal_lt creal_of_num cNUMERAL c_0 cdelta_y f0 f1 f2 b1 f3 f4 b1', 1), ('c==> c/\\\\ creal_ge creal_add f0 creal_mul creal_neg creal_of_num cNUMERAL cBIT1 c_0 f1 creal_of_num cNUMERAL c_0 creal_gt creal_add creal_mul creal_neg creal_of_num cNUMERAL cBIT1 c_0 f0 f1 creal_of_num cNUMERAL c_0 c/\\\\ creal_gt creal_add creal_mul creal_neg creal_of_num cNUMERAL cBIT1 c_0 f0 f1 creal_of_num cNUMERAL c_0 creal_ge creal_add f0 creal_mul creal_neg creal_of_num cNUMERAL cBIT1 c_0 f1 creal_of_num cNUMERAL c_0\\n & creal_open * part cGSPEC / c? / cSETSPEC b0 c/\\\\ creal_lt creal_of_num cNUMERAL c_0 b1 creal_lt creal_of_num cNUMERAL c_0 cdelta_y f0 f1 f2 b1 f3 f4 b1', 1), ('c= c\\\\/ f0 f0 f0\\n & creal_open * part cGSPEC / c? / cSETSPEC b0 c/\\\\ creal_lt creal_of_num cNUMERAL c_0 b1 creal_lt creal_of_num cNUMERAL c_0 cdelta_y f0 f1 f2 b1 f3 f4 b1', 0), ('c==> c/\\\\ creal_open f0 c/\\\\ creal_open f1 creal_continuous_on / cdelta_y f2 f3 f4 b0 f5 f6 f0 creal_open * part cGSPEC / c? / cSETSPEC b0 c/\\\\ cIN b1 f0 cIN * / cdelta_y f2 f3 f4 b2 f5 f6 b1 f1 b1\\n & creal_open * part cGSPEC / c? / cSETSPEC b0 c/\\\\ creal_lt creal_of_num cNUMERAL c_0 b1 creal_lt creal_of_num cNUMERAL c_0 cdelta_y f0 f1 f2 b1 f3 f4 b1', 1), ('c/\\\\ cderived_form c/\\\\ c/\\\\ c/\\\\ cT c/\\\\ cT c/\\\\ cT c/\\\\ cT c/\\\\ c/\\\\ cT cT cT c/\\\\ cT c/\\\\ cT c/\\\\ cT cT cT / creal_sub * / creal_sub * / creal_mul * / creal_mul f0 f0 b1 * / creal_mul * / creal_mul f1 f1 b1 * / creal_add * / creal_mul f2 f2 b1 * / creal_add * / creal_sub creal_mul f3 f3 creal_mul f0 f0 b1 * / creal_add * / creal_mul * / b1 b1 * / b1 b1 b1 * / creal_sub creal_mul f4 f4 creal_mul f1 f1 b1 b1 b1 b1 b1 b1 * / creal_mul * / creal_mul f3 f3 b1 * / creal_mul * / creal_mul f0 f0 b1 * / creal_mul * / b1 b1 * / b1 b1 b1 b1 b1 b0 * / creal_mul creal_mul f2 f2 creal_mul creal_mul f0 f0 creal_mul f4 f4 b0 creal_sub creal_sub creal_add creal_mul * / creal_mul f0 f0 f5 creal_add creal_mul * / creal_mul f1 f1 f5 creal_add creal_of_num cNUMERAL c_0 creal_add creal_of_num cNUMERAL c_0 creal_add creal_add creal_mul * / b0 f5 creal_of_num cNUMERAL cBIT1 c_0 creal_mul creal_of_num cNUMERAL cBIT1 c_0 * / b0 f5 creal_of_num cNUMERAL c_0 creal_mul creal_of_num cNUMERAL c_0 * / creal_add * / creal_mul f2 f2 b0 * / creal_add * / creal_sub creal_mul f3 f3 creal_mul f0 f0 b1 * / creal_add * / creal_mul * / b1 b1 * / b1 b1 b1 * / creal_sub creal_mul f4 f4 creal_mul f1 f1 b1 b1 b0 f5 creal_mul creal_of_num cNUMERAL c_0 * / creal_mul * / creal_mul f1 f1 b0 * / creal_add * / creal_mul f2 f2 b1 * / creal_add * / creal_sub creal_mul f3 f3 creal_mul f0 f0 b1 * / creal_add * / creal_mul * / b1 b1 * / b1 b1 b1 * / creal_sub creal_mul f4 f4 creal_mul f1 f1 b1 b1 b1 b0 f5 creal_add creal_mul * / creal_mul f3 f3 f5 creal_add creal_mul * / creal_mul f0 f0 f5 creal_add creal_mul * / b0 f5 creal_of_num cNUMERAL cBIT1 c_0 creal_mul creal_of_num cNUMERAL cBIT1 c_0 * / b0 f5 creal_mul creal_of_num cNUMERAL c_0 * / creal_mul * / b1 b0 * / b1 b0 f5 creal_mul creal_of_num cNUMERAL c_0 * / creal_mul * / creal_mul f0 f0 b0 * / creal_mul * / b1 b1 * / b1 b1 b0 f5 creal_of_num cNUMERAL c_0 f5 part cUNIV cderived_form cT / creal_mul creal_mul f2 f2 creal_mul creal_mul f3 f3 creal_mul f1 f1 creal_of_num cNUMERAL c_0 f5 part cUNIV\\n & creal_open * part cGSPEC / c? / cSETSPEC b0 c/\\\\ creal_lt creal_of_num cNUMERAL c_0 b1 creal_lt creal_of_num cNUMERAL c_0 cdelta_y f0 f1 f2 b1 f3 f4 b1', 1), ('c= creal_lt creal_div creal_of_num cNUMERAL c_0 creal_of_num cNUMERAL cBIT1 c_0 creal_div creal_of_num cNUMERAL cBIT1 c_0 creal_of_num cNUMERAL cBIT1 c_0 creal_lt creal_mul creal_of_num cNUMERAL c_0 creal_of_num cNUMERAL cBIT1 c_0 creal_mul creal_of_num cNUMERAL cBIT1 c_0 creal_of_num cNUMERAL cBIT1 c_0\\n & creal_open * part cGSPEC / c? / cSETSPEC b0 c/\\\\ creal_lt creal_of_num cNUMERAL c_0 b1 creal_lt creal_of_num cNUMERAL c_0 cdelta_y f0 f1 f2 b1 f3 f4 b1', 0), ('c==> c==> c/\\\\ creal_open * part cGSPEC / c? / cSETSPEC b0 creal_lt creal_of_num cNUMERAL c_0 b1 b1 c/\\\\ creal_open * part cGSPEC / c? / cSETSPEC b0 creal_lt creal_of_num cNUMERAL c_0 b1 b1 creal_continuous_on / cdelta_y f0 f1 f2 b0 f3 f4 * part cGSPEC / c? / cSETSPEC b0 creal_lt creal_of_num cNUMERAL c_0 b1 b1 creal_open * part cGSPEC / c? / cSETSPEC b0 c/\\\\ cIN b1 * part cGSPEC / c? / cSETSPEC b2 creal_lt creal_of_num cNUMERAL c_0 b3 b3 cIN * / cdelta_y f0 f1 f2 b2 f3 f4 b1 * part cGSPEC / c? / cSETSPEC b2 creal_lt creal_of_num cNUMERAL c_0 b3 b3 b1 creal_open * part cGSPEC / c? / cSETSPEC b0 c/\\\\ creal_lt creal_of_num cNUMERAL c_0 b1 creal_lt creal_of_num cNUMERAL c_0 cdelta_y f0 f1 f2 b1 f3 f4 b1\\n & creal_open * part cGSPEC / c? / cSETSPEC b0 c/\\\\ creal_lt creal_of_num cNUMERAL c_0 b1 creal_lt creal_of_num cNUMERAL c_0 cdelta_y f0 f1 f2 b1 f3 f4 b1', 1), ('c==> ! ! ! c==> creal_continuous b0 catreal b2 creal_continuous b0 cwithin catreal b2 b1 ! c==> creal_continuous f0 catreal b0 creal_continuous f0 cwithin catreal b0 f1\\n & creal_open * part cGSPEC / c? / cSETSPEC b0 c/\\\\ creal_lt creal_of_num cNUMERAL c_0 b1 creal_lt creal_of_num cNUMERAL c_0 cdelta_y f0 f1 f2 b1 f3 f4 b1', 1), ('c==> ! ! ! c==> chas_real_derivative b0 b1 catreal b2 creal_continuous b0 catreal b2 c==> c? / chas_real_derivative f0 b0 catreal f1 creal_continuous f0 catreal f1\\n & creal_open * part cGSPEC / c? / cSETSPEC b0 c/\\\\ creal_lt creal_of_num cNUMERAL c_0 b1 creal_lt creal_of_num cNUMERAL c_0 cdelta_y f0 f1 f2 b1 f3 f4 b1', 1), ('c==> c/\\\\ creal_ge creal_add f0 creal_mul creal_neg creal_of_num cNUMERAL cBIT1 c_0 f1 creal_of_num cNUMERAL c_0 creal_gt creal_add creal_mul creal_neg creal_of_num cNUMERAL cBIT1 c_0 f0 f1 creal_of_num cNUMERAL c_0 c= creal_ge creal_add f0 creal_mul creal_neg creal_of_num cNUMERAL cBIT1 c_0 f1 creal_of_num cNUMERAL c_0 c/\\\\ creal_gt creal_add creal_mul creal_neg creal_of_num cNUMERAL cBIT1 c_0 f0 f1 creal_of_num cNUMERAL c_0 creal_ge creal_add f0 creal_mul creal_neg creal_of_num cNUMERAL cBIT1 c_0 f1 creal_of_num cNUMERAL c_0\\n & creal_open * part cGSPEC / c? / cSETSPEC b0 c/\\\\ creal_lt creal_of_num cNUMERAL c_0 b1 creal_lt creal_of_num cNUMERAL c_0 cdelta_y f0 f1 f2 b1 f3 f4 b1', 1), ('c= cderived_form c/\\\\ c/\\\\ cT cT cT / creal_add * / creal_mul * / b1 b1 * / b1 b1 b0 * / creal_sub creal_mul f0 f0 creal_mul f1 f1 b0 creal_add creal_add creal_mul * / b0 f2 creal_of_num cNUMERAL cBIT1 c_0 creal_mul creal_of_num cNUMERAL cBIT1 c_0 * / b0 f2 creal_of_num cNUMERAL c_0 f2 part cUNIV c/\\\\ cderived_form cT / creal_sub creal_mul f3 f3 creal_mul f4 f4 creal_of_num cNUMERAL c_0 f2 part cUNIV cderived_form c/\\\\ c/\\\\ cT cT cT / creal_add * / creal_mul * / b1 b1 * / b1 b1 b0 * / creal_sub creal_mul f0 f0 creal_mul f1 f1 b0 creal_add creal_add creal_mul * / b0 f2 creal_of_num cNUMERAL cBIT1 c_0 creal_mul creal_of_num cNUMERAL cBIT1 c_0 * / b0 f2 creal_of_num cNUMERAL c_0 f2 part cUNIV\\n & creal_open * part cGSPEC / c? / cSETSPEC b0 c/\\\\ creal_lt creal_of_num cNUMERAL c_0 b1 creal_lt creal_of_num cNUMERAL c_0 cdelta_y f0 f1 f2 b1 f3 f4 b1', 1), ('c= c==> ! ! ! ! ! c= cdelta_y f0 b0 b1 b2 b3 b4 cdelta_x creal_mul f0 f0 creal_mul b0 b0 creal_mul b1 b1 creal_mul b2 b2 creal_mul b3 b3 creal_mul b4 b4 * / ! ! ! ! c= cdelta_y f0 b0 b1 b2 b3 b4 cdelta_x creal_mul f0 f0 creal_mul b0 b0 creal_mul b1 b1 creal_mul b2 b2 creal_mul b3 b3 creal_mul b4 b4 f1 * / ! ! ! ! c= cdelta_y f0 b0 b1 b2 b3 b4 cdelta_x creal_mul f0 f0 creal_mul b0 b0 creal_mul b1 b1 creal_mul b2 b2 creal_mul b3 b3 creal_mul b4 b4 f1\\n & creal_open * part cGSPEC / c? / cSETSPEC b0 c/\\\\ creal_lt creal_of_num cNUMERAL c_0 b1 creal_lt creal_of_num cNUMERAL c_0 cdelta_y f0 f1 f2 b1 f3 f4 b1', 1), ('c= c==> ! ! ! ! ! ! c= cdelta_y b0 b1 b2 b3 b4 b5 cdelta_x creal_mul b0 b0 creal_mul b1 b1 creal_mul b2 b2 creal_mul b3 b3 creal_mul b4 b4 creal_mul b5 b5 * / ! ! ! ! ! c= cdelta_y b0 b1 b2 b3 b4 b5 cdelta_x creal_mul b0 b0 creal_mul b1 b1 creal_mul b2 b2 creal_mul b3 b3 creal_mul b4 b4 creal_mul b5 b5 f0 * / ! ! ! ! ! c= cdelta_y b0 b1 b2 b3 b4 b5 cdelta_x creal_mul b0 b0 creal_mul b1 b1 creal_mul b2 b2 creal_mul b3 b3 creal_mul b4 b4 creal_mul b5 b5 f0\\n & creal_open * part cGSPEC / c? / cSETSPEC b0 c/\\\\ creal_lt creal_of_num cNUMERAL c_0 b1 creal_lt creal_of_num cNUMERAL c_0 cdelta_y f0 f1 f2 b1 f3 f4 b1', 1), ('c/\\\\ creal_open * part cGSPEC / c? / cSETSPEC b0 creal_lt creal_of_num cNUMERAL c_0 b1 b1 c/\\\\ creal_open * part cGSPEC / c? / cSETSPEC b0 creal_lt creal_of_num cNUMERAL c_0 b1 b1 creal_continuous_on / cdelta_y f0 f1 f2 b0 f3 f4 * part cGSPEC / c? / cSETSPEC b0 creal_lt creal_of_num cNUMERAL c_0 b1 b1\\n & creal_open * part cGSPEC / c? / cSETSPEC b0 c/\\\\ creal_lt creal_of_num cNUMERAL c_0 b1 creal_lt creal_of_num cNUMERAL c_0 cdelta_y f0 f1 f2 b1 f3 f4 b1', 1), ('cderived_form c/\\\\ c/\\\\ cT c/\\\\ cT cT cT / creal_add * / creal_sub * / creal_mul f0 f0 b1 * / creal_mul * / b1 b1 * / b1 b1 b1 b0 * / creal_add creal_mul f1 f1 creal_mul f2 f2 b0 creal_add creal_sub creal_of_num cNUMERAL c_0 creal_add creal_mul * / b0 f3 creal_of_num cNUMERAL cBIT1 c_0 creal_mul creal_of_num cNUMERAL cBIT1 c_0 * / b0 f3 creal_of_num cNUMERAL c_0 f3 part cUNIV\\n & creal_open * part cGSPEC / c? / cSETSPEC b0 c/\\\\ creal_lt creal_of_num cNUMERAL c_0 b1 creal_lt creal_of_num cNUMERAL c_0 cdelta_y f0 f1 f2 b1 f3 f4 b1', 1), ('* / ! cderived_form cT / b2 creal_of_num cNUMERAL cBIT1 c_0 b0 b1 f0\\n & creal_open * part cGSPEC / c? / cSETSPEC b0 c/\\\\ creal_lt creal_of_num cNUMERAL c_0 b1 creal_lt creal_of_num cNUMERAL c_0 cdelta_y f0 f1 f2 b1 f3 f4 b1', 1), ('c==> c= creal_mul creal_add creal_mul creal_neg creal_of_num cNUMERAL cBIT1 c_0 creal_of_num cNUMERAL cBIT1 c_0 creal_mul creal_of_num cNUMERAL cBIT1 c_0 creal_of_num cNUMERAL cBIT1 c_0 creal_of_num cNUMERAL cBIT1 c_0 creal_mul creal_of_num cNUMERAL c_0 creal_mul creal_of_num cNUMERAL cBIT1 c_0 creal_of_num cNUMERAL cBIT1 c_0 c= creal_add creal_div creal_neg creal_of_num cNUMERAL cBIT1 c_0 creal_of_num cNUMERAL cBIT1 c_0 creal_div creal_of_num cNUMERAL cBIT1 c_0 creal_of_num cNUMERAL cBIT1 c_0 creal_div creal_of_num cNUMERAL c_0 creal_of_num cNUMERAL cBIT1 c_0\\n & creal_open * part cGSPEC / c? / cSETSPEC b0 c/\\\\ creal_lt creal_of_num cNUMERAL c_0 b1 creal_lt creal_of_num cNUMERAL c_0 cdelta_y f0 f1 f2 b1 f3 f4 b1', 0), ('* / c= c\\\\/ f0 c\\\\/ f1 b0 c\\\\/ c\\\\/ f0 f1 b0 f2\\n & creal_open * part cGSPEC / c? / cSETSPEC b0 c/\\\\ creal_lt creal_of_num cNUMERAL c_0 b1 creal_lt creal_of_num cNUMERAL c_0 cdelta_y f0 f1 f2 b1 f3 f4 b1', 0), ('c= c==> c/\\\\ cderived_form cT / creal_mul f0 f0 creal_of_num cNUMERAL c_0 f1 part cUNIV cderived_form c/\\\\ cT c/\\\\ c/\\\\ cT cT cT / creal_add * / creal_sub creal_mul f2 f2 creal_mul f3 f3 b0 * / creal_add * / creal_mul * / b1 b1 * / b1 b1 b1 * / creal_sub creal_mul f4 f4 creal_mul f5 f5 b1 b0 creal_add creal_of_num cNUMERAL c_0 creal_add creal_add creal_mul * / b0 f1 creal_of_num cNUMERAL cBIT1 c_0 creal_mul creal_of_num cNUMERAL cBIT1 c_0 * / b0 f1 creal_of_num cNUMERAL c_0 f1 part cUNIV cderived_form c/\\\\ cT c/\\\\ cT c/\\\\ c/\\\\ cT cT cT / creal_add * / creal_mul f0 f0 b0 * / creal_add * / creal_sub creal_mul f2 f2 creal_mul f3 f3 b1 * / creal_add * / creal_mul * / b1 b1 * / b1 b1 b1 * / creal_sub creal_mul f4 f4 creal_mul f5 f5 b1 b1 b0 creal_add creal_of_num cNUMERAL c_0 creal_add creal_of_num cNUMERAL c_0 creal_add creal_add creal_mul * / b0 f1 creal_of_num cNUMERAL cBIT1 c_0 creal_mul creal_of_num cNUMERAL cBIT1 c_0 * / b0 f1 creal_of_num cNUMERAL c_0 f1 part cUNIV cderived_form c/\\\\ cT c/\\\\ cT c/\\\\ c/\\\\ cT cT cT / creal_add * / creal_mul f0 f0 b0 * / creal_add * / creal_sub creal_mul f2 f2 creal_mul f3 f3 b1 * / creal_add * / creal_mul * / b1 b1 * / b1 b1 b1 * / creal_sub creal_mul f4 f4 creal_mul f5 f5 b1 b1 b0 creal_add creal_of_num cNUMERAL c_0 creal_add creal_of_num cNUMERAL c_0 creal_add creal_add creal_mul * / b0 f1 creal_of_num cNUMERAL cBIT1 c_0 creal_mul creal_of_num cNUMERAL cBIT1 c_0 * / b0 f1 creal_of_num cNUMERAL c_0 f1 part cUNIV\\n & creal_open * part cGSPEC / c? / cSETSPEC b0 c/\\\\ creal_lt creal_of_num cNUMERAL c_0 b1 creal_lt creal_of_num cNUMERAL c_0 cdelta_y f0 f1 f2 b1 f3 f4 b1', 1), ('c= c==> c==> c/\\\\ creal_open * part cGSPEC / c? / cSETSPEC b0 creal_lt creal_of_num cNUMERAL c_0 b1 b1 c/\\\\ creal_open * part cGSPEC / c? / cSETSPEC b0 creal_lt creal_of_num cNUMERAL c_0 b1 b1 creal_continuous_on / cdelta_y f0 f1 f2 b0 f3 f4 * part cGSPEC / c? / cSETSPEC b0 creal_lt creal_of_num cNUMERAL c_0 b1 b1 creal_open * part cGSPEC / c? / cSETSPEC b0 c/\\\\ creal_lt creal_of_num cNUMERAL c_0 b1 creal_lt creal_of_num cNUMERAL c_0 cdelta_y f0 f1 f2 b1 f3 f4 b1 creal_open * part cGSPEC / c? / cSETSPEC b0 c/\\\\ creal_lt creal_of_num cNUMERAL c_0 b1 creal_lt creal_of_num cNUMERAL c_0 cdelta_y f0 f1 f2 b1 f3 f4 b1 c==> c==> c/\\\\ creal_open * part cGSPEC / c? / cSETSPEC b0 creal_lt creal_of_num cNUMERAL c_0 b1 b1 c/\\\\ creal_open * part cGSPEC / c? / cSETSPEC b0 creal_lt creal_of_num cNUMERAL c_0 b1 b1 creal_continuous_on / cdelta_y f0 f1 f2 b0 f3 f4 * part cGSPEC / c? / cSETSPEC b0 creal_lt creal_of_num cNUMERAL c_0 b1 b1 creal_open * part cGSPEC / c? / cSETSPEC b0 c/\\\\ cIN b1 * part cGSPEC / c? / cSETSPEC b2 creal_lt creal_of_num cNUMERAL c_0 b3 b3 cIN * / cdelta_y f0 f1 f2 b2 f3 f4 b1 * part cGSPEC / c? / cSETSPEC b2 creal_lt creal_of_num cNUMERAL c_0 b3 b3 b1 creal_open * part cGSPEC / c? / cSETSPEC b0 c/\\\\ creal_lt creal_of_num cNUMERAL c_0 b1 creal_lt creal_of_num cNUMERAL c_0 cdelta_y f0 f1 f2 b1 f3 f4 b1\\n & creal_open * part cGSPEC / c? / cSETSPEC b0 c/\\\\ creal_lt creal_of_num cNUMERAL c_0 b1 creal_lt creal_of_num cNUMERAL c_0 cdelta_y f0 f1 f2 b1 f3 f4 b1', 1), ('cderived_form c/\\\\ cT cT / creal_mul * / b1 b0 * / b1 b0 creal_add creal_mul * / b0 f0 creal_of_num cNUMERAL cBIT1 c_0 creal_mul creal_of_num cNUMERAL cBIT1 c_0 * / b0 f0 f0 part cUNIV\\n & creal_open * part cGSPEC / c? / cSETSPEC b0 c/\\\\ creal_lt creal_of_num cNUMERAL c_0 b1 creal_lt creal_of_num cNUMERAL c_0 cdelta_y f0 f1 f2 b1 f3 f4 b1', 1), ('c==> ! ! ! c==> chas_real_derivative b0 b1 catreal b2 creal_continuous b0 catreal b2 * / ! ! c==> chas_real_derivative b0 b1 catreal b2 creal_continuous b0 catreal b2 f0\\n & creal_open * part cGSPEC / c? / cSETSPEC b0 c/\\\\ creal_lt creal_of_num cNUMERAL c_0 b1 creal_lt creal_of_num cNUMERAL c_0 cdelta_y f0 f1 f2 b1 f3 f4 b1', 1), ('c= c= cNUMERAL cBIT1 c_0 cNUMERAL c_0 cF\\n & creal_open * part cGSPEC / c? / cSETSPEC b0 c/\\\\ creal_lt creal_of_num cNUMERAL c_0 b1 creal_lt creal_of_num cNUMERAL c_0 cdelta_y f0 f1 f2 b1 f3 f4 b1', 0), ('cderived_form c/\\\\ cT c/\\\\ cT c/\\\\ cT c/\\\\ cT c/\\\\ c/\\\\ cT cT cT / creal_mul * / creal_mul f0 f0 b0 * / creal_mul * / creal_mul f1 f1 b1 * / creal_add * / creal_mul f2 f2 b1 * / creal_add * / creal_sub creal_mul f3 f3 creal_mul f0 f0 b1 * / creal_add * / creal_mul * / b1 b1 * / b1 b1 b1 * / creal_sub creal_mul f4 f4 creal_mul f1 f1 b1 b1 b1 b1 b0 creal_add creal_mul * / creal_mul f0 f0 f5 creal_add creal_mul * / creal_mul f1 f1 f5 creal_add creal_of_num cNUMERAL c_0 creal_add creal_of_num cNUMERAL c_0 creal_add creal_add creal_mul * / b0 f5 creal_of_num cNUMERAL cBIT1 c_0 creal_mul creal_of_num cNUMERAL cBIT1 c_0 * / b0 f5 creal_of_num cNUMERAL c_0 creal_mul creal_of_num cNUMERAL c_0 * / creal_add * / creal_mul f2 f2 b0 * / creal_add * / creal_sub creal_mul f3 f3 creal_mul f0 f0 b1 * / creal_add * / creal_mul * / b1 b1 * / b1 b1 b1 * / creal_sub creal_mul f4 f4 creal_mul f1 f1 b1 b1 b0 f5 creal_mul creal_of_num cNUMERAL c_0 * / creal_mul * / creal_mul f1 f1 b0 * / creal_add * / creal_mul f2 f2 b1 * / creal_add * / creal_sub creal_mul f3 f3 creal_mul f0 f0 b1 * / creal_add * / creal_mul * / b1 b1 * / b1 b1 b1 * / creal_sub creal_mul f4 f4 creal_mul f1 f1 b1 b1 b1 b0 f5 f5 part cUNIV\\n & creal_open * part cGSPEC / c? / cSETSPEC b0 c/\\\\ creal_lt creal_of_num cNUMERAL c_0 b1 creal_lt creal_of_num cNUMERAL c_0 cdelta_y f0 f1 f2 b1 f3 f4 b1', 1), ('c= c==> ! ! ! ! c= cderived_form f0 b0 b1 b2 b3 c==> f0 chas_real_derivative b0 b1 cwithin catreal b2 b3 * / ! ! ! c= cderived_form f0 b0 b1 b2 b3 c==> f0 chas_real_derivative b0 b1 cwithin catreal b2 b3 f1 * / ! ! ! c= cderived_form f0 b0 b1 b2 b3 c==> f0 chas_real_derivative b0 b1 cwithin catreal b2 b3 f1\\n & creal_open * part cGSPEC / c? / cSETSPEC b0 c/\\\\ creal_lt creal_of_num cNUMERAL c_0 b1 creal_lt creal_of_num cNUMERAL c_0 cdelta_y f0 f1 f2 b1 f3 f4 b1', 1), ('c==> c/\\\\ creal_gt f0 creal_of_num cNUMERAL c_0 creal_ge f1 creal_of_num cNUMERAL c_0 creal_gt creal_add f0 f1 creal_of_num cNUMERAL c_0\\n & creal_open * part cGSPEC / c? / cSETSPEC b0 c/\\\\ creal_lt creal_of_num cNUMERAL c_0 b1 creal_lt creal_of_num cNUMERAL c_0 cdelta_y f0 f1 f2 b1 f3 f4 b1', 1), ('c==> c/\\\\ creal_ge creal_add f0 creal_mul creal_neg creal_of_num cNUMERAL cBIT1 c_0 f1 creal_of_num cNUMERAL c_0 creal_gt creal_add creal_mul creal_neg creal_of_num cNUMERAL cBIT1 c_0 f0 f1 creal_of_num cNUMERAL c_0 creal_gt creal_add creal_add creal_mul creal_neg creal_of_num cNUMERAL cBIT1 c_0 f0 f1 creal_add f0 creal_mul creal_neg creal_of_num cNUMERAL cBIT1 c_0 f1 creal_of_num cNUMERAL c_0\\n & creal_open * part cGSPEC / c? / cSETSPEC b0 c/\\\\ creal_lt creal_of_num cNUMERAL c_0 b1 creal_lt creal_of_num cNUMERAL c_0 cdelta_y f0 f1 f2 b1 f3 f4 b1', 1), ('c/\\\\ cderived_form cT / creal_mul f0 f0 creal_of_num cNUMERAL c_0 f1 part cUNIV cderived_form c/\\\\ cT c/\\\\ cT c/\\\\ cT c/\\\\ c/\\\\ cT cT cT / creal_mul * / creal_mul f2 f2 b0 * / creal_add * / creal_mul f3 f3 b1 * / creal_add * / creal_sub creal_mul f4 f4 creal_mul f0 f0 b1 * / creal_add * / creal_mul * / b1 b1 * / b1 b1 b1 * / creal_sub creal_mul f5 f5 creal_mul f2 f2 b1 b1 b1 b0 creal_add creal_mul * / creal_mul f2 f2 f1 creal_add creal_of_num cNUMERAL c_0 creal_add creal_of_num cNUMERAL c_0 creal_add creal_add creal_mul * / b0 f1 creal_of_num cNUMERAL cBIT1 c_0 creal_mul creal_of_num cNUMERAL cBIT1 c_0 * / b0 f1 creal_of_num cNUMERAL c_0 creal_mul creal_of_num cNUMERAL c_0 * / creal_add * / creal_mul f3 f3 b0 * / creal_add * / creal_sub creal_mul f4 f4 creal_mul f0 f0 b1 * / creal_add * / creal_mul * / b1 b1 * / b1 b1 b1 * / creal_sub creal_mul f5 f5 creal_mul f2 f2 b1 b1 b0 f1 f1 part cUNIV\\n & creal_open * part cGSPEC / c? / cSETSPEC b0 c/\\\\ creal_lt creal_of_num cNUMERAL c_0 b1 creal_lt creal_of_num cNUMERAL c_0 cdelta_y f0 f1 f2 b1 f3 f4 b1', 1), ('c==> ! ! ! c==> chas_real_derivative b0 b1 catreal b2 creal_continuous b0 catreal b2 c= c==> ! ! c==> chas_real_derivative f0 b0 catreal b1 creal_continuous f0 catreal b1 * / ! c==> chas_real_derivative f0 b0 catreal b1 creal_continuous f0 catreal b1 f1 * / ! c==> chas_real_derivative f0 b0 catreal b1 creal_continuous f0 catreal b1 f1\\n & creal_open * part cGSPEC / c? / cSETSPEC b0 c/\\\\ creal_lt creal_of_num cNUMERAL c_0 b1 creal_lt creal_of_num cNUMERAL c_0 cdelta_y f0 f1 f2 b1 f3 f4 b1', 1), ('c= ! f0 f0\\n & creal_open * part cGSPEC / c? / cSETSPEC b0 c/\\\\ creal_lt creal_of_num cNUMERAL c_0 b1 creal_lt creal_of_num cNUMERAL c_0 cdelta_y f0 f1 f2 b1 f3 f4 b1', 0), ('c= c==> c/\\\\ cderived_form cT / creal_neg creal_mul f0 f0 creal_of_num cNUMERAL c_0 f1 part cUNIV cderived_form c/\\\\ cT c/\\\\ c/\\\\ cT c/\\\\ cT cT cT / creal_add * / creal_mul f2 f2 b0 * / creal_add * / creal_sub * / creal_mul f3 f3 b1 * / creal_mul * / b1 b1 * / b1 b1 b1 b1 * / creal_add creal_mul f4 f4 creal_mul f5 f5 b1 b0 creal_add creal_of_num cNUMERAL c_0 creal_add creal_sub creal_of_num cNUMERAL c_0 creal_add creal_mul * / b0 f1 creal_of_num cNUMERAL cBIT1 c_0 creal_mul creal_of_num cNUMERAL cBIT1 c_0 * / b0 f1 creal_of_num cNUMERAL c_0 f1 part cUNIV cderived_form c/\\\\ cT c/\\\\ cT c/\\\\ c/\\\\ cT c/\\\\ cT cT cT / creal_add * / creal_neg creal_mul f0 f0 b0 * / creal_add * / creal_mul f2 f2 b1 * / creal_add * / creal_sub * / creal_mul f3 f3 b1 * / creal_mul * / b1 b1 * / b1 b1 b1 b1 * / creal_add creal_mul f4 f4 creal_mul f5 f5 b1 b1 b0 creal_add creal_of_num cNUMERAL c_0 creal_add creal_of_num cNUMERAL c_0 creal_add creal_sub creal_of_num cNUMERAL c_0 creal_add creal_mul * / b0 f1 creal_of_num cNUMERAL cBIT1 c_0 creal_mul creal_of_num cNUMERAL cBIT1 c_0 * / b0 f1 creal_of_num cNUMERAL c_0 f1 part cUNIV cderived_form c/\\\\ cT c/\\\\ cT c/\\\\ c/\\\\ cT c/\\\\ cT cT cT / creal_add * / creal_neg creal_mul f0 f0 b0 * / creal_add * / creal_mul f2 f2 b1 * / creal_add * / creal_sub * / creal_mul f3 f3 b1 * / creal_mul * / b1 b1 * / b1 b1 b1 b1 * / creal_add creal_mul f4 f4 creal_mul f5 f5 b1 b1 b0 creal_add creal_of_num cNUMERAL c_0 creal_add creal_of_num cNUMERAL c_0 creal_add creal_sub creal_of_num cNUMERAL c_0 creal_add creal_mul * / b0 f1 creal_of_num cNUMERAL cBIT1 c_0 creal_mul creal_of_num cNUMERAL cBIT1 c_0 * / b0 f1 creal_of_num cNUMERAL c_0 f1 part cUNIV\\n & creal_open * part cGSPEC / c? / cSETSPEC b0 c/\\\\ creal_lt creal_of_num cNUMERAL c_0 b1 creal_lt creal_of_num cNUMERAL c_0 cdelta_y f0 f1 f2 b1 f3 f4 b1', 1), ('c= c==> ! ! c= cGSPEC / * b0 * part cSETSPEC b2 b1 * b0 / / c/\\\\ b2 c= b1 b3 * / ! c= cGSPEC / * b0 * part cSETSPEC b2 b1 * b0 / / c/\\\\ b2 c= b1 b3 f0 * / ! c= cGSPEC / * b0 * part cSETSPEC b2 b1 * b0 / / c/\\\\ b2 c= b1 b3 f0\\n & creal_open * part cGSPEC / c? / cSETSPEC b0 c/\\\\ creal_lt creal_of_num cNUMERAL c_0 b1 creal_lt creal_of_num cNUMERAL c_0 cdelta_y f0 f1 f2 b1 f3 f4 b1', 0), ('cderived_form cT / creal_sub creal_mul f0 f0 creal_mul f1 f1 creal_of_num cNUMERAL c_0 f2 f3\\n & creal_open * part cGSPEC / c? / cSETSPEC b0 c/\\\\ creal_lt creal_of_num cNUMERAL c_0 b1 creal_lt creal_of_num cNUMERAL c_0 cdelta_y f0 f1 f2 b1 f3 f4 b1', 1), ('c==> ! ! ! c==> chas_real_derivative b0 b1 catreal b2 creal_continuous b0 catreal b2 c==> chas_real_derivative f0 f1 catreal f2 creal_continuous f0 catreal f2\\n & creal_open * part cGSPEC / c? / cSETSPEC b0 c/\\\\ creal_lt creal_of_num cNUMERAL c_0 b1 creal_lt creal_of_num cNUMERAL c_0 cdelta_y f0 f1 f2 b1 f3 f4 b1', 1), ('c/\\\\ cderived_form cT / creal_mul f0 f0 creal_of_num cNUMERAL c_0 f1 part cUNIV cderived_form c/\\\\ cT c/\\\\ c/\\\\ cT cT cT / creal_add * / creal_sub creal_mul f2 f2 creal_mul f3 f3 b0 * / creal_add * / creal_mul * / b1 b1 * / b1 b1 b1 * / creal_sub creal_mul f4 f4 creal_mul f5 f5 b1 b0 creal_add creal_of_num cNUMERAL c_0 creal_add creal_add creal_mul * / b0 f1 creal_of_num cNUMERAL cBIT1 c_0 creal_mul creal_of_num cNUMERAL cBIT1 c_0 * / b0 f1 creal_of_num cNUMERAL c_0 f1 part cUNIV\\n & creal_open * part cGSPEC / c? / cSETSPEC b0 c/\\\\ creal_lt creal_of_num cNUMERAL c_0 b1 creal_lt creal_of_num cNUMERAL c_0 cdelta_y f0 f1 f2 b1 f3 f4 b1', 1), ('c= c==> ! ! ! c==> c/\\\\ creal_open b1 c/\\\\ creal_open b2 creal_continuous_on b0 b1 creal_open * part cGSPEC / c? / cSETSPEC b3 c/\\\\ cIN b4 b1 cIN * b0 b4 b2 b4 * / ! ! c==> c/\\\\ creal_open b1 c/\\\\ creal_open b2 creal_continuous_on b0 b1 creal_open * part cGSPEC / c? / cSETSPEC b3 c/\\\\ cIN b4 b1 cIN * b0 b4 b2 b4 / cdelta_y f0 f1 f2 b0 f3 f4 * / ! ! c==> c/\\\\ creal_open b1 c/\\\\ creal_open b2 creal_continuous_on b0 b1 creal_open * part cGSPEC / c? / cSETSPEC b3 c/\\\\ cIN b4 b1 cIN * b0 b4 b2 b4 / cdelta_y f0 f1 f2 b0 f3 f4\\n & creal_open * part cGSPEC / c? / cSETSPEC b0 c/\\\\ creal_lt creal_of_num cNUMERAL c_0 b1 creal_lt creal_of_num cNUMERAL c_0 cdelta_y f0 f1 f2 b1 f3 f4 b1', 1), ('c= c==> c? / chas_real_derivative / cdelta_y f0 f1 f2 b1 f3 f4 b0 catreal f5 creal_continuous / cdelta_y f0 f1 f2 b0 f3 f4 catreal f5 creal_continuous / cdelta_y f0 f1 f2 b0 f3 f4 catreal f5\\n & creal_open * part cGSPEC / c? / cSETSPEC b0 c/\\\\ creal_lt creal_of_num cNUMERAL c_0 b1 creal_lt creal_of_num cNUMERAL c_0 cdelta_y f0 f1 f2 b1 f3 f4 b1', 1), ('c= cderived_form c/\\\\ cT c/\\\\ cT c/\\\\ c/\\\\ cT c/\\\\ cT cT cT / creal_add * / creal_neg creal_mul f0 f0 b0 * / creal_add * / creal_mul f1 f1 b1 * / creal_add * / creal_sub * / creal_mul f2 f2 b1 * / creal_mul * / b1 b1 * / b1 b1 b1 b1 * / creal_add creal_mul f3 f3 creal_mul f4 f4 b1 b1 b0 creal_add creal_of_num cNUMERAL c_0 creal_add creal_of_num cNUMERAL c_0 creal_add creal_sub creal_of_num cNUMERAL c_0 creal_add creal_mul * / b0 f5 creal_of_num cNUMERAL cBIT1 c_0 creal_mul creal_of_num cNUMERAL cBIT1 c_0 * / b0 f5 creal_of_num cNUMERAL c_0 f5 part cUNIV c/\\\\ cderived_form c/\\\\ cT cT / creal_mul * / b1 b0 * / b1 b0 creal_add creal_mul * / b0 f5 creal_of_num cNUMERAL cBIT1 c_0 creal_mul creal_of_num cNUMERAL cBIT1 c_0 * / b0 f5 f5 part cUNIV cderived_form c/\\\\ cT c/\\\\ cT c/\\\\ c/\\\\ cT c/\\\\ cT cT cT / creal_add * / creal_neg creal_mul f0 f0 b0 * / creal_add * / creal_mul f1 f1 b1 * / creal_add * / creal_sub * / creal_mul f2 f2 b1 * / creal_mul * / b1 b1 * / b1 b1 b1 b1 * / creal_add creal_mul f3 f3 creal_mul f4 f4 b1 b1 b0 creal_add creal_of_num cNUMERAL c_0 creal_add creal_of_num cNUMERAL c_0 creal_add creal_sub creal_of_num cNUMERAL c_0 creal_add creal_mul * / b0 f5 creal_of_num cNUMERAL cBIT1 c_0 creal_mul creal_of_num cNUMERAL cBIT1 c_0 * / b0 f5 creal_of_num cNUMERAL c_0 f5 part cUNIV\\n & creal_open * part cGSPEC / c? / cSETSPEC b0 c/\\\\ creal_lt creal_of_num cNUMERAL c_0 b1 creal_lt creal_of_num cNUMERAL c_0 cdelta_y f0 f1 f2 b1 f3 f4 b1', 1), ('cderived_form c/\\\\ c/\\\\ cT c/\\\\ cT c/\\\\ cT c/\\\\ cT c/\\\\ c/\\\\ cT cT cT c/\\\\ cT c/\\\\ cT c/\\\\ cT cT / creal_sub * / creal_mul * / creal_mul f0 f0 b1 * / creal_mul * / creal_mul f1 f1 b1 * / creal_add * / creal_mul f2 f2 b1 * / creal_add * / creal_sub creal_mul f3 f3 creal_mul f0 f0 b1 * / creal_add * / creal_mul * / b1 b1 * / b1 b1 b1 * / creal_sub creal_mul f4 f4 creal_mul f1 f1 b1 b1 b1 b1 b1 b0 * / creal_mul * / creal_mul f3 f3 b1 * / creal_mul * / creal_mul f0 f0 b1 * / creal_mul * / b1 b1 * / b1 b1 b1 b1 b0 creal_sub creal_add creal_mul * / creal_mul f0 f0 f5 creal_add creal_mul * / creal_mul f1 f1 f5 creal_add creal_of_num cNUMERAL c_0 creal_add creal_of_num cNUMERAL c_0 creal_add creal_add creal_mul * / b0 f5 creal_of_num cNUMERAL cBIT1 c_0 creal_mul creal_of_num cNUMERAL cBIT1 c_0 * / b0 f5 creal_of_num cNUMERAL c_0 creal_mul creal_of_num cNUMERAL c_0 * / creal_add * / creal_mul f2 f2 b0 * / creal_add * / creal_sub creal_mul f3 f3 creal_mul f0 f0 b1 * / creal_add * / creal_mul * / b1 b1 * / b1 b1 b1 * / creal_sub creal_mul f4 f4 creal_mul f1 f1 b1 b1 b0 f5 creal_mul creal_of_num cNUMERAL c_0 * / creal_mul * / creal_mul f1 f1 b0 * / creal_add * / creal_mul f2 f2 b1 * / creal_add * / creal_sub creal_mul f3 f3 creal_mul f0 f0 b1 * / creal_add * / creal_mul * / b1 b1 * / b1 b1 b1 * / creal_sub creal_mul f4 f4 creal_mul f1 f1 b1 b1 b1 b0 f5 creal_add creal_mul * / creal_mul f3 f3 f5 creal_add creal_mul * / creal_mul f0 f0 f5 creal_add creal_mul * / b0 f5 creal_of_num cNUMERAL cBIT1 c_0 creal_mul creal_of_num cNUMERAL cBIT1 c_0 * / b0 f5 creal_mul creal_of_num cNUMERAL c_0 * / creal_mul * / b1 b0 * / b1 b0 f5 creal_mul creal_of_num cNUMERAL c_0 * / creal_mul * / creal_mul f0 f0 b0 * / creal_mul * / b1 b1 * / b1 b1 b0 f5 f5 part cUNIV\\n & creal_open * part cGSPEC / c? / cSETSPEC b0 c/\\\\ creal_lt creal_of_num cNUMERAL c_0 b1 creal_lt creal_of_num cNUMERAL c_0 cdelta_y f0 f1 f2 b1 f3 f4 b1', 1), ('c= c==> c/\\\\ cderived_form cT / creal_mul f0 f0 creal_of_num cNUMERAL c_0 f1 part cUNIV cderived_form c/\\\\ cT c/\\\\ cT c/\\\\ c/\\\\ cT cT cT / creal_add * / creal_mul f2 f2 b0 * / creal_add * / creal_sub creal_mul f3 f3 creal_mul f4 f4 b1 * / creal_add * / creal_mul * / b1 b1 * / b1 b1 b1 * / creal_sub creal_mul f5 f5 creal_mul f0 f0 b1 b1 b0 creal_add creal_of_num cNUMERAL c_0 creal_add creal_of_num cNUMERAL c_0 creal_add creal_add creal_mul * / b0 f1 creal_of_num cNUMERAL cBIT1 c_0 creal_mul creal_of_num cNUMERAL cBIT1 c_0 * / b0 f1 creal_of_num cNUMERAL c_0 f1 part cUNIV cderived_form c/\\\\ cT c/\\\\ cT c/\\\\ cT c/\\\\ c/\\\\ cT cT cT / creal_mul * / creal_mul f0 f0 b0 * / creal_add * / creal_mul f2 f2 b1 * / creal_add * / creal_sub creal_mul f3 f3 creal_mul f4 f4 b1 * / creal_add * / creal_mul * / b1 b1 * / b1 b1 b1 * / creal_sub creal_mul f5 f5 creal_mul f0 f0 b1 b1 b1 b0 creal_add creal_mul * / creal_mul f0 f0 f1 creal_add creal_of_num cNUMERAL c_0 creal_add creal_of_num cNUMERAL c_0 creal_add creal_add creal_mul * / b0 f1 creal_of_num cNUMERAL cBIT1 c_0 creal_mul creal_of_num cNUMERAL cBIT1 c_0 * / b0 f1 creal_of_num cNUMERAL c_0 creal_mul creal_of_num cNUMERAL c_0 * / creal_add * / creal_mul f2 f2 b0 * / creal_add * / creal_sub creal_mul f3 f3 creal_mul f4 f4 b1 * / creal_add * / creal_mul * / b1 b1 * / b1 b1 b1 * / creal_sub creal_mul f5 f5 creal_mul f0 f0 b1 b1 b0 f1 f1 part cUNIV cderived_form c/\\\\ cT c/\\\\ cT c/\\\\ cT c/\\\\ c/\\\\ cT cT cT / creal_mul * / creal_mul f0 f0 b0 * / creal_add * / creal_mul f2 f2 b1 * / creal_add * / creal_sub creal_mul f3 f3 creal_mul f4 f4 b1 * / creal_add * / creal_mul * / b1 b1 * / b1 b1 b1 * / creal_sub creal_mul f5 f5 creal_mul f0 f0 b1 b1 b1 b0 creal_add creal_mul * / creal_mul f0 f0 f1 creal_add creal_of_num cNUMERAL c_0 creal_add creal_of_num cNUMERAL c_0 creal_add creal_add creal_mul * / b0 f1 creal_of_num cNUMERAL cBIT1 c_0 creal_mul creal_of_num cNUMERAL cBIT1 c_0 * / b0 f1 creal_of_num cNUMERAL c_0 creal_mul creal_of_num cNUMERAL c_0 * / creal_add * / creal_mul f2 f2 b0 * / creal_add * / creal_sub creal_mul f3 f3 creal_mul f4 f4 b1 * / creal_add * / creal_mul * / b1 b1 * / b1 b1 b1 * / creal_sub creal_mul f5 f5 creal_mul f0 f0 b1 b1 b0 f1 f1 part cUNIV\\n & creal_open * part cGSPEC / c? / cSETSPEC b0 c/\\\\ creal_lt creal_of_num cNUMERAL c_0 b1 creal_lt creal_of_num cNUMERAL c_0 cdelta_y f0 f1 f2 b1 f3 f4 b1', 1), ('* / ! c= cIN b1 * part cGSPEC / * b0 * part cSETSPEC b2 * b0 / / c/\\\\ b2 c= b1 b3 f0\\n & creal_open * part cGSPEC / c? / cSETSPEC b0 c/\\\\ creal_lt creal_of_num cNUMERAL c_0 b1 creal_lt creal_of_num cNUMERAL c_0 cdelta_y f0 f1 f2 b1 f3 f4 b1', 0), ('c= c==> creal_lt creal_of_num cNUMERAL c_0 creal_of_num cNUMERAL cBIT1 c_0 c= creal_lt creal_div creal_of_num cNUMERAL c_0 creal_of_num cNUMERAL cBIT1 c_0 creal_div creal_of_num cNUMERAL c_0 creal_of_num cNUMERAL cBIT1 c_0 creal_lt creal_mul creal_of_num cNUMERAL c_0 creal_of_num cNUMERAL cBIT1 c_0 creal_mul creal_of_num cNUMERAL c_0 creal_of_num cNUMERAL cBIT1 c_0 c= creal_lt creal_div creal_of_num cNUMERAL c_0 creal_of_num cNUMERAL cBIT1 c_0 creal_div creal_of_num cNUMERAL c_0 creal_of_num cNUMERAL cBIT1 c_0 creal_lt creal_mul creal_of_num cNUMERAL c_0 creal_of_num cNUMERAL cBIT1 c_0 creal_mul creal_of_num cNUMERAL c_0 creal_of_num cNUMERAL cBIT1 c_0\\n & creal_open * part cGSPEC / c? / cSETSPEC b0 c/\\\\ creal_lt creal_of_num cNUMERAL c_0 b1 creal_lt creal_of_num cNUMERAL c_0 cdelta_y f0 f1 f2 b1 f3 f4 b1', 0), ('c==> c/\\\\ cderived_form f0 f1 f2 f3 f4 c/\\\\ c= f0 f5 c/\\\\ c= f1 f6 c/\\\\ c= f2 f7 c/\\\\ c= f3 f8 c= f4 f9 cderived_form f5 f6 f7 f8 f9\\n & creal_open * part cGSPEC / c? / cSETSPEC b0 c/\\\\ creal_lt creal_of_num cNUMERAL c_0 b1 creal_lt creal_of_num cNUMERAL c_0 cdelta_y f0 f1 f2 b1 f3 f4 b1', 1), ('c= c==> ! ! ! ! ! ! c= cdelta_x b1 b2 b0 b3 b4 b5 creal_add creal_mul b1 creal_mul b3 creal_add creal_neg b1 creal_add b2 creal_add creal_sub b0 b3 creal_add b4 b5 creal_add creal_mul b2 creal_mul b4 creal_add creal_sub b1 b2 creal_add b0 creal_add creal_sub b3 b4 b5 creal_sub creal_sub creal_sub creal_sub creal_mul b0 creal_mul b5 creal_add b1 creal_add creal_sub b2 b0 creal_add b3 creal_sub b4 b5 creal_mul b2 creal_mul b0 b3 creal_mul b1 creal_mul b0 b4 creal_mul b1 creal_mul b2 b5 creal_mul b3 creal_mul b4 b5 * / ! ! ! ! ! c= cdelta_x b1 b2 b0 b3 b4 b5 creal_add creal_mul b1 creal_mul b3 creal_add creal_neg b1 creal_add b2 creal_add creal_sub b0 b3 creal_add b4 b5 creal_add creal_mul b2 creal_mul b4 creal_add creal_sub b1 b2 creal_add b0 creal_add creal_sub b3 b4 b5 creal_sub creal_sub creal_sub creal_sub creal_mul b0 creal_mul b5 creal_add b1 creal_add creal_sub b2 b0 creal_add b3 creal_sub b4 b5 creal_mul b2 creal_mul b0 b3 creal_mul b1 creal_mul b0 b4 creal_mul b1 creal_mul b2 b5 creal_mul b3 creal_mul b4 b5 f0 * / ! ! ! ! ! c= cdelta_x b1 b2 b0 b3 b4 b5 creal_add creal_mul b1 creal_mul b3 creal_add creal_neg b1 creal_add b2 creal_add creal_sub b0 b3 creal_add b4 b5 creal_add creal_mul b2 creal_mul b4 creal_add creal_sub b1 b2 creal_add b0 creal_add creal_sub b3 b4 b5 creal_sub creal_sub creal_sub creal_sub creal_mul b0 creal_mul b5 creal_add b1 creal_add creal_sub b2 b0 creal_add b3 creal_sub b4 b5 creal_mul b2 creal_mul b0 b3 creal_mul b1 creal_mul b0 b4 creal_mul b1 creal_mul b2 b5 creal_mul b3 creal_mul b4 b5 f0\\n & creal_open * part cGSPEC / c? / cSETSPEC b0 c/\\\\ creal_lt creal_of_num cNUMERAL c_0 b1 creal_lt creal_of_num cNUMERAL c_0 cdelta_y f0 f1 f2 b1 f3 f4 b1', 1), ('c==> ! ! ! c==> chas_real_derivative b0 b1 catreal b2 creal_continuous b0 catreal b2 c= c==> ! c==> chas_real_derivative f0 f1 catreal b0 creal_continuous f0 catreal b0 * / c==> chas_real_derivative f0 f1 catreal b0 creal_continuous f0 catreal b0 f2 * / c==> chas_real_derivative f0 f1 catreal b0 creal_continuous f0 catreal b0 f2\\n & creal_open * part cGSPEC / c? / cSETSPEC b0 c/\\\\ creal_lt creal_of_num cNUMERAL c_0 b1 creal_lt creal_of_num cNUMERAL c_0 cdelta_y f0 f1 f2 b1 f3 f4 b1', 1), ('c= c==> ! ! ! cderived_form cT / b0 creal_of_num cNUMERAL c_0 b1 b2 * / ! ! cderived_form cT / b0 creal_of_num cNUMERAL c_0 b1 b2 creal_mul creal_mul f0 f0 creal_mul creal_mul f1 f1 creal_mul f2 f2 * / ! ! cderived_form cT / b0 creal_of_num cNUMERAL c_0 b1 b2 creal_mul creal_mul f0 f0 creal_mul creal_mul f1 f1 creal_mul f2 f2\\n & creal_open * part cGSPEC / c? / cSETSPEC b0 c/\\\\ creal_lt creal_of_num cNUMERAL c_0 b1 creal_lt creal_of_num cNUMERAL c_0 cdelta_y f0 f1 f2 b1 f3 f4 b1', 1), ('c==> c/\\\\ creal_open * part cGSPEC / c? / cSETSPEC b0 creal_lt creal_of_num cNUMERAL c_0 b1 b1 c/\\\\ creal_open * part cGSPEC / c? / cSETSPEC b0 creal_lt creal_of_num cNUMERAL c_0 b1 b1 creal_continuous_on / cdelta_y f0 f1 f2 b0 f3 f4 * part cGSPEC / c? / cSETSPEC b0 creal_lt creal_of_num cNUMERAL c_0 b1 b1 c==> c==> c/\\\\ creal_open * part cGSPEC / c? / cSETSPEC b0 creal_lt creal_of_num cNUMERAL c_0 b1 b1 c/\\\\ creal_open * part cGSPEC / c? / cSETSPEC b0 creal_lt creal_of_num cNUMERAL c_0 b1 b1 creal_continuous_on / cdelta_y f0 f1 f2 b0 f3 f4 * part cGSPEC / c? / cSETSPEC b0 creal_lt creal_of_num cNUMERAL c_0 b1 b1 creal_open * part cGSPEC / c? / cSETSPEC b0 c/\\\\ creal_lt creal_of_num cNUMERAL c_0 b1 creal_lt creal_of_num cNUMERAL c_0 cdelta_y f0 f1 f2 b1 f3 f4 b1 creal_open * part cGSPEC / c? / cSETSPEC b0 c/\\\\ creal_lt creal_of_num cNUMERAL c_0 b1 creal_lt creal_of_num cNUMERAL c_0 cdelta_y f0 f1 f2 b1 f3 f4 b1\\n & creal_open * part cGSPEC / c? / cSETSPEC b0 c/\\\\ creal_lt creal_of_num cNUMERAL c_0 b1 creal_lt creal_of_num cNUMERAL c_0 cdelta_y f0 f1 f2 b1 f3 f4 b1', 0), ('c= c? / f0 f0\\n & creal_open * part cGSPEC / c? / cSETSPEC b0 c/\\\\ creal_lt creal_of_num cNUMERAL c_0 b1 creal_lt creal_of_num cNUMERAL c_0 cdelta_y f0 f1 f2 b1 f3 f4 b1', 0), ('cderived_form cT / creal_add creal_mul f0 f0 creal_mul f1 f1 creal_of_num cNUMERAL c_0 f2 f3\\n & creal_open * part cGSPEC / c? / cSETSPEC b0 c/\\\\ creal_lt creal_of_num cNUMERAL c_0 b1 creal_lt creal_of_num cNUMERAL c_0 cdelta_y f0 f1 f2 b1 f3 f4 b1', 1), ('c==> ! ! ! c==> creal_continuous b0 catreal b2 creal_continuous b0 cwithin catreal b2 b1 c==> creal_continuous f0 catreal f1 c/\\\\ creal_continuous f0 catreal f1 creal_continuous f0 cwithin catreal f1 f2\\n & creal_open * part cGSPEC / c? / cSETSPEC b0 c/\\\\ creal_lt creal_of_num cNUMERAL c_0 b1 creal_lt creal_of_num cNUMERAL c_0 cdelta_y f0 f1 f2 b1 f3 f4 b1', 0), ('c= c==> creal_lt creal_of_num cNUMERAL c_0 creal_of_num cNUMERAL cBIT1 c_0 c==> creal_lt creal_of_num cNUMERAL c_0 creal_of_num cNUMERAL cBIT1 c_0 c= creal_le creal_div creal_of_num cNUMERAL c_0 creal_of_num cNUMERAL cBIT1 c_0 creal_div creal_neg creal_of_num cNUMERAL cBIT1 c_0 creal_of_num cNUMERAL cBIT1 c_0 creal_le creal_mul creal_of_num cNUMERAL c_0 creal_of_num cNUMERAL cBIT1 c_0 creal_mul creal_neg creal_of_num cNUMERAL cBIT1 c_0 creal_of_num cNUMERAL cBIT1 c_0 c==> creal_lt creal_of_num cNUMERAL c_0 creal_of_num cNUMERAL cBIT1 c_0 c= creal_le creal_div creal_of_num cNUMERAL c_0 creal_of_num cNUMERAL cBIT1 c_0 creal_div creal_neg creal_of_num cNUMERAL cBIT1 c_0 creal_of_num cNUMERAL cBIT1 c_0 creal_le creal_mul creal_of_num cNUMERAL c_0 creal_of_num cNUMERAL cBIT1 c_0 creal_mul creal_neg creal_of_num cNUMERAL cBIT1 c_0 creal_of_num cNUMERAL cBIT1 c_0\\n & creal_open * part cGSPEC / c? / cSETSPEC b0 c/\\\\ creal_lt creal_of_num cNUMERAL c_0 b1 creal_lt creal_of_num cNUMERAL c_0 cdelta_y f0 f1 f2 b1 f3 f4 b1', 0), ('c==> c? / cderived_form cT / cdelta_y f0 f1 f2 b1 f3 f4 b0 f5 part cUNIV c? / chas_real_derivative / cdelta_y f0 f1 f2 b1 f3 f4 b0 catreal f5\\n & creal_open * part cGSPEC / c? / cSETSPEC b0 c/\\\\ creal_lt creal_of_num cNUMERAL c_0 b1 creal_lt creal_of_num cNUMERAL c_0 cdelta_y f0 f1 f2 b1 f3 f4 b1', 1), ('c==> c\\\\/ c/\\\\ creal_ge creal_add f0 creal_mul creal_neg creal_of_num cNUMERAL cBIT1 c_0 f1 creal_of_num cNUMERAL c_0 creal_gt creal_add creal_mul creal_neg creal_of_num cNUMERAL cBIT1 c_0 f0 f1 creal_of_num cNUMERAL c_0 c/\\\\ creal_ge creal_add f0 creal_mul creal_neg creal_of_num cNUMERAL cBIT1 c_0 f1 creal_of_num cNUMERAL c_0 creal_gt creal_add creal_mul creal_neg creal_of_num cNUMERAL cBIT1 c_0 f0 f1 creal_of_num cNUMERAL c_0 cF\\n & creal_open * part cGSPEC / c? / cSETSPEC b0 c/\\\\ creal_lt creal_of_num cNUMERAL c_0 b1 creal_lt creal_of_num cNUMERAL c_0 cdelta_y f0 f1 f2 b1 f3 f4 b1', 1), ('c==> c/\\\\ cderived_form f0 f1 f2 f3 part cUNIV cderived_form f4 f5 f6 f3 part cUNIV cderived_form c/\\\\ f0 f4 / creal_add * f1 b0 * f5 b0 creal_add f2 f6 f3 part cUNIV\\n & creal_open * part cGSPEC / c? / cSETSPEC b0 c/\\\\ creal_lt creal_of_num cNUMERAL c_0 b1 creal_lt creal_of_num cNUMERAL c_0 cdelta_y f0 f1 f2 b1 f3 f4 b1', 1), ('cderived_form cT / creal_neg creal_mul f0 f0 creal_of_num cNUMERAL c_0 f1 f2\\n & creal_open * part cGSPEC / c? / cSETSPEC b0 c/\\\\ creal_lt creal_of_num cNUMERAL c_0 b1 creal_lt creal_of_num cNUMERAL c_0 cdelta_y f0 f1 f2 b1 f3 f4 b1', 1), ('* / ! c= cIN b1 * part cGSPEC / c? / cSETSPEC b2 * b0 b3 b3 * b0 b1 f0\\n & creal_open * part cGSPEC / c? / cSETSPEC b0 c/\\\\ creal_lt creal_of_num cNUMERAL c_0 b1 creal_lt creal_of_num cNUMERAL c_0 cdelta_y f0 f1 f2 b1 f3 f4 b1', 1), ('c/\\\\ cderived_form c/\\\\ cT cT / creal_mul * / b1 b0 * / b1 b0 creal_add creal_mul * / b0 f0 creal_of_num cNUMERAL cBIT1 c_0 creal_mul creal_of_num cNUMERAL cBIT1 c_0 * / b0 f0 f0 part cUNIV cderived_form c/\\\\ cT c/\\\\ cT c/\\\\ c/\\\\ cT c/\\\\ cT cT cT / creal_add * / creal_neg creal_mul f1 f1 b0 * / creal_add * / creal_mul f2 f2 b1 * / creal_add * / creal_sub * / creal_mul f3 f3 b1 * / creal_mul * / b1 b1 * / b1 b1 b1 b1 * / creal_add creal_mul f4 f4 creal_mul f5 f5 b1 b1 b0 creal_add creal_of_num cNUMERAL c_0 creal_add creal_of_num cNUMERAL c_0 creal_add creal_sub creal_of_num cNUMERAL c_0 creal_add creal_mul * / b0 f0 creal_of_num cNUMERAL cBIT1 c_0 creal_mul creal_of_num cNUMERAL cBIT1 c_0 * / b0 f0 creal_of_num cNUMERAL c_0 f0 part cUNIV\\n & creal_open * part cGSPEC / c? / cSETSPEC b0 c/\\\\ creal_lt creal_of_num cNUMERAL c_0 b1 creal_lt creal_of_num cNUMERAL c_0 cdelta_y f0 f1 f2 b1 f3 f4 b1', 1), ('c= creal_lt creal_of_num cNUMERAL c_0 creal_of_num cNUMERAL cBIT1 c_0 * / creal_lt creal_of_num cNUMERAL c_0 b0 creal_of_num cNUMERAL cBIT1 c_0\\n & creal_open * part cGSPEC / c? / cSETSPEC b0 c/\\\\ creal_lt creal_of_num cNUMERAL c_0 b1 creal_lt creal_of_num cNUMERAL c_0 cdelta_y f0 f1 f2 b1 f3 f4 b1', 0), ('c= c==> creal_lt creal_of_num cNUMERAL c_0 creal_of_num cNUMERAL cBIT1 c_0 c==> creal_lt creal_of_num cNUMERAL c_0 creal_of_num cNUMERAL cBIT1 c_0 c==> c= creal_mul creal_add creal_mul creal_neg creal_of_num cNUMERAL cBIT1 c_0 creal_of_num cNUMERAL cBIT1 c_0 creal_mul creal_of_num cNUMERAL cBIT1 c_0 creal_of_num cNUMERAL cBIT1 c_0 creal_of_num cNUMERAL cBIT1 c_0 creal_mul creal_of_num cNUMERAL c_0 creal_mul creal_of_num cNUMERAL cBIT1 c_0 creal_of_num cNUMERAL cBIT1 c_0 c= creal_add creal_div creal_neg creal_of_num cNUMERAL cBIT1 c_0 creal_of_num cNUMERAL cBIT1 c_0 creal_div creal_of_num cNUMERAL cBIT1 c_0 creal_of_num cNUMERAL cBIT1 c_0 creal_div creal_of_num cNUMERAL c_0 creal_of_num cNUMERAL cBIT1 c_0 c==> creal_lt creal_of_num cNUMERAL c_0 creal_of_num cNUMERAL cBIT1 c_0 c==> c= creal_mul creal_add creal_mul creal_neg creal_of_num cNUMERAL cBIT1 c_0 creal_of_num cNUMERAL cBIT1 c_0 creal_mul creal_of_num cNUMERAL cBIT1 c_0 creal_of_num cNUMERAL cBIT1 c_0 creal_of_num cNUMERAL cBIT1 c_0 creal_mul creal_of_num cNUMERAL c_0 creal_mul creal_of_num cNUMERAL cBIT1 c_0 creal_of_num cNUMERAL cBIT1 c_0 c= creal_add creal_div creal_neg creal_of_num cNUMERAL cBIT1 c_0 creal_of_num cNUMERAL cBIT1 c_0 creal_div creal_of_num cNUMERAL cBIT1 c_0 creal_of_num cNUMERAL cBIT1 c_0 creal_div creal_of_num cNUMERAL c_0 creal_of_num cNUMERAL cBIT1 c_0\\n & creal_open * part cGSPEC / c? / cSETSPEC b0 c/\\\\ creal_lt creal_of_num cNUMERAL c_0 b1 creal_lt creal_of_num cNUMERAL c_0 cdelta_y f0 f1 f2 b1 f3 f4 b1', 0), ('c= c==> c/\\\\ cderived_form c/\\\\ cT c/\\\\ cT cT / creal_sub * / creal_mul f0 f0 b0 * / creal_mul * / b1 b1 * / b1 b1 b0 creal_sub creal_of_num cNUMERAL c_0 creal_add creal_mul * / b0 f1 creal_of_num cNUMERAL cBIT1 c_0 creal_mul creal_of_num cNUMERAL cBIT1 c_0 * / b0 f1 f1 part cUNIV cderived_form cT / creal_add creal_mul f2 f2 creal_mul f3 f3 creal_of_num cNUMERAL c_0 f1 part cUNIV cderived_form c/\\\\ c/\\\\ cT c/\\\\ cT cT cT / creal_add * / creal_sub * / creal_mul f0 f0 b1 * / creal_mul * / b1 b1 * / b1 b1 b1 b0 * / creal_add creal_mul f2 f2 creal_mul f3 f3 b0 creal_add creal_sub creal_of_num cNUMERAL c_0 creal_add creal_mul * / b0 f1 creal_of_num cNUMERAL cBIT1 c_0 creal_mul creal_of_num cNUMERAL cBIT1 c_0 * / b0 f1 creal_of_num cNUMERAL c_0 f1 part cUNIV cderived_form c/\\\\ c/\\\\ cT c/\\\\ cT cT cT / creal_add * / creal_sub * / creal_mul f0 f0 b1 * / creal_mul * / b1 b1 * / b1 b1 b1 b0 * / creal_add creal_mul f2 f2 creal_mul f3 f3 b0 creal_add creal_sub creal_of_num cNUMERAL c_0 creal_add creal_mul * / b0 f1 creal_of_num cNUMERAL cBIT1 c_0 creal_mul creal_of_num cNUMERAL cBIT1 c_0 * / b0 f1 creal_of_num cNUMERAL c_0 f1 part cUNIV\\n & creal_open * part cGSPEC / c? / cSETSPEC b0 c/\\\\ creal_lt creal_of_num cNUMERAL c_0 b1 creal_lt creal_of_num cNUMERAL c_0 cdelta_y f0 f1 f2 b1 f3 f4 b1', 1), ('c==> ! ! ! c==> chas_real_derivative b0 b1 catreal b2 creal_continuous b0 catreal b2 c/\\\\ ! ! ! c==> chas_real_derivative b0 b1 catreal b2 creal_continuous b0 catreal b2 ! ! c==> c? / chas_real_derivative b0 b2 catreal b1 creal_continuous b0 catreal b1\\n & creal_open * part cGSPEC / c? / cSETSPEC b0 c/\\\\ creal_lt creal_of_num cNUMERAL c_0 b1 creal_lt creal_of_num cNUMERAL c_0 cdelta_y f0 f1 f2 b1 f3 f4 b1', 1), ('c= c==> c/\\\\ cderived_form cT / creal_mul f0 f0 creal_of_num cNUMERAL c_0 f1 part cUNIV cderived_form c/\\\\ cT cT / creal_mul * / b1 b0 * / b1 b0 creal_add creal_mul * / b0 f1 creal_of_num cNUMERAL cBIT1 c_0 creal_mul creal_of_num cNUMERAL cBIT1 c_0 * / b0 f1 f1 part cUNIV cderived_form c/\\\\ cT c/\\\\ cT cT / creal_mul * / creal_mul f0 f0 b0 * / creal_mul * / b1 b1 * / b1 b1 b0 creal_add creal_mul * / creal_mul f0 f0 f1 creal_add creal_mul * / b0 f1 creal_of_num cNUMERAL cBIT1 c_0 creal_mul creal_of_num cNUMERAL cBIT1 c_0 * / b0 f1 creal_mul creal_of_num cNUMERAL c_0 * / creal_mul * / b1 b0 * / b1 b0 f1 f1 part cUNIV cderived_form c/\\\\ cT c/\\\\ cT cT / creal_mul * / creal_mul f0 f0 b0 * / creal_mul * / b1 b1 * / b1 b1 b0 creal_add creal_mul * / creal_mul f0 f0 f1 creal_add creal_mul * / b0 f1 creal_of_num cNUMERAL cBIT1 c_0 creal_mul creal_of_num cNUMERAL cBIT1 c_0 * / b0 f1 creal_mul creal_of_num cNUMERAL c_0 * / creal_mul * / b1 b0 * / b1 b0 f1 f1 part cUNIV\\n & creal_open * part cGSPEC / c? / cSETSPEC b0 c/\\\\ creal_lt creal_of_num cNUMERAL c_0 b1 creal_lt creal_of_num cNUMERAL c_0 cdelta_y f0 f1 f2 b1 f3 f4 b1', 1), ('c= c==> ! cderived_form cT / b1 creal_of_num cNUMERAL cBIT1 c_0 f0 b0 * / cderived_form cT / b1 creal_of_num cNUMERAL cBIT1 c_0 f0 b0 part cUNIV * / cderived_form cT / b1 creal_of_num cNUMERAL cBIT1 c_0 f0 b0 part cUNIV\\n & creal_open * part cGSPEC / c? / cSETSPEC b0 c/\\\\ creal_lt creal_of_num cNUMERAL c_0 b1 creal_lt creal_of_num cNUMERAL c_0 cdelta_y f0 f1 f2 b1 f3 f4 b1', 1), ('c= creal_open * part cGSPEC / c? / cSETSPEC b0 creal_gt b1 f0 b1 cT\\n & creal_open * part cGSPEC / c? / cSETSPEC b0 c/\\\\ creal_lt creal_of_num cNUMERAL c_0 b1 creal_lt creal_of_num cNUMERAL c_0 cdelta_y f0 f1 f2 b1 f3 f4 b1', 1), ('* / cderived_form cT / creal_add creal_mul creal_mul f0 f0 creal_mul creal_mul b1 b1 creal_add creal_neg creal_mul f0 f0 creal_add creal_mul f1 f1 creal_add creal_sub creal_mul f2 f2 creal_mul b1 b1 creal_add creal_mul f3 f3 creal_mul f4 f4 creal_add creal_mul creal_mul f1 f1 creal_mul creal_mul f3 f3 creal_add creal_sub creal_mul f0 f0 creal_mul f1 f1 creal_add creal_mul f2 f2 creal_add creal_sub creal_mul b1 b1 creal_mul f3 f3 creal_mul f4 f4 creal_sub creal_sub creal_sub creal_sub creal_mul creal_mul f2 f2 creal_mul creal_mul f4 f4 creal_add creal_mul f0 f0 creal_add creal_sub creal_mul f1 f1 creal_mul f2 f2 creal_add creal_mul b1 b1 creal_sub creal_mul f3 f3 creal_mul f4 f4 creal_mul creal_mul f1 f1 creal_mul creal_mul f2 f2 creal_mul b1 b1 creal_mul creal_mul f0 f0 creal_mul creal_mul f2 f2 creal_mul f3 f3 creal_mul creal_mul f0 f0 creal_mul creal_mul f1 f1 creal_mul f4 f4 creal_mul creal_mul b1 b1 creal_mul creal_mul f3 f3 creal_mul f4 f4 b0 f5 part cUNIV creal_add creal_mul creal_mul f0 f0 creal_add creal_mul creal_mul f5 f5 creal_neg creal_add f5 f5 creal_mul creal_add f5 f5 creal_add creal_neg creal_mul f0 f0 creal_add creal_mul f1 f1 creal_add creal_sub creal_mul f2 f2 creal_mul f5 f5 creal_add creal_mul f3 f3 creal_mul f4 f4 creal_add creal_mul creal_mul f1 f1 creal_mul creal_mul f3 f3 creal_add f5 f5 creal_sub creal_sub creal_mul creal_mul f2 f2 creal_mul creal_mul f4 f4 creal_add f5 f5 creal_mul creal_mul f1 f1 creal_mul creal_mul f2 f2 creal_add f5 f5 creal_mul creal_add f5 f5 creal_mul creal_mul f3 f3 creal_mul f4 f4\\n & creal_open * part cGSPEC / c? / cSETSPEC b0 c/\\\\ creal_lt creal_of_num cNUMERAL c_0 b1 creal_lt creal_of_num cNUMERAL c_0 cdelta_y f0 f1 f2 b1 f3 f4 b1', 1), ('c= c==> c==> c~ c~ c/\\\\ c\\\\/ c~ creal_lt f0 f1 c~ creal_gt f1 f0 c\\\\/ creal_lt f0 f1 creal_gt f1 f0 cF c~ c/\\\\ c\\\\/ c~ creal_lt f0 f1 c~ creal_gt f1 f0 c\\\\/ creal_lt f0 f1 creal_gt f1 f0 c~ c/\\\\ c\\\\/ c~ creal_lt f0 f1 c~ creal_gt f1 f0 c\\\\/ creal_lt f0 f1 creal_gt f1 f0\\n & creal_open * part cGSPEC / c? / cSETSPEC b0 c/\\\\ creal_lt creal_of_num cNUMERAL c_0 b1 creal_lt creal_of_num cNUMERAL c_0 cdelta_y f0 f1 f2 b1 f3 f4 b1', 1), ('c==> creal_open * part cGSPEC / c? / cSETSPEC b0 creal_lt creal_of_num cNUMERAL c_0 b1 b1 c= creal_continuous_on / cdelta_y f0 f1 f2 b0 f3 f4 * part cGSPEC / c? / cSETSPEC b0 creal_lt creal_of_num cNUMERAL c_0 b1 b1 c/\\\\ creal_open * part cGSPEC / c? / cSETSPEC b0 creal_lt creal_of_num cNUMERAL c_0 b1 b1 c/\\\\ creal_open * part cGSPEC / c? / cSETSPEC b0 creal_lt creal_of_num cNUMERAL c_0 b1 b1 creal_continuous_on / cdelta_y f0 f1 f2 b0 f3 f4 * part cGSPEC / c? / cSETSPEC b0 creal_lt creal_of_num cNUMERAL c_0 b1 b1\\n & creal_open * part cGSPEC / c? / cSETSPEC b0 c/\\\\ creal_lt creal_of_num cNUMERAL c_0 b1 creal_lt creal_of_num cNUMERAL c_0 cdelta_y f0 f1 f2 b1 f3 f4 b1', 1), ('c= cIN * / cdelta_y f0 f1 f2 b0 f3 f4 f5 * part cGSPEC / c? / cSETSPEC b0 creal_lt creal_of_num cNUMERAL c_0 b1 b1 creal_lt creal_of_num cNUMERAL c_0 * / cdelta_y f0 f1 f2 b0 f3 f4 f5\\n & creal_open * part cGSPEC / c? / cSETSPEC b0 c/\\\\ creal_lt creal_of_num cNUMERAL c_0 b1 creal_lt creal_of_num cNUMERAL c_0 cdelta_y f0 f1 f2 b1 f3 f4 b1', 1), ('cderived_form c/\\\\ c/\\\\ c/\\\\ cT cT cT cT / creal_add * / creal_sub * / creal_mul * / b1 b1 * / b1 b1 b1 * / creal_mul f0 f0 b1 b0 * / creal_mul f1 f1 b0 creal_add creal_sub creal_add creal_mul * / b0 f2 creal_of_num cNUMERAL cBIT1 c_0 creal_mul creal_of_num cNUMERAL cBIT1 c_0 * / b0 f2 creal_of_num cNUMERAL c_0 creal_of_num cNUMERAL c_0 f2 part cUNIV\\n & creal_open * part cGSPEC / c? / cSETSPEC b0 c/\\\\ creal_lt creal_of_num cNUMERAL c_0 b1 creal_lt creal_of_num cNUMERAL c_0 cdelta_y f0 f1 f2 b1 f3 f4 b1', 1), ('cderived_form cT / creal_mul creal_mul f0 f0 creal_mul f1 f1 creal_of_num cNUMERAL c_0 f2 f3\\n & creal_open * part cGSPEC / c? / cSETSPEC b0 c/\\\\ creal_lt creal_of_num cNUMERAL c_0 b1 creal_lt creal_of_num cNUMERAL c_0 cdelta_y f0 f1 f2 b1 f3 f4 b1', 1), ('creal_continuous_on / cdelta_y f0 f1 f2 b0 f3 f4 * part cGSPEC / c? / cSETSPEC b0 creal_lt creal_of_num cNUMERAL c_0 b1 b1\\n & creal_open * part cGSPEC / c? / cSETSPEC b0 c/\\\\ creal_lt creal_of_num cNUMERAL c_0 b1 creal_lt creal_of_num cNUMERAL c_0 cdelta_y f0 f1 f2 b1 f3 f4 b1', 1), ('c= c==> cT f0 f0\\n & creal_open * part cGSPEC / c? / cSETSPEC b0 c/\\\\ creal_lt creal_of_num cNUMERAL c_0 b1 creal_lt creal_of_num cNUMERAL c_0 cdelta_y f0 f1 f2 b1 f3 f4 b1', 1), ('c= c\\\\/ f0 c\\\\/ f1 f2 c\\\\/ c\\\\/ f0 f1 f2\\n & creal_open * part cGSPEC / c? / cSETSPEC b0 c/\\\\ creal_lt creal_of_num cNUMERAL c_0 b1 creal_lt creal_of_num cNUMERAL c_0 cdelta_y f0 f1 f2 b1 f3 f4 b1', 0), ('c/\\\\ cderived_form cT / creal_mul f0 f0 creal_of_num cNUMERAL c_0 f1 part cUNIV cderived_form c/\\\\ cT c/\\\\ cT c/\\\\ cT c/\\\\ c/\\\\ c/\\\\ cT cT cT cT / creal_mul * / creal_mul f2 f2 b0 * / creal_add * / creal_sub creal_mul f3 f3 creal_mul f0 f0 b1 * / creal_add * / creal_mul f4 f4 b1 * / creal_add * / creal_sub * / creal_mul * / b1 b1 * / b1 b1 b1 * / creal_mul f2 f2 b1 b1 * / creal_mul f5 f5 b1 b1 b1 b0 creal_add creal_mul * / creal_mul f2 f2 f1 creal_add creal_of_num cNUMERAL c_0 creal_add creal_of_num cNUMERAL c_0 creal_add creal_sub creal_add creal_mul * / b0 f1 creal_of_num cNUMERAL cBIT1 c_0 creal_mul creal_of_num cNUMERAL cBIT1 c_0 * / b0 f1 creal_of_num cNUMERAL c_0 creal_of_num cNUMERAL c_0 creal_mul creal_of_num cNUMERAL c_0 * / creal_add * / creal_sub creal_mul f3 f3 creal_mul f0 f0 b0 * / creal_add * / creal_mul f4 f4 b1 * / creal_add * / creal_sub * / creal_mul * / b1 b1 * / b1 b1 b1 * / creal_mul f2 f2 b1 b1 * / creal_mul f5 f5 b1 b1 b0 f1 f1 part cUNIV\\n & creal_open * part cGSPEC / c? / cSETSPEC b0 c/\\\\ creal_lt creal_of_num cNUMERAL c_0 b1 creal_lt creal_of_num cNUMERAL c_0 cdelta_y f0 f1 f2 b1 f3 f4 b1', 1), ('cderived_form c/\\\\ cT c/\\\\ cT c/\\\\ c/\\\\ cT cT cT / creal_add * / creal_mul f0 f0 b0 * / creal_add * / creal_sub creal_mul f1 f1 creal_mul f2 f2 b1 * / creal_add * / creal_mul * / b1 b1 * / b1 b1 b1 * / creal_sub creal_mul f3 f3 creal_mul f4 f4 b1 b1 b0 creal_add creal_of_num cNUMERAL c_0 creal_add creal_of_num cNUMERAL c_0 creal_add creal_add creal_mul * / b0 f5 creal_of_num cNUMERAL cBIT1 c_0 creal_mul creal_of_num cNUMERAL cBIT1 c_0 * / b0 f5 creal_of_num cNUMERAL c_0 f5 part cUNIV\\n & creal_open * part cGSPEC / c? / cSETSPEC b0 c/\\\\ creal_lt creal_of_num cNUMERAL c_0 b1 creal_lt creal_of_num cNUMERAL c_0 cdelta_y f0 f1 f2 b1 f3 f4 b1', 1), ('c==> ! ! ! c==> creal_continuous b0 catreal b2 creal_continuous b0 cwithin catreal b2 b1 c= c==> ! c==> creal_continuous f0 catreal b0 creal_continuous f0 cwithin catreal b0 f1 * / c==> creal_continuous f0 catreal b0 creal_continuous f0 cwithin catreal b0 f1 f2 * / c==> creal_continuous f0 catreal b0 creal_continuous f0 cwithin catreal b0 f1 f2\\n & creal_open * part cGSPEC / c? / cSETSPEC b0 c/\\\\ creal_lt creal_of_num cNUMERAL c_0 b1 creal_lt creal_of_num cNUMERAL c_0 cdelta_y f0 f1 f2 b1 f3 f4 b1', 1), ('c==> c/\\\\ creal_ge creal_add f0 creal_mul creal_neg creal_of_num cNUMERAL cBIT1 c_0 f1 creal_of_num cNUMERAL c_0 creal_gt creal_add creal_mul creal_neg creal_of_num cNUMERAL cBIT1 c_0 f0 f1 creal_of_num cNUMERAL c_0 c/\\\\ creal_gt creal_of_num cNUMERAL cBIT1 c_0 creal_of_num cNUMERAL c_0 creal_gt creal_add creal_mul creal_neg creal_of_num cNUMERAL cBIT1 c_0 f0 f1 creal_of_num cNUMERAL c_0\\n & creal_open * part cGSPEC / c? / cSETSPEC b0 c/\\\\ creal_lt creal_of_num cNUMERAL c_0 b1 creal_lt creal_of_num cNUMERAL c_0 cdelta_y f0 f1 f2 b1 f3 f4 b1', 0), ('* / creal_lt creal_of_num cNUMERAL c_0 b0 creal_of_num cNUMERAL cBIT1 c_0\\n & creal_open * part cGSPEC / c? / cSETSPEC b0 c/\\\\ creal_lt creal_of_num cNUMERAL c_0 b1 creal_lt creal_of_num cNUMERAL c_0 cdelta_y f0 f1 f2 b1 f3 f4 b1', 0), ('c==> c==> c/\\\\ creal_open * part cGSPEC / c? / cSETSPEC b0 creal_lt creal_of_num cNUMERAL c_0 b1 b1 c/\\\\ creal_open * part cGSPEC / c? / cSETSPEC b0 creal_lt creal_of_num cNUMERAL c_0 b1 b1 creal_continuous_on / cdelta_y f0 f1 f2 b0 f3 f4 * part cGSPEC / c? / cSETSPEC b0 creal_lt creal_of_num cNUMERAL c_0 b1 b1 creal_open * part cGSPEC / c? / cSETSPEC b0 c/\\\\ creal_lt creal_of_num cNUMERAL c_0 b1 creal_lt creal_of_num cNUMERAL c_0 cdelta_y f0 f1 f2 b1 f3 f4 b1 c/\\\\ c==> c/\\\\ creal_open * part cGSPEC / c? / cSETSPEC b0 creal_lt creal_of_num cNUMERAL c_0 b1 b1 c/\\\\ creal_open * part cGSPEC / c? / cSETSPEC b0 creal_lt creal_of_num cNUMERAL c_0 b1 b1 creal_continuous_on / cdelta_y f0 f1 f2 b0 f3 f4 * part cGSPEC / c? / cSETSPEC b0 creal_lt creal_of_num cNUMERAL c_0 b1 b1 creal_open * part cGSPEC / c? / cSETSPEC b0 c/\\\\ creal_lt creal_of_num cNUMERAL c_0 b1 creal_lt creal_of_num cNUMERAL c_0 cdelta_y f0 f1 f2 b1 f3 f4 b1 c==> c/\\\\ creal_open * part cGSPEC / c? / cSETSPEC b0 creal_lt creal_of_num cNUMERAL c_0 b1 b1 c/\\\\ creal_open * part cGSPEC / c? / cSETSPEC b0 creal_lt creal_of_num cNUMERAL c_0 b1 b1 creal_continuous_on / cdelta_y f0 f1 f2 b0 f3 f4 * part cGSPEC / c? / cSETSPEC b0 creal_lt creal_of_num cNUMERAL c_0 b1 b1 creal_open * part cGSPEC / c? / cSETSPEC b0 c/\\\\ creal_lt creal_of_num cNUMERAL c_0 b1 creal_lt creal_of_num cNUMERAL c_0 cdelta_y f0 f1 f2 b1 f3 f4 b1\\n & creal_open * part cGSPEC / c? / cSETSPEC b0 c/\\\\ creal_lt creal_of_num cNUMERAL c_0 b1 creal_lt creal_of_num cNUMERAL c_0 cdelta_y f0 f1 f2 b1 f3 f4 b1', 0), ('c==> c/\\\\ creal_ge creal_add f0 creal_mul creal_neg creal_of_num cNUMERAL cBIT1 c_0 f1 creal_of_num cNUMERAL c_0 creal_gt creal_add creal_mul creal_neg creal_of_num cNUMERAL cBIT1 c_0 f0 f1 creal_of_num cNUMERAL c_0 c= c==> c/\\\\ creal_gt creal_of_num cNUMERAL cBIT1 c_0 creal_of_num cNUMERAL c_0 creal_gt creal_add creal_mul creal_neg creal_of_num cNUMERAL cBIT1 c_0 f0 f1 creal_of_num cNUMERAL c_0 creal_gt creal_mul creal_of_num cNUMERAL cBIT1 c_0 creal_add creal_mul creal_neg creal_of_num cNUMERAL cBIT1 c_0 f0 f1 creal_of_num cNUMERAL c_0 creal_gt creal_mul creal_of_num cNUMERAL cBIT1 c_0 creal_add creal_mul creal_neg creal_of_num cNUMERAL cBIT1 c_0 f0 f1 creal_of_num cNUMERAL c_0\\n & creal_open * part cGSPEC / c? / cSETSPEC b0 c/\\\\ creal_lt creal_of_num cNUMERAL c_0 b1 creal_lt creal_of_num cNUMERAL c_0 cdelta_y f0 f1 f2 b1 f3 f4 b1', 0), ('c= creal_div f0 creal_of_num cNUMERAL cBIT1 c_0 f0\\n & creal_open * part cGSPEC / c? / cSETSPEC b0 c/\\\\ creal_lt creal_of_num cNUMERAL c_0 b1 creal_lt creal_of_num cNUMERAL c_0 cdelta_y f0 f1 f2 b1 f3 f4 b1', 0), ('c= creal_gt creal_add creal_mul creal_neg creal_of_num cNUMERAL cBIT1 c_0 f0 f1 creal_of_num cNUMERAL c_0 c/\\\\ creal_gt creal_of_num cNUMERAL cBIT1 c_0 creal_of_num cNUMERAL c_0 creal_gt creal_add creal_mul creal_neg creal_of_num cNUMERAL cBIT1 c_0 f0 f1 creal_of_num cNUMERAL c_0\\n & creal_open * part cGSPEC / c? / cSETSPEC b0 c/\\\\ creal_lt creal_of_num cNUMERAL c_0 b1 creal_lt creal_of_num cNUMERAL c_0 cdelta_y f0 f1 f2 b1 f3 f4 b1', 0), ('* / ! c= c\\\\/ f0 c\\\\/ b0 b1 c\\\\/ c\\\\/ f0 b0 b1 f1\\n & creal_open * part cGSPEC / c? / cSETSPEC b0 c/\\\\ creal_lt creal_of_num cNUMERAL c_0 b1 creal_lt creal_of_num cNUMERAL c_0 cdelta_y f0 f1 f2 b1 f3 f4 b1', 0), ('c==> creal_lt creal_of_num cNUMERAL c_0 creal_of_num cNUMERAL cBIT1 c_0 c= creal_lt creal_div creal_of_num cNUMERAL c_0 creal_of_num cNUMERAL cBIT1 c_0 creal_div creal_of_num cNUMERAL c_0 creal_of_num cNUMERAL cBIT1 c_0 creal_lt creal_mul creal_of_num cNUMERAL c_0 creal_of_num cNUMERAL cBIT1 c_0 creal_mul creal_of_num cNUMERAL c_0 creal_of_num cNUMERAL cBIT1 c_0\\n & creal_open * part cGSPEC / c? / cSETSPEC b0 c/\\\\ creal_lt creal_of_num cNUMERAL c_0 b1 creal_lt creal_of_num cNUMERAL c_0 cdelta_y f0 f1 f2 b1 f3 f4 b1', 0), ('c= c==> creal_lt creal_of_num cNUMERAL c_0 creal_of_num cNUMERAL cBIT1 c_0 c==> creal_lt creal_of_num cNUMERAL c_0 creal_of_num cNUMERAL cBIT1 c_0 c==> creal_lt creal_of_num cNUMERAL c_0 creal_of_num cNUMERAL cBIT1 c_0 c==> c= creal_mul creal_add creal_mul creal_neg creal_of_num cNUMERAL cBIT1 c_0 creal_of_num cNUMERAL cBIT1 c_0 creal_mul creal_of_num cNUMERAL cBIT1 c_0 creal_of_num cNUMERAL cBIT1 c_0 creal_of_num cNUMERAL cBIT1 c_0 creal_mul creal_of_num cNUMERAL c_0 creal_mul creal_of_num cNUMERAL cBIT1 c_0 creal_of_num cNUMERAL cBIT1 c_0 c= creal_add creal_div creal_neg creal_of_num cNUMERAL cBIT1 c_0 creal_of_num cNUMERAL cBIT1 c_0 creal_div creal_of_num cNUMERAL cBIT1 c_0 creal_of_num cNUMERAL cBIT1 c_0 creal_div creal_of_num cNUMERAL c_0 creal_of_num cNUMERAL cBIT1 c_0 c==> creal_lt creal_of_num cNUMERAL c_0 creal_of_num cNUMERAL cBIT1 c_0 c==> creal_lt creal_of_num cNUMERAL c_0 creal_of_num cNUMERAL cBIT1 c_0 c==> c= creal_mul creal_add creal_mul creal_neg creal_of_num cNUMERAL cBIT1 c_0 creal_of_num cNUMERAL cBIT1 c_0 creal_mul creal_of_num cNUMERAL cBIT1 c_0 creal_of_num cNUMERAL cBIT1 c_0 creal_of_num cNUMERAL cBIT1 c_0 creal_mul creal_of_num cNUMERAL c_0 creal_mul creal_of_num cNUMERAL cBIT1 c_0 creal_of_num cNUMERAL cBIT1 c_0 c= creal_add creal_div creal_neg creal_of_num cNUMERAL cBIT1 c_0 creal_of_num cNUMERAL cBIT1 c_0 creal_div creal_of_num cNUMERAL cBIT1 c_0 creal_of_num cNUMERAL cBIT1 c_0 creal_div creal_of_num cNUMERAL c_0 creal_of_num cNUMERAL cBIT1 c_0\\n & creal_open * part cGSPEC / c? / cSETSPEC b0 c/\\\\ creal_lt creal_of_num cNUMERAL c_0 b1 creal_lt creal_of_num cNUMERAL c_0 cdelta_y f0 f1 f2 b1 f3 f4 b1', 0), ('creal_gt creal_of_num cNUMERAL cBIT1 c_0 creal_of_num cNUMERAL c_0\\n & creal_open * part cGSPEC / c? / cSETSPEC b0 c/\\\\ creal_lt creal_of_num cNUMERAL c_0 b1 creal_lt creal_of_num cNUMERAL c_0 cdelta_y f0 f1 f2 b1 f3 f4 b1', 0), ('* / c= cGSPEC / c? / cSETSPEC b1 * f0 b2 b2 b0 * f0 b0 f1\\n & creal_open * part cGSPEC / c? / cSETSPEC b0 c/\\\\ creal_lt creal_of_num cNUMERAL c_0 b1 creal_lt creal_of_num cNUMERAL c_0 cdelta_y f0 f1 f2 b1 f3 f4 b1', 0), ('c==> c/\\\\ creal_open * part cGSPEC / c? / cSETSPEC b0 creal_lt creal_of_num cNUMERAL c_0 b1 b1 c/\\\\ creal_open * part cGSPEC / c? / cSETSPEC b0 creal_lt creal_of_num cNUMERAL c_0 b1 b1 creal_continuous_on / cdelta_y f0 f1 f2 b0 f3 f4 * part cGSPEC / c? / cSETSPEC b0 creal_lt creal_of_num cNUMERAL c_0 b1 b1 c==> c==> c/\\\\ creal_open * part cGSPEC / c? / cSETSPEC b0 creal_lt creal_of_num cNUMERAL c_0 b1 b1 c/\\\\ creal_open * part cGSPEC / c? / cSETSPEC b0 creal_lt creal_of_num cNUMERAL c_0 b1 b1 creal_continuous_on / cdelta_y f0 f1 f2 b0 f3 f4 * part cGSPEC / c? / cSETSPEC b0 creal_lt creal_of_num cNUMERAL c_0 b1 b1 creal_open * part cGSPEC / c? / cSETSPEC b0 c/\\\\ creal_lt creal_of_num cNUMERAL c_0 b1 creal_lt creal_of_num cNUMERAL c_0 cdelta_y f0 f1 f2 b1 f3 f4 b1 c/\\\\ c/\\\\ creal_open * part cGSPEC / c? / cSETSPEC b0 creal_lt creal_of_num cNUMERAL c_0 b1 b1 c/\\\\ creal_open * part cGSPEC / c? / cSETSPEC b0 creal_lt creal_of_num cNUMERAL c_0 b1 b1 creal_continuous_on / cdelta_y f0 f1 f2 b0 f3 f4 * part cGSPEC / c? / cSETSPEC b0 creal_lt creal_of_num cNUMERAL c_0 b1 b1 creal_open * part cGSPEC / c? / cSETSPEC b0 c/\\\\ creal_lt creal_of_num cNUMERAL c_0 b1 creal_lt creal_of_num cNUMERAL c_0 cdelta_y f0 f1 f2 b1 f3 f4 b1\\n & creal_open * part cGSPEC / c? / cSETSPEC b0 c/\\\\ creal_lt creal_of_num cNUMERAL c_0 b1 creal_lt creal_of_num cNUMERAL c_0 cdelta_y f0 f1 f2 b1 f3 f4 b1', 0), ('c= c==> ! ! c= c\\\\/ f0 c\\\\/ b0 b1 c\\\\/ c\\\\/ f0 b0 b1 * / ! c= c\\\\/ f0 c\\\\/ b0 b1 c\\\\/ c\\\\/ f0 b0 b1 f1 * / ! c= c\\\\/ f0 c\\\\/ b0 b1 c\\\\/ c\\\\/ f0 b0 b1 f1\\n & creal_open * part cGSPEC / c? / cSETSPEC b0 c/\\\\ creal_lt creal_of_num cNUMERAL c_0 b1 creal_lt creal_of_num cNUMERAL c_0 cdelta_y f0 f1 f2 b1 f3 f4 b1', 0), ('c/\\\\ ! ! c= cGSPEC / * b0 * part cSETSPEC b2 b1 * b0 / / c/\\\\ b2 c= b1 b3 c/\\\\ ! ! c= cGSPEC / c? / cSETSPEC b2 * b0 b3 b3 b1 * b0 b1 ! ! c= cIN b1 / * b0 b2 * b0 b1\\n & creal_open * part cGSPEC / c? / cSETSPEC b0 c/\\\\ creal_lt creal_of_num cNUMERAL c_0 b1 creal_lt creal_of_num cNUMERAL c_0 cdelta_y f0 f1 f2 b1 f3 f4 b1', 0), ('c= c==> creal_lt creal_of_num cNUMERAL c_0 creal_of_num cNUMERAL cBIT1 c_0 c= creal_lt creal_div creal_of_num cNUMERAL c_0 creal_of_num cNUMERAL cBIT1 c_0 creal_div creal_of_num cNUMERAL cBIT1 c_0 creal_of_num cNUMERAL cBIT1 c_0 creal_lt creal_mul creal_of_num cNUMERAL c_0 creal_of_num cNUMERAL cBIT1 c_0 creal_mul creal_of_num cNUMERAL cBIT1 c_0 creal_of_num cNUMERAL cBIT1 c_0 c= creal_lt creal_div creal_of_num cNUMERAL c_0 creal_of_num cNUMERAL cBIT1 c_0 creal_div creal_of_num cNUMERAL cBIT1 c_0 creal_of_num cNUMERAL cBIT1 c_0 creal_lt creal_mul creal_of_num cNUMERAL c_0 creal_of_num cNUMERAL cBIT1 c_0 creal_mul creal_of_num cNUMERAL cBIT1 c_0 creal_of_num cNUMERAL cBIT1 c_0\\n & creal_open * part cGSPEC / c? / cSETSPEC b0 c/\\\\ creal_lt creal_of_num cNUMERAL c_0 b1 creal_lt creal_of_num cNUMERAL c_0 cdelta_y f0 f1 f2 b1 f3 f4 b1', 0), ('c? / creal_lt creal_of_num cNUMERAL c_0 b0\\n & creal_open * part cGSPEC / c? / cSETSPEC b0 c/\\\\ creal_lt creal_of_num cNUMERAL c_0 b1 creal_lt creal_of_num cNUMERAL c_0 cdelta_y f0 f1 f2 b1 f3 f4 b1', 0), ('c==> ! ! ! c==> creal_continuous b0 catreal b2 creal_continuous b0 cwithin catreal b2 b1 c==> creal_continuous f0 catreal f1 c/\\\\ ! ! ! c==> creal_continuous b0 catreal b2 creal_continuous b0 cwithin catreal b2 b1 creal_continuous f0 cwithin catreal f1 f2\\n & creal_open * part cGSPEC / c? / cSETSPEC b0 c/\\\\ creal_lt creal_of_num cNUMERAL c_0 b1 creal_lt creal_of_num cNUMERAL c_0 cdelta_y f0 f1 f2 b1 f3 f4 b1', 0), ('c==> creal_lt creal_of_num cNUMERAL c_0 creal_of_num cNUMERAL cBIT1 c_0 c= creal_le creal_div creal_of_num cNUMERAL c_0 creal_of_num cNUMERAL cBIT1 c_0 creal_div creal_neg creal_of_num cNUMERAL cBIT1 c_0 creal_of_num cNUMERAL cBIT1 c_0 creal_le creal_mul creal_of_num cNUMERAL c_0 creal_of_num cNUMERAL cBIT1 c_0 creal_mul creal_neg creal_of_num cNUMERAL cBIT1 c_0 creal_of_num cNUMERAL cBIT1 c_0\\n & creal_open * part cGSPEC / c? / cSETSPEC b0 c/\\\\ creal_lt creal_of_num cNUMERAL c_0 b1 creal_lt creal_of_num cNUMERAL c_0 cdelta_y f0 f1 f2 b1 f3 f4 b1', 0), ('c= cIN f0 part cUNIV cT\\n & creal_open * part cGSPEC / c? / cSETSPEC b0 c/\\\\ creal_lt creal_of_num cNUMERAL c_0 b1 creal_lt creal_of_num cNUMERAL c_0 cdelta_y f0 f1 f2 b1 f3 f4 b1', 0), ('c= creal_open f0 ! c==> cIN b0 f0 c? / c/\\\\ creal_lt creal_of_num cNUMERAL c_0 b1 ! c==> creal_lt creal_abs creal_sub b2 b0 b1 cIN b2 f0\\n & creal_open * part cGSPEC / c? / cSETSPEC b0 c/\\\\ creal_lt creal_of_num cNUMERAL c_0 b1 creal_lt creal_of_num cNUMERAL c_0 cdelta_y f0 f1 f2 b1 f3 f4 b1', 0), ('c==> c/\\\\ creal_gt f0 creal_of_num cNUMERAL c_0 creal_gt f1 creal_of_num cNUMERAL c_0 creal_gt creal_mul f0 f1 creal_of_num cNUMERAL c_0\\n & creal_open * part cGSPEC / c? / cSETSPEC b0 c/\\\\ creal_lt creal_of_num cNUMERAL c_0 b1 creal_lt creal_of_num cNUMERAL c_0 cdelta_y f0 f1 f2 b1 f3 f4 b1', 0), ('c==> creal_lt creal_of_num cNUMERAL c_0 creal_of_num cNUMERAL cBIT1 c_0 c==> creal_lt creal_of_num cNUMERAL c_0 creal_of_num cNUMERAL cBIT1 c_0 c==> c= creal_mul creal_add creal_mul creal_neg creal_of_num cNUMERAL cBIT1 c_0 creal_of_num cNUMERAL cBIT1 c_0 creal_mul creal_of_num cNUMERAL cBIT1 c_0 creal_of_num cNUMERAL cBIT1 c_0 creal_of_num cNUMERAL cBIT1 c_0 creal_mul creal_of_num cNUMERAL c_0 creal_mul creal_of_num cNUMERAL cBIT1 c_0 creal_of_num cNUMERAL cBIT1 c_0 c= creal_add creal_div creal_neg creal_of_num cNUMERAL cBIT1 c_0 creal_of_num cNUMERAL cBIT1 c_0 creal_div creal_of_num cNUMERAL cBIT1 c_0 creal_of_num cNUMERAL cBIT1 c_0 creal_div creal_of_num cNUMERAL c_0 creal_of_num cNUMERAL cBIT1 c_0\\n & creal_open * part cGSPEC / c? / cSETSPEC b0 c/\\\\ creal_lt creal_of_num cNUMERAL c_0 b1 creal_lt creal_of_num cNUMERAL c_0 cdelta_y f0 f1 f2 b1 f3 f4 b1', 0), ('c= creal_ge creal_add f0 creal_mul creal_neg creal_of_num cNUMERAL cBIT1 c_0 f1 creal_of_num cNUMERAL c_0 c/\\\\ creal_gt creal_of_num cNUMERAL cBIT1 c_0 creal_of_num cNUMERAL c_0 creal_ge creal_add f0 creal_mul creal_neg creal_of_num cNUMERAL cBIT1 c_0 f1 creal_of_num cNUMERAL c_0\\n & creal_open * part cGSPEC / c? / cSETSPEC b0 c/\\\\ creal_lt creal_of_num cNUMERAL c_0 b1 creal_lt creal_of_num cNUMERAL c_0 cdelta_y f0 f1 f2 b1 f3 f4 b1', 0), ('c= c==> ! ! c= cIN b1 / * b0 b2 * b0 b1 * / ! c= cIN b1 / * b0 b2 * b0 b1 f0 * / ! c= cIN b1 / * b0 b2 * b0 b1 f0\\n & creal_open * part cGSPEC / c? / cSETSPEC b0 c/\\\\ creal_lt creal_of_num cNUMERAL c_0 b1 creal_lt creal_of_num cNUMERAL c_0 cdelta_y f0 f1 f2 b1 f3 f4 b1', 0), ('c= c\\\\/ c\\\\/ f0 f1 f2 c\\\\/ f0 c\\\\/ f1 f2\\n & creal_open * part cGSPEC / c? / cSETSPEC b0 c/\\\\ creal_lt creal_of_num cNUMERAL c_0 b1 creal_lt creal_of_num cNUMERAL c_0 cdelta_y f0 f1 f2 b1 f3 f4 b1', 0), ('c= c==> ! c= cIN b0 * part cGSPEC / * f0 * part cSETSPEC b1 * f0 / / c/\\\\ b1 c= b0 b2 * / c= cIN b0 * part cGSPEC / * f0 * part cSETSPEC b1 * f0 / / c/\\\\ b1 c= b0 b2 f1 * / c= cIN b0 * part cGSPEC / * f0 * part cSETSPEC b1 * f0 / / c/\\\\ b1 c= b0 b2 f1\\n & creal_open * part cGSPEC / c? / cSETSPEC b0 c/\\\\ creal_lt creal_of_num cNUMERAL c_0 b1 creal_lt creal_of_num cNUMERAL c_0 cdelta_y f0 f1 f2 b1 f3 f4 b1', 0), ('c= c==> ! ! c= cIN b1 * part cGSPEC / * b0 * part cSETSPEC b2 * b0 / / c/\\\\ b2 c= b1 b3 * / ! c= cIN b1 * part cGSPEC / * b0 * part cSETSPEC b2 * b0 / / c/\\\\ b2 c= b1 b3 f0 * / ! c= cIN b1 * part cGSPEC / * b0 * part cSETSPEC b2 * b0 / / c/\\\\ b2 c= b1 b3 f0\\n & creal_open * part cGSPEC / c? / cSETSPEC b0 c/\\\\ creal_lt creal_of_num cNUMERAL c_0 b1 creal_lt creal_of_num cNUMERAL c_0 cdelta_y f0 f1 f2 b1 f3 f4 b1', 0), ('c==> c~ creal_lt creal_of_num cNUMERAL c_0 creal_of_num cNUMERAL cBIT1 c_0 cF\\n & creal_open * part cGSPEC / c? / cSETSPEC b0 c/\\\\ creal_lt creal_of_num cNUMERAL c_0 b1 creal_lt creal_of_num cNUMERAL c_0 cdelta_y f0 f1 f2 b1 f3 f4 b1', 0), ('c==> creal_continuous f0 catreal f1 c==> ! ! ! c==> creal_continuous b0 catreal b2 creal_continuous b0 cwithin catreal b2 b1 creal_continuous f0 cwithin catreal f1 f2\\n & creal_open * part cGSPEC / c? / cSETSPEC b0 c/\\\\ creal_lt creal_of_num cNUMERAL c_0 b1 creal_lt creal_of_num cNUMERAL c_0 cdelta_y f0 f1 f2 b1 f3 f4 b1', 0), ('c= c==> creal_lt creal_of_num cNUMERAL c_0 creal_of_num cNUMERAL cBIT1 c_0 c= creal_le creal_div creal_of_num cNUMERAL c_0 creal_of_num cNUMERAL cBIT1 c_0 creal_div creal_neg creal_of_num cNUMERAL cBIT1 c_0 creal_of_num cNUMERAL cBIT1 c_0 creal_le creal_mul creal_of_num cNUMERAL c_0 creal_of_num cNUMERAL cBIT1 c_0 creal_mul creal_neg creal_of_num cNUMERAL cBIT1 c_0 creal_of_num cNUMERAL cBIT1 c_0 c= creal_le creal_div creal_of_num cNUMERAL c_0 creal_of_num cNUMERAL cBIT1 c_0 creal_div creal_neg creal_of_num cNUMERAL cBIT1 c_0 creal_of_num cNUMERAL cBIT1 c_0 creal_le creal_mul creal_of_num cNUMERAL c_0 creal_of_num cNUMERAL cBIT1 c_0 creal_mul creal_neg creal_of_num cNUMERAL cBIT1 c_0 creal_of_num cNUMERAL cBIT1 c_0\\n & creal_open * part cGSPEC / c? / cSETSPEC b0 c/\\\\ creal_lt creal_of_num cNUMERAL c_0 b1 creal_lt creal_of_num cNUMERAL c_0 cdelta_y f0 f1 f2 b1 f3 f4 b1', 0), ('c= c* cNUMERAL cBIT1 c_0 cNUMERAL cBIT1 c_0 cNUMERAL cBIT1 c_0\\n & creal_open * part cGSPEC / c? / cSETSPEC b0 c/\\\\ creal_lt creal_of_num cNUMERAL c_0 b1 creal_lt creal_of_num cNUMERAL c_0 cdelta_y f0 f1 f2 b1 f3 f4 b1', 0), ('c==> c/\\\\ creal_ge creal_add f0 creal_mul creal_neg creal_of_num cNUMERAL cBIT1 c_0 f1 creal_of_num cNUMERAL c_0 creal_gt creal_add creal_mul creal_neg creal_of_num cNUMERAL cBIT1 c_0 f0 f1 creal_of_num cNUMERAL c_0 creal_gt creal_mul creal_of_num cNUMERAL cBIT1 c_0 creal_add creal_mul creal_neg creal_of_num cNUMERAL cBIT1 c_0 f0 f1 creal_of_num cNUMERAL c_0\\n & creal_open * part cGSPEC / c? / cSETSPEC b0 c/\\\\ creal_lt creal_of_num cNUMERAL c_0 b1 creal_lt creal_of_num cNUMERAL c_0 cdelta_y f0 f1 f2 b1 f3 f4 b1', 0), ('c= cIN f0 * part cGSPEC / * f1 * part cSETSPEC b0 * f1 / / c/\\\\ b0 c= f0 b1\\n & creal_open * part cGSPEC / c? / cSETSPEC b0 c/\\\\ creal_lt creal_of_num cNUMERAL c_0 b1 creal_lt creal_of_num cNUMERAL c_0 cdelta_y f0 f1 f2 b1 f3 f4 b1', 0), ('c==> cderived_form cT / creal_add creal_mul creal_mul f0 f0 creal_mul creal_mul b0 b0 creal_add creal_neg creal_mul f0 f0 creal_add creal_mul f1 f1 creal_add creal_sub creal_mul f2 f2 creal_mul b0 b0 creal_add creal_mul f3 f3 creal_mul f4 f4 creal_add creal_mul creal_mul f1 f1 creal_mul creal_mul f3 f3 creal_add creal_sub creal_mul f0 f0 creal_mul f1 f1 creal_add creal_mul f2 f2 creal_add creal_sub creal_mul b0 b0 creal_mul f3 f3 creal_mul f4 f4 creal_sub creal_sub creal_sub creal_sub creal_mul creal_mul f2 f2 creal_mul creal_mul f4 f4 creal_add creal_mul f0 f0 creal_add creal_sub creal_mul f1 f1 creal_mul f2 f2 creal_add creal_mul b0 b0 creal_sub creal_mul f3 f3 creal_mul f4 f4 creal_mul creal_mul f1 f1 creal_mul creal_mul f2 f2 creal_mul b0 b0 creal_mul creal_mul f0 f0 creal_mul creal_mul f2 f2 creal_mul f3 f3 creal_mul creal_mul f0 f0 creal_mul creal_mul f1 f1 creal_mul f4 f4 creal_mul creal_mul b0 b0 creal_mul creal_mul f3 f3 creal_mul f4 f4 creal_add creal_mul creal_mul f0 f0 creal_add creal_mul creal_mul f5 f5 creal_neg creal_add f5 f5 creal_mul creal_add f5 f5 creal_add creal_neg creal_mul f0 f0 creal_add creal_mul f1 f1 creal_add creal_sub creal_mul f2 f2 creal_mul f5 f5 creal_add creal_mul f3 f3 creal_mul f4 f4 creal_add creal_mul creal_mul f1 f1 creal_mul creal_mul f3 f3 creal_add f5 f5 creal_sub creal_sub creal_mul creal_mul f2 f2 creal_mul creal_mul f4 f4 creal_add f5 f5 creal_mul creal_mul f1 f1 creal_mul creal_mul f2 f2 creal_add f5 f5 creal_mul creal_add f5 f5 creal_mul creal_mul f3 f3 creal_mul f4 f4 f5 part cUNIV cderived_form cT / creal_add creal_mul creal_mul f0 f0 creal_mul creal_mul b0 b0 creal_add creal_neg creal_mul f0 f0 creal_add creal_mul f1 f1 creal_add creal_sub creal_mul f2 f2 creal_mul b0 b0 creal_add creal_mul f3 f3 creal_mul f4 f4 creal_add creal_mul creal_mul f1 f1 creal_mul creal_mul f3 f3 creal_add creal_sub creal_mul f0 f0 creal_mul f1 f1 creal_add creal_mul f2 f2 creal_add creal_sub creal_mul b0 b0 creal_mul f3 f3 creal_mul f4 f4 creal_sub creal_sub creal_sub creal_sub creal_mul creal_mul f2 f2 creal_mul creal_mul f4 f4 creal_add creal_mul f0 f0 creal_add creal_sub creal_mul f1 f1 creal_mul f2 f2 creal_add creal_mul b0 b0 creal_sub creal_mul f3 f3 creal_mul f4 f4 creal_mul creal_mul f1 f1 creal_mul creal_mul f2 f2 creal_mul b0 b0 creal_mul creal_mul f0 f0 creal_mul creal_mul f2 f2 creal_mul f3 f3 creal_mul creal_mul f0 f0 creal_mul creal_mul f1 f1 creal_mul f4 f4 creal_mul creal_mul b0 b0 creal_mul creal_mul f3 f3 creal_mul f4 f4 creal_add creal_mul creal_mul f0 f0 creal_add creal_mul creal_mul f5 f5 creal_neg creal_add f5 f5 creal_mul creal_add f5 f5 creal_add creal_neg creal_mul f0 f0 creal_add creal_mul f1 f1 creal_add creal_sub creal_mul f2 f2 creal_mul f5 f5 creal_add creal_mul f3 f3 creal_mul f4 f4 creal_add creal_mul creal_mul f1 f1 creal_mul creal_mul f3 f3 creal_add f5 f5 creal_sub creal_sub creal_mul creal_mul f2 f2 creal_mul creal_mul f4 f4 creal_add f5 f5 creal_mul creal_mul f1 f1 creal_mul creal_mul f2 f2 creal_add f5 f5 creal_mul creal_add f5 f5 creal_mul creal_mul f3 f3 creal_mul f4 f4 f5 part cUNIV\\n & creal_open * part cGSPEC / c? / cSETSPEC b0 c/\\\\ creal_lt creal_of_num cNUMERAL c_0 b1 creal_lt creal_of_num cNUMERAL c_0 cdelta_y f0 f1 f2 b1 f3 f4 b1', 0), ('c= creal_le creal_of_num f0 creal_neg creal_of_num f1 c/\\\\ c= f0 cNUMERAL c_0 c= f1 cNUMERAL c_0\\n & creal_open * part cGSPEC / c? / cSETSPEC b0 c/\\\\ creal_lt creal_of_num cNUMERAL c_0 b1 creal_lt creal_of_num cNUMERAL c_0 cdelta_y f0 f1 f2 b1 f3 f4 b1', 0), ('c= c==> ! c= c\\\\/ f0 c\\\\/ f1 b0 c\\\\/ c\\\\/ f0 f1 b0 * / c= c\\\\/ f0 c\\\\/ f1 b0 c\\\\/ c\\\\/ f0 f1 b0 f2 * / c= c\\\\/ f0 c\\\\/ f1 b0 c\\\\/ c\\\\/ f0 f1 b0 f2\\n & creal_open * part cGSPEC / c? / cSETSPEC b0 c/\\\\ creal_lt creal_of_num cNUMERAL c_0 b1 creal_lt creal_of_num cNUMERAL c_0 cdelta_y f0 f1 f2 b1 f3 f4 b1', 0), ('c= c==> ! cIN b0 part cUNIV * / cIN b0 part cUNIV f0 * / cIN b0 part cUNIV f0\\n & creal_open * part cGSPEC / c? / cSETSPEC b0 c/\\\\ creal_lt creal_of_num cNUMERAL c_0 b1 creal_lt creal_of_num cNUMERAL c_0 cdelta_y f0 f1 f2 b1 f3 f4 b1', 0), ('c= c/\\\\ f0 f0 f0\\n & creal_open * part cGSPEC / c? / cSETSPEC b0 c/\\\\ creal_lt creal_of_num cNUMERAL c_0 b1 creal_lt creal_of_num cNUMERAL c_0 cdelta_y f0 f1 f2 b1 f3 f4 b1', 0), ('c==> c~ creal_lt creal_of_num cNUMERAL c_0 creal_of_num cNUMERAL cBIT1 c_0 c/\\\\ c~ creal_lt creal_of_num cNUMERAL c_0 creal_of_num cNUMERAL cBIT1 c_0 cF\\n & creal_open * part cGSPEC / c? / cSETSPEC b0 c/\\\\ creal_lt creal_of_num cNUMERAL c_0 b1 creal_lt creal_of_num cNUMERAL c_0 cdelta_y f0 f1 f2 b1 f3 f4 b1', 0), ('c= creal_of_num cNUMERAL c_0 creal_mul creal_of_num cNUMERAL c_0 creal_mul creal_of_num cNUMERAL cBIT1 c_0 creal_of_num cNUMERAL cBIT1 c_0\\n & creal_open * part cGSPEC / c? / cSETSPEC b0 c/\\\\ creal_lt creal_of_num cNUMERAL c_0 b1 creal_lt creal_of_num cNUMERAL c_0 cdelta_y f0 f1 f2 b1 f3 f4 b1', 0), ('c==> c/\\\\ creal_open * part cGSPEC / c? / cSETSPEC b0 creal_lt creal_of_num cNUMERAL c_0 b1 b1 c/\\\\ creal_open * part cGSPEC / c? / cSETSPEC b0 creal_lt creal_of_num cNUMERAL c_0 b1 b1 creal_continuous_on / cdelta_y f0 f1 f2 b0 f3 f4 * part cGSPEC / c? / cSETSPEC b0 creal_lt creal_of_num cNUMERAL c_0 b1 b1 c==> c==> c/\\\\ creal_open * part cGSPEC / c? / cSETSPEC b0 creal_lt creal_of_num cNUMERAL c_0 b1 b1 c/\\\\ creal_open * part cGSPEC / c? / cSETSPEC b0 creal_lt creal_of_num cNUMERAL c_0 b1 b1 creal_continuous_on / cdelta_y f0 f1 f2 b0 f3 f4 * part cGSPEC / c? / cSETSPEC b0 creal_lt creal_of_num cNUMERAL c_0 b1 b1 creal_open * part cGSPEC / c? / cSETSPEC b0 c/\\\\ creal_lt creal_of_num cNUMERAL c_0 b1 creal_lt creal_of_num cNUMERAL c_0 cdelta_y f0 f1 f2 b1 f3 f4 b1 c/\\\\ c==> c/\\\\ creal_open * part cGSPEC / c? / cSETSPEC b0 creal_lt creal_of_num cNUMERAL c_0 b1 b1 c/\\\\ creal_open * part cGSPEC / c? / cSETSPEC b0 creal_lt creal_of_num cNUMERAL c_0 b1 b1 creal_continuous_on / cdelta_y f0 f1 f2 b0 f3 f4 * part cGSPEC / c? / cSETSPEC b0 creal_lt creal_of_num cNUMERAL c_0 b1 b1 creal_open * part cGSPEC / c? / cSETSPEC b0 c/\\\\ creal_lt creal_of_num cNUMERAL c_0 b1 creal_lt creal_of_num cNUMERAL c_0 cdelta_y f0 f1 f2 b1 f3 f4 b1 creal_open * part cGSPEC / c? / cSETSPEC b0 c/\\\\ creal_lt creal_of_num cNUMERAL c_0 b1 creal_lt creal_of_num cNUMERAL c_0 cdelta_y f0 f1 f2 b1 f3 f4 b1\\n & creal_open * part cGSPEC / c? / cSETSPEC b0 c/\\\\ creal_lt creal_of_num cNUMERAL c_0 b1 creal_lt creal_of_num cNUMERAL c_0 cdelta_y f0 f1 f2 b1 f3 f4 b1', 0), ('c= c==> ! c= cGSPEC / * f0 * part cSETSPEC b1 b0 * f0 / / c/\\\\ b1 c= b0 b2 * / c= cGSPEC / * f0 * part cSETSPEC b1 b0 * f0 / / c/\\\\ b1 c= b0 b2 f1 * / c= cGSPEC / * f0 * part cSETSPEC b1 b0 * f0 / / c/\\\\ b1 c= b0 b2 f1\\n & creal_open * part cGSPEC / c? / cSETSPEC b0 c/\\\\ creal_lt creal_of_num cNUMERAL c_0 b1 creal_lt creal_of_num cNUMERAL c_0 cdelta_y f0 f1 f2 b1 f3 f4 b1', 0), ('c= cGSPEC / c? / cSETSPEC b0 * f0 b1 b1 f1 * f0 f1\\n & creal_open * part cGSPEC / c? / cSETSPEC b0 c/\\\\ creal_lt creal_of_num cNUMERAL c_0 b1 creal_lt creal_of_num cNUMERAL c_0 cdelta_y f0 f1 f2 b1 f3 f4 b1', 0), ('c= c==> ! c= creal_open b0 ! c==> cIN b1 b0 c? / c/\\\\ creal_lt creal_of_num cNUMERAL c_0 b2 ! c==> creal_lt creal_abs creal_sub b3 b1 b2 cIN b3 b0 * / c= creal_open b0 ! c==> cIN b1 b0 c? / c/\\\\ creal_lt creal_of_num cNUMERAL c_0 b2 ! c==> creal_lt creal_abs creal_sub b3 b1 b2 cIN b3 b0 f0 * / c= creal_open b0 ! c==> cIN b1 b0 c? / c/\\\\ creal_lt creal_of_num cNUMERAL c_0 b2 ! c==> creal_lt creal_abs creal_sub b3 b1 b2 cIN b3 b0 f0\\n & creal_open * part cGSPEC / c? / cSETSPEC b0 c/\\\\ creal_lt creal_of_num cNUMERAL c_0 b1 creal_lt creal_of_num cNUMERAL c_0 cdelta_y f0 f1 f2 b1 f3 f4 b1', 0), ('c= cT c==> cderived_form cT / creal_add creal_mul creal_mul f0 f0 creal_mul creal_mul b0 b0 creal_add creal_neg creal_mul f0 f0 creal_add creal_mul f1 f1 creal_add creal_sub creal_mul f2 f2 creal_mul b0 b0 creal_add creal_mul f3 f3 creal_mul f4 f4 creal_add creal_mul creal_mul f1 f1 creal_mul creal_mul f3 f3 creal_add creal_sub creal_mul f0 f0 creal_mul f1 f1 creal_add creal_mul f2 f2 creal_add creal_sub creal_mul b0 b0 creal_mul f3 f3 creal_mul f4 f4 creal_sub creal_sub creal_sub creal_sub creal_mul creal_mul f2 f2 creal_mul creal_mul f4 f4 creal_add creal_mul f0 f0 creal_add creal_sub creal_mul f1 f1 creal_mul f2 f2 creal_add creal_mul b0 b0 creal_sub creal_mul f3 f3 creal_mul f4 f4 creal_mul creal_mul f1 f1 creal_mul creal_mul f2 f2 creal_mul b0 b0 creal_mul creal_mul f0 f0 creal_mul creal_mul f2 f2 creal_mul f3 f3 creal_mul creal_mul f0 f0 creal_mul creal_mul f1 f1 creal_mul f4 f4 creal_mul creal_mul b0 b0 creal_mul creal_mul f3 f3 creal_mul f4 f4 creal_add creal_mul creal_mul f0 f0 creal_add creal_mul creal_mul f5 f5 creal_neg creal_add f5 f5 creal_mul creal_add f5 f5 creal_add creal_neg creal_mul f0 f0 creal_add creal_mul f1 f1 creal_add creal_sub creal_mul f2 f2 creal_mul f5 f5 creal_add creal_mul f3 f3 creal_mul f4 f4 creal_add creal_mul creal_mul f1 f1 creal_mul creal_mul f3 f3 creal_add f5 f5 creal_sub creal_sub creal_mul creal_mul f2 f2 creal_mul creal_mul f4 f4 creal_add f5 f5 creal_mul creal_mul f1 f1 creal_mul creal_mul f2 f2 creal_add f5 f5 creal_mul creal_add f5 f5 creal_mul creal_mul f3 f3 creal_mul f4 f4 f5 part cUNIV cderived_form cT / creal_add creal_mul creal_mul f0 f0 creal_mul creal_mul b0 b0 creal_add creal_neg creal_mul f0 f0 creal_add creal_mul f1 f1 creal_add creal_sub creal_mul f2 f2 creal_mul b0 b0 creal_add creal_mul f3 f3 creal_mul f4 f4 creal_add creal_mul creal_mul f1 f1 creal_mul creal_mul f3 f3 creal_add creal_sub creal_mul f0 f0 creal_mul f1 f1 creal_add creal_mul f2 f2 creal_add creal_sub creal_mul b0 b0 creal_mul f3 f3 creal_mul f4 f4 creal_sub creal_sub creal_sub creal_sub creal_mul creal_mul f2 f2 creal_mul creal_mul f4 f4 creal_add creal_mul f0 f0 creal_add creal_sub creal_mul f1 f1 creal_mul f2 f2 creal_add creal_mul b0 b0 creal_sub creal_mul f3 f3 creal_mul f4 f4 creal_mul creal_mul f1 f1 creal_mul creal_mul f2 f2 creal_mul b0 b0 creal_mul creal_mul f0 f0 creal_mul creal_mul f2 f2 creal_mul f3 f3 creal_mul creal_mul f0 f0 creal_mul creal_mul f1 f1 creal_mul f4 f4 creal_mul creal_mul b0 b0 creal_mul creal_mul f3 f3 creal_mul f4 f4 creal_add creal_mul creal_mul f0 f0 creal_add creal_mul creal_mul f5 f5 creal_neg creal_add f5 f5 creal_mul creal_add f5 f5 creal_add creal_neg creal_mul f0 f0 creal_add creal_mul f1 f1 creal_add creal_sub creal_mul f2 f2 creal_mul f5 f5 creal_add creal_mul f3 f3 creal_mul f4 f4 creal_add creal_mul creal_mul f1 f1 creal_mul creal_mul f3 f3 creal_add f5 f5 creal_sub creal_sub creal_mul creal_mul f2 f2 creal_mul creal_mul f4 f4 creal_add f5 f5 creal_mul creal_mul f1 f1 creal_mul creal_mul f2 f2 creal_add f5 f5 creal_mul creal_add f5 f5 creal_mul creal_mul f3 f3 creal_mul f4 f4 f5 part cUNIV\\n & creal_open * part cGSPEC / c? / cSETSPEC b0 c/\\\\ creal_lt creal_of_num cNUMERAL c_0 b1 creal_lt creal_of_num cNUMERAL c_0 cdelta_y f0 f1 f2 b1 f3 f4 b1', 0), ('* / ! c= cIN b1 / * b0 b2 * b0 b1 f0\\n & creal_open * part cGSPEC / c? / cSETSPEC b0 c/\\\\ creal_lt creal_of_num cNUMERAL c_0 b1 creal_lt creal_of_num cNUMERAL c_0 cdelta_y f0 f1 f2 b1 f3 f4 b1', 0), ('c==> creal_lt creal_of_num cNUMERAL c_0 creal_of_num cNUMERAL cBIT1 c_0 c==> c= creal_mul creal_add creal_mul creal_neg creal_of_num cNUMERAL cBIT1 c_0 creal_of_num cNUMERAL cBIT1 c_0 creal_mul creal_of_num cNUMERAL cBIT1 c_0 creal_of_num cNUMERAL cBIT1 c_0 creal_of_num cNUMERAL cBIT1 c_0 creal_mul creal_of_num cNUMERAL c_0 creal_mul creal_of_num cNUMERAL cBIT1 c_0 creal_of_num cNUMERAL cBIT1 c_0 c= creal_add creal_div creal_neg creal_of_num cNUMERAL cBIT1 c_0 creal_of_num cNUMERAL cBIT1 c_0 creal_div creal_of_num cNUMERAL cBIT1 c_0 creal_of_num cNUMERAL cBIT1 c_0 creal_div creal_of_num cNUMERAL c_0 creal_of_num cNUMERAL cBIT1 c_0\\n & creal_open * part cGSPEC / c? / cSETSPEC b0 c/\\\\ creal_lt creal_of_num cNUMERAL c_0 b1 creal_lt creal_of_num cNUMERAL c_0 cdelta_y f0 f1 f2 b1 f3 f4 b1', 0), ('c==> c/\\\\ creal_ge creal_add f0 creal_mul creal_neg creal_of_num cNUMERAL cBIT1 c_0 f1 creal_of_num cNUMERAL c_0 creal_gt creal_add creal_mul creal_neg creal_of_num cNUMERAL cBIT1 c_0 f0 f1 creal_of_num cNUMERAL c_0 c/\\\\ creal_gt creal_of_num cNUMERAL cBIT1 c_0 creal_of_num cNUMERAL c_0 creal_ge creal_add f0 creal_mul creal_neg creal_of_num cNUMERAL cBIT1 c_0 f1 creal_of_num cNUMERAL c_0\\n & creal_open * part cGSPEC / c? / cSETSPEC b0 c/\\\\ creal_lt creal_of_num cNUMERAL c_0 b1 creal_lt creal_of_num cNUMERAL c_0 cdelta_y f0 f1 f2 b1 f3 f4 b1', 0), ('c= c==> ! c= cGSPEC / c? / cSETSPEC b1 * f0 b2 b2 b0 * f0 b0 * / c= cGSPEC / c? / cSETSPEC b1 * f0 b2 b2 b0 * f0 b0 f1 * / c= cGSPEC / c? / cSETSPEC b1 * f0 b2 b2 b0 * f0 b0 f1\\n & creal_open * part cGSPEC / c? / cSETSPEC b0 c/\\\\ creal_lt creal_of_num cNUMERAL c_0 b1 creal_lt creal_of_num cNUMERAL c_0 cdelta_y f0 f1 f2 b1 f3 f4 b1', 0), ('c==> c~ creal_lt creal_of_num cNUMERAL c_0 creal_of_num cNUMERAL cBIT1 c_0 creal_ge creal_neg creal_of_num cNUMERAL cBIT1 c_0 creal_of_num cNUMERAL c_0\\n & creal_open * part cGSPEC / c? / cSETSPEC b0 c/\\\\ creal_lt creal_of_num cNUMERAL c_0 b1 creal_lt creal_of_num cNUMERAL c_0 cdelta_y f0 f1 f2 b1 f3 f4 b1', 0), ('c= creal_add creal_div creal_neg creal_of_num cNUMERAL cBIT1 c_0 creal_of_num cNUMERAL cBIT1 c_0 creal_div creal_of_num cNUMERAL cBIT1 c_0 creal_of_num cNUMERAL cBIT1 c_0 creal_div creal_of_num cNUMERAL c_0 creal_of_num cNUMERAL cBIT1 c_0\\n & creal_open * part cGSPEC / c? / cSETSPEC b0 c/\\\\ creal_lt creal_of_num cNUMERAL c_0 b1 creal_lt creal_of_num cNUMERAL c_0 cdelta_y f0 f1 f2 b1 f3 f4 b1', 0), ('c= cIN f0 / * f1 b0 * f1 f0\\n & creal_open * part cGSPEC / c? / cSETSPEC b0 c/\\\\ creal_lt creal_of_num cNUMERAL c_0 b1 creal_lt creal_of_num cNUMERAL c_0 cdelta_y f0 f1 f2 b1 f3 f4 b1', 0), ('c= cT creal_lt creal_of_num cNUMERAL c_0 creal_of_num cNUMERAL cBIT1 c_0\\n & creal_open * part cGSPEC / c? / cSETSPEC b0 c/\\\\ creal_lt creal_of_num cNUMERAL c_0 b1 creal_lt creal_of_num cNUMERAL c_0 cdelta_y f0 f1 f2 b1 f3 f4 b1', 0), ('c= c==> ! ! ! c= c\\\\/ b0 c\\\\/ b1 b2 c\\\\/ c\\\\/ b0 b1 b2 * / ! ! c= c\\\\/ b0 c\\\\/ b1 b2 c\\\\/ c\\\\/ b0 b1 b2 f0 * / ! ! c= c\\\\/ b0 c\\\\/ b1 b2 c\\\\/ c\\\\/ b0 b1 b2 f0\\n & creal_open * part cGSPEC / c? / cSETSPEC b0 c/\\\\ creal_lt creal_of_num cNUMERAL c_0 b1 creal_lt creal_of_num cNUMERAL c_0 cdelta_y f0 f1 f2 b1 f3 f4 b1', 0), ('c= c< cNUMERAL c_0 cNUMERAL cBIT1 c_0 cT\\n & creal_open * part cGSPEC / c? / cSETSPEC b0 c/\\\\ creal_lt creal_of_num cNUMERAL c_0 b1 creal_lt creal_of_num cNUMERAL c_0 cdelta_y f0 f1 f2 b1 f3 f4 b1', 0), ('c= c==> creal_lt creal_of_num cNUMERAL c_0 creal_of_num cNUMERAL cBIT1 c_0 c==> creal_lt creal_of_num cNUMERAL c_0 creal_of_num cNUMERAL cBIT1 c_0 c= creal_lt creal_div creal_of_num cNUMERAL c_0 creal_of_num cNUMERAL cBIT1 c_0 creal_div creal_of_num cNUMERAL cBIT1 c_0 creal_of_num cNUMERAL cBIT1 c_0 creal_lt creal_mul creal_of_num cNUMERAL c_0 creal_of_num cNUMERAL cBIT1 c_0 creal_mul creal_of_num cNUMERAL cBIT1 c_0 creal_of_num cNUMERAL cBIT1 c_0 c==> creal_lt creal_of_num cNUMERAL c_0 creal_of_num cNUMERAL cBIT1 c_0 c= creal_lt creal_div creal_of_num cNUMERAL c_0 creal_of_num cNUMERAL cBIT1 c_0 creal_div creal_of_num cNUMERAL cBIT1 c_0 creal_of_num cNUMERAL cBIT1 c_0 creal_lt creal_mul creal_of_num cNUMERAL c_0 creal_of_num cNUMERAL cBIT1 c_0 creal_mul creal_of_num cNUMERAL cBIT1 c_0 creal_of_num cNUMERAL cBIT1 c_0\\n & creal_open * part cGSPEC / c? / cSETSPEC b0 c/\\\\ creal_lt creal_of_num cNUMERAL c_0 b1 creal_lt creal_of_num cNUMERAL c_0 cdelta_y f0 f1 f2 b1 f3 f4 b1', 0), ('cIN f0 part cUNIV\\n & creal_open * part cGSPEC / c? / cSETSPEC b0 c/\\\\ creal_lt creal_of_num cNUMERAL c_0 b1 creal_lt creal_of_num cNUMERAL c_0 cdelta_y f0 f1 f2 b1 f3 f4 b1', 0), ('c==> creal_ge creal_neg creal_of_num cNUMERAL cBIT1 c_0 creal_of_num cNUMERAL c_0 cF\\n & creal_open * part cGSPEC / c? / cSETSPEC b0 c/\\\\ creal_lt creal_of_num cNUMERAL c_0 b1 creal_lt creal_of_num cNUMERAL c_0 cdelta_y f0 f1 f2 b1 f3 f4 b1', 0), ('c= * / * f0 b0 f1 * f0 f1\\n & creal_open * part cGSPEC / c? / cSETSPEC b0 c/\\\\ creal_lt creal_of_num cNUMERAL c_0 b1 creal_lt creal_of_num cNUMERAL c_0 cdelta_y f0 f1 f2 b1 f3 f4 b1', 0), ('c= c==> c==> c~ creal_lt creal_of_num cNUMERAL c_0 creal_of_num cNUMERAL cBIT1 c_0 cF creal_lt creal_of_num cNUMERAL c_0 creal_of_num cNUMERAL cBIT1 c_0 creal_lt creal_of_num cNUMERAL c_0 creal_of_num cNUMERAL cBIT1 c_0\\n & creal_open * part cGSPEC / c? / cSETSPEC b0 c/\\\\ creal_lt creal_of_num cNUMERAL c_0 b1 creal_lt creal_of_num cNUMERAL c_0 cdelta_y f0 f1 f2 b1 f3 f4 b1', 0), ('c= creal_mul creal_of_num cNUMERAL c_0 creal_of_num f0 creal_of_num cNUMERAL c_0\\n & creal_open * part cGSPEC / c? / cSETSPEC b0 c/\\\\ creal_lt creal_of_num cNUMERAL c_0 b1 creal_lt creal_of_num cNUMERAL c_0 cdelta_y f0 f1 f2 b1 f3 f4 b1', 0), ('c= creal_of_num f0 creal_div creal_of_num f0 creal_of_num cNUMERAL cBIT1 c_0\\n & creal_open * part cGSPEC / c? / cSETSPEC b0 c/\\\\ creal_lt creal_of_num cNUMERAL c_0 b1 creal_lt creal_of_num cNUMERAL c_0 cdelta_y f0 f1 f2 b1 f3 f4 b1', 0), ('c= creal_lt creal_div creal_of_num cNUMERAL c_0 creal_of_num cNUMERAL cBIT1 c_0 creal_div creal_of_num cNUMERAL c_0 creal_of_num cNUMERAL cBIT1 c_0 creal_lt creal_mul creal_of_num cNUMERAL c_0 creal_of_num cNUMERAL cBIT1 c_0 creal_mul creal_of_num cNUMERAL c_0 creal_of_num cNUMERAL cBIT1 c_0\\n & creal_open * part cGSPEC / c? / cSETSPEC b0 c/\\\\ creal_lt creal_of_num cNUMERAL c_0 b1 creal_lt creal_of_num cNUMERAL c_0 cdelta_y f0 f1 f2 b1 f3 f4 b1', 0), ('c= cGSPEC / * f0 * part cSETSPEC b0 f1 * f0 / / c/\\\\ b0 c= f1 b1\\n & creal_open * part cGSPEC / c? / cSETSPEC b0 c/\\\\ creal_lt creal_of_num cNUMERAL c_0 b1 creal_lt creal_of_num cNUMERAL c_0 cdelta_y f0 f1 f2 b1 f3 f4 b1', 0), ('c= c==> ! ! c= cGSPEC / c? / cSETSPEC b2 * b0 b3 b3 b1 * b0 b1 * / ! c= cGSPEC / c? / cSETSPEC b2 * b0 b3 b3 b1 * b0 b1 f0 * / ! c= cGSPEC / c? / cSETSPEC b2 * b0 b3 b3 b1 * b0 b1 f0\\n & creal_open * part cGSPEC / c? / cSETSPEC b0 c/\\\\ creal_lt creal_of_num cNUMERAL c_0 b1 creal_lt creal_of_num cNUMERAL c_0 cdelta_y f0 f1 f2 b1 f3 f4 b1', 0), ('c= creal_mul creal_neg creal_of_num f0 creal_of_num f1 creal_neg creal_of_num c* f0 f1\\n & creal_open * part cGSPEC / c? / cSETSPEC b0 c/\\\\ creal_lt creal_of_num cNUMERAL c_0 b1 creal_lt creal_of_num cNUMERAL c_0 cdelta_y f0 f1 f2 b1 f3 f4 b1', 0), ('c= c==> c= creal_mul creal_add creal_mul creal_neg creal_of_num cNUMERAL cBIT1 c_0 creal_of_num cNUMERAL cBIT1 c_0 creal_mul creal_of_num cNUMERAL cBIT1 c_0 creal_of_num cNUMERAL cBIT1 c_0 creal_of_num cNUMERAL cBIT1 c_0 creal_mul creal_of_num cNUMERAL c_0 creal_mul creal_of_num cNUMERAL cBIT1 c_0 creal_of_num cNUMERAL cBIT1 c_0 c= creal_add creal_div creal_neg creal_of_num cNUMERAL cBIT1 c_0 creal_of_num cNUMERAL cBIT1 c_0 creal_div creal_of_num cNUMERAL cBIT1 c_0 creal_of_num cNUMERAL cBIT1 c_0 creal_div creal_of_num cNUMERAL c_0 creal_of_num cNUMERAL cBIT1 c_0 c= creal_add creal_div creal_neg creal_of_num cNUMERAL cBIT1 c_0 creal_of_num cNUMERAL cBIT1 c_0 creal_div creal_of_num cNUMERAL cBIT1 c_0 creal_of_num cNUMERAL cBIT1 c_0 creal_div creal_of_num cNUMERAL c_0 creal_of_num cNUMERAL cBIT1 c_0\\n & creal_open * part cGSPEC / c? / cSETSPEC b0 c/\\\\ creal_lt creal_of_num cNUMERAL c_0 b1 creal_lt creal_of_num cNUMERAL c_0 cdelta_y f0 f1 f2 b1 f3 f4 b1', 0), ('* / ! c= cGSPEC / c? / cSETSPEC b2 * b0 b3 b3 b1 * b0 b1 f0\\n & creal_open * part cGSPEC / c? / cSETSPEC b0 c/\\\\ creal_lt creal_of_num cNUMERAL c_0 b1 creal_lt creal_of_num cNUMERAL c_0 cdelta_y f0 f1 f2 b1 f3 f4 b1', 0), ('c==> creal_lt creal_of_num cNUMERAL c_0 creal_of_num cNUMERAL cBIT1 c_0 c= creal_lt creal_div creal_of_num cNUMERAL c_0 creal_of_num cNUMERAL cBIT1 c_0 creal_div creal_of_num cNUMERAL cBIT1 c_0 creal_of_num cNUMERAL cBIT1 c_0 creal_lt creal_mul creal_of_num cNUMERAL c_0 creal_of_num cNUMERAL cBIT1 c_0 creal_mul creal_of_num cNUMERAL cBIT1 c_0 creal_of_num cNUMERAL cBIT1 c_0\\n & creal_open * part cGSPEC / c? / cSETSPEC b0 c/\\\\ creal_lt creal_of_num cNUMERAL c_0 b1 creal_lt creal_of_num cNUMERAL c_0 cdelta_y f0 f1 f2 b1 f3 f4 b1', 0), ('c= creal_le creal_div creal_of_num cNUMERAL c_0 creal_of_num cNUMERAL cBIT1 c_0 creal_div creal_neg creal_of_num cNUMERAL cBIT1 c_0 creal_of_num cNUMERAL cBIT1 c_0 creal_le creal_mul creal_of_num cNUMERAL c_0 creal_of_num cNUMERAL cBIT1 c_0 creal_mul creal_neg creal_of_num cNUMERAL cBIT1 c_0 creal_of_num cNUMERAL cBIT1 c_0\\n & creal_open * part cGSPEC / c? / cSETSPEC b0 c/\\\\ creal_lt creal_of_num cNUMERAL c_0 b1 creal_lt creal_of_num cNUMERAL c_0 cdelta_y f0 f1 f2 b1 f3 f4 b1', 0), ('c= creal_neg creal_of_num f0 creal_div creal_neg creal_of_num f0 creal_of_num cNUMERAL cBIT1 c_0\\n & creal_open * part cGSPEC / c? / cSETSPEC b0 c/\\\\ creal_lt creal_of_num cNUMERAL c_0 b1 creal_lt creal_of_num cNUMERAL c_0 cdelta_y f0 f1 f2 b1 f3 f4 b1', 0), ('c= c==> ! c= cIN b0 / * f0 b1 * f0 b0 * / c= cIN b0 / * f0 b1 * f0 b0 f1 * / c= cIN b0 / * f0 b1 * f0 b0 f1\\n & creal_open * part cGSPEC / c? / cSETSPEC b0 c/\\\\ creal_lt creal_of_num cNUMERAL c_0 b1 creal_lt creal_of_num cNUMERAL c_0 cdelta_y f0 f1 f2 b1 f3 f4 b1', 0), ('* / c= creal_open b0 ! c==> cIN b1 b0 c? / c/\\\\ creal_lt creal_of_num cNUMERAL c_0 b2 ! c==> creal_lt creal_abs creal_sub b3 b1 b2 cIN b3 b0 f0\\n & creal_open * part cGSPEC / c? / cSETSPEC b0 c/\\\\ creal_lt creal_of_num cNUMERAL c_0 b1 creal_lt creal_of_num cNUMERAL c_0 cdelta_y f0 f1 f2 b1 f3 f4 b1', 0), ('* / ! c= cGSPEC / * b0 * part cSETSPEC b2 b1 * b0 / / c/\\\\ b2 c= b1 b3 f0\\n & creal_open * part cGSPEC / c? / cSETSPEC b0 c/\\\\ creal_lt creal_of_num cNUMERAL c_0 b1 creal_lt creal_of_num cNUMERAL c_0 cdelta_y f0 f1 f2 b1 f3 f4 b1', 0), ('c= c==> creal_lt creal_of_num cNUMERAL c_0 creal_of_num cNUMERAL cBIT1 c_0 c==> creal_lt creal_of_num cNUMERAL c_0 creal_of_num cNUMERAL cBIT1 c_0 c= creal_lt creal_div creal_of_num cNUMERAL c_0 creal_of_num cNUMERAL cBIT1 c_0 creal_div creal_of_num cNUMERAL c_0 creal_of_num cNUMERAL cBIT1 c_0 creal_lt creal_mul creal_of_num cNUMERAL c_0 creal_of_num cNUMERAL cBIT1 c_0 creal_mul creal_of_num cNUMERAL c_0 creal_of_num cNUMERAL cBIT1 c_0 c==> creal_lt creal_of_num cNUMERAL c_0 creal_of_num cNUMERAL cBIT1 c_0 c= creal_lt creal_div creal_of_num cNUMERAL c_0 creal_of_num cNUMERAL cBIT1 c_0 creal_div creal_of_num cNUMERAL c_0 creal_of_num cNUMERAL cBIT1 c_0 creal_lt creal_mul creal_of_num cNUMERAL c_0 creal_of_num cNUMERAL cBIT1 c_0 creal_mul creal_of_num cNUMERAL c_0 creal_of_num cNUMERAL cBIT1 c_0\\n & creal_open * part cGSPEC / c? / cSETSPEC b0 c/\\\\ creal_lt creal_of_num cNUMERAL c_0 b1 creal_lt creal_of_num cNUMERAL c_0 cdelta_y f0 f1 f2 b1 f3 f4 b1', 0)]\n"
          ]
        }
      ]
    },
    {
      "cell_type": "code",
      "source": [
        "net = Net(2, 4)\n",
        "xc = tr.nn.CrossEntropyLoss()\n",
        "if tr.cuda.is_available():\n",
        "    net= net.cuda()\n",
        "\n",
        "opt = tr.optim.Adam(net.parameters(), lr=0.005)\n",
        "\n",
        "num_iters = 500\n",
        "verb_step = 20\n",
        "train_loss = []\n",
        "valid_accu =[]\n",
        "valid_loss =[]\n",
        "for i in trange(num_iters):\n",
        "\n",
        "    example, label = random.choice(examples)\n",
        "    if tr.cuda.is_available():\n",
        "          example , label = example.cuda(), label.cuda()\n",
        "    logits = net(example)\n",
        "    loss = xc(logits, tr.tensor([label]))\n",
        "    train_loss.append(loss.item())\n",
        "\n",
        "    opt.zero_grad()\n",
        "    loss.backward()\n",
        "    opt.step()\n",
        "    correct = []\n",
        "    vloss = []\n",
        "    \n",
        "    \n",
        "    if i % verb_step == 0 or i == num_iters-1:\n",
        "       \n",
        "        with tr.no_grad():\n",
        "            for example_2, label_2 in validation:\n",
        "               if tr.cuda.is_available():\n",
        "                    example_2, label_2 = example_2.cuda(), label_2.cuda()\n",
        "               logits = net(example_2)\n",
        "               v_loss = xc(logits,tr.tensor([label_2]))  \n",
        "               pred = logits.argmax()\n",
        "               correct.append(np.absolute(label_2-pred))\n",
        "               vloss.append(v_loss.item())\n",
        "        valid_accu.append(1-np.mean(correct))\n",
        "        valid_loss.append(np.mean(vloss))\n",
        "        print(f'loss:{loss.item()} \\t\\tval_loss: {np.mean(vloss)}\\t\\t val_acc: {1-np.mean(correct)}  ')\n",
        "        \n",
        "              \n",
        "\n",
        "#pt.plot(prediction)\n",
        "pt.plot(train_loss)\n",
        "pt.xlabel(\"Iteration\")\n",
        "pt.ylabel(\"Loss\")\n",
        "\n"
      ],
      "metadata": {
        "id": "jshKLvyKz3U_",
        "colab": {
          "base_uri": "https://localhost:8080/",
          "height": 439,
          "referenced_widgets": [
            "002234066bce4ebca1fec096c2b92b6f",
            "c0c0dc472b7342a3b6b7a7244173abcf",
            "34278f2b36f04ecbab85fc9309a59342",
            "127f6663073742aeb648377133d6f91c",
            "270212945c964f8fa4309df29004ca25",
            "ae7524bddfd54381b6372614bb9a6dc1",
            "d1a499e426104dacb09e503cdbfd4324",
            "3000e7cb55eb42a98ce97ae8a0ec322e",
            "a4eaf9c1dd6a46bcacbde3e5390f5a42",
            "3457fe47494c49dd867526b2123f15e8",
            "3032befd16374a3bb4e98ac9626bd0ee"
          ]
        },
        "outputId": "804df955-0e9b-4343-9a98-7e8016dedb9c"
      },
      "execution_count": null,
      "outputs": [
        {
          "output_type": "display_data",
          "data": {
            "text/plain": [
              "  0%|          | 0/500 [00:00<?, ?it/s]"
            ],
            "application/vnd.jupyter.widget-view+json": {
              "version_major": 2,
              "version_minor": 0,
              "model_id": "002234066bce4ebca1fec096c2b92b6f"
            }
          },
          "metadata": {}
        },
        {
          "output_type": "error",
          "ename": "KeyError",
          "evalue": "ignored",
          "traceback": [
            "\u001b[0;31m---------------------------------------------------------------------------\u001b[0m",
            "\u001b[0;31mKeyError\u001b[0m                                  Traceback (most recent call last)",
            "\u001b[0;32m<ipython-input-83-5f6b24044779>\u001b[0m in \u001b[0;36m<module>\u001b[0;34m()\u001b[0m\n\u001b[1;32m     33\u001b[0m                \u001b[0;32mif\u001b[0m \u001b[0mtr\u001b[0m\u001b[0;34m.\u001b[0m\u001b[0mcuda\u001b[0m\u001b[0;34m.\u001b[0m\u001b[0mis_available\u001b[0m\u001b[0;34m(\u001b[0m\u001b[0;34m)\u001b[0m\u001b[0;34m:\u001b[0m\u001b[0;34m\u001b[0m\u001b[0;34m\u001b[0m\u001b[0m\n\u001b[1;32m     34\u001b[0m                     \u001b[0mexample_2\u001b[0m\u001b[0;34m,\u001b[0m \u001b[0mlabel_2\u001b[0m \u001b[0;34m=\u001b[0m \u001b[0mexample_2\u001b[0m\u001b[0;34m.\u001b[0m\u001b[0mcuda\u001b[0m\u001b[0;34m(\u001b[0m\u001b[0;34m)\u001b[0m\u001b[0;34m,\u001b[0m \u001b[0mlabel_2\u001b[0m\u001b[0;34m.\u001b[0m\u001b[0mcuda\u001b[0m\u001b[0;34m(\u001b[0m\u001b[0;34m)\u001b[0m\u001b[0;34m\u001b[0m\u001b[0;34m\u001b[0m\u001b[0m\n\u001b[0;32m---> 35\u001b[0;31m                \u001b[0mlogits\u001b[0m \u001b[0;34m=\u001b[0m \u001b[0mnet\u001b[0m\u001b[0;34m(\u001b[0m\u001b[0mexample_2\u001b[0m\u001b[0;34m)\u001b[0m\u001b[0;34m\u001b[0m\u001b[0;34m\u001b[0m\u001b[0m\n\u001b[0m\u001b[1;32m     36\u001b[0m                \u001b[0mv_loss\u001b[0m \u001b[0;34m=\u001b[0m \u001b[0mxc\u001b[0m\u001b[0;34m(\u001b[0m\u001b[0mlogits\u001b[0m\u001b[0;34m,\u001b[0m\u001b[0mtr\u001b[0m\u001b[0;34m.\u001b[0m\u001b[0mtensor\u001b[0m\u001b[0;34m(\u001b[0m\u001b[0;34m[\u001b[0m\u001b[0mlabel_2\u001b[0m\u001b[0;34m]\u001b[0m\u001b[0;34m)\u001b[0m\u001b[0;34m)\u001b[0m\u001b[0;34m\u001b[0m\u001b[0;34m\u001b[0m\u001b[0m\n\u001b[1;32m     37\u001b[0m                \u001b[0mpred\u001b[0m \u001b[0;34m=\u001b[0m \u001b[0mlogits\u001b[0m\u001b[0;34m.\u001b[0m\u001b[0margmax\u001b[0m\u001b[0;34m(\u001b[0m\u001b[0;34m)\u001b[0m\u001b[0;34m\u001b[0m\u001b[0;34m\u001b[0m\u001b[0m\n",
            "\u001b[0;32m/usr/local/lib/python3.7/dist-packages/torch/nn/modules/module.py\u001b[0m in \u001b[0;36m_call_impl\u001b[0;34m(self, *input, **kwargs)\u001b[0m\n\u001b[1;32m   1108\u001b[0m         if not (self._backward_hooks or self._forward_hooks or self._forward_pre_hooks or _global_backward_hooks\n\u001b[1;32m   1109\u001b[0m                 or _global_forward_hooks or _global_forward_pre_hooks):\n\u001b[0;32m-> 1110\u001b[0;31m             \u001b[0;32mreturn\u001b[0m \u001b[0mforward_call\u001b[0m\u001b[0;34m(\u001b[0m\u001b[0;34m*\u001b[0m\u001b[0minput\u001b[0m\u001b[0;34m,\u001b[0m \u001b[0;34m**\u001b[0m\u001b[0mkwargs\u001b[0m\u001b[0;34m)\u001b[0m\u001b[0;34m\u001b[0m\u001b[0;34m\u001b[0m\u001b[0m\n\u001b[0m\u001b[1;32m   1111\u001b[0m         \u001b[0;31m# Do not call functions when jit is used\u001b[0m\u001b[0;34m\u001b[0m\u001b[0;34m\u001b[0m\u001b[0;34m\u001b[0m\u001b[0m\n\u001b[1;32m   1112\u001b[0m         \u001b[0mfull_backward_hooks\u001b[0m\u001b[0;34m,\u001b[0m \u001b[0mnon_full_backward_hooks\u001b[0m \u001b[0;34m=\u001b[0m \u001b[0;34m[\u001b[0m\u001b[0;34m]\u001b[0m\u001b[0;34m,\u001b[0m \u001b[0;34m[\u001b[0m\u001b[0;34m]\u001b[0m\u001b[0;34m\u001b[0m\u001b[0;34m\u001b[0m\u001b[0m\n",
            "\u001b[0;32m<ipython-input-81-90fa7d5595e6>\u001b[0m in \u001b[0;36mforward\u001b[0;34m(self, example)\u001b[0m\n\u001b[1;32m     10\u001b[0m     \u001b[0mself\u001b[0m\u001b[0;34m.\u001b[0m\u001b[0mreadout\u001b[0m \u001b[0;34m=\u001b[0m \u001b[0mtr\u001b[0m\u001b[0;34m.\u001b[0m\u001b[0mnn\u001b[0m\u001b[0;34m.\u001b[0m\u001b[0mLinear\u001b[0m\u001b[0;34m(\u001b[0m\u001b[0md_model\u001b[0m\u001b[0;34m,\u001b[0m \u001b[0;36m2\u001b[0m\u001b[0;34m)\u001b[0m\u001b[0;34m\u001b[0m\u001b[0;34m\u001b[0m\u001b[0m\n\u001b[1;32m     11\u001b[0m   \u001b[0;32mdef\u001b[0m \u001b[0mforward\u001b[0m\u001b[0;34m(\u001b[0m\u001b[0mself\u001b[0m\u001b[0;34m,\u001b[0m \u001b[0mexample\u001b[0m\u001b[0;34m)\u001b[0m\u001b[0;34m:\u001b[0m\u001b[0;34m\u001b[0m\u001b[0;34m\u001b[0m\u001b[0m\n\u001b[0;32m---> 12\u001b[0;31m     \u001b[0mx\u001b[0m \u001b[0;34m=\u001b[0m \u001b[0membed\u001b[0m\u001b[0;34m(\u001b[0m\u001b[0mparse\u001b[0m\u001b[0;34m(\u001b[0m\u001b[0mexample\u001b[0m\u001b[0;34m)\u001b[0m\u001b[0;34m,\u001b[0m \u001b[0mmax_len\u001b[0m\u001b[0;34m,\u001b[0m \u001b[0membeddings\u001b[0m\u001b[0;34m)\u001b[0m\u001b[0;34m\u001b[0m\u001b[0;34m\u001b[0m\u001b[0m\n\u001b[0m\u001b[1;32m     13\u001b[0m     \u001b[0mx\u001b[0m \u001b[0;34m=\u001b[0m \u001b[0mself\u001b[0m\u001b[0;34m.\u001b[0m\u001b[0mencoder\u001b[0m\u001b[0;34m(\u001b[0m\u001b[0mx\u001b[0m\u001b[0;34m)\u001b[0m\u001b[0;34m\u001b[0m\u001b[0;34m\u001b[0m\u001b[0m\n\u001b[1;32m     14\u001b[0m     \u001b[0;32mfor\u001b[0m \u001b[0mmha\u001b[0m \u001b[0;32min\u001b[0m \u001b[0mself\u001b[0m\u001b[0;34m.\u001b[0m\u001b[0mblocks\u001b[0m\u001b[0;34m:\u001b[0m\u001b[0;34m\u001b[0m\u001b[0;34m\u001b[0m\u001b[0m\n",
            "\u001b[0;32m<ipython-input-80-c7b3f6855524>\u001b[0m in \u001b[0;36membed\u001b[0;34m(seq, max_len, embeddings, offset)\u001b[0m\n\u001b[1;32m      6\u001b[0m     \u001b[0mcap\u001b[0m \u001b[0;34m=\u001b[0m \u001b[0mmin\u001b[0m\u001b[0;34m(\u001b[0m\u001b[0mlen\u001b[0m\u001b[0;34m(\u001b[0m\u001b[0mseq\u001b[0m\u001b[0;34m)\u001b[0m\u001b[0;34m,\u001b[0m \u001b[0mmax_len\u001b[0m\u001b[0;34m-\u001b[0m\u001b[0moffset\u001b[0m\u001b[0;34m)\u001b[0m\u001b[0;34m\u001b[0m\u001b[0;34m\u001b[0m\u001b[0m\n\u001b[1;32m      7\u001b[0m     \u001b[0;32mif\u001b[0m \u001b[0mcap\u001b[0m \u001b[0;34m>\u001b[0m \u001b[0;36m0\u001b[0m\u001b[0;34m:\u001b[0m\u001b[0;34m\u001b[0m\u001b[0;34m\u001b[0m\u001b[0m\n\u001b[0;32m----> 8\u001b[0;31m         \u001b[0membedded\u001b[0m\u001b[0;34m[\u001b[0m\u001b[0moffset\u001b[0m\u001b[0;34m:\u001b[0m\u001b[0moffset\u001b[0m\u001b[0;34m+\u001b[0m\u001b[0mcap\u001b[0m\u001b[0;34m]\u001b[0m \u001b[0;34m=\u001b[0m \u001b[0mtr\u001b[0m\u001b[0;34m.\u001b[0m\u001b[0mstack\u001b[0m\u001b[0;34m(\u001b[0m\u001b[0mtuple\u001b[0m\u001b[0;34m(\u001b[0m\u001b[0membeddings\u001b[0m\u001b[0;34m[\u001b[0m\u001b[0mlookup\u001b[0m\u001b[0;34m[\u001b[0m\u001b[0mtoken\u001b[0m\u001b[0;34m]\u001b[0m\u001b[0;34m]\u001b[0m \u001b[0;32mfor\u001b[0m \u001b[0mtoken\u001b[0m \u001b[0;32min\u001b[0m \u001b[0mseq\u001b[0m\u001b[0;34m[\u001b[0m\u001b[0;34m:\u001b[0m\u001b[0mcap\u001b[0m\u001b[0;34m]\u001b[0m\u001b[0;34m)\u001b[0m\u001b[0;34m)\u001b[0m\u001b[0;34m\u001b[0m\u001b[0;34m\u001b[0m\u001b[0m\n\u001b[0m\u001b[1;32m      9\u001b[0m     \u001b[0;32mreturn\u001b[0m \u001b[0membedded\u001b[0m\u001b[0;34m\u001b[0m\u001b[0;34m\u001b[0m\u001b[0m\n\u001b[1;32m     10\u001b[0m \u001b[0;34m\u001b[0m\u001b[0m\n",
            "\u001b[0;32m<ipython-input-80-c7b3f6855524>\u001b[0m in \u001b[0;36m<genexpr>\u001b[0;34m(.0)\u001b[0m\n\u001b[1;32m      6\u001b[0m     \u001b[0mcap\u001b[0m \u001b[0;34m=\u001b[0m \u001b[0mmin\u001b[0m\u001b[0;34m(\u001b[0m\u001b[0mlen\u001b[0m\u001b[0;34m(\u001b[0m\u001b[0mseq\u001b[0m\u001b[0;34m)\u001b[0m\u001b[0;34m,\u001b[0m \u001b[0mmax_len\u001b[0m\u001b[0;34m-\u001b[0m\u001b[0moffset\u001b[0m\u001b[0;34m)\u001b[0m\u001b[0;34m\u001b[0m\u001b[0;34m\u001b[0m\u001b[0m\n\u001b[1;32m      7\u001b[0m     \u001b[0;32mif\u001b[0m \u001b[0mcap\u001b[0m \u001b[0;34m>\u001b[0m \u001b[0;36m0\u001b[0m\u001b[0;34m:\u001b[0m\u001b[0;34m\u001b[0m\u001b[0;34m\u001b[0m\u001b[0m\n\u001b[0;32m----> 8\u001b[0;31m         \u001b[0membedded\u001b[0m\u001b[0;34m[\u001b[0m\u001b[0moffset\u001b[0m\u001b[0;34m:\u001b[0m\u001b[0moffset\u001b[0m\u001b[0;34m+\u001b[0m\u001b[0mcap\u001b[0m\u001b[0;34m]\u001b[0m \u001b[0;34m=\u001b[0m \u001b[0mtr\u001b[0m\u001b[0;34m.\u001b[0m\u001b[0mstack\u001b[0m\u001b[0;34m(\u001b[0m\u001b[0mtuple\u001b[0m\u001b[0;34m(\u001b[0m\u001b[0membeddings\u001b[0m\u001b[0;34m[\u001b[0m\u001b[0mlookup\u001b[0m\u001b[0;34m[\u001b[0m\u001b[0mtoken\u001b[0m\u001b[0;34m]\u001b[0m\u001b[0;34m]\u001b[0m \u001b[0;32mfor\u001b[0m \u001b[0mtoken\u001b[0m \u001b[0;32min\u001b[0m \u001b[0mseq\u001b[0m\u001b[0;34m[\u001b[0m\u001b[0;34m:\u001b[0m\u001b[0mcap\u001b[0m\u001b[0;34m]\u001b[0m\u001b[0;34m)\u001b[0m\u001b[0;34m)\u001b[0m\u001b[0;34m\u001b[0m\u001b[0;34m\u001b[0m\u001b[0m\n\u001b[0m\u001b[1;32m      9\u001b[0m     \u001b[0;32mreturn\u001b[0m \u001b[0membedded\u001b[0m\u001b[0;34m\u001b[0m\u001b[0;34m\u001b[0m\u001b[0m\n\u001b[1;32m     10\u001b[0m \u001b[0;34m\u001b[0m\u001b[0m\n",
            "\u001b[0;31mKeyError\u001b[0m: 'cderived_form'"
          ]
        }
      ]
    },
    {
      "cell_type": "markdown",
      "source": [
        "#Youdan's Approch"
      ],
      "metadata": {
        "id": "sHGUMV2Mz00a"
      }
    },
    {
      "cell_type": "markdown",
      "source": [
        ""
      ],
      "metadata": {
        "id": "xUBTqxirz5Ur"
      }
    },
    {
      "cell_type": "code",
      "source": [
        "'''Youdan's Approch'''\n",
        "\n",
        "class Net(tr.nn.Module):\n",
        "  def __init__(self, num_blocks, num_heads):\n",
        "    super(Net, self).__init__()\n",
        "    d_model = max_len+embeddings.shape[1]\n",
        "    self.conv = tr.nn.Conv1d(max_len,max_len, kernel_size=1)    \n",
        "    self.encoder = one_hot_positional_encoder(max_len)\n",
        "    self.rrelu = tr.nn.LeakyReLU()\n",
        "    self.blocks = tr.nn.ModuleList([\n",
        "      MultiHeadAttention(num_heads, d_model, projections=\"QKVO\")\n",
        "      for _ in range(num_blocks)\n",
        "    ])\n",
        "    self.dense = tr.nn.Linear(embeddings.shape[1],embeddings.shape[0])\n",
        "    self.readout =tr.nn.Linear(d_model, 2)\n",
        "    \n",
        "    \n",
        "  def forward(self, example):\n",
        "    x = embed(parse(example), max_len, embeddings)\n",
        "    x = self.encoder(x)\n",
        "   \n",
        "    for mha in self.blocks:\n",
        "      x = mha(x, x, x)\n",
        "    x = self.conv(x)\n",
        "    y = self.rrelu(self.readout(x)).mean(dim=0).unsqueeze(0)\n",
        "    return y\n",
        "\n",
        "net = Net(2, 4)\n",
        "print(net(examples[0][0]))\n"
      ],
      "metadata": {
        "id": "IdN3hwg0RPc4"
      },
      "execution_count": null,
      "outputs": []
    },
    {
      "cell_type": "code",
      "source": [
        "net = Net(2, 4)\n",
        "xc = tr.nn.CrossEntropyLoss()\n",
        "if tr.cuda.is_available():\n",
        "    net= net.cuda()\n",
        "\n",
        "opt = tr.optim.Adam(net.parameters(), lr=0.005)\n",
        "\n",
        "num_iters = 500\n",
        "verb_step = 20\n",
        "train_loss = []\n",
        "valid_accu =[]\n",
        "valid_loss =[]\n",
        "for i in trange(num_iters):\n",
        "\n",
        "    example, label = random.choice(examples)\n",
        "    if tr.cuda.is_available():\n",
        "          example , label = example.cuda(), label.cuda()\n",
        "    logits = net(example)\n",
        "    loss = xc(logits, tr.tensor([label]))\n",
        "    train_loss.append(loss.item())\n",
        "\n",
        "    opt.zero_grad()\n",
        "    loss.backward()\n",
        "    opt.step()\n",
        "    correct = []\n",
        "    vloss = []\n",
        "    \n",
        "    \n",
        "    if i % verb_step == 0 or i == num_iters-1:\n",
        "       \n",
        "        with tr.no_grad():\n",
        "            for example_2, label_2 in validation:\n",
        "               if tr.cuda.is_available():\n",
        "                    example_2, label_2 = example_2.cuda(), label_2.cuda()\n",
        "               logits = net(example_2)\n",
        "               v_loss = xc(logits,tr.tensor([label_2]))  \n",
        "               pred = logits.argmax()\n",
        "               correct.append(np.absolute(label_2-pred))\n",
        "               vloss.append(v_loss.item())\n",
        "        valid_accu.append(1-np.mean(correct))\n",
        "        valid_loss.append(np.mean(vloss))\n",
        "        print(f'Epoch:{i} loss:{loss.item()}\\tval_loss: {np.mean(vloss)}\\tval_acc: {1-np.mean(correct)}')\n",
        "        \n",
        "              \n",
        "\n",
        "#pt.plot(prediction)\n",
        "pt.plot(train_loss)\n",
        "pt.xlabel(\"Iteration\")\n",
        "pt.ylabel(\"Loss\")"
      ],
      "metadata": {
        "id": "-qmTf9YesNWt"
      },
      "execution_count": null,
      "outputs": []
    },
    {
      "cell_type": "code",
      "source": [
        "pt.plot(valid_accu)\n",
        "pt.plot(valid_loss)"
      ],
      "metadata": {
        "id": "Z4y8MhTyvJ88"
      },
      "execution_count": null,
      "outputs": []
    },
    {
      "cell_type": "code",
      "source": [
        "net = Net(4, 8)\n",
        "xc = tr.nn.CrossEntropyLoss()\n",
        "if tr.cuda.is_available():\n",
        "    net= net.cuda()\n",
        "\n",
        "opt = tr.optim.Adam(net.parameters(), lr=0.001)\n",
        "\n",
        "num_iters = 1000\n",
        "verb_step = 20\n",
        "train_loss = []\n",
        "valid_accu =[]\n",
        "valid_loss =[]\n",
        "for i in trange(num_iters):\n",
        "\n",
        "    example, label = random.choice(examples)\n",
        "    if tr.cuda.is_available():\n",
        "          example , label = example.cuda(), label.cuda()\n",
        "    logits = net(example)\n",
        "    loss = xc(logits, tr.tensor([label]))\n",
        "    train_loss.append(loss.item())\n",
        "\n",
        "    opt.zero_grad()\n",
        "    loss.backward()\n",
        "    opt.step()\n",
        "    correct = []\n",
        "    vloss = []\n",
        "    \n",
        "    \n",
        "    if i % verb_step == 0 or i == num_iters-1:\n",
        "       \n",
        "        with tr.no_grad():\n",
        "            for example_2, label_2 in validation:\n",
        "               if tr.cuda.is_available():\n",
        "                    example_2, label_2 = example_2.cuda(), label_2.cuda()\n",
        "               logits = net(example_2)\n",
        "               v_loss = xc(logits,tr.tensor([label_2]))  \n",
        "               pred = logits.argmax()\n",
        "               correct.append(np.absolute(label_2-pred))\n",
        "               vloss.append(v_loss.item())\n",
        "        valid_accu.append(1-np.mean(correct))\n",
        "        valid_loss.append(np.mean(vloss))\n",
        "        print(f'loss:{loss.item()} \\t\\tval_loss: {np.mean(vloss)}\\t\\t val_acc: {1-np.mean(correct)}  ')\n",
        "        \n",
        "              \n",
        "\n",
        "#pt.plot(prediction)\n",
        "pt.plot(train_loss)\n",
        "pt.xlabel(\"Iteration\")\n",
        "pt.ylabel(\"Loss\")\n"
      ],
      "metadata": {
        "id": "FuTlkI4nS7xp"
      },
      "execution_count": null,
      "outputs": []
    },
    {
      "cell_type": "code",
      "source": [
        "pt.plot(valid_accu)\n",
        "pt.plot(valid_loss)"
      ],
      "metadata": {
        "id": "PxV3uCebq-n3"
      },
      "execution_count": null,
      "outputs": []
    }
  ]
}