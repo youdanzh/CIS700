{
  "nbformat": 4,
  "nbformat_minor": 0,
  "metadata": {
    "colab": {
      "name": "transformers.ipynb",
      "provenance": [],
      "collapsed_sections": [],
      "include_colab_link": true
    },
    "kernelspec": {
      "name": "python3",
      "display_name": "Python 3"
    },
    "language_info": {
      "name": "python"
    },
    "widgets": {
      "application/vnd.jupyter.widget-state+json": {
        "afc5499876af471a980ad6230b0eeaca": {
          "model_module": "@jupyter-widgets/controls",
          "model_name": "HBoxModel",
          "model_module_version": "1.5.0",
          "state": {
            "_dom_classes": [],
            "_model_module": "@jupyter-widgets/controls",
            "_model_module_version": "1.5.0",
            "_model_name": "HBoxModel",
            "_view_count": null,
            "_view_module": "@jupyter-widgets/controls",
            "_view_module_version": "1.5.0",
            "_view_name": "HBoxView",
            "box_style": "",
            "children": [
              "IPY_MODEL_3711c349b99f420f92aea55b4f1b57d0",
              "IPY_MODEL_440dbf8b026943ecb1eae67dc552ed5a",
              "IPY_MODEL_0af045fdee9f402b81899f02a8770e1c"
            ],
            "layout": "IPY_MODEL_608e56ecd66740d6a6ba2ed1c2efd5ab"
          }
        },
        "3711c349b99f420f92aea55b4f1b57d0": {
          "model_module": "@jupyter-widgets/controls",
          "model_name": "HTMLModel",
          "model_module_version": "1.5.0",
          "state": {
            "_dom_classes": [],
            "_model_module": "@jupyter-widgets/controls",
            "_model_module_version": "1.5.0",
            "_model_name": "HTMLModel",
            "_view_count": null,
            "_view_module": "@jupyter-widgets/controls",
            "_view_module_version": "1.5.0",
            "_view_name": "HTMLView",
            "description": "",
            "description_tooltip": null,
            "layout": "IPY_MODEL_eb83f2b79f9e41798b801f54e794b08e",
            "placeholder": "​",
            "style": "IPY_MODEL_09a0add2337d479f93e5e73a53ef449c",
            "value": " 35%"
          }
        },
        "440dbf8b026943ecb1eae67dc552ed5a": {
          "model_module": "@jupyter-widgets/controls",
          "model_name": "FloatProgressModel",
          "model_module_version": "1.5.0",
          "state": {
            "_dom_classes": [],
            "_model_module": "@jupyter-widgets/controls",
            "_model_module_version": "1.5.0",
            "_model_name": "FloatProgressModel",
            "_view_count": null,
            "_view_module": "@jupyter-widgets/controls",
            "_view_module_version": "1.5.0",
            "_view_name": "ProgressView",
            "bar_style": "",
            "description": "",
            "description_tooltip": null,
            "layout": "IPY_MODEL_d280e72de398499a9164f12d5aa1ebd9",
            "max": 1000,
            "min": 0,
            "orientation": "horizontal",
            "style": "IPY_MODEL_2a9913614be94e05af8ac52c538f555a",
            "value": 353
          }
        },
        "0af045fdee9f402b81899f02a8770e1c": {
          "model_module": "@jupyter-widgets/controls",
          "model_name": "HTMLModel",
          "model_module_version": "1.5.0",
          "state": {
            "_dom_classes": [],
            "_model_module": "@jupyter-widgets/controls",
            "_model_module_version": "1.5.0",
            "_model_name": "HTMLModel",
            "_view_count": null,
            "_view_module": "@jupyter-widgets/controls",
            "_view_module_version": "1.5.0",
            "_view_name": "HTMLView",
            "description": "",
            "description_tooltip": null,
            "layout": "IPY_MODEL_e8320f98b59348cd9ddbf09ec8d1a994",
            "placeholder": "​",
            "style": "IPY_MODEL_a87d78e9d1b1424a83a34655f9528d1c",
            "value": " 353/1000 [07:09&lt;12:24,  1.15s/it]"
          }
        },
        "608e56ecd66740d6a6ba2ed1c2efd5ab": {
          "model_module": "@jupyter-widgets/base",
          "model_name": "LayoutModel",
          "model_module_version": "1.2.0",
          "state": {
            "_model_module": "@jupyter-widgets/base",
            "_model_module_version": "1.2.0",
            "_model_name": "LayoutModel",
            "_view_count": null,
            "_view_module": "@jupyter-widgets/base",
            "_view_module_version": "1.2.0",
            "_view_name": "LayoutView",
            "align_content": null,
            "align_items": null,
            "align_self": null,
            "border": null,
            "bottom": null,
            "display": null,
            "flex": null,
            "flex_flow": null,
            "grid_area": null,
            "grid_auto_columns": null,
            "grid_auto_flow": null,
            "grid_auto_rows": null,
            "grid_column": null,
            "grid_gap": null,
            "grid_row": null,
            "grid_template_areas": null,
            "grid_template_columns": null,
            "grid_template_rows": null,
            "height": null,
            "justify_content": null,
            "justify_items": null,
            "left": null,
            "margin": null,
            "max_height": null,
            "max_width": null,
            "min_height": null,
            "min_width": null,
            "object_fit": null,
            "object_position": null,
            "order": null,
            "overflow": null,
            "overflow_x": null,
            "overflow_y": null,
            "padding": null,
            "right": null,
            "top": null,
            "visibility": null,
            "width": null
          }
        },
        "eb83f2b79f9e41798b801f54e794b08e": {
          "model_module": "@jupyter-widgets/base",
          "model_name": "LayoutModel",
          "model_module_version": "1.2.0",
          "state": {
            "_model_module": "@jupyter-widgets/base",
            "_model_module_version": "1.2.0",
            "_model_name": "LayoutModel",
            "_view_count": null,
            "_view_module": "@jupyter-widgets/base",
            "_view_module_version": "1.2.0",
            "_view_name": "LayoutView",
            "align_content": null,
            "align_items": null,
            "align_self": null,
            "border": null,
            "bottom": null,
            "display": null,
            "flex": null,
            "flex_flow": null,
            "grid_area": null,
            "grid_auto_columns": null,
            "grid_auto_flow": null,
            "grid_auto_rows": null,
            "grid_column": null,
            "grid_gap": null,
            "grid_row": null,
            "grid_template_areas": null,
            "grid_template_columns": null,
            "grid_template_rows": null,
            "height": null,
            "justify_content": null,
            "justify_items": null,
            "left": null,
            "margin": null,
            "max_height": null,
            "max_width": null,
            "min_height": null,
            "min_width": null,
            "object_fit": null,
            "object_position": null,
            "order": null,
            "overflow": null,
            "overflow_x": null,
            "overflow_y": null,
            "padding": null,
            "right": null,
            "top": null,
            "visibility": null,
            "width": null
          }
        },
        "09a0add2337d479f93e5e73a53ef449c": {
          "model_module": "@jupyter-widgets/controls",
          "model_name": "DescriptionStyleModel",
          "model_module_version": "1.5.0",
          "state": {
            "_model_module": "@jupyter-widgets/controls",
            "_model_module_version": "1.5.0",
            "_model_name": "DescriptionStyleModel",
            "_view_count": null,
            "_view_module": "@jupyter-widgets/base",
            "_view_module_version": "1.2.0",
            "_view_name": "StyleView",
            "description_width": ""
          }
        },
        "d280e72de398499a9164f12d5aa1ebd9": {
          "model_module": "@jupyter-widgets/base",
          "model_name": "LayoutModel",
          "model_module_version": "1.2.0",
          "state": {
            "_model_module": "@jupyter-widgets/base",
            "_model_module_version": "1.2.0",
            "_model_name": "LayoutModel",
            "_view_count": null,
            "_view_module": "@jupyter-widgets/base",
            "_view_module_version": "1.2.0",
            "_view_name": "LayoutView",
            "align_content": null,
            "align_items": null,
            "align_self": null,
            "border": null,
            "bottom": null,
            "display": null,
            "flex": null,
            "flex_flow": null,
            "grid_area": null,
            "grid_auto_columns": null,
            "grid_auto_flow": null,
            "grid_auto_rows": null,
            "grid_column": null,
            "grid_gap": null,
            "grid_row": null,
            "grid_template_areas": null,
            "grid_template_columns": null,
            "grid_template_rows": null,
            "height": null,
            "justify_content": null,
            "justify_items": null,
            "left": null,
            "margin": null,
            "max_height": null,
            "max_width": null,
            "min_height": null,
            "min_width": null,
            "object_fit": null,
            "object_position": null,
            "order": null,
            "overflow": null,
            "overflow_x": null,
            "overflow_y": null,
            "padding": null,
            "right": null,
            "top": null,
            "visibility": null,
            "width": null
          }
        },
        "2a9913614be94e05af8ac52c538f555a": {
          "model_module": "@jupyter-widgets/controls",
          "model_name": "ProgressStyleModel",
          "model_module_version": "1.5.0",
          "state": {
            "_model_module": "@jupyter-widgets/controls",
            "_model_module_version": "1.5.0",
            "_model_name": "ProgressStyleModel",
            "_view_count": null,
            "_view_module": "@jupyter-widgets/base",
            "_view_module_version": "1.2.0",
            "_view_name": "StyleView",
            "bar_color": null,
            "description_width": ""
          }
        },
        "e8320f98b59348cd9ddbf09ec8d1a994": {
          "model_module": "@jupyter-widgets/base",
          "model_name": "LayoutModel",
          "model_module_version": "1.2.0",
          "state": {
            "_model_module": "@jupyter-widgets/base",
            "_model_module_version": "1.2.0",
            "_model_name": "LayoutModel",
            "_view_count": null,
            "_view_module": "@jupyter-widgets/base",
            "_view_module_version": "1.2.0",
            "_view_name": "LayoutView",
            "align_content": null,
            "align_items": null,
            "align_self": null,
            "border": null,
            "bottom": null,
            "display": null,
            "flex": null,
            "flex_flow": null,
            "grid_area": null,
            "grid_auto_columns": null,
            "grid_auto_flow": null,
            "grid_auto_rows": null,
            "grid_column": null,
            "grid_gap": null,
            "grid_row": null,
            "grid_template_areas": null,
            "grid_template_columns": null,
            "grid_template_rows": null,
            "height": null,
            "justify_content": null,
            "justify_items": null,
            "left": null,
            "margin": null,
            "max_height": null,
            "max_width": null,
            "min_height": null,
            "min_width": null,
            "object_fit": null,
            "object_position": null,
            "order": null,
            "overflow": null,
            "overflow_x": null,
            "overflow_y": null,
            "padding": null,
            "right": null,
            "top": null,
            "visibility": null,
            "width": null
          }
        },
        "a87d78e9d1b1424a83a34655f9528d1c": {
          "model_module": "@jupyter-widgets/controls",
          "model_name": "DescriptionStyleModel",
          "model_module_version": "1.5.0",
          "state": {
            "_model_module": "@jupyter-widgets/controls",
            "_model_module_version": "1.5.0",
            "_model_name": "DescriptionStyleModel",
            "_view_count": null,
            "_view_module": "@jupyter-widgets/base",
            "_view_module_version": "1.2.0",
            "_view_name": "StyleView",
            "description_width": ""
          }
        },
        "b49fad9ba14f49a1be6f3b4ab4ce3053": {
          "model_module": "@jupyter-widgets/controls",
          "model_name": "HBoxModel",
          "model_module_version": "1.5.0",
          "state": {
            "_dom_classes": [],
            "_model_module": "@jupyter-widgets/controls",
            "_model_module_version": "1.5.0",
            "_model_name": "HBoxModel",
            "_view_count": null,
            "_view_module": "@jupyter-widgets/controls",
            "_view_module_version": "1.5.0",
            "_view_name": "HBoxView",
            "box_style": "",
            "children": [
              "IPY_MODEL_169dc976f90346668f024d3730905824",
              "IPY_MODEL_4d3793c3e92e45c6819dc242ad88e568",
              "IPY_MODEL_968a0c0abad14660b73a023d857a30ac"
            ],
            "layout": "IPY_MODEL_a56ad78b178b485693ed5a3d4d8529a8"
          }
        },
        "169dc976f90346668f024d3730905824": {
          "model_module": "@jupyter-widgets/controls",
          "model_name": "HTMLModel",
          "model_module_version": "1.5.0",
          "state": {
            "_dom_classes": [],
            "_model_module": "@jupyter-widgets/controls",
            "_model_module_version": "1.5.0",
            "_model_name": "HTMLModel",
            "_view_count": null,
            "_view_module": "@jupyter-widgets/controls",
            "_view_module_version": "1.5.0",
            "_view_name": "HTMLView",
            "description": "",
            "description_tooltip": null,
            "layout": "IPY_MODEL_f85831c669fa47ef998ba3f6d3e8fa40",
            "placeholder": "​",
            "style": "IPY_MODEL_4656b9a2a1f44801aaa67044a746fea4",
            "value": " 23%"
          }
        },
        "4d3793c3e92e45c6819dc242ad88e568": {
          "model_module": "@jupyter-widgets/controls",
          "model_name": "FloatProgressModel",
          "model_module_version": "1.5.0",
          "state": {
            "_dom_classes": [],
            "_model_module": "@jupyter-widgets/controls",
            "_model_module_version": "1.5.0",
            "_model_name": "FloatProgressModel",
            "_view_count": null,
            "_view_module": "@jupyter-widgets/controls",
            "_view_module_version": "1.5.0",
            "_view_name": "ProgressView",
            "bar_style": "",
            "description": "",
            "description_tooltip": null,
            "layout": "IPY_MODEL_b21d4299dfed49658036148210c0df47",
            "max": 200,
            "min": 0,
            "orientation": "horizontal",
            "style": "IPY_MODEL_969b8b8e8fe446e0929250c89a35b9fb",
            "value": 46
          }
        },
        "968a0c0abad14660b73a023d857a30ac": {
          "model_module": "@jupyter-widgets/controls",
          "model_name": "HTMLModel",
          "model_module_version": "1.5.0",
          "state": {
            "_dom_classes": [],
            "_model_module": "@jupyter-widgets/controls",
            "_model_module_version": "1.5.0",
            "_model_name": "HTMLModel",
            "_view_count": null,
            "_view_module": "@jupyter-widgets/controls",
            "_view_module_version": "1.5.0",
            "_view_name": "HTMLView",
            "description": "",
            "description_tooltip": null,
            "layout": "IPY_MODEL_9935cbfd1588443892417cd5241afca2",
            "placeholder": "​",
            "style": "IPY_MODEL_8704092f49d34aaeab4314dfd91570b9",
            "value": " 46/200 [00:20&lt;01:06,  2.30it/s]"
          }
        },
        "a56ad78b178b485693ed5a3d4d8529a8": {
          "model_module": "@jupyter-widgets/base",
          "model_name": "LayoutModel",
          "model_module_version": "1.2.0",
          "state": {
            "_model_module": "@jupyter-widgets/base",
            "_model_module_version": "1.2.0",
            "_model_name": "LayoutModel",
            "_view_count": null,
            "_view_module": "@jupyter-widgets/base",
            "_view_module_version": "1.2.0",
            "_view_name": "LayoutView",
            "align_content": null,
            "align_items": null,
            "align_self": null,
            "border": null,
            "bottom": null,
            "display": null,
            "flex": null,
            "flex_flow": null,
            "grid_area": null,
            "grid_auto_columns": null,
            "grid_auto_flow": null,
            "grid_auto_rows": null,
            "grid_column": null,
            "grid_gap": null,
            "grid_row": null,
            "grid_template_areas": null,
            "grid_template_columns": null,
            "grid_template_rows": null,
            "height": null,
            "justify_content": null,
            "justify_items": null,
            "left": null,
            "margin": null,
            "max_height": null,
            "max_width": null,
            "min_height": null,
            "min_width": null,
            "object_fit": null,
            "object_position": null,
            "order": null,
            "overflow": null,
            "overflow_x": null,
            "overflow_y": null,
            "padding": null,
            "right": null,
            "top": null,
            "visibility": null,
            "width": null
          }
        },
        "f85831c669fa47ef998ba3f6d3e8fa40": {
          "model_module": "@jupyter-widgets/base",
          "model_name": "LayoutModel",
          "model_module_version": "1.2.0",
          "state": {
            "_model_module": "@jupyter-widgets/base",
            "_model_module_version": "1.2.0",
            "_model_name": "LayoutModel",
            "_view_count": null,
            "_view_module": "@jupyter-widgets/base",
            "_view_module_version": "1.2.0",
            "_view_name": "LayoutView",
            "align_content": null,
            "align_items": null,
            "align_self": null,
            "border": null,
            "bottom": null,
            "display": null,
            "flex": null,
            "flex_flow": null,
            "grid_area": null,
            "grid_auto_columns": null,
            "grid_auto_flow": null,
            "grid_auto_rows": null,
            "grid_column": null,
            "grid_gap": null,
            "grid_row": null,
            "grid_template_areas": null,
            "grid_template_columns": null,
            "grid_template_rows": null,
            "height": null,
            "justify_content": null,
            "justify_items": null,
            "left": null,
            "margin": null,
            "max_height": null,
            "max_width": null,
            "min_height": null,
            "min_width": null,
            "object_fit": null,
            "object_position": null,
            "order": null,
            "overflow": null,
            "overflow_x": null,
            "overflow_y": null,
            "padding": null,
            "right": null,
            "top": null,
            "visibility": null,
            "width": null
          }
        },
        "4656b9a2a1f44801aaa67044a746fea4": {
          "model_module": "@jupyter-widgets/controls",
          "model_name": "DescriptionStyleModel",
          "model_module_version": "1.5.0",
          "state": {
            "_model_module": "@jupyter-widgets/controls",
            "_model_module_version": "1.5.0",
            "_model_name": "DescriptionStyleModel",
            "_view_count": null,
            "_view_module": "@jupyter-widgets/base",
            "_view_module_version": "1.2.0",
            "_view_name": "StyleView",
            "description_width": ""
          }
        },
        "b21d4299dfed49658036148210c0df47": {
          "model_module": "@jupyter-widgets/base",
          "model_name": "LayoutModel",
          "model_module_version": "1.2.0",
          "state": {
            "_model_module": "@jupyter-widgets/base",
            "_model_module_version": "1.2.0",
            "_model_name": "LayoutModel",
            "_view_count": null,
            "_view_module": "@jupyter-widgets/base",
            "_view_module_version": "1.2.0",
            "_view_name": "LayoutView",
            "align_content": null,
            "align_items": null,
            "align_self": null,
            "border": null,
            "bottom": null,
            "display": null,
            "flex": null,
            "flex_flow": null,
            "grid_area": null,
            "grid_auto_columns": null,
            "grid_auto_flow": null,
            "grid_auto_rows": null,
            "grid_column": null,
            "grid_gap": null,
            "grid_row": null,
            "grid_template_areas": null,
            "grid_template_columns": null,
            "grid_template_rows": null,
            "height": null,
            "justify_content": null,
            "justify_items": null,
            "left": null,
            "margin": null,
            "max_height": null,
            "max_width": null,
            "min_height": null,
            "min_width": null,
            "object_fit": null,
            "object_position": null,
            "order": null,
            "overflow": null,
            "overflow_x": null,
            "overflow_y": null,
            "padding": null,
            "right": null,
            "top": null,
            "visibility": null,
            "width": null
          }
        },
        "969b8b8e8fe446e0929250c89a35b9fb": {
          "model_module": "@jupyter-widgets/controls",
          "model_name": "ProgressStyleModel",
          "model_module_version": "1.5.0",
          "state": {
            "_model_module": "@jupyter-widgets/controls",
            "_model_module_version": "1.5.0",
            "_model_name": "ProgressStyleModel",
            "_view_count": null,
            "_view_module": "@jupyter-widgets/base",
            "_view_module_version": "1.2.0",
            "_view_name": "StyleView",
            "bar_color": null,
            "description_width": ""
          }
        },
        "9935cbfd1588443892417cd5241afca2": {
          "model_module": "@jupyter-widgets/base",
          "model_name": "LayoutModel",
          "model_module_version": "1.2.0",
          "state": {
            "_model_module": "@jupyter-widgets/base",
            "_model_module_version": "1.2.0",
            "_model_name": "LayoutModel",
            "_view_count": null,
            "_view_module": "@jupyter-widgets/base",
            "_view_module_version": "1.2.0",
            "_view_name": "LayoutView",
            "align_content": null,
            "align_items": null,
            "align_self": null,
            "border": null,
            "bottom": null,
            "display": null,
            "flex": null,
            "flex_flow": null,
            "grid_area": null,
            "grid_auto_columns": null,
            "grid_auto_flow": null,
            "grid_auto_rows": null,
            "grid_column": null,
            "grid_gap": null,
            "grid_row": null,
            "grid_template_areas": null,
            "grid_template_columns": null,
            "grid_template_rows": null,
            "height": null,
            "justify_content": null,
            "justify_items": null,
            "left": null,
            "margin": null,
            "max_height": null,
            "max_width": null,
            "min_height": null,
            "min_width": null,
            "object_fit": null,
            "object_position": null,
            "order": null,
            "overflow": null,
            "overflow_x": null,
            "overflow_y": null,
            "padding": null,
            "right": null,
            "top": null,
            "visibility": null,
            "width": null
          }
        },
        "8704092f49d34aaeab4314dfd91570b9": {
          "model_module": "@jupyter-widgets/controls",
          "model_name": "DescriptionStyleModel",
          "model_module_version": "1.5.0",
          "state": {
            "_model_module": "@jupyter-widgets/controls",
            "_model_module_version": "1.5.0",
            "_model_name": "DescriptionStyleModel",
            "_view_count": null,
            "_view_module": "@jupyter-widgets/base",
            "_view_module_version": "1.2.0",
            "_view_name": "StyleView",
            "description_width": ""
          }
        }
      }
    }
  },
  "cells": [
    {
      "cell_type": "markdown",
      "metadata": {
        "id": "view-in-github",
        "colab_type": "text"
      },
      "source": [
        "<a href=\"https://colab.research.google.com/github/youdanzh/CIS700-projects/blob/main/transformers.ipynb\" target=\"_parent\"><img src=\"https://colab.research.google.com/assets/colab-badge.svg\" alt=\"Open In Colab\"/></a>"
      ]
    },
    {
      "cell_type": "code",
      "execution_count": 1,
      "metadata": {
        "id": "pasXsTAnxxsB"
      },
      "outputs": [],
      "source": [
        "import random\n",
        "import torch as tr\n",
        "import matplotlib.pyplot as pt\n",
        "from tqdm.notebook import trange\n",
        "import numpy as np"
      ]
    },
    {
      "cell_type": "code",
      "source": [
        "examples = []\n",
        "header = True\n",
        "\n",
        "with open(\"data/00001\", \"r\") as f:\n",
        "  counter = 0\n",
        "  clause = \"\"\n",
        "  for line in f:\n",
        "    counter += 1\n",
        "    if line[0] == \"T\" and counter == 3:\n",
        "      clause = line[2:]\n",
        "    if line[0] in \"+-\":\n",
        "      header = False\n",
        "      label = 0 if line[0] == \"-\" else 1\n",
        "    elif not header:\n",
        "      clause_steps = line[2:] + \" & \" + clause\n",
        "      #print(clause_steps)\n",
        "      examples.append((clause_steps.strip(),label))\n",
        "      \n",
        "#for e,(example,label) in enumerate(examples[:10]):\n",
        " # print(label, example)\n",
        "for i in range(10):\n",
        "  print(examples[i])\n",
        "len(examples)"
      ],
      "metadata": {
        "id": "dkdllvdayS73",
        "colab": {
          "base_uri": "https://localhost:8080/"
        },
        "outputId": "7157bfde-6065-4f4b-df8d-11d06f792276"
      },
      "execution_count": 12,
      "outputs": [
        {
          "output_type": "stream",
          "name": "stdout",
          "text": [
            "('c==> c/\\\\ creal_ge creal_of_int f0 creal_of_num cNUMERAL c_0 c/\\\\ creal_ge creal_of_int f1 creal_of_num cNUMERAL c_0 c/\\\\ creal_ge creal_of_int f2 creal_of_num cNUMERAL c_0 c/\\\\ creal_ge creal_of_int f3 creal_of_num cNUMERAL c_0 c/\\\\ c/\\\\ creal_ge creal_add creal_mul creal_neg creal_of_num cNUMERAL cBIT1 c_0 creal_of_int f2 creal_add creal_of_int f3 creal_neg creal_of_num cNUMERAL cBIT1 c_0 creal_of_num cNUMERAL c_0 c= creal_of_int f1 creal_of_num cNUMERAL c_0 c/\\\\ c/\\\\ creal_ge creal_add creal_mul creal_neg creal_of_num cNUMERAL cBIT1 c_0 creal_of_int f2 creal_add creal_of_int f3 creal_neg creal_of_num cNUMERAL cBIT1 c_0 creal_of_num cNUMERAL c_0 c= creal_of_int f0 creal_of_num cNUMERAL c_0 creal_ge creal_add creal_mul creal_neg creal_of_num cNUMERAL cBIT1 c_0 creal_of_int f0 creal_add creal_of_int f1 creal_neg creal_of_num cNUMERAL cBIT1 c_0 creal_of_num cNUMERAL c_0 c/\\\\ c/\\\\ creal_ge creal_of_int f0 creal_of_num cNUMERAL c_0 c/\\\\ creal_ge creal_of_int f1 creal_of_num cNUMERAL c_0 c/\\\\ creal_ge creal_of_int f2 creal_of_num cNUMERAL c_0 c/\\\\ creal_ge creal_of_int f3 creal_of_num cNUMERAL c_0 c/\\\\ c/\\\\ creal_ge creal_add creal_mul creal_neg creal_of_num cNUMERAL cBIT1 c_0 creal_of_int f2 creal_add creal_of_int f3 creal_neg creal_of_num cNUMERAL cBIT1 c_0 creal_of_num cNUMERAL c_0 c= creal_of_int f1 creal_of_num cNUMERAL c_0 c/\\\\ c/\\\\ creal_ge creal_add creal_mul creal_neg creal_of_num cNUMERAL cBIT1 c_0 creal_of_int f2 creal_add creal_of_int f3 creal_neg creal_of_num cNUMERAL cBIT1 c_0 creal_of_num cNUMERAL c_0 c= creal_of_int f0 creal_of_num cNUMERAL c_0 creal_ge creal_add creal_mul creal_neg creal_of_num cNUMERAL cBIT1 c_0 creal_of_int f0 creal_add creal_of_int f1 creal_neg creal_of_num cNUMERAL cBIT1 c_0 creal_of_num cNUMERAL c_0 cF\\n & c= c- cSUC f0 cSUC f1 c- f0 f1', 1)\n",
            "('c==> c/\\\\ creal_ge creal_of_int f0 creal_of_num cNUMERAL c_0 c/\\\\ creal_ge creal_of_int f1 creal_of_num cNUMERAL c_0 c/\\\\ creal_ge creal_of_int f2 creal_of_num cNUMERAL c_0 c/\\\\ creal_ge creal_of_int f3 creal_of_num cNUMERAL c_0 c/\\\\ c/\\\\ creal_ge creal_add creal_mul creal_neg creal_of_num cNUMERAL cBIT1 c_0 creal_of_int f2 creal_add creal_of_int f3 creal_neg creal_of_num cNUMERAL cBIT1 c_0 creal_of_num cNUMERAL c_0 c= creal_of_int f1 creal_of_num cNUMERAL c_0 c/\\\\ c= creal_add creal_mul creal_neg creal_of_num cNUMERAL cBIT1 c_0 creal_of_int f0 creal_add creal_of_int f2 creal_mul creal_neg creal_of_num cNUMERAL cBIT1 c_0 creal_of_int f3 creal_of_num cNUMERAL c_0 creal_ge creal_add creal_of_int f0 creal_add creal_mul creal_neg creal_of_num cNUMERAL cBIT1 c_0 creal_of_int f1 creal_neg creal_of_num cNUMERAL cBIT1 c_0 creal_of_num cNUMERAL c_0 creal_ge creal_add creal_add creal_mul creal_neg creal_of_num cNUMERAL cBIT1 c_0 creal_of_int f0 creal_add creal_of_int f2 creal_mul creal_neg creal_of_num cNUMERAL cBIT1 c_0 creal_of_int f3 creal_add creal_mul creal_neg creal_of_num cNUMERAL cBIT1 c_0 creal_of_int f2 creal_add creal_of_int f3 creal_neg creal_of_num cNUMERAL cBIT1 c_0 creal_of_num cNUMERAL c_0\\n & c= c- cSUC f0 cSUC f1 c- f0 f1', 1)\n",
            "('c==> c/\\\\ creal_ge creal_of_int f0 creal_of_num cNUMERAL c_0 c/\\\\ creal_ge creal_of_int f1 creal_of_num cNUMERAL c_0 c/\\\\ c/\\\\ creal_ge creal_neg creal_of_num cNUMERAL cBIT1 c_0 creal_of_num cNUMERAL c_0 c= creal_of_int f0 creal_of_num cNUMERAL c_0 creal_ge creal_add creal_of_int f0 creal_neg creal_of_num cNUMERAL cBIT1 c_0 creal_of_num cNUMERAL c_0 c= c==> ! c= creal_mul b0 creal_of_int f0 creal_of_num cNUMERAL c_0 * / c= creal_mul b0 creal_of_int f0 creal_of_num cNUMERAL c_0 creal_neg creal_of_num cNUMERAL cBIT1 c_0 * / c= creal_mul b0 creal_of_int f0 creal_of_num cNUMERAL c_0 creal_neg creal_of_num cNUMERAL cBIT1 c_0\\n & c= c- cSUC f0 cSUC f1 c- f0 f1', 0)\n",
            "('c==> c/\\\\ creal_ge creal_of_int f0 creal_of_num cNUMERAL c_0 c/\\\\ creal_ge creal_of_int f1 creal_of_num cNUMERAL c_0 c/\\\\ creal_ge creal_of_int f2 creal_of_num cNUMERAL c_0 c/\\\\ creal_ge creal_of_int f3 creal_of_num cNUMERAL c_0 c/\\\\ c/\\\\ creal_ge creal_add creal_mul creal_neg creal_of_num cNUMERAL cBIT1 c_0 creal_of_int f2 creal_add creal_of_int f3 creal_neg creal_of_num cNUMERAL cBIT1 c_0 creal_of_num cNUMERAL c_0 c= creal_of_int f1 creal_of_num cNUMERAL c_0 c/\\\\ c= creal_add creal_mul creal_neg creal_of_num cNUMERAL cBIT1 c_0 creal_of_int f0 creal_add creal_of_int f2 creal_mul creal_neg creal_of_num cNUMERAL cBIT1 c_0 creal_of_int f3 creal_of_num cNUMERAL c_0 creal_ge creal_add creal_of_int f0 creal_add creal_mul creal_neg creal_of_num cNUMERAL cBIT1 c_0 creal_of_int f1 creal_neg creal_of_num cNUMERAL cBIT1 c_0 creal_of_num cNUMERAL c_0 c= c==> ! c= creal_mul b0 creal_of_int f1 creal_of_num cNUMERAL c_0 * / c= creal_mul b0 creal_of_int f1 creal_of_num cNUMERAL c_0 creal_of_num cNUMERAL cBIT1 c_0 * / c= creal_mul b0 creal_of_int f1 creal_of_num cNUMERAL c_0 creal_of_num cNUMERAL cBIT1 c_0\\n & c= c- cSUC f0 cSUC f1 c- f0 f1', 0)\n",
            "('c==> c/\\\\ creal_ge creal_of_int f0 creal_of_num cNUMERAL c_0 c/\\\\ creal_ge creal_of_int f1 creal_of_num cNUMERAL c_0 c/\\\\ creal_ge creal_of_int f2 creal_of_num cNUMERAL c_0 c/\\\\ creal_ge creal_of_int f3 creal_of_num cNUMERAL c_0 c/\\\\ c= creal_add creal_mul creal_neg creal_of_num cNUMERAL cBIT1 c_0 creal_of_int f1 creal_add creal_of_int f2 creal_mul creal_neg creal_of_num cNUMERAL cBIT1 c_0 creal_of_int f3 creal_of_num cNUMERAL c_0 c/\\\\ c/\\\\ creal_ge creal_add creal_mul creal_neg creal_of_num cNUMERAL cBIT1 c_0 creal_of_int f2 creal_add creal_of_int f3 creal_neg creal_of_num cNUMERAL cBIT1 c_0 creal_of_num cNUMERAL c_0 c= creal_of_int f0 creal_of_num cNUMERAL c_0 creal_ge creal_add creal_mul creal_neg creal_of_num cNUMERAL cBIT1 c_0 creal_of_int f0 creal_add creal_of_int f1 creal_neg creal_of_num cNUMERAL cBIT1 c_0 creal_of_num cNUMERAL c_0 creal_ge creal_add creal_of_int f0 creal_add creal_mul creal_neg creal_of_num cNUMERAL cBIT1 c_0 creal_of_int f0 creal_add creal_of_int f1 creal_neg creal_of_num cNUMERAL cBIT1 c_0 creal_of_num cNUMERAL c_0\\n & c= c- cSUC f0 cSUC f1 c- f0 f1', 1)\n",
            "('c= c= f0 f1 c= cint_of_num f0 cint_of_num f1\\n & c= c- cSUC f0 cSUC f1 c- f0 f1', 1)\n",
            "('c==> c/\\\\ creal_ge creal_of_int f0 creal_of_num cNUMERAL c_0 c/\\\\ creal_ge creal_of_int f1 creal_of_num cNUMERAL c_0 c/\\\\ creal_ge creal_of_int f2 creal_of_num cNUMERAL c_0 c/\\\\ creal_ge creal_of_int f3 creal_of_num cNUMERAL c_0 c/\\\\ c/\\\\ creal_ge creal_add creal_mul creal_neg creal_of_num cNUMERAL cBIT1 c_0 creal_of_int f2 creal_add creal_of_int f3 creal_neg creal_of_num cNUMERAL cBIT1 c_0 creal_of_num cNUMERAL c_0 c= creal_of_int f1 creal_of_num cNUMERAL c_0 c/\\\\ c= creal_add creal_mul creal_neg creal_of_num cNUMERAL cBIT1 c_0 creal_of_int f0 creal_add creal_of_int f2 creal_mul creal_neg creal_of_num cNUMERAL cBIT1 c_0 creal_of_int f3 creal_of_num cNUMERAL c_0 creal_ge creal_add creal_mul creal_neg creal_of_num cNUMERAL cBIT1 c_0 creal_of_int f0 creal_add creal_of_int f1 creal_neg creal_of_num cNUMERAL cBIT1 c_0 creal_of_num cNUMERAL c_0 c/\\\\ creal_ge creal_of_int f2 creal_of_num cNUMERAL c_0 c/\\\\ creal_ge creal_of_int f3 creal_of_num cNUMERAL c_0 c/\\\\ c/\\\\ creal_ge creal_add creal_mul creal_neg creal_of_num cNUMERAL cBIT1 c_0 creal_of_int f2 creal_add creal_of_int f3 creal_neg creal_of_num cNUMERAL cBIT1 c_0 creal_of_num cNUMERAL c_0 c= creal_of_int f1 creal_of_num cNUMERAL c_0 c/\\\\ c= creal_add creal_mul creal_neg creal_of_num cNUMERAL cBIT1 c_0 creal_of_int f0 creal_add creal_of_int f2 creal_mul creal_neg creal_of_num cNUMERAL cBIT1 c_0 creal_of_int f3 creal_of_num cNUMERAL c_0 creal_ge creal_add creal_mul creal_neg creal_of_num cNUMERAL cBIT1 c_0 creal_of_int f0 creal_add creal_of_int f1 creal_neg creal_of_num cNUMERAL cBIT1 c_0 creal_of_num cNUMERAL c_0\\n & c= c- cSUC f0 cSUC f1 c- f0 f1', 1)\n",
            "('c==> c/\\\\ creal_ge creal_of_int f0 creal_of_num cNUMERAL c_0 c/\\\\ creal_ge creal_of_int f1 creal_of_num cNUMERAL c_0 c/\\\\ creal_ge creal_of_int f2 creal_of_num cNUMERAL c_0 c/\\\\ creal_ge creal_of_int f3 creal_of_num cNUMERAL c_0 c/\\\\ c/\\\\ creal_ge creal_add creal_mul creal_neg creal_of_num cNUMERAL cBIT1 c_0 creal_of_int f2 creal_add creal_of_int f3 creal_neg creal_of_num cNUMERAL cBIT1 c_0 creal_of_num cNUMERAL c_0 c= creal_of_int f1 creal_of_num cNUMERAL c_0 c/\\\\ c/\\\\ creal_ge creal_add creal_mul creal_neg creal_of_num cNUMERAL cBIT1 c_0 creal_of_int f2 creal_add creal_of_int f3 creal_neg creal_of_num cNUMERAL cBIT1 c_0 creal_of_num cNUMERAL c_0 c= creal_of_int f0 creal_of_num cNUMERAL c_0 creal_ge creal_add creal_mul creal_neg creal_of_num cNUMERAL cBIT1 c_0 creal_of_int f0 creal_add creal_of_int f1 creal_neg creal_of_num cNUMERAL cBIT1 c_0 creal_of_num cNUMERAL c_0 c/\\\\ creal_gt creal_of_num cNUMERAL cBIT1 c_0 creal_of_num cNUMERAL c_0 creal_ge creal_add creal_mul creal_neg creal_of_num cNUMERAL cBIT1 c_0 creal_of_int f0 creal_add creal_of_int f1 creal_neg creal_of_num cNUMERAL cBIT1 c_0 creal_of_num cNUMERAL c_0\\n & c= c- cSUC f0 cSUC f1 c- f0 f1', 0)\n",
            "('c==> c\\\\/ c\\\\/ c/\\\\ creal_ge creal_of_int f0 creal_of_num cNUMERAL c_0 c/\\\\ creal_ge creal_of_int f1 creal_of_num cNUMERAL c_0 c/\\\\ creal_ge creal_of_int f2 creal_of_num cNUMERAL c_0 c/\\\\ creal_ge creal_of_int f3 creal_of_num cNUMERAL c_0 c/\\\\ c= creal_add creal_mul creal_neg creal_of_num cNUMERAL cBIT1 c_0 creal_of_int f1 creal_add creal_of_int f2 creal_mul creal_neg creal_of_num cNUMERAL cBIT1 c_0 creal_of_int f3 creal_of_num cNUMERAL c_0 c/\\\\ c= creal_add creal_mul creal_neg creal_of_num cNUMERAL cBIT1 c_0 creal_of_int f0 creal_add creal_of_int f2 creal_mul creal_neg creal_of_num cNUMERAL cBIT1 c_0 creal_of_int f3 creal_of_num cNUMERAL c_0 creal_ge creal_add creal_mul creal_neg creal_of_num cNUMERAL cBIT1 c_0 creal_of_int f0 creal_add creal_of_int f1 creal_neg creal_of_num cNUMERAL cBIT1 c_0 creal_of_num cNUMERAL c_0 c/\\\\ creal_ge creal_of_int f0 creal_of_num cNUMERAL c_0 c/\\\\ creal_ge creal_of_int f1 creal_of_num cNUMERAL c_0 c/\\\\ creal_ge creal_of_int f2 creal_of_num cNUMERAL c_0 c/\\\\ creal_ge creal_of_int f3 creal_of_num cNUMERAL c_0 c/\\\\ c/\\\\ creal_ge creal_add creal_mul creal_neg creal_of_num cNUMERAL cBIT1 c_0 creal_of_int f2 creal_add creal_of_int f3 creal_neg creal_of_num cNUMERAL cBIT1 c_0 creal_of_num cNUMERAL c_0 c= creal_of_int f1 creal_of_num cNUMERAL c_0 c/\\\\ c= creal_add creal_mul creal_neg creal_of_num cNUMERAL cBIT1 c_0 creal_of_int f0 creal_add creal_of_int f2 creal_mul creal_neg creal_of_num cNUMERAL cBIT1 c_0 creal_of_int f3 creal_of_num cNUMERAL c_0 creal_ge creal_add creal_mul creal_neg creal_of_num cNUMERAL cBIT1 c_0 creal_of_int f0 creal_add creal_of_int f1 creal_neg creal_of_num cNUMERAL cBIT1 c_0 creal_of_num cNUMERAL c_0 c\\\\/ c/\\\\ creal_ge creal_of_int f0 creal_of_num cNUMERAL c_0 c/\\\\ creal_ge creal_of_int f1 creal_of_num cNUMERAL c_0 c/\\\\ creal_ge creal_of_int f2 creal_of_num cNUMERAL c_0 c/\\\\ creal_ge creal_of_int f3 creal_of_num cNUMERAL c_0 c/\\\\ c= creal_add creal_mul creal_neg creal_of_num cNUMERAL cBIT1 c_0 creal_of_int f1 creal_add creal_of_int f2 creal_mul creal_neg creal_of_num cNUMERAL cBIT1 c_0 creal_of_int f3 creal_of_num cNUMERAL c_0 c/\\\\ c/\\\\ creal_ge creal_add creal_mul creal_neg creal_of_num cNUMERAL cBIT1 c_0 creal_of_int f2 creal_add creal_of_int f3 creal_neg creal_of_num cNUMERAL cBIT1 c_0 creal_of_num cNUMERAL c_0 c= creal_of_int f0 creal_of_num cNUMERAL c_0 creal_ge creal_add creal_mul creal_neg creal_of_num cNUMERAL cBIT1 c_0 creal_of_int f0 creal_add creal_of_int f1 creal_neg creal_of_num cNUMERAL cBIT1 c_0 creal_of_num cNUMERAL c_0 c/\\\\ creal_ge creal_of_int f0 creal_of_num cNUMERAL c_0 c/\\\\ creal_ge creal_of_int f1 creal_of_num cNUMERAL c_0 c/\\\\ creal_ge creal_of_int f2 creal_of_num cNUMERAL c_0 c/\\\\ creal_ge creal_of_int f3 creal_of_num cNUMERAL c_0 c/\\\\ c/\\\\ creal_ge creal_add creal_mul creal_neg creal_of_num cNUMERAL cBIT1 c_0 creal_of_int f2 creal_add creal_of_int f3 creal_neg creal_of_num cNUMERAL cBIT1 c_0 creal_of_num cNUMERAL c_0 c= creal_of_int f1 creal_of_num cNUMERAL c_0 c/\\\\ c/\\\\ creal_ge creal_add creal_mul creal_neg creal_of_num cNUMERAL cBIT1 c_0 creal_of_int f2 creal_add creal_of_int f3 creal_neg creal_of_num cNUMERAL cBIT1 c_0 creal_of_num cNUMERAL c_0 c= creal_of_int f0 creal_of_num cNUMERAL c_0 creal_ge creal_add creal_mul creal_neg creal_of_num cNUMERAL cBIT1 c_0 creal_of_int f0 creal_add creal_of_int f1 creal_neg creal_of_num cNUMERAL cBIT1 c_0 creal_of_num cNUMERAL c_0 cF\\n & c= c- cSUC f0 cSUC f1 c- f0 f1', 1)\n",
            "('c==> c/\\\\ creal_ge creal_of_int f0 creal_of_num cNUMERAL c_0 c/\\\\ creal_ge creal_of_int f1 creal_of_num cNUMERAL c_0 c/\\\\ creal_ge creal_of_int f2 creal_of_num cNUMERAL c_0 c/\\\\ creal_ge creal_of_int f3 creal_of_num cNUMERAL c_0 c/\\\\ c= creal_add creal_mul creal_neg creal_of_num cNUMERAL cBIT1 c_0 creal_of_int f1 creal_add creal_of_int f2 creal_mul creal_neg creal_of_num cNUMERAL cBIT1 c_0 creal_of_int f3 creal_of_num cNUMERAL c_0 c/\\\\ c/\\\\ creal_ge creal_add creal_mul creal_neg creal_of_num cNUMERAL cBIT1 c_0 creal_of_int f2 creal_add creal_of_int f3 creal_neg creal_of_num cNUMERAL cBIT1 c_0 creal_of_num cNUMERAL c_0 c= creal_of_int f0 creal_of_num cNUMERAL c_0 creal_ge creal_add creal_of_int f0 creal_add creal_mul creal_neg creal_of_num cNUMERAL cBIT1 c_0 creal_of_int f1 creal_neg creal_of_num cNUMERAL cBIT1 c_0 creal_of_num cNUMERAL c_0 c/\\\\ c= creal_add creal_mul creal_neg creal_of_num cNUMERAL cBIT1 c_0 creal_of_int f1 creal_add creal_of_int f2 creal_mul creal_neg creal_of_num cNUMERAL cBIT1 c_0 creal_of_int f3 creal_of_num cNUMERAL c_0 c/\\\\ c/\\\\ creal_ge creal_add creal_mul creal_neg creal_of_num cNUMERAL cBIT1 c_0 creal_of_int f2 creal_add creal_of_int f3 creal_neg creal_of_num cNUMERAL cBIT1 c_0 creal_of_num cNUMERAL c_0 c= creal_of_int f0 creal_of_num cNUMERAL c_0 creal_ge creal_add creal_of_int f0 creal_add creal_mul creal_neg creal_of_num cNUMERAL cBIT1 c_0 creal_of_int f1 creal_neg creal_of_num cNUMERAL cBIT1 c_0 creal_of_num cNUMERAL c_0\\n & c= c- cSUC f0 cSUC f1 c- f0 f1', 1)\n"
          ]
        },
        {
          "output_type": "execute_result",
          "data": {
            "text/plain": [
              "540"
            ]
          },
          "metadata": {},
          "execution_count": 12
        }
      ]
    },
    {
      "cell_type": "code",
      "source": [
        "validation = []\n",
        "header = True\n",
        "\n",
        "with open(\"00030\", \"r\") as f:\n",
        "  counter = 0\n",
        "  clause = \"\"\n",
        "  for line in f:\n",
        "    counter += 1\n",
        "    if line[0] == \"T\" and counter == 3:\n",
        "      clause = line[2:]\n",
        "    if line[0] in \"+-\":\n",
        "      header = False\n",
        "      label = 0 if line[0] == \"-\" else 1\n",
        "    elif not header:\n",
        "      clause_steps = line[2:] + \" & \" + clause\n",
        "      #print(clause_steps)\n",
        "      validation.append((clause_steps.strip(),label))\n",
        "      \n",
        "      \n"
      ],
      "metadata": {
        "id": "qqgNfQ8lsgn4"
      },
      "execution_count": 13,
      "outputs": []
    },
    {
      "cell_type": "code",
      "source": [
        "chrs = \"\".join([chr(c) for c in range(ord(\"a\"), ord(\"z\"))] + [chr(c) for c in range(ord(\"A\"), ord(\"Z\"))] + [\"_\"])\n",
        "print(chrs)\n",
        "\n",
        "def parse(line):\n",
        "  tokens = []\n",
        "  token = \"\"\n",
        "  for c in line:\n",
        "    if c in chrs: token += c\n",
        "    else:\n",
        "      tokens.append(token.lstrip())\n",
        "      token = c\n",
        "  tokens.append(token.lstrip())\n",
        "  return tokens\n",
        "\n",
        "print(parse(examples[0][0]))"
      ],
      "metadata": {
        "id": "JY79W1PQyc1l",
        "colab": {
          "base_uri": "https://localhost:8080/"
        },
        "outputId": "37fea53d-eb63-441c-9a94-aef6bbd08b46"
      },
      "execution_count": 4,
      "outputs": [
        {
          "output_type": "stream",
          "name": "stdout",
          "text": [
            "abcdefghijklmnopqrstuvwxyABCDEFGHIJKLMNOPQRSTUVWXY_\n",
            "['c', '=', '=', '>', 'c', '/', '\\\\', 'creal_ge', 'creal_of_int', 'f', '0', 'creal_of_num', 'cNUMERAL', 'c_', '0', 'c', '/', '\\\\', 'creal_ge', 'creal_of_int', 'f', '1', 'creal_of_num', 'cNUMERAL', 'c_', '0', 'c', '/', '\\\\', 'creal_ge', 'creal_of_int', 'f', '2', 'creal_of_num', 'cNUMERAL', 'c_', '0', 'c', '/', '\\\\', 'creal_ge', 'creal_of_int', 'f', '3', 'creal_of_num', 'cNUMERAL', 'c_', '0', 'c', '/', '\\\\', 'c', '/', '\\\\', 'creal_ge', 'creal_add', 'creal_mul', 'creal_neg', 'creal_of_num', 'cNUMERAL', 'cBIT', '1', 'c_', '0', 'creal_of_int', 'f', '2', 'creal_add', 'creal_of_int', 'f', '3', 'creal_neg', 'creal_of_num', 'cNUMERAL', 'cBIT', '1', 'c_', '0', 'creal_of_num', 'cNUMERAL', 'c_', '0', 'c', '=', 'creal_of_int', 'f', '1', 'creal_of_num', 'cNUMERAL', 'c_', '0', 'c', '/', '\\\\', 'c', '/', '\\\\', 'creal_ge', 'creal_add', 'creal_mul', 'creal_neg', 'creal_of_num', 'cNUMERAL', 'cBIT', '1', 'c_', '0', 'creal_of_int', 'f', '2', 'creal_add', 'creal_of_int', 'f', '3', 'creal_neg', 'creal_of_num', 'cNUMERAL', 'cBIT', '1', 'c_', '0', 'creal_of_num', 'cNUMERAL', 'c_', '0', 'c', '=', 'creal_of_int', 'f', '0', 'creal_of_num', 'cNUMERAL', 'c_', '0', 'creal_ge', 'creal_add', 'creal_mul', 'creal_neg', 'creal_of_num', 'cNUMERAL', 'cBIT', '1', 'c_', '0', 'creal_of_int', 'f', '0', 'creal_add', 'creal_of_int', 'f', '1', 'creal_neg', 'creal_of_num', 'cNUMERAL', 'cBIT', '1', 'c_', '0', 'creal_of_num', 'cNUMERAL', 'c_', '0', 'c', '/', '\\\\', 'c', '/', '\\\\', 'creal_ge', 'creal_of_int', 'f', '0', 'creal_of_num', 'cNUMERAL', 'c_', '0', 'c', '/', '\\\\', 'creal_ge', 'creal_of_int', 'f', '1', 'creal_of_num', 'cNUMERAL', 'c_', '0', 'c', '/', '\\\\', 'creal_ge', 'creal_of_int', 'f', '2', 'creal_of_num', 'cNUMERAL', 'c_', '0', 'c', '/', '\\\\', 'creal_ge', 'creal_of_int', 'f', '3', 'creal_of_num', 'cNUMERAL', 'c_', '0', 'c', '/', '\\\\', 'c', '/', '\\\\', 'creal_ge', 'creal_add', 'creal_mul', 'creal_neg', 'creal_of_num', 'cNUMERAL', 'cBIT', '1', 'c_', '0', 'creal_of_int', 'f', '2', 'creal_add', 'creal_of_int', 'f', '3', 'creal_neg', 'creal_of_num', 'cNUMERAL', 'cBIT', '1', 'c_', '0', 'creal_of_num', 'cNUMERAL', 'c_', '0', 'c', '=', 'creal_of_int', 'f', '1', 'creal_of_num', 'cNUMERAL', 'c_', '0', 'c', '/', '\\\\', 'c', '/', '\\\\', 'creal_ge', 'creal_add', 'creal_mul', 'creal_neg', 'creal_of_num', 'cNUMERAL', 'cBIT', '1', 'c_', '0', 'creal_of_int', 'f', '2', 'creal_add', 'creal_of_int', 'f', '3', 'creal_neg', 'creal_of_num', 'cNUMERAL', 'cBIT', '1', 'c_', '0', 'creal_of_num', 'cNUMERAL', 'c_', '0', 'c', '=', 'creal_of_int', 'f', '0', 'creal_of_num', 'cNUMERAL', 'c_', '0', 'creal_ge', 'creal_add', 'creal_mul', 'creal_neg', 'creal_of_num', 'cNUMERAL', 'cBIT', '1', 'c_', '0', 'creal_of_int', 'f', '0', 'creal_add', 'creal_of_int', 'f', '1', 'creal_neg', 'creal_of_num', 'cNUMERAL', 'cBIT', '1', 'c_', '0', 'creal_of_num', 'cNUMERAL', 'c_', '0', 'cF', '', '', '&', 'c', '=', 'c', '-', 'cSUC', 'f', '0', 'cSUC', 'f', '1', 'c', '-', 'f', '0', 'f', '1']\n"
          ]
        }
      ]
    },
    {
      "cell_type": "code",
      "source": [
        "all_tokens = set()\n",
        "for example, label in examples:\n",
        "  tokens = parse(example) \n",
        "  all_tokens |= set(tokens)\n",
        "\n",
        "for example_2, label_2 in validation:\n",
        "  tokens = parse(example_2) \n",
        "  all_tokens |= set(tokens)\n",
        "\n",
        "\n",
        "all_tokens = list(all_tokens)\n",
        "lookup = {token: t for (t, token) in enumerate(all_tokens)}\n",
        "\n",
        "print(lookup)\n",
        "for token in all_tokens: print(token)\n",
        "print(len(all_tokens))\n"
      ],
      "metadata": {
        "id": "TUqbbmcwzqyG",
        "colab": {
          "base_uri": "https://localhost:8080/"
        },
        "outputId": "79fcc9b1-7f1a-4e0a-ebd9-38e97d2132b9"
      },
      "execution_count": 5,
      "outputs": [
        {
          "output_type": "stream",
          "name": "stdout",
          "text": [
            "{'': 0, 'creal_le': 1, 'creal_div': 2, '0': 3, '<': 4, 'b': 5, '>': 6, 'creal_neg': 7, 'cwithin': 8, '+': 9, 'cT': 10, '3': 11, '*': 12, '~': 13, '/': 14, 'creal_of_int': 15, '1': 16, '=': 17, 'creal_gt': 18, 'cSUBSET': 19, 'f': 20, '4': 21, '-': 22, 'cat': 23, 'chas_complex_derivative': 24, 'creal_mul': 25, 'cSUC': 26, 'cint_add': 27, 'cint_lt': 28, 'c': 29, 'cF': 30, 'cint_of_num': 31, 'cNUMERAL': 32, '&': 33, '!': 34, 'ccomplex_mul': 35, 'creal_lt': 36, 'c_': 37, 'cBIT': 38, 'cint_le': 39, 'creal_of_num': 40, '\\\\': 41, 'creal_ge': 42, 'creal_add': 43, 'chas_derivative': 44, '2': 45}\n",
            "\n",
            "creal_le\n",
            "creal_div\n",
            "0\n",
            "<\n",
            "b\n",
            ">\n",
            "creal_neg\n",
            "cwithin\n",
            "+\n",
            "cT\n",
            "3\n",
            "*\n",
            "~\n",
            "/\n",
            "creal_of_int\n",
            "1\n",
            "=\n",
            "creal_gt\n",
            "cSUBSET\n",
            "f\n",
            "4\n",
            "-\n",
            "cat\n",
            "chas_complex_derivative\n",
            "creal_mul\n",
            "cSUC\n",
            "cint_add\n",
            "cint_lt\n",
            "c\n",
            "cF\n",
            "cint_of_num\n",
            "cNUMERAL\n",
            "&\n",
            "!\n",
            "ccomplex_mul\n",
            "creal_lt\n",
            "c_\n",
            "cBIT\n",
            "cint_le\n",
            "creal_of_num\n",
            "\\\n",
            "creal_ge\n",
            "creal_add\n",
            "chas_derivative\n",
            "2\n",
            "46\n"
          ]
        }
      ]
    },
    {
      "cell_type": "code",
      "source": [
        "max_len = max([len(parse(example)) for example,label in examples])\n",
        "print(\"max_len:\", max_len)\n",
        "embeddings = tr.eye(len(all_tokens))"
      ],
      "metadata": {
        "id": "0AbJUTUzzvp0",
        "colab": {
          "base_uri": "https://localhost:8080/"
        },
        "outputId": "f44e38f5-fd3d-497c-ea5b-e7639963f04c"
      },
      "execution_count": 6,
      "outputs": [
        {
          "output_type": "stream",
          "name": "stdout",
          "text": [
            "max_len: 651\n"
          ]
        }
      ]
    },
    {
      "cell_type": "code",
      "source": [
        "\"\"\"\n",
        "Transformer utilities\n",
        "\"\"\"\n",
        "def embed(seq, max_len, embeddings, offset=0):\n",
        "    embedded = tr.zeros(max_len, embeddings.shape[1])\n",
        "    cap = min(len(seq), max_len-offset)\n",
        "    if cap > 0:\n",
        "        embedded[offset:offset+cap] = tr.stack(tuple(embeddings[lookup[token]] for token in seq[:cap]))\n",
        "    return embedded\n",
        "\n",
        "def Attention(Q, K, V, masked=False):\n",
        "    dk = Q.shape[1]\n",
        "    logits = Q @ K.t() / dk**.5\n",
        "    if masked:\n",
        "        idx = tr.arange(Q.shape[0])\n",
        "        logits[idx.unsqueeze(1) < idx] = -tr.inf\n",
        "    return tr.softmax(logits, dim=1) @ V\n",
        "\n",
        "class MultiHeadAttention(tr.nn.Module):\n",
        "    def __init__(self, num_heads, d_model, masked=False, projections=\"\"):\n",
        "        super(MultiHeadAttention, self).__init__()\n",
        "        dh = d_model // num_heads\n",
        "        self.masked = masked\n",
        "        self.num_heads = num_heads\n",
        "        self.WQ, self.WK, self.WV = tuple(\n",
        "            tr.nn.ModuleList([tr.nn.Linear(d_model, dh, bias=False) for i in range(num_heads)])\n",
        "            if p in projections else [lambda x: x[:,:dh]]*num_heads\n",
        "            for p in \"QKV\")\n",
        "        self.WO = tr.nn.Linear(dh * num_heads, d_model, bias=False) if \"O\" in projections else lambda x: x\n",
        "        self.ln = tr.nn.LayerNorm(d_model)\n",
        "        self.projections = projections\n",
        "\n",
        "    def forward(self, Q, K, V):\n",
        "        heads = [\n",
        "            Attention(self.WQ[i](Q), self.WK[i](K), self.WV[i](V), self.masked)\n",
        "            for i in range(self.num_heads)]\n",
        "        out = self.WO(tr.cat(heads, dim=1))\n",
        "        out += Q # skip connection\n",
        "        out = self.ln(out) # layer normalization\n",
        "        return out\n",
        "\n",
        "# requires d_model - d_embedding >= max_len\n",
        "def one_hot_positional_encoder(max_len):\n",
        "    def encode_position(inputs):\n",
        "        I = tr.eye(max_len)\n",
        "        return tr.cat((I, inputs), dim=1)\n",
        "    return encode_position\n",
        "\n"
      ],
      "metadata": {
        "id": "-8Chz1jOzx_i"
      },
      "execution_count": 7,
      "outputs": []
    },
    {
      "cell_type": "code",
      "source": [
        "class Net(tr.nn.Module):\n",
        "  def __init__(self, num_blocks, num_heads):\n",
        "    super(Net, self).__init__()\n",
        "    d_model = max_len+embeddings.shape[1]\n",
        "    self.encoder = one_hot_positional_encoder(max_len)\n",
        "    self.blocks = tr.nn.ModuleList([\n",
        "      MultiHeadAttention(num_heads, d_model, projections=\"QKVO\")\n",
        "      for _ in range(num_blocks)\n",
        "    ])\n",
        "    self.readout = tr.nn.Linear(d_model, 2)\n",
        "  def forward(self, example):\n",
        "    x = embed(parse(example), max_len, embeddings)\n",
        "    x = self.encoder(x)\n",
        "    for mha in self.blocks:\n",
        "      x = mha(x, x, x)\n",
        "    y = self.readout(x).mean(dim=0).unsqueeze(0)\n",
        "    return y\n",
        "\n",
        "net = Net(3, 4)\n",
        "y = net(examples[0][0])\n",
        "print(y)"
      ],
      "metadata": {
        "id": "MUinbtDAz0e4",
        "colab": {
          "base_uri": "https://localhost:8080/"
        },
        "outputId": "72112e17-fb5e-47f6-ec17-b10a756efa4e"
      },
      "execution_count": 8,
      "outputs": [
        {
          "output_type": "stream",
          "name": "stdout",
          "text": [
            "tensor([[0.0137, 0.0868]], grad_fn=<UnsqueezeBackward0>)\n"
          ]
        }
      ]
    },
    {
      "cell_type": "code",
      "source": [
        "validation = []\n",
        "header = True\n",
        "\n",
        "with open(\"data_valid/0017\", \"r\") as f:\n",
        "  counter = 0\n",
        "  clause = \"\"\n",
        "  for line in f:\n",
        "    counter += 1\n",
        "    if line[0] == \"T\" and counter == 3:\n",
        "      clause = line[2:]\n",
        "    if line[0] in \"+-\":\n",
        "      header = False\n",
        "      label = 0 if line[0] == \"-\" else 1\n",
        "    elif not header:\n",
        "      clause_steps = line[2:] + \" & \" + clause\n",
        "      #print(clause_steps)\n",
        "      validation.append((clause_steps.strip(),label))\n",
        "      \n",
        "print(validation)"
      ],
      "metadata": {
        "id": "s30ap4TY_G6-",
        "colab": {
          "base_uri": "https://localhost:8080/"
        },
        "outputId": "ec04efe5-002a-4fb6-ceb4-bd85650bb289"
      },
      "execution_count": 10,
      "outputs": [
        {
          "output_type": "stream",
          "name": "stdout",
          "text": [
            "[('c==> cbounded * * part cIMAGE f0 part cUNIV c= cbounded * * part cIMAGE f0 part cUNIV cT\\n & c==> c/\\\\ cbilinear f0 c/\\\\ cmeasurable_on f1 part cUNIV c/\\\\ cbounded * * part cIMAGE f1 part cUNIV cabsolutely_integrable_on f2 part cUNIV cabsolutely_integrable_on / * * f0 * f1 cvector_sub f3 b0 * f2 b0 part cUNIV', 1), ('c==> ! ! ! c==> c/\\\\ cbilinear f0 c/\\\\ cabsolutely_integrable_on b0 part cUNIV c/\\\\ cmeasurable_on b1 part cUNIV cbounded * * part cIMAGE b1 part cUNIV cabsolutely_integrable_on / * * f0 * b1 b3 * b0 cvector_sub b2 b3 part cUNIV c= ! ! c==> c/\\\\ cbilinear f0 c/\\\\ cabsolutely_integrable_on b0 part cUNIV c/\\\\ cmeasurable_on f1 part cUNIV cbounded * * part cIMAGE f1 part cUNIV cabsolutely_integrable_on / * * f0 * f1 b2 * b0 cvector_sub b1 b2 part cUNIV cT\\n & c==> c/\\\\ cbilinear f0 c/\\\\ cmeasurable_on f1 part cUNIV c/\\\\ cbounded * * part cIMAGE f1 part cUNIV cabsolutely_integrable_on f2 part cUNIV cabsolutely_integrable_on / * * f0 * f1 cvector_sub f3 b0 * f2 b0 part cUNIV', 1), ('c==> c/\\\\ cbilinear f0 c/\\\\ cmeasurable_on f1 part cUNIV c/\\\\ cbounded * * part cIMAGE f1 part cUNIV cabsolutely_integrable_on f2 part cUNIV c/\\\\ c/\\\\ cbilinear f0 c/\\\\ cmeasurable_on f1 part cUNIV c/\\\\ cbounded * * part cIMAGE f1 part cUNIV cabsolutely_integrable_on f2 part cUNIV cabsolutely_integrable_on / * * f0 * f1 cvector_sub f3 b0 * f2 b0 part cUNIV\\n & c==> c/\\\\ cbilinear f0 c/\\\\ cmeasurable_on f1 part cUNIV c/\\\\ cbounded * * part cIMAGE f1 part cUNIV cabsolutely_integrable_on f2 part cUNIV cabsolutely_integrable_on / * * f0 * f1 cvector_sub f3 b0 * f2 b0 part cUNIV', 1), ('c==> cbilinear f0 c==> c/\\\\ cmeasurable_on f1 part cUNIV c/\\\\ cbounded * * part cIMAGE f1 part cUNIV cabsolutely_integrable_on f2 part cUNIV cabsolutely_integrable_on / * * f0 * f1 cvector_sub f3 b0 * f2 b0 part cUNIV\\n & c==> c/\\\\ cbilinear f0 c/\\\\ cmeasurable_on f1 part cUNIV c/\\\\ cbounded * * part cIMAGE f1 part cUNIV cabsolutely_integrable_on f2 part cUNIV cabsolutely_integrable_on / * * f0 * f1 cvector_sub f3 b0 * f2 b0 part cUNIV', 1), ('c==> ! ! ! c==> c/\\\\ cbilinear f0 c/\\\\ cabsolutely_integrable_on b0 part cUNIV c/\\\\ cmeasurable_on b1 part cUNIV cbounded * * part cIMAGE b1 part cUNIV cabsolutely_integrable_on / * * f0 * b1 b3 * b0 cvector_sub b2 b3 part cUNIV c/\\\\ ! ! ! c==> c/\\\\ cbilinear f0 c/\\\\ cabsolutely_integrable_on b0 part cUNIV c/\\\\ cmeasurable_on b1 part cUNIV cbounded * * part cIMAGE b1 part cUNIV cabsolutely_integrable_on / * * f0 * b1 b3 * b0 cvector_sub b2 b3 part cUNIV ! ! ! c==> c/\\\\ cbilinear f0 c/\\\\ cabsolutely_integrable_on b1 part cUNIV c/\\\\ cmeasurable_on b0 part cUNIV cbounded * * part cIMAGE b0 part cUNIV cabsolutely_integrable_on / * * f0 * b0 b3 * b1 cvector_sub b2 b3 part cUNIV\\n & c==> c/\\\\ cbilinear f0 c/\\\\ cmeasurable_on f1 part cUNIV c/\\\\ cbounded * * part cIMAGE f1 part cUNIV cabsolutely_integrable_on f2 part cUNIV cabsolutely_integrable_on / * * f0 * f1 cvector_sub f3 b0 * f2 b0 part cUNIV', 1), ('c= c==> f0 f0 cT\\n & c==> c/\\\\ cbilinear f0 c/\\\\ cmeasurable_on f1 part cUNIV c/\\\\ cbounded * * part cIMAGE f1 part cUNIV cabsolutely_integrable_on f2 part cUNIV cabsolutely_integrable_on / * * f0 * f1 cvector_sub f3 b0 * f2 b0 part cUNIV', 0), ('c==> ! ! ! c==> c/\\\\ cbilinear f0 c/\\\\ cabsolutely_integrable_on b0 part cUNIV c/\\\\ cmeasurable_on b1 part cUNIV cbounded * * part cIMAGE b1 part cUNIV cabsolutely_integrable_on / * * f0 * b1 b3 * b0 cvector_sub b2 b3 part cUNIV ! ! ! c==> c/\\\\ cbilinear f0 c/\\\\ cabsolutely_integrable_on b1 part cUNIV c/\\\\ cmeasurable_on b0 part cUNIV cbounded * * part cIMAGE b0 part cUNIV cabsolutely_integrable_on / * * f0 * b0 b3 * b1 cvector_sub b2 b3 part cUNIV\\n & c==> c/\\\\ cbilinear f0 c/\\\\ cmeasurable_on f1 part cUNIV c/\\\\ cbounded * * part cIMAGE f1 part cUNIV cabsolutely_integrable_on f2 part cUNIV cabsolutely_integrable_on / * * f0 * f1 cvector_sub f3 b0 * f2 b0 part cUNIV', 1), ('c= ! ! ! c==> c/\\\\ cbilinear f0 c/\\\\ cmeasurable_on b0 part cUNIV c/\\\\ cbounded * * part cIMAGE b0 part cUNIV cabsolutely_integrable_on b1 part cUNIV cabsolutely_integrable_on / * * f0 * b0 cvector_sub b2 b3 * b1 b3 part cUNIV cT\\n & c==> c/\\\\ cbilinear f0 c/\\\\ cmeasurable_on f1 part cUNIV c/\\\\ cbounded * * part cIMAGE f1 part cUNIV cabsolutely_integrable_on f2 part cUNIV cabsolutely_integrable_on / * * f0 * f1 cvector_sub f3 b0 * f2 b0 part cUNIV', 1), ('c= c==> c/\\\\ cbilinear f0 c/\\\\ cmeasurable_on f1 part cUNIV c/\\\\ cbounded * * part cIMAGE f1 part cUNIV cabsolutely_integrable_on f2 part cUNIV cabsolutely_integrable_on / * * f0 * f1 cvector_sub f3 b0 * f2 b0 part cUNIV cT\\n & c==> c/\\\\ cbilinear f0 c/\\\\ cmeasurable_on f1 part cUNIV c/\\\\ cbounded * * part cIMAGE f1 part cUNIV cabsolutely_integrable_on f2 part cUNIV cabsolutely_integrable_on / * * f0 * f1 cvector_sub f3 b0 * f2 b0 part cUNIV', 1), ('c= ! f0 f0\\n & c==> c/\\\\ cbilinear f0 c/\\\\ cmeasurable_on f1 part cUNIV c/\\\\ cbounded * * part cIMAGE f1 part cUNIV cabsolutely_integrable_on f2 part cUNIV cabsolutely_integrable_on / * * f0 * f1 cvector_sub f3 b0 * f2 b0 part cUNIV', 0), ('c= c==> ! c==> c/\\\\ cbilinear f0 c/\\\\ cabsolutely_integrable_on f1 part cUNIV c/\\\\ cmeasurable_on f2 part cUNIV cbounded * * part cIMAGE f2 part cUNIV cabsolutely_integrable_on / * * f0 * f2 b1 * f1 cvector_sub b0 b1 part cUNIV * / c==> c/\\\\ cbilinear f0 c/\\\\ cabsolutely_integrable_on f1 part cUNIV c/\\\\ cmeasurable_on f2 part cUNIV cbounded * * part cIMAGE f2 part cUNIV cabsolutely_integrable_on / * * f0 * f2 b1 * f1 cvector_sub b0 b1 part cUNIV f3 * / c==> c/\\\\ cbilinear f0 c/\\\\ cabsolutely_integrable_on f1 part cUNIV c/\\\\ cmeasurable_on f2 part cUNIV cbounded * * part cIMAGE f2 part cUNIV cabsolutely_integrable_on / * * f0 * f2 b1 * f1 cvector_sub b0 b1 part cUNIV f3\\n & c==> c/\\\\ cbilinear f0 c/\\\\ cmeasurable_on f1 part cUNIV c/\\\\ cbounded * * part cIMAGE f1 part cUNIV cabsolutely_integrable_on f2 part cUNIV cabsolutely_integrable_on / * * f0 * f1 cvector_sub f3 b0 * f2 b0 part cUNIV', 1), ('c==> c/\\\\ cbilinear f0 c/\\\\ cabsolutely_integrable_on f1 part cUNIV c/\\\\ cmeasurable_on f2 part cUNIV cbounded * * part cIMAGE f2 part cUNIV cabsolutely_integrable_on / * * f0 * f2 b0 * f1 cvector_sub f3 b0 part cUNIV\\n & c==> c/\\\\ cbilinear f0 c/\\\\ cmeasurable_on f1 part cUNIV c/\\\\ cbounded * * part cIMAGE f1 part cUNIV cabsolutely_integrable_on f2 part cUNIV cabsolutely_integrable_on / * * f0 * f1 cvector_sub f3 b0 * f2 b0 part cUNIV', 1), ('* / ! c==> c/\\\\ cbilinear f0 c/\\\\ cabsolutely_integrable_on b0 part cUNIV c/\\\\ cmeasurable_on f1 part cUNIV cbounded * * part cIMAGE f1 part cUNIV cabsolutely_integrable_on / * * f0 * f1 b2 * b0 cvector_sub b1 b2 part cUNIV f2\\n & c==> c/\\\\ cbilinear f0 c/\\\\ cmeasurable_on f1 part cUNIV c/\\\\ cbounded * * part cIMAGE f1 part cUNIV cabsolutely_integrable_on f2 part cUNIV cabsolutely_integrable_on / * * f0 * f1 cvector_sub f3 b0 * f2 b0 part cUNIV', 1), ('c==> ! ! ! c==> c/\\\\ cbilinear f0 c/\\\\ cabsolutely_integrable_on b0 part cUNIV c/\\\\ cmeasurable_on b1 part cUNIV cbounded * * part cIMAGE b1 part cUNIV cabsolutely_integrable_on / * * f0 * b1 b3 * b0 cvector_sub b2 b3 part cUNIV * / c==> c/\\\\ cbilinear f0 c/\\\\ cabsolutely_integrable_on f1 part cUNIV c/\\\\ cmeasurable_on f2 part cUNIV cbounded * * part cIMAGE f2 part cUNIV cabsolutely_integrable_on / * * f0 * f2 b1 * f1 cvector_sub b0 b1 part cUNIV f3\\n & c==> c/\\\\ cbilinear f0 c/\\\\ cmeasurable_on f1 part cUNIV c/\\\\ cbounded * * part cIMAGE f1 part cUNIV cabsolutely_integrable_on f2 part cUNIV cabsolutely_integrable_on / * * f0 * f1 cvector_sub f3 b0 * f2 b0 part cUNIV', 0), ('c==> ! ! ! c==> c/\\\\ cbilinear f0 c/\\\\ cabsolutely_integrable_on b0 part cUNIV c/\\\\ cmeasurable_on b1 part cUNIV cbounded * * part cIMAGE b1 part cUNIV cabsolutely_integrable_on / * * f0 * b1 b3 * b0 cvector_sub b2 b3 part cUNIV c= c==> c/\\\\ cbilinear f0 c/\\\\ cabsolutely_integrable_on f1 part cUNIV c/\\\\ cmeasurable_on f2 part cUNIV cbounded * * part cIMAGE f2 part cUNIV cabsolutely_integrable_on / * * f0 * f2 b0 * f1 cvector_sub f3 b0 part cUNIV cT\\n & c==> c/\\\\ cbilinear f0 c/\\\\ cmeasurable_on f1 part cUNIV c/\\\\ cbounded * * part cIMAGE f1 part cUNIV cabsolutely_integrable_on f2 part cUNIV cabsolutely_integrable_on / * * f0 * f1 cvector_sub f3 b0 * f2 b0 part cUNIV', 0), ('c==> c/\\\\ cbilinear f0 c/\\\\ cabsolutely_integrable_on f1 part cUNIV c/\\\\ cmeasurable_on f2 part cUNIV cbounded * * part cIMAGE f2 part cUNIV c==> ! ! ! c==> c/\\\\ cbilinear f0 c/\\\\ cabsolutely_integrable_on b0 part cUNIV c/\\\\ cmeasurable_on b1 part cUNIV cbounded * * part cIMAGE b1 part cUNIV cabsolutely_integrable_on / * * f0 * b1 b3 * b0 cvector_sub b2 b3 part cUNIV cabsolutely_integrable_on / * * f0 * f2 b0 * f1 cvector_sub f3 b0 part cUNIV\\n & c==> c/\\\\ cbilinear f0 c/\\\\ cmeasurable_on f1 part cUNIV c/\\\\ cbounded * * part cIMAGE f1 part cUNIV cabsolutely_integrable_on f2 part cUNIV cabsolutely_integrable_on / * * f0 * f1 cvector_sub f3 b0 * f2 b0 part cUNIV', 0), ('c==> ! ! ! c==> c/\\\\ cbilinear f0 c/\\\\ cabsolutely_integrable_on b0 part cUNIV c/\\\\ cmeasurable_on b1 part cUNIV cbounded * * part cIMAGE b1 part cUNIV cabsolutely_integrable_on / * * f0 * b1 b3 * b0 cvector_sub b2 b3 part cUNIV c==> c/\\\\ cbilinear f0 c/\\\\ cabsolutely_integrable_on f1 part cUNIV c/\\\\ cmeasurable_on f2 part cUNIV cbounded * * part cIMAGE f2 part cUNIV cabsolutely_integrable_on / * * f0 * f2 b0 * f1 cvector_sub f3 b0 part cUNIV\\n & c==> c/\\\\ cbilinear f0 c/\\\\ cmeasurable_on f1 part cUNIV c/\\\\ cbounded * * part cIMAGE f1 part cUNIV cabsolutely_integrable_on f2 part cUNIV cabsolutely_integrable_on / * * f0 * f1 cvector_sub f3 b0 * f2 b0 part cUNIV', 0), ('c= c/\\\\ f0 f0 f0\\n & c==> c/\\\\ cbilinear f0 c/\\\\ cmeasurable_on f1 part cUNIV c/\\\\ cbounded * * part cIMAGE f1 part cUNIV cabsolutely_integrable_on f2 part cUNIV cabsolutely_integrable_on / * * f0 * f1 cvector_sub f3 b0 * f2 b0 part cUNIV', 0), ('c==> ! ! ! c==> c/\\\\ cbilinear f0 c/\\\\ cabsolutely_integrable_on b0 part cUNIV c/\\\\ cmeasurable_on b1 part cUNIV cbounded * * part cIMAGE b1 part cUNIV cabsolutely_integrable_on / * * f0 * b1 b3 * b0 cvector_sub b2 b3 part cUNIV c= c==> ! c==> c/\\\\ cbilinear f0 c/\\\\ cabsolutely_integrable_on f1 part cUNIV c/\\\\ cmeasurable_on f2 part cUNIV cbounded * * part cIMAGE f2 part cUNIV cabsolutely_integrable_on / * * f0 * f2 b1 * f1 cvector_sub b0 b1 part cUNIV * / c==> c/\\\\ cbilinear f0 c/\\\\ cabsolutely_integrable_on f1 part cUNIV c/\\\\ cmeasurable_on f2 part cUNIV cbounded * * part cIMAGE f2 part cUNIV cabsolutely_integrable_on / * * f0 * f2 b1 * f1 cvector_sub b0 b1 part cUNIV f3 * / c==> c/\\\\ cbilinear f0 c/\\\\ cabsolutely_integrable_on f1 part cUNIV c/\\\\ cmeasurable_on f2 part cUNIV cbounded * * part cIMAGE f2 part cUNIV cabsolutely_integrable_on / * * f0 * f2 b1 * f1 cvector_sub b0 b1 part cUNIV f3\\n & c==> c/\\\\ cbilinear f0 c/\\\\ cmeasurable_on f1 part cUNIV c/\\\\ cbounded * * part cIMAGE f1 part cUNIV cabsolutely_integrable_on f2 part cUNIV cabsolutely_integrable_on / * * f0 * f1 cvector_sub f3 b0 * f2 b0 part cUNIV', 0), ('c= * / * f0 b0 f1 * f0 f1\\n & c==> c/\\\\ cbilinear f0 c/\\\\ cmeasurable_on f1 part cUNIV c/\\\\ cbounded * * part cIMAGE f1 part cUNIV cabsolutely_integrable_on f2 part cUNIV cabsolutely_integrable_on / * * f0 * f1 cvector_sub f3 b0 * f2 b0 part cUNIV', 0), ('c==> ! ! ! c==> c/\\\\ cbilinear f0 c/\\\\ cabsolutely_integrable_on b0 part cUNIV c/\\\\ cmeasurable_on b1 part cUNIV cbounded * * part cIMAGE b1 part cUNIV cabsolutely_integrable_on / * * f0 * b1 b3 * b0 cvector_sub b2 b3 part cUNIV c==> c/\\\\ cbilinear f0 c/\\\\ cabsolutely_integrable_on f1 part cUNIV c/\\\\ cmeasurable_on f2 part cUNIV cbounded * * part cIMAGE f2 part cUNIV c/\\\\ c/\\\\ cbilinear f0 c/\\\\ cabsolutely_integrable_on f1 part cUNIV c/\\\\ cmeasurable_on f2 part cUNIV cbounded * * part cIMAGE f2 part cUNIV cabsolutely_integrable_on / * * f0 * f2 b0 * f1 cvector_sub f3 b0 part cUNIV\\n & c==> c/\\\\ cbilinear f0 c/\\\\ cmeasurable_on f1 part cUNIV c/\\\\ cbounded * * part cIMAGE f1 part cUNIV cabsolutely_integrable_on f2 part cUNIV cabsolutely_integrable_on / * * f0 * f1 cvector_sub f3 b0 * f2 b0 part cUNIV', 0), ('c==> ! ! ! c==> c/\\\\ cbilinear f0 c/\\\\ cabsolutely_integrable_on b0 part cUNIV c/\\\\ cmeasurable_on b1 part cUNIV cbounded * * part cIMAGE b1 part cUNIV cabsolutely_integrable_on / * * f0 * b1 b3 * b0 cvector_sub b2 b3 part cUNIV c==> c/\\\\ cbilinear f0 c/\\\\ cabsolutely_integrable_on f1 part cUNIV c/\\\\ cmeasurable_on f2 part cUNIV cbounded * * part cIMAGE f2 part cUNIV c/\\\\ ! ! ! c==> c/\\\\ cbilinear f0 c/\\\\ cabsolutely_integrable_on b0 part cUNIV c/\\\\ cmeasurable_on b1 part cUNIV cbounded * * part cIMAGE b1 part cUNIV cabsolutely_integrable_on / * * f0 * b1 b3 * b0 cvector_sub b2 b3 part cUNIV cabsolutely_integrable_on / * * f0 * f2 b0 * f1 cvector_sub f3 b0 part cUNIV\\n & c==> c/\\\\ cbilinear f0 c/\\\\ cmeasurable_on f1 part cUNIV c/\\\\ cbounded * * part cIMAGE f1 part cUNIV cabsolutely_integrable_on f2 part cUNIV cabsolutely_integrable_on / * * f0 * f1 cvector_sub f3 b0 * f2 b0 part cUNIV', 0)]\n"
          ]
        }
      ]
    },
    {
      "cell_type": "code",
      "source": [
        "net = Net(2, 4)\n",
        "xc = tr.nn.CrossEntropyLoss()\n",
        "if tr.cuda.is_available():\n",
        "    net= net.cuda()\n",
        "\n",
        "opt = tr.optim.Adam(net.parameters(), lr=0.0001)\n",
        "\n",
        "num_iters = 200\n",
        "verb_step = 20\n",
        "train_loss = []\n",
        "valid_accu =[]\n",
        "valid_loss =[]\n",
        "for i in trange(num_iters):\n",
        "\n",
        "    example, label = random.choice(examples)\n",
        "    if tr.cuda.is_available():\n",
        "          example , label = example.cuda(), label.cuda()\n",
        "    logits = net(example)\n",
        "    loss = xc(logits, tr.tensor([label]))\n",
        "    train_loss.append(loss.item())\n",
        "\n",
        "    opt.zero_grad()\n",
        "    loss.backward()\n",
        "    opt.step()\n",
        "    correct = []\n",
        "    vloss = []\n",
        "    \n",
        "    \n",
        "    if i % verb_step == 0 or i == num_iters-1:\n",
        "       \n",
        "        with tr.no_grad():\n",
        "            for example_2, label_2 in validation:\n",
        "               if tr.cuda.is_available():\n",
        "                    example_2, label_2 = example_2.cuda(), label_2.cuda()\n",
        "               logits = net(example_2)\n",
        "               v_loss = xc(logits,tr.tensor([label_2]))  \n",
        "               pred = logits.argmax()\n",
        "               correct.append(np.absolute(label_2-pred))\n",
        "               vloss.append(v_loss.item())\n",
        "        valid_accu.append(1-np.mean(correct))\n",
        "        valid_loss.append(np.mean(vloss))\n",
        "        print(f'Epoch:{i} loss:{loss.item()}\\tval_loss: {np.mean(vloss)}\\tval_acc: {1-np.mean(correct)}  ')\n",
        "        \n",
        "              \n",
        "\n",
        "#pt.plot(prediction)\n",
        "pt.plot(train_loss)\n",
        "pt.xlabel(\"Iteration\")\n",
        "pt.ylabel(\"Loss\")\n",
        "\n"
      ],
      "metadata": {
        "id": "jshKLvyKz3U_",
        "colab": {
          "base_uri": "https://localhost:8080/",
          "height": 102,
          "referenced_widgets": [
            "b49fad9ba14f49a1be6f3b4ab4ce3053",
            "169dc976f90346668f024d3730905824",
            "4d3793c3e92e45c6819dc242ad88e568",
            "968a0c0abad14660b73a023d857a30ac",
            "a56ad78b178b485693ed5a3d4d8529a8",
            "f85831c669fa47ef998ba3f6d3e8fa40",
            "4656b9a2a1f44801aaa67044a746fea4",
            "b21d4299dfed49658036148210c0df47",
            "969b8b8e8fe446e0929250c89a35b9fb",
            "9935cbfd1588443892417cd5241afca2",
            "8704092f49d34aaeab4314dfd91570b9"
          ]
        },
        "outputId": "9125303f-af2d-4273-f746-a78614cf5034"
      },
      "execution_count": null,
      "outputs": [
        {
          "output_type": "display_data",
          "data": {
            "text/plain": [
              "  0%|          | 0/200 [00:00<?, ?it/s]"
            ],
            "application/vnd.jupyter.widget-view+json": {
              "version_major": 2,
              "version_minor": 0,
              "model_id": "b49fad9ba14f49a1be6f3b4ab4ce3053"
            }
          },
          "metadata": {}
        },
        {
          "output_type": "stream",
          "name": "stdout",
          "text": [
            "Epoch:0 loss:0.7275561094284058\tval_loss: 0.6917630136013031\tval_acc: 0.5  \n",
            "Epoch:20 loss:0.38888177275657654\tval_loss: 0.6813520044088364\tval_acc: 0.5  \n",
            "Epoch:40 loss:0.6238937377929688\tval_loss: 0.6948464810848236\tval_acc: 0.5  \n"
          ]
        }
      ]
    },
    {
      "cell_type": "code",
      "source": [
        "'''Youdan's Approch'''\n",
        "\n",
        "class Net(tr.nn.Module):\n",
        "  def __init__(self, num_blocks, num_heads):\n",
        "    super(Net, self).__init__()\n",
        "    d_model = max_len+embeddings.shape[1]\n",
        "    self.conv = tr.nn.Conv1d(max_len,d_model, kernel_size=1)    \n",
        "    self.encoder = one_hot_positional_encoder(max_len)\n",
        "    self.blocks = tr.nn.ModuleList([\n",
        "      MultiHeadAttention(num_heads, d_model, projections=\"QKVO\")\n",
        "      for _ in range(num_blocks)\n",
        "    ])\n",
        "    self.readout =tr.nn.Linear(d_model, 2)\n",
        "    \n",
        "  def forward(self, example):\n",
        "    x = embed(parse(example), max_len, embeddings)\n",
        "    x = self.encoder(x)\n",
        "    x = self.conv(x)\n",
        "    for mha in self.blocks:\n",
        "      x = mha(x, x, x)\n",
        "    y = self.readout(x).mean(dim=0).unsqueeze(0)\n",
        "    return y\n",
        "\n",
        "net = Net(2, 4)"
      ],
      "metadata": {
        "id": "IdN3hwg0RPc4"
      },
      "execution_count": null,
      "outputs": []
    },
    {
      "cell_type": "code",
      "source": [
        "net = Net(4, 8)\n",
        "xc = tr.nn.CrossEntropyLoss()\n",
        "if tr.cuda.is_available():\n",
        "    net= net.cuda()\n",
        "\n",
        "opt = tr.optim.Adam(net.parameters(), lr=0.001)\n",
        "\n",
        "num_iters = 1000\n",
        "verb_step = 20\n",
        "train_loss = []\n",
        "valid_accu =[]\n",
        "valid_loss =[]\n",
        "for i in trange(num_iters):\n",
        "\n",
        "    example, label = random.choice(examples)\n",
        "    if tr.cuda.is_available():\n",
        "          example , label = example.cuda(), label.cuda()\n",
        "    logits = net(example)\n",
        "    loss = xc(logits, tr.tensor([label]))\n",
        "    train_loss.append(loss.item())\n",
        "\n",
        "    opt.zero_grad()\n",
        "    loss.backward()\n",
        "    opt.step()\n",
        "    correct = []\n",
        "    vloss = []\n",
        "    \n",
        "    \n",
        "    if i % verb_step == 0 or i == num_iters-1:\n",
        "       \n",
        "        with tr.no_grad():\n",
        "            for example_2, label_2 in validation:\n",
        "               if tr.cuda.is_available():\n",
        "                    example_2, label_2 = example_2.cuda(), label_2.cuda()\n",
        "               logits = net(example_2)\n",
        "               v_loss = xc(logits,tr.tensor([label_2]))  \n",
        "               pred = logits.argmax()\n",
        "               correct.append(np.absolute(label_2-pred))\n",
        "               vloss.append(v_loss.item())\n",
        "        valid_accu.append(1-np.mean(correct))\n",
        "        valid_loss.append(np.mean(vloss))\n",
        "        print(f'loss:{loss.item()} \\t\\tval_loss: {np.mean(vloss)}\\t\\t val_acc: {1-np.mean(correct)}  ')\n",
        "        \n",
        "              \n",
        "\n",
        "#pt.plot(prediction)\n",
        "pt.plot(train_loss)\n",
        "pt.xlabel(\"Iteration\")\n",
        "pt.ylabel(\"Loss\")\n"
      ],
      "metadata": {
        "id": "FuTlkI4nS7xp",
        "colab": {
          "base_uri": "https://localhost:8080/",
          "height": 370,
          "referenced_widgets": [
            "afc5499876af471a980ad6230b0eeaca",
            "3711c349b99f420f92aea55b4f1b57d0",
            "440dbf8b026943ecb1eae67dc552ed5a",
            "0af045fdee9f402b81899f02a8770e1c",
            "608e56ecd66740d6a6ba2ed1c2efd5ab",
            "eb83f2b79f9e41798b801f54e794b08e",
            "09a0add2337d479f93e5e73a53ef449c",
            "d280e72de398499a9164f12d5aa1ebd9",
            "2a9913614be94e05af8ac52c538f555a",
            "e8320f98b59348cd9ddbf09ec8d1a994",
            "a87d78e9d1b1424a83a34655f9528d1c"
          ]
        },
        "outputId": "fbc123a2-6fa5-471e-9908-eaf43f12e8c4"
      },
      "execution_count": null,
      "outputs": [
        {
          "output_type": "display_data",
          "data": {
            "text/plain": [
              "  0%|          | 0/1000 [00:00<?, ?it/s]"
            ],
            "application/vnd.jupyter.widget-view+json": {
              "version_major": 2,
              "version_minor": 0,
              "model_id": "afc5499876af471a980ad6230b0eeaca"
            }
          },
          "metadata": {}
        },
        {
          "output_type": "stream",
          "name": "stdout",
          "text": [
            "loss:0.7791317701339722 \t\tval_loss: 0.712788537144661\t\t val_acc: 0.5  \n",
            "loss:0.1580270677804947 \t\tval_loss: 1.128480363637209\t\t val_acc: 0.5  \n",
            "loss:1.3389838933944702 \t\tval_loss: 0.7905789464712143\t\t val_acc: 0.5  \n",
            "loss:0.6077137589454651 \t\tval_loss: 0.7152821123600006\t\t val_acc: 0.5  \n",
            "loss:0.3863331079483032 \t\tval_loss: 0.8968489728868008\t\t val_acc: 0.5  \n",
            "loss:0.5246638059616089 \t\tval_loss: 0.720523789525032\t\t val_acc: 0.5  \n",
            "loss:0.47818723320961 \t\tval_loss: 0.7455583736300468\t\t val_acc: 0.5  \n",
            "loss:0.868634045124054 \t\tval_loss: 0.7007477879524231\t\t val_acc: 0.5  \n",
            "loss:0.463378369808197 \t\tval_loss: 0.7618705555796623\t\t val_acc: 0.5  \n",
            "loss:0.9469958543777466 \t\tval_loss: 0.7167620286345482\t\t val_acc: 0.5  \n",
            "loss:1.082108497619629 \t\tval_loss: 0.7157258987426758\t\t val_acc: 0.5  \n",
            "loss:1.0535938739776611 \t\tval_loss: 0.7335361465811729\t\t val_acc: 0.5  \n",
            "loss:0.7050405144691467 \t\tval_loss: 0.6931810081005096\t\t val_acc: 0.5  \n",
            "loss:0.7858015298843384 \t\tval_loss: 0.6933953911066055\t\t val_acc: 0.5  \n",
            "loss:1.2590779066085815 \t\tval_loss: 0.8265151008963585\t\t val_acc: 0.5  \n",
            "loss:0.5328301191329956 \t\tval_loss: 0.716900996863842\t\t val_acc: 0.5  \n",
            "loss:1.036612868309021 \t\tval_loss: 0.72491205483675\t\t val_acc: 0.5  \n",
            "loss:0.6305602192878723 \t\tval_loss: 0.7069771885871887\t\t val_acc: 0.5  \n"
          ]
        }
      ]
    }
  ]
}